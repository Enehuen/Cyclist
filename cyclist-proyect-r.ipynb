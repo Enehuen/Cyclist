{
 "cells": [
  {
   "cell_type": "markdown",
   "id": "f2986a2f",
   "metadata": {
    "papermill": {
     "duration": 0.019715,
     "end_time": "2023-05-16T19:57:40.900775",
     "exception": false,
     "start_time": "2023-05-16T19:57:40.881060",
     "status": "completed"
    },
    "tags": []
   },
   "source": [
    "# Introduccion y Objetivo del analisis\n",
    "Un programa de bicicletas compartidas que incluye 5,800 bicicletas y 600 estaciones. Cyclistic se destaca por ofrecer también bicicletas reclinadas, triciclos manuales y bicicletas de carga que ofrecen un uso más inclusivo de las bicicletas compartidas para las personas con discapacidad y los ciclistas que no pueden utilizar una bicicleta estándar de dos ruedas. La mayoría de los ciclistas eligen las bicicletas tradicionales, alrededor de un 8% de los ciclistas usan las opciones asistidas. Los usuarios de Cyclistic son más propensos a utilizar la bicicleta para recreación, pero alrededor del 30% la utiliza para ir al trabajo cada día.\n",
    "\n",
    "**El objetivo:** Se determino que financieramente es mas rentable tener clientes Anuales, por lo que el objetivo sera dejar de lado las estrategias orientadas a los clientes nuevos y tomar un enfoque dedicado a convertir los clientes casuales(Customer) en clientes anuales(Subscribers). Y para determinar esto es necesario entender los diferentes usos que le dan los clientes al servicio que ofrece la empresa."
   ]
  },
  {
   "cell_type": "markdown",
   "id": "eada4287",
   "metadata": {
    "papermill": {
     "duration": 0.014959,
     "end_time": "2023-05-16T19:57:40.930387",
     "exception": false,
     "start_time": "2023-05-16T19:57:40.915428",
     "status": "completed"
    },
    "tags": []
   },
   "source": [
    "Cargamos los paquetes requeridos, tidyverse Para importar y manipular datos,lubridate para funciones de datos, ggplot2 para visualizaciones."
   ]
  },
  {
   "cell_type": "code",
   "execution_count": 1,
   "id": "f3c3e37f",
   "metadata": {
    "execution": {
     "iopub.execute_input": "2023-05-16T19:57:40.964451Z",
     "iopub.status.busy": "2023-05-16T19:57:40.961457Z",
     "iopub.status.idle": "2023-05-16T19:57:42.240233Z",
     "shell.execute_reply": "2023-05-16T19:57:42.237500Z"
    },
    "papermill": {
     "duration": 1.298491,
     "end_time": "2023-05-16T19:57:42.243541",
     "exception": false,
     "start_time": "2023-05-16T19:57:40.945050",
     "status": "completed"
    },
    "tags": []
   },
   "outputs": [
    {
     "name": "stderr",
     "output_type": "stream",
     "text": [
      "── \u001b[1mAttaching core tidyverse packages\u001b[22m ──────────────────────── tidyverse 2.0.0 ──\n",
      "\u001b[32m✔\u001b[39m \u001b[34mdplyr    \u001b[39m 1.1.0     \u001b[32m✔\u001b[39m \u001b[34mreadr    \u001b[39m 2.1.4\n",
      "\u001b[32m✔\u001b[39m \u001b[34mforcats  \u001b[39m 1.0.0     \u001b[32m✔\u001b[39m \u001b[34mstringr  \u001b[39m 1.5.0\n",
      "\u001b[32m✔\u001b[39m \u001b[34mggplot2  \u001b[39m 3.4.1     \u001b[32m✔\u001b[39m \u001b[34mtibble   \u001b[39m 3.1.8\n",
      "\u001b[32m✔\u001b[39m \u001b[34mlubridate\u001b[39m 1.9.2     \u001b[32m✔\u001b[39m \u001b[34mtidyr    \u001b[39m 1.3.0\n",
      "\u001b[32m✔\u001b[39m \u001b[34mpurrr    \u001b[39m 1.0.1     \n",
      "── \u001b[1mConflicts\u001b[22m ────────────────────────────────────────── tidyverse_conflicts() ──\n",
      "\u001b[31m✖\u001b[39m \u001b[34mdplyr\u001b[39m::\u001b[32mfilter()\u001b[39m masks \u001b[34mstats\u001b[39m::filter()\n",
      "\u001b[31m✖\u001b[39m \u001b[34mdplyr\u001b[39m::\u001b[32mlag()\u001b[39m    masks \u001b[34mstats\u001b[39m::lag()\n",
      "\u001b[36mℹ\u001b[39m Use the conflicted package (\u001b[3m\u001b[34m<http://conflicted.r-lib.org/>\u001b[39m\u001b[23m) to force all conflicts to become errors\n"
     ]
    },
    {
     "data": {
      "text/html": [
       "'/kaggle/working'"
      ],
      "text/latex": [
       "'/kaggle/working'"
      ],
      "text/markdown": [
       "'/kaggle/working'"
      ],
      "text/plain": [
       "[1] \"/kaggle/working\""
      ]
     },
     "metadata": {},
     "output_type": "display_data"
    }
   ],
   "source": [
    "library(tidyverse)  #Ayuda a manejar mejor los datos\n",
    "library(lubridate)  #Ayuda a disputar los atributos de los datos\n",
    "library(ggplot2)  #Visualizacion de datos\n",
    "getwd() \n"
   ]
  },
  {
   "cell_type": "markdown",
   "id": "9b0e309a",
   "metadata": {
    "papermill": {
     "duration": 0.014429,
     "end_time": "2023-05-16T19:57:42.272048",
     "exception": false,
     "start_time": "2023-05-16T19:57:42.257619",
     "status": "completed"
    },
    "tags": []
   },
   "source": [
    "Procedemos a ordenar nuestros DF en variables mas faciles de llamar."
   ]
  },
  {
   "cell_type": "code",
   "execution_count": 2,
   "id": "aae3af9d",
   "metadata": {
    "execution": {
     "iopub.execute_input": "2023-05-16T19:57:42.338268Z",
     "iopub.status.busy": "2023-05-16T19:57:42.303551Z",
     "iopub.status.idle": "2023-05-16T19:58:37.209989Z",
     "shell.execute_reply": "2023-05-16T19:58:37.208070Z"
    },
    "papermill": {
     "duration": 54.92623,
     "end_time": "2023-05-16T19:58:37.213074",
     "exception": false,
     "start_time": "2023-05-16T19:57:42.286844",
     "status": "completed"
    },
    "tags": []
   },
   "outputs": [],
   "source": [
    "Q1 <- read.csv(\"/kaggle/input/cyclistic-bikeshare-analysis-case-study/Divvy_Trips_2019_Q1.csv\")\n",
    "Q2 <- read.csv(\"/kaggle/input/cyclistic-bikeshare-analysis-case-study/Divvy_Trips_2019_Q2.csv\")\n",
    "Q3 <- read.csv(\"/kaggle/input/cyclistic-bikeshare-analysis-case-study/Divvy_Trips_2019_Q3.csv\")\n",
    "Q4 <- read.csv(\"/kaggle/input/cyclistic-bikeshare-analysis-case-study/Divvy_Trips_2019_Q4.csv\")\n"
   ]
  },
  {
   "cell_type": "markdown",
   "id": "d15df5b4",
   "metadata": {
    "papermill": {
     "duration": 0.01402,
     "end_time": "2023-05-16T19:58:37.242499",
     "exception": false,
     "start_time": "2023-05-16T19:58:37.228479",
     "status": "completed"
    },
    "tags": []
   },
   "source": [
    "Llamamos el nombre de las columnas de cada uno de los DF"
   ]
  },
  {
   "cell_type": "code",
   "execution_count": 3,
   "id": "63654f4f",
   "metadata": {
    "execution": {
     "iopub.execute_input": "2023-05-16T19:58:37.274799Z",
     "iopub.status.busy": "2023-05-16T19:58:37.273044Z",
     "iopub.status.idle": "2023-05-16T19:58:37.310231Z",
     "shell.execute_reply": "2023-05-16T19:58:37.308401Z"
    },
    "papermill": {
     "duration": 0.056118,
     "end_time": "2023-05-16T19:58:37.312656",
     "exception": false,
     "start_time": "2023-05-16T19:58:37.256538",
     "status": "completed"
    },
    "tags": []
   },
   "outputs": [
    {
     "data": {
      "text/html": [
       "<style>\n",
       ".list-inline {list-style: none; margin:0; padding: 0}\n",
       ".list-inline>li {display: inline-block}\n",
       ".list-inline>li:not(:last-child)::after {content: \"\\00b7\"; padding: 0 .5ex}\n",
       "</style>\n",
       "<ol class=list-inline><li>'trip_id'</li><li>'start_time'</li><li>'end_time'</li><li>'bikeid'</li><li>'tripduration'</li><li>'from_station_id'</li><li>'from_station_name'</li><li>'to_station_id'</li><li>'to_station_name'</li><li>'usertype'</li><li>'gender'</li><li>'birthyear'</li></ol>\n"
      ],
      "text/latex": [
       "\\begin{enumerate*}\n",
       "\\item 'trip\\_id'\n",
       "\\item 'start\\_time'\n",
       "\\item 'end\\_time'\n",
       "\\item 'bikeid'\n",
       "\\item 'tripduration'\n",
       "\\item 'from\\_station\\_id'\n",
       "\\item 'from\\_station\\_name'\n",
       "\\item 'to\\_station\\_id'\n",
       "\\item 'to\\_station\\_name'\n",
       "\\item 'usertype'\n",
       "\\item 'gender'\n",
       "\\item 'birthyear'\n",
       "\\end{enumerate*}\n"
      ],
      "text/markdown": [
       "1. 'trip_id'\n",
       "2. 'start_time'\n",
       "3. 'end_time'\n",
       "4. 'bikeid'\n",
       "5. 'tripduration'\n",
       "6. 'from_station_id'\n",
       "7. 'from_station_name'\n",
       "8. 'to_station_id'\n",
       "9. 'to_station_name'\n",
       "10. 'usertype'\n",
       "11. 'gender'\n",
       "12. 'birthyear'\n",
       "\n",
       "\n"
      ],
      "text/plain": [
       " [1] \"trip_id\"           \"start_time\"        \"end_time\"         \n",
       " [4] \"bikeid\"            \"tripduration\"      \"from_station_id\"  \n",
       " [7] \"from_station_name\" \"to_station_id\"     \"to_station_name\"  \n",
       "[10] \"usertype\"          \"gender\"            \"birthyear\"        "
      ]
     },
     "metadata": {},
     "output_type": "display_data"
    },
    {
     "data": {
      "text/html": [
       "<style>\n",
       ".list-inline {list-style: none; margin:0; padding: 0}\n",
       ".list-inline>li {display: inline-block}\n",
       ".list-inline>li:not(:last-child)::after {content: \"\\00b7\"; padding: 0 .5ex}\n",
       "</style>\n",
       "<ol class=list-inline><li>'X01...Rental.Details.Rental.ID'</li><li>'X01...Rental.Details.Local.Start.Time'</li><li>'X01...Rental.Details.Local.End.Time'</li><li>'X01...Rental.Details.Bike.ID'</li><li>'X01...Rental.Details.Duration.In.Seconds.Uncapped'</li><li>'X03...Rental.Start.Station.ID'</li><li>'X03...Rental.Start.Station.Name'</li><li>'X02...Rental.End.Station.ID'</li><li>'X02...Rental.End.Station.Name'</li><li>'User.Type'</li><li>'Member.Gender'</li><li>'X05...Member.Details.Member.Birthday.Year'</li></ol>\n"
      ],
      "text/latex": [
       "\\begin{enumerate*}\n",
       "\\item 'X01...Rental.Details.Rental.ID'\n",
       "\\item 'X01...Rental.Details.Local.Start.Time'\n",
       "\\item 'X01...Rental.Details.Local.End.Time'\n",
       "\\item 'X01...Rental.Details.Bike.ID'\n",
       "\\item 'X01...Rental.Details.Duration.In.Seconds.Uncapped'\n",
       "\\item 'X03...Rental.Start.Station.ID'\n",
       "\\item 'X03...Rental.Start.Station.Name'\n",
       "\\item 'X02...Rental.End.Station.ID'\n",
       "\\item 'X02...Rental.End.Station.Name'\n",
       "\\item 'User.Type'\n",
       "\\item 'Member.Gender'\n",
       "\\item 'X05...Member.Details.Member.Birthday.Year'\n",
       "\\end{enumerate*}\n"
      ],
      "text/markdown": [
       "1. 'X01...Rental.Details.Rental.ID'\n",
       "2. 'X01...Rental.Details.Local.Start.Time'\n",
       "3. 'X01...Rental.Details.Local.End.Time'\n",
       "4. 'X01...Rental.Details.Bike.ID'\n",
       "5. 'X01...Rental.Details.Duration.In.Seconds.Uncapped'\n",
       "6. 'X03...Rental.Start.Station.ID'\n",
       "7. 'X03...Rental.Start.Station.Name'\n",
       "8. 'X02...Rental.End.Station.ID'\n",
       "9. 'X02...Rental.End.Station.Name'\n",
       "10. 'User.Type'\n",
       "11. 'Member.Gender'\n",
       "12. 'X05...Member.Details.Member.Birthday.Year'\n",
       "\n",
       "\n"
      ],
      "text/plain": [
       " [1] \"X01...Rental.Details.Rental.ID\"                   \n",
       " [2] \"X01...Rental.Details.Local.Start.Time\"            \n",
       " [3] \"X01...Rental.Details.Local.End.Time\"              \n",
       " [4] \"X01...Rental.Details.Bike.ID\"                     \n",
       " [5] \"X01...Rental.Details.Duration.In.Seconds.Uncapped\"\n",
       " [6] \"X03...Rental.Start.Station.ID\"                    \n",
       " [7] \"X03...Rental.Start.Station.Name\"                  \n",
       " [8] \"X02...Rental.End.Station.ID\"                      \n",
       " [9] \"X02...Rental.End.Station.Name\"                    \n",
       "[10] \"User.Type\"                                        \n",
       "[11] \"Member.Gender\"                                    \n",
       "[12] \"X05...Member.Details.Member.Birthday.Year\"        "
      ]
     },
     "metadata": {},
     "output_type": "display_data"
    },
    {
     "data": {
      "text/html": [
       "<style>\n",
       ".list-inline {list-style: none; margin:0; padding: 0}\n",
       ".list-inline>li {display: inline-block}\n",
       ".list-inline>li:not(:last-child)::after {content: \"\\00b7\"; padding: 0 .5ex}\n",
       "</style>\n",
       "<ol class=list-inline><li>'trip_id'</li><li>'start_time'</li><li>'end_time'</li><li>'bikeid'</li><li>'tripduration'</li><li>'from_station_id'</li><li>'from_station_name'</li><li>'to_station_id'</li><li>'to_station_name'</li><li>'usertype'</li><li>'gender'</li><li>'birthyear'</li></ol>\n"
      ],
      "text/latex": [
       "\\begin{enumerate*}\n",
       "\\item 'trip\\_id'\n",
       "\\item 'start\\_time'\n",
       "\\item 'end\\_time'\n",
       "\\item 'bikeid'\n",
       "\\item 'tripduration'\n",
       "\\item 'from\\_station\\_id'\n",
       "\\item 'from\\_station\\_name'\n",
       "\\item 'to\\_station\\_id'\n",
       "\\item 'to\\_station\\_name'\n",
       "\\item 'usertype'\n",
       "\\item 'gender'\n",
       "\\item 'birthyear'\n",
       "\\end{enumerate*}\n"
      ],
      "text/markdown": [
       "1. 'trip_id'\n",
       "2. 'start_time'\n",
       "3. 'end_time'\n",
       "4. 'bikeid'\n",
       "5. 'tripduration'\n",
       "6. 'from_station_id'\n",
       "7. 'from_station_name'\n",
       "8. 'to_station_id'\n",
       "9. 'to_station_name'\n",
       "10. 'usertype'\n",
       "11. 'gender'\n",
       "12. 'birthyear'\n",
       "\n",
       "\n"
      ],
      "text/plain": [
       " [1] \"trip_id\"           \"start_time\"        \"end_time\"         \n",
       " [4] \"bikeid\"            \"tripduration\"      \"from_station_id\"  \n",
       " [7] \"from_station_name\" \"to_station_id\"     \"to_station_name\"  \n",
       "[10] \"usertype\"          \"gender\"            \"birthyear\"        "
      ]
     },
     "metadata": {},
     "output_type": "display_data"
    },
    {
     "data": {
      "text/html": [
       "<style>\n",
       ".list-inline {list-style: none; margin:0; padding: 0}\n",
       ".list-inline>li {display: inline-block}\n",
       ".list-inline>li:not(:last-child)::after {content: \"\\00b7\"; padding: 0 .5ex}\n",
       "</style>\n",
       "<ol class=list-inline><li>'trip_id'</li><li>'start_time'</li><li>'end_time'</li><li>'bikeid'</li><li>'tripduration'</li><li>'from_station_id'</li><li>'from_station_name'</li><li>'to_station_id'</li><li>'to_station_name'</li><li>'usertype'</li><li>'gender'</li><li>'birthyear'</li></ol>\n"
      ],
      "text/latex": [
       "\\begin{enumerate*}\n",
       "\\item 'trip\\_id'\n",
       "\\item 'start\\_time'\n",
       "\\item 'end\\_time'\n",
       "\\item 'bikeid'\n",
       "\\item 'tripduration'\n",
       "\\item 'from\\_station\\_id'\n",
       "\\item 'from\\_station\\_name'\n",
       "\\item 'to\\_station\\_id'\n",
       "\\item 'to\\_station\\_name'\n",
       "\\item 'usertype'\n",
       "\\item 'gender'\n",
       "\\item 'birthyear'\n",
       "\\end{enumerate*}\n"
      ],
      "text/markdown": [
       "1. 'trip_id'\n",
       "2. 'start_time'\n",
       "3. 'end_time'\n",
       "4. 'bikeid'\n",
       "5. 'tripduration'\n",
       "6. 'from_station_id'\n",
       "7. 'from_station_name'\n",
       "8. 'to_station_id'\n",
       "9. 'to_station_name'\n",
       "10. 'usertype'\n",
       "11. 'gender'\n",
       "12. 'birthyear'\n",
       "\n",
       "\n"
      ],
      "text/plain": [
       " [1] \"trip_id\"           \"start_time\"        \"end_time\"         \n",
       " [4] \"bikeid\"            \"tripduration\"      \"from_station_id\"  \n",
       " [7] \"from_station_name\" \"to_station_id\"     \"to_station_name\"  \n",
       "[10] \"usertype\"          \"gender\"            \"birthyear\"        "
      ]
     },
     "metadata": {},
     "output_type": "display_data"
    }
   ],
   "source": [
    "\n",
    "colnames(Q1)\n",
    "colnames(Q2)\n",
    "colnames(Q3)\n",
    "colnames(Q4)\n",
    "\n"
   ]
  },
  {
   "cell_type": "markdown",
   "id": "29a51660",
   "metadata": {
    "papermill": {
     "duration": 0.015063,
     "end_time": "2023-05-16T19:58:37.342829",
     "exception": false,
     "start_time": "2023-05-16T19:58:37.327766",
     "status": "completed"
    },
    "tags": []
   },
   "source": [
    "Voy a cambiarle los nombres a las columnas que voy a utilizar y darles un formato uniforme para posterior poder unirlos todos en un solo DF"
   ]
  },
  {
   "cell_type": "code",
   "execution_count": 4,
   "id": "219fa97a",
   "metadata": {
    "_kg_hide-output": true,
    "execution": {
     "iopub.execute_input": "2023-05-16T19:58:37.376887Z",
     "iopub.status.busy": "2023-05-16T19:58:37.375261Z",
     "iopub.status.idle": "2023-05-16T19:58:38.044455Z",
     "shell.execute_reply": "2023-05-16T19:58:38.042523Z"
    },
    "papermill": {
     "duration": 0.689387,
     "end_time": "2023-05-16T19:58:38.047297",
     "exception": false,
     "start_time": "2023-05-16T19:58:37.357910",
     "status": "completed"
    },
    "tags": []
   },
   "outputs": [
    {
     "data": {
      "text/html": [
       "<table class=\"dataframe\">\n",
       "<caption>A data.frame: 365069 × 12</caption>\n",
       "<thead>\n",
       "\t<tr><th scope=col>id_viaje</th><th scope=col>empezo</th><th scope=col>termino</th><th scope=col>id_bici</th><th scope=col>tripduration</th><th scope=col>id_estacion_inicial</th><th scope=col>estacion_partida</th><th scope=col>id_estacion_llegada</th><th scope=col>estacion_llegada</th><th scope=col>membrecia</th><th scope=col>gender</th><th scope=col>birthyear</th></tr>\n",
       "\t<tr><th scope=col>&lt;int&gt;</th><th scope=col>&lt;chr&gt;</th><th scope=col>&lt;chr&gt;</th><th scope=col>&lt;int&gt;</th><th scope=col>&lt;chr&gt;</th><th scope=col>&lt;int&gt;</th><th scope=col>&lt;chr&gt;</th><th scope=col>&lt;int&gt;</th><th scope=col>&lt;chr&gt;</th><th scope=col>&lt;chr&gt;</th><th scope=col>&lt;chr&gt;</th><th scope=col>&lt;int&gt;</th></tr>\n",
       "</thead>\n",
       "<tbody>\n",
       "\t<tr><td>21742443</td><td>2019-01-01 00:04:37</td><td>2019-01-01 00:11:07</td><td>2167</td><td><span style=white-space:pre-wrap>390.0  </span></td><td>199</td><td><span style=white-space:pre-wrap>Wabash Ave &amp; Grand Ave             </span></td><td> 84</td><td><span style=white-space:pre-wrap>Milwaukee Ave &amp; Grand Ave     </span></td><td>Subscriber</td><td><span style=white-space:pre-wrap>Male  </span></td><td>1989</td></tr>\n",
       "\t<tr><td>21742444</td><td>2019-01-01 00:08:13</td><td>2019-01-01 00:15:34</td><td>4386</td><td><span style=white-space:pre-wrap>441.0  </span></td><td> 44</td><td><span style=white-space:pre-wrap>State St &amp; Randolph St             </span></td><td>624</td><td>Dearborn St &amp; Van Buren St (*)</td><td>Subscriber</td><td>Female</td><td>1990</td></tr>\n",
       "\t<tr><td>21742445</td><td>2019-01-01 00:13:23</td><td>2019-01-01 00:27:12</td><td>1524</td><td><span style=white-space:pre-wrap>829.0  </span></td><td> 15</td><td><span style=white-space:pre-wrap>Racine Ave &amp; 18th St               </span></td><td>644</td><td>Western Ave &amp; Fillmore St (*) </td><td>Subscriber</td><td>Female</td><td>1994</td></tr>\n",
       "\t<tr><td>21742446</td><td>2019-01-01 00:13:45</td><td>2019-01-01 00:43:28</td><td> 252</td><td>1,783.0</td><td>123</td><td><span style=white-space:pre-wrap>California Ave &amp; Milwaukee Ave     </span></td><td>176</td><td><span style=white-space:pre-wrap>Clark St &amp; Elm St             </span></td><td>Subscriber</td><td><span style=white-space:pre-wrap>Male  </span></td><td>1993</td></tr>\n",
       "\t<tr><td>21742447</td><td>2019-01-01 00:14:52</td><td>2019-01-01 00:20:56</td><td>1170</td><td><span style=white-space:pre-wrap>364.0  </span></td><td>173</td><td>Mies van der Rohe Way &amp; Chicago Ave</td><td> 35</td><td><span style=white-space:pre-wrap>Streeter Dr &amp; Grand Ave       </span></td><td>Subscriber</td><td><span style=white-space:pre-wrap>Male  </span></td><td>1994</td></tr>\n",
       "\t<tr><td>21742448</td><td>2019-01-01 00:15:33</td><td>2019-01-01 00:19:09</td><td>2437</td><td><span style=white-space:pre-wrap>216.0  </span></td><td> 98</td><td><span style=white-space:pre-wrap>LaSalle St &amp; Washington St         </span></td><td> 49</td><td><span style=white-space:pre-wrap>Dearborn St &amp; Monroe St       </span></td><td>Subscriber</td><td>Female</td><td>1983</td></tr>\n",
       "\t<tr><td>21742449</td><td>2019-01-01 00:16:06</td><td>2019-01-01 00:19:03</td><td>2708</td><td><span style=white-space:pre-wrap>177.0  </span></td><td> 98</td><td><span style=white-space:pre-wrap>LaSalle St &amp; Washington St         </span></td><td> 49</td><td><span style=white-space:pre-wrap>Dearborn St &amp; Monroe St       </span></td><td>Subscriber</td><td><span style=white-space:pre-wrap>Male  </span></td><td>1984</td></tr>\n",
       "\t<tr><td>21742450</td><td>2019-01-01 00:18:41</td><td>2019-01-01 00:20:21</td><td>2796</td><td><span style=white-space:pre-wrap>100.0  </span></td><td>211</td><td><span style=white-space:pre-wrap>St. Clair St &amp; Erie St             </span></td><td>142</td><td><span style=white-space:pre-wrap>McClurg Ct &amp; Erie St          </span></td><td>Subscriber</td><td><span style=white-space:pre-wrap>Male  </span></td><td>1990</td></tr>\n",
       "\t<tr><td>21742451</td><td>2019-01-01 00:18:43</td><td>2019-01-01 00:47:30</td><td>6205</td><td>1,727.0</td><td>150</td><td><span style=white-space:pre-wrap>Fort Dearborn Dr &amp; 31st St         </span></td><td>148</td><td><span style=white-space:pre-wrap>State St &amp; 33rd St            </span></td><td>Subscriber</td><td><span style=white-space:pre-wrap>Male  </span></td><td>1995</td></tr>\n",
       "\t<tr><td>21742452</td><td>2019-01-01 00:19:18</td><td>2019-01-01 00:24:54</td><td>3939</td><td><span style=white-space:pre-wrap>336.0  </span></td><td>268</td><td><span style=white-space:pre-wrap>Lake Shore Dr &amp; North Blvd         </span></td><td>141</td><td><span style=white-space:pre-wrap>Clark St &amp; Lincoln Ave        </span></td><td>Subscriber</td><td><span style=white-space:pre-wrap>Male  </span></td><td>1996</td></tr>\n",
       "\t<tr><td>21742453</td><td>2019-01-01 00:20:34</td><td>2019-01-01 00:35:20</td><td>6243</td><td><span style=white-space:pre-wrap>886.0  </span></td><td>299</td><td><span style=white-space:pre-wrap>Halsted St &amp; Roscoe St             </span></td><td>295</td><td><span style=white-space:pre-wrap>Broadway &amp; Argyle St          </span></td><td>Subscriber</td><td><span style=white-space:pre-wrap>Male  </span></td><td>1994</td></tr>\n",
       "\t<tr><td>21742454</td><td>2019-01-01 00:21:52</td><td>2019-01-01 00:32:45</td><td>6300</td><td><span style=white-space:pre-wrap>653.0  </span></td><td>204</td><td><span style=white-space:pre-wrap>Prairie Ave &amp; Garfield Blvd        </span></td><td>420</td><td><span style=white-space:pre-wrap>Ellis Ave &amp; 55th St           </span></td><td>Subscriber</td><td>Female</td><td>1994</td></tr>\n",
       "\t<tr><td>21742455</td><td>2019-01-01 00:23:04</td><td>2019-01-01 00:33:05</td><td>3029</td><td><span style=white-space:pre-wrap>601.0  </span></td><td> 90</td><td><span style=white-space:pre-wrap>Millennium Park                    </span></td><td>255</td><td><span style=white-space:pre-wrap>Indiana Ave &amp; Roosevelt Rd    </span></td><td>Subscriber</td><td><span style=white-space:pre-wrap>Male  </span></td><td>1986</td></tr>\n",
       "\t<tr><td>21742456</td><td>2019-01-01 00:23:43</td><td>2019-01-01 00:33:05</td><td><span style=white-space:pre-wrap>  84</span></td><td><span style=white-space:pre-wrap>562.0  </span></td><td> 90</td><td><span style=white-space:pre-wrap>Millennium Park                    </span></td><td>255</td><td><span style=white-space:pre-wrap>Indiana Ave &amp; Roosevelt Rd    </span></td><td><span style=white-space:pre-wrap>Customer  </span></td><td>Female</td><td>1990</td></tr>\n",
       "\t<tr><td>21742457</td><td>2019-01-01 00:23:54</td><td>2019-01-01 00:39:00</td><td>5019</td><td><span style=white-space:pre-wrap>906.0  </span></td><td>289</td><td><span style=white-space:pre-wrap>Wells St &amp; Concord Ln              </span></td><td>324</td><td><span style=white-space:pre-wrap>Stockton Dr &amp; Wrightwood Ave  </span></td><td>Subscriber</td><td>Female</td><td>1989</td></tr>\n",
       "\t<tr><td>21742458</td><td>2019-01-01 00:24:08</td><td>2019-01-01 00:39:00</td><td>5526</td><td><span style=white-space:pre-wrap>892.0  </span></td><td>289</td><td><span style=white-space:pre-wrap>Wells St &amp; Concord Ln              </span></td><td>324</td><td><span style=white-space:pre-wrap>Stockton Dr &amp; Wrightwood Ave  </span></td><td>Subscriber</td><td>Female</td><td>1989</td></tr>\n",
       "\t<tr><td>21742459</td><td>2019-01-01 00:24:13</td><td>2019-01-01 00:31:00</td><td>3373</td><td><span style=white-space:pre-wrap>407.0  </span></td><td>152</td><td><span style=white-space:pre-wrap>Lincoln Ave &amp; Diversey Pkwy        </span></td><td>166</td><td><span style=white-space:pre-wrap>Ashland Ave &amp; Wrightwood Ave  </span></td><td>Subscriber</td><td><span style=white-space:pre-wrap>Male  </span></td><td>1967</td></tr>\n",
       "\t<tr><td>21742460</td><td>2019-01-01 00:24:27</td><td>2019-01-01 00:47:03</td><td>5777</td><td>1,356.0</td><td>268</td><td><span style=white-space:pre-wrap>Lake Shore Dr &amp; North Blvd         </span></td><td>319</td><td>Greenview Ave &amp; Diversey Pkwy </td><td><span style=white-space:pre-wrap>Customer  </span></td><td>Female</td><td>1990</td></tr>\n",
       "\t<tr><td>21742461</td><td>2019-01-01 00:25:28</td><td>2019-01-01 00:27:10</td><td>3940</td><td><span style=white-space:pre-wrap>102.0  </span></td><td> 35</td><td><span style=white-space:pre-wrap>Streeter Dr &amp; Grand Ave            </span></td><td> 35</td><td><span style=white-space:pre-wrap>Streeter Dr &amp; Grand Ave       </span></td><td>Subscriber</td><td><span style=white-space:pre-wrap>Male  </span></td><td>1985</td></tr>\n",
       "\t<tr><td>21742463</td><td>2019-01-01 00:29:19</td><td>2019-01-01 01:08:12</td><td>3914</td><td>2,333.0</td><td> 35</td><td><span style=white-space:pre-wrap>Streeter Dr &amp; Grand Ave            </span></td><td> 39</td><td><span style=white-space:pre-wrap>Wabash Ave &amp; Adams St         </span></td><td><span style=white-space:pre-wrap>Customer  </span></td><td><span style=white-space:pre-wrap>      </span></td><td><span style=white-space:pre-wrap>  NA</span></td></tr>\n",
       "\t<tr><td>21742464</td><td>2019-01-01 00:29:21</td><td>2019-01-01 00:45:21</td><td> 140</td><td><span style=white-space:pre-wrap>960.0  </span></td><td> 47</td><td><span style=white-space:pre-wrap>State St &amp; Kinzie St               </span></td><td>111</td><td><span style=white-space:pre-wrap>Sedgwick St &amp; Huron St        </span></td><td>Subscriber</td><td><span style=white-space:pre-wrap>Male  </span></td><td>1957</td></tr>\n",
       "\t<tr><td>21742465</td><td>2019-01-01 00:29:28</td><td>2019-01-01 01:07:49</td><td>3355</td><td>2,301.0</td><td> 35</td><td><span style=white-space:pre-wrap>Streeter Dr &amp; Grand Ave            </span></td><td> 39</td><td><span style=white-space:pre-wrap>Wabash Ave &amp; Adams St         </span></td><td><span style=white-space:pre-wrap>Customer  </span></td><td><span style=white-space:pre-wrap>      </span></td><td><span style=white-space:pre-wrap>  NA</span></td></tr>\n",
       "\t<tr><td>21742466</td><td>2019-01-01 00:29:47</td><td>2019-01-01 00:49:15</td><td>5026</td><td>1,168.0</td><td> 85</td><td><span style=white-space:pre-wrap>Michigan Ave &amp; Oak St              </span></td><td>329</td><td>Lake Shore Dr &amp; Diversey Pkwy </td><td>Subscriber</td><td><span style=white-space:pre-wrap>Male  </span></td><td>1959</td></tr>\n",
       "\t<tr><td>21742467</td><td>2019-01-01 00:30:48</td><td>2019-01-01 00:38:42</td><td>1998</td><td><span style=white-space:pre-wrap>474.0  </span></td><td>289</td><td><span style=white-space:pre-wrap>Wells St &amp; Concord Ln              </span></td><td>313</td><td>Lakeview Ave &amp; Fullerton Pkwy </td><td>Subscriber</td><td><span style=white-space:pre-wrap>Male  </span></td><td>1994</td></tr>\n",
       "\t<tr><td>21742468</td><td>2019-01-01 00:33:09</td><td>2019-01-01 00:50:25</td><td>2630</td><td>1,036.0</td><td> 13</td><td><span style=white-space:pre-wrap>Wilton Ave &amp; Diversey Pkwy         </span></td><td> 61</td><td><span style=white-space:pre-wrap>Wood St &amp; Milwaukee Ave       </span></td><td>Subscriber</td><td><span style=white-space:pre-wrap>Male  </span></td><td>1991</td></tr>\n",
       "\t<tr><td>21742469</td><td>2019-01-01 00:34:35</td><td>2019-01-01 00:38:25</td><td>3722</td><td><span style=white-space:pre-wrap>230.0  </span></td><td>520</td><td><span style=white-space:pre-wrap>Greenview Ave &amp; Jarvis Ave         </span></td><td>523</td><td><span style=white-space:pre-wrap>Eastlake Ter &amp; Rogers Ave     </span></td><td>Subscriber</td><td><span style=white-space:pre-wrap>Male  </span></td><td>1961</td></tr>\n",
       "\t<tr><td>21742471</td><td>2019-01-01 00:38:11</td><td>2019-01-01 00:50:38</td><td>1166</td><td><span style=white-space:pre-wrap>747.0  </span></td><td>256</td><td><span style=white-space:pre-wrap>Broadway &amp; Sheridan Rd             </span></td><td>297</td><td><span style=white-space:pre-wrap>Paulina St &amp; Montrose Ave     </span></td><td>Subscriber</td><td><span style=white-space:pre-wrap>Male  </span></td><td>1968</td></tr>\n",
       "\t<tr><td>21742472</td><td>2019-01-01 00:38:47</td><td>2019-01-01 00:50:38</td><td>1704</td><td><span style=white-space:pre-wrap>711.0  </span></td><td>256</td><td><span style=white-space:pre-wrap>Broadway &amp; Sheridan Rd             </span></td><td>297</td><td><span style=white-space:pre-wrap>Paulina St &amp; Montrose Ave     </span></td><td>Subscriber</td><td><span style=white-space:pre-wrap>Male  </span></td><td>1964</td></tr>\n",
       "\t<tr><td>21742473</td><td>2019-01-01 00:40:16</td><td>2019-01-01 00:49:29</td><td>1476</td><td><span style=white-space:pre-wrap>553.0  </span></td><td>254</td><td><span style=white-space:pre-wrap>Pine Grove Ave &amp; Irving Park Rd    </span></td><td>465</td><td><span style=white-space:pre-wrap>Marine Dr &amp; Ainslie St        </span></td><td>Subscriber</td><td><span style=white-space:pre-wrap>Male  </span></td><td>1990</td></tr>\n",
       "\t<tr><td>21742474</td><td>2019-01-01 00:41:46</td><td>2019-01-01 00:50:27</td><td>4614</td><td><span style=white-space:pre-wrap>521.0  </span></td><td> 66</td><td><span style=white-space:pre-wrap>Clinton St &amp; Lake St               </span></td><td> 52</td><td><span style=white-space:pre-wrap>Michigan Ave &amp; Lake St        </span></td><td>Subscriber</td><td><span style=white-space:pre-wrap>Male  </span></td><td>1994</td></tr>\n",
       "\t<tr><td>⋮</td><td>⋮</td><td>⋮</td><td>⋮</td><td>⋮</td><td>⋮</td><td>⋮</td><td>⋮</td><td>⋮</td><td>⋮</td><td>⋮</td><td>⋮</td></tr>\n",
       "\t<tr><td>22178488</td><td>2019-03-31 22:51:02</td><td>2019-03-31 22:54:00</td><td>4602</td><td>178.0</td><td>460</td><td><span style=white-space:pre-wrap>Clark St &amp; Bryn Mawr Ave           </span></td><td>461</td><td><span style=white-space:pre-wrap>Broadway &amp; Ridge Ave                </span></td><td>Subscriber</td><td><span style=white-space:pre-wrap>Male  </span></td><td>1986</td></tr>\n",
       "\t<tr><td>22178489</td><td>2019-03-31 22:54:00</td><td>2019-03-31 23:02:49</td><td>4151</td><td>529.0</td><td> 47</td><td><span style=white-space:pre-wrap>State St &amp; Kinzie St               </span></td><td> 26</td><td><span style=white-space:pre-wrap>McClurg Ct &amp; Illinois St            </span></td><td>Subscriber</td><td><span style=white-space:pre-wrap>Male  </span></td><td>1990</td></tr>\n",
       "\t<tr><td>22178490</td><td>2019-03-31 22:55:28</td><td>2019-03-31 23:02:10</td><td>3833</td><td>402.0</td><td>108</td><td><span style=white-space:pre-wrap>Halsted St &amp; Polk St               </span></td><td> 19</td><td><span style=white-space:pre-wrap>Loomis St &amp; Taylor St (*)           </span></td><td>Subscriber</td><td><span style=white-space:pre-wrap>Male  </span></td><td>1992</td></tr>\n",
       "\t<tr><td>22178491</td><td>2019-03-31 22:58:00</td><td>2019-03-31 23:06:12</td><td>1374</td><td>492.0</td><td>108</td><td><span style=white-space:pre-wrap>Halsted St &amp; Polk St               </span></td><td> 41</td><td><span style=white-space:pre-wrap>Federal St &amp; Polk St                </span></td><td>Subscriber</td><td><span style=white-space:pre-wrap>Male  </span></td><td>1992</td></tr>\n",
       "\t<tr><td>22178492</td><td>2019-03-31 22:59:35</td><td>2019-03-31 23:01:38</td><td>3723</td><td>123.0</td><td> 66</td><td><span style=white-space:pre-wrap>Clinton St &amp; Lake St               </span></td><td> 77</td><td><span style=white-space:pre-wrap>Clinton St &amp; Madison St             </span></td><td>Subscriber</td><td>Female</td><td>1985</td></tr>\n",
       "\t<tr><td>22178493</td><td>2019-03-31 23:00:17</td><td>2019-03-31 23:10:52</td><td>2331</td><td>635.0</td><td> 51</td><td><span style=white-space:pre-wrap>Clark St &amp; Randolph St             </span></td><td>364</td><td><span style=white-space:pre-wrap>Larrabee St &amp; Oak St                </span></td><td>Subscriber</td><td><span style=white-space:pre-wrap>Male  </span></td><td>1972</td></tr>\n",
       "\t<tr><td>22178494</td><td>2019-03-31 23:00:28</td><td>2019-03-31 23:09:20</td><td>1312</td><td>532.0</td><td> 98</td><td><span style=white-space:pre-wrap>LaSalle St &amp; Washington St         </span></td><td> 22</td><td><span style=white-space:pre-wrap>May St &amp; Taylor St                  </span></td><td><span style=white-space:pre-wrap>Customer  </span></td><td><span style=white-space:pre-wrap>Male  </span></td><td>1993</td></tr>\n",
       "\t<tr><td>22178495</td><td>2019-03-31 23:00:43</td><td>2019-03-31 23:13:04</td><td>6205</td><td>741.0</td><td>301</td><td><span style=white-space:pre-wrap>Clark St &amp; Schiller St             </span></td><td>115</td><td><span style=white-space:pre-wrap>Sheffield Ave &amp; Wellington Ave      </span></td><td>Subscriber</td><td><span style=white-space:pre-wrap>Male  </span></td><td>1988</td></tr>\n",
       "\t<tr><td>22178502</td><td>2019-03-31 23:03:01</td><td>2019-03-31 23:15:20</td><td>3360</td><td>739.0</td><td>295</td><td><span style=white-space:pre-wrap>Broadway &amp; Argyle St               </span></td><td>451</td><td><span style=white-space:pre-wrap>Sheridan Rd &amp; Loyola Ave            </span></td><td>Subscriber</td><td><span style=white-space:pre-wrap>Male  </span></td><td>1992</td></tr>\n",
       "\t<tr><td>22178503</td><td>2019-03-31 23:09:40</td><td>2019-03-31 23:19:30</td><td>6416</td><td>590.0</td><td>114</td><td><span style=white-space:pre-wrap>Sheffield Ave &amp; Waveland Ave       </span></td><td>330</td><td><span style=white-space:pre-wrap>Lincoln Ave &amp; Addison St            </span></td><td>Subscriber</td><td>Female</td><td>1985</td></tr>\n",
       "\t<tr><td>22178504</td><td>2019-03-31 23:10:19</td><td>2019-03-31 23:21:33</td><td>3767</td><td>674.0</td><td> 50</td><td><span style=white-space:pre-wrap>Clark St &amp; Ida B Wells Dr          </span></td><td> 50</td><td><span style=white-space:pre-wrap>Clark St &amp; Ida B Wells Dr           </span></td><td>Subscriber</td><td><span style=white-space:pre-wrap>Male  </span></td><td>1957</td></tr>\n",
       "\t<tr><td>22178505</td><td>2019-03-31 23:11:15</td><td>2019-03-31 23:20:27</td><td>1646</td><td>552.0</td><td>111</td><td><span style=white-space:pre-wrap>Sedgwick St &amp; Huron St             </span></td><td>301</td><td><span style=white-space:pre-wrap>Clark St &amp; Schiller St              </span></td><td>Subscriber</td><td><span style=white-space:pre-wrap>Male  </span></td><td>1994</td></tr>\n",
       "\t<tr><td>22178506</td><td>2019-03-31 23:15:53</td><td>2019-03-31 23:20:27</td><td> 632</td><td>274.0</td><td> 16</td><td><span style=white-space:pre-wrap>Paulina Ave &amp; North Ave            </span></td><td>158</td><td><span style=white-space:pre-wrap>Milwaukee Ave &amp; Wabansia Ave        </span></td><td>Subscriber</td><td><span style=white-space:pre-wrap>Male  </span></td><td>1991</td></tr>\n",
       "\t<tr><td>22178507</td><td>2019-03-31 23:16:57</td><td>2019-03-31 23:22:42</td><td>1537</td><td>345.0</td><td>173</td><td>Mies van der Rohe Way &amp; Chicago Ave</td><td>172</td><td><span style=white-space:pre-wrap>Rush St &amp; Cedar St                  </span></td><td>Subscriber</td><td><span style=white-space:pre-wrap>Male  </span></td><td>1980</td></tr>\n",
       "\t<tr><td>22178508</td><td>2019-03-31 23:18:42</td><td>2019-03-31 23:30:40</td><td>1952</td><td>718.0</td><td>301</td><td><span style=white-space:pre-wrap>Clark St &amp; Schiller St             </span></td><td>210</td><td><span style=white-space:pre-wrap>Ashland Ave &amp; Division St           </span></td><td>Subscriber</td><td><span style=white-space:pre-wrap>Male  </span></td><td>1988</td></tr>\n",
       "\t<tr><td>22178509</td><td>2019-03-31 23:20:36</td><td>2019-03-31 23:28:12</td><td>5331</td><td>456.0</td><td>115</td><td><span style=white-space:pre-wrap>Sheffield Ave &amp; Wellington Ave     </span></td><td>313</td><td><span style=white-space:pre-wrap>Lakeview Ave &amp; Fullerton Pkwy       </span></td><td>Subscriber</td><td><span style=white-space:pre-wrap>Male  </span></td><td>1987</td></tr>\n",
       "\t<tr><td>22178510</td><td>2019-03-31 23:21:07</td><td>2019-03-31 23:25:12</td><td><span style=white-space:pre-wrap>  67</span></td><td>245.0</td><td>325</td><td><span style=white-space:pre-wrap>Clark St &amp; Winnemac Ave            </span></td><td>464</td><td><span style=white-space:pre-wrap>Damen Ave &amp; Foster Ave              </span></td><td>Subscriber</td><td><span style=white-space:pre-wrap>Male  </span></td><td>1983</td></tr>\n",
       "\t<tr><td>22178515</td><td>2019-03-31 23:26:00</td><td>2019-03-31 23:37:24</td><td>2965</td><td>684.0</td><td>403</td><td><span style=white-space:pre-wrap>Wentworth Ave &amp; 33rd St            </span></td><td>263</td><td><span style=white-space:pre-wrap>Rhodes Ave &amp; 32nd St                </span></td><td>Subscriber</td><td><span style=white-space:pre-wrap>Male  </span></td><td>1984</td></tr>\n",
       "\t<tr><td>22178516</td><td>2019-03-31 23:31:30</td><td>2019-03-31 23:35:29</td><td>5747</td><td>239.0</td><td>309</td><td><span style=white-space:pre-wrap>Leavitt St &amp; Armitage Ave          </span></td><td>219</td><td><span style=white-space:pre-wrap>Damen Ave &amp; Cortland St             </span></td><td>Subscriber</td><td><span style=white-space:pre-wrap>Male  </span></td><td>1970</td></tr>\n",
       "\t<tr><td>22178517</td><td>2019-03-31 23:32:54</td><td>2019-03-31 23:37:50</td><td>2846</td><td>296.0</td><td>181</td><td><span style=white-space:pre-wrap>LaSalle St &amp; Illinois St           </span></td><td> 24</td><td><span style=white-space:pre-wrap>Fairbanks Ct &amp; Grand Ave            </span></td><td><span style=white-space:pre-wrap>Customer  </span></td><td><span style=white-space:pre-wrap>      </span></td><td><span style=white-space:pre-wrap>  NA</span></td></tr>\n",
       "\t<tr><td>22178518</td><td>2019-03-31 23:33:02</td><td>2019-03-31 23:43:15</td><td>2772</td><td>613.0</td><td>210</td><td><span style=white-space:pre-wrap>Ashland Ave &amp; Division St          </span></td><td>210</td><td><span style=white-space:pre-wrap>Ashland Ave &amp; Division St           </span></td><td>Subscriber</td><td><span style=white-space:pre-wrap>Male  </span></td><td>1972</td></tr>\n",
       "\t<tr><td>22178519</td><td>2019-03-31 23:33:14</td><td>2019-03-31 23:37:40</td><td>4304</td><td>266.0</td><td>181</td><td><span style=white-space:pre-wrap>LaSalle St &amp; Illinois St           </span></td><td> 24</td><td><span style=white-space:pre-wrap>Fairbanks Ct &amp; Grand Ave            </span></td><td><span style=white-space:pre-wrap>Customer  </span></td><td><span style=white-space:pre-wrap>      </span></td><td><span style=white-space:pre-wrap>  NA</span></td></tr>\n",
       "\t<tr><td>22178520</td><td>2019-03-31 23:34:08</td><td>2019-03-31 23:38:07</td><td> 667</td><td>239.0</td><td>199</td><td><span style=white-space:pre-wrap>Wabash Ave &amp; Grand Ave             </span></td><td> 26</td><td><span style=white-space:pre-wrap>McClurg Ct &amp; Illinois St            </span></td><td>Subscriber</td><td>Female</td><td>1984</td></tr>\n",
       "\t<tr><td>22178521</td><td>2019-03-31 23:39:48</td><td>2019-03-31 23:41:41</td><td>4814</td><td>113.0</td><td>198</td><td><span style=white-space:pre-wrap>Green St &amp; Madison St              </span></td><td>233</td><td><span style=white-space:pre-wrap>Sangamon St &amp; Washington Blvd (*)   </span></td><td>Subscriber</td><td><span style=white-space:pre-wrap>Male  </span></td><td>1971</td></tr>\n",
       "\t<tr><td>22178522</td><td>2019-03-31 23:47:05</td><td>2019-03-31 23:51:35</td><td>3873</td><td>270.0</td><td> 69</td><td><span style=white-space:pre-wrap>Damen Ave &amp; Pierce Ave             </span></td><td>183</td><td>Damen Ave &amp; Thomas St (Augusta Blvd)</td><td>Subscriber</td><td><span style=white-space:pre-wrap>Male  </span></td><td>1985</td></tr>\n",
       "\t<tr><td>22178524</td><td>2019-03-31 23:51:32</td><td>2019-04-01 00:04:09</td><td>1501</td><td>757.0</td><td> 38</td><td><span style=white-space:pre-wrap>Clark St &amp; Lake St                 </span></td><td> 29</td><td><span style=white-space:pre-wrap>Noble St &amp; Milwaukee Ave            </span></td><td>Subscriber</td><td><span style=white-space:pre-wrap>Male  </span></td><td>1993</td></tr>\n",
       "\t<tr><td>22178525</td><td>2019-03-31 23:52:37</td><td>2019-03-31 23:58:09</td><td>3270</td><td>332.0</td><td>129</td><td><span style=white-space:pre-wrap>Blue Island Ave &amp; 18th St          </span></td><td>202</td><td><span style=white-space:pre-wrap>Halsted St &amp; 18th St                </span></td><td>Subscriber</td><td><span style=white-space:pre-wrap>Male  </span></td><td>1992</td></tr>\n",
       "\t<tr><td>22178526</td><td>2019-03-31 23:52:38</td><td>2019-04-01 00:06:44</td><td>3584</td><td>846.0</td><td>283</td><td><span style=white-space:pre-wrap>LaSalle St &amp; Jackson Blvd          </span></td><td>273</td><td><span style=white-space:pre-wrap>Michigan Ave &amp; 18th St              </span></td><td>Subscriber</td><td><span style=white-space:pre-wrap>Male  </span></td><td>1984</td></tr>\n",
       "\t<tr><td>22178527</td><td>2019-03-31 23:53:08</td><td>2019-03-31 23:56:06</td><td>4384</td><td>178.0</td><td>321</td><td><span style=white-space:pre-wrap>Wabash Ave &amp; 9th St                </span></td><td> 39</td><td><span style=white-space:pre-wrap>Wabash Ave &amp; Adams St               </span></td><td>Subscriber</td><td><span style=white-space:pre-wrap>Male  </span></td><td>1969</td></tr>\n",
       "\t<tr><td>22178528</td><td>2019-03-31 23:53:48</td><td>2019-04-01 00:01:16</td><td>5589</td><td>448.0</td><td>248</td><td><span style=white-space:pre-wrap>Woodlawn Ave &amp; 55th St             </span></td><td>247</td><td><span style=white-space:pre-wrap>Shore Dr &amp; 55th St                  </span></td><td>Subscriber</td><td><span style=white-space:pre-wrap>Male  </span></td><td>1998</td></tr>\n",
       "</tbody>\n",
       "</table>\n"
      ],
      "text/latex": [
       "A data.frame: 365069 × 12\n",
       "\\begin{tabular}{llllllllllll}\n",
       " id\\_viaje & empezo & termino & id\\_bici & tripduration & id\\_estacion\\_inicial & estacion\\_partida & id\\_estacion\\_llegada & estacion\\_llegada & membrecia & gender & birthyear\\\\\n",
       " <int> & <chr> & <chr> & <int> & <chr> & <int> & <chr> & <int> & <chr> & <chr> & <chr> & <int>\\\\\n",
       "\\hline\n",
       "\t 21742443 & 2019-01-01 00:04:37 & 2019-01-01 00:11:07 & 2167 & 390.0   & 199 & Wabash Ave \\& Grand Ave              &  84 & Milwaukee Ave \\& Grand Ave      & Subscriber & Male   & 1989\\\\\n",
       "\t 21742444 & 2019-01-01 00:08:13 & 2019-01-01 00:15:34 & 4386 & 441.0   &  44 & State St \\& Randolph St              & 624 & Dearborn St \\& Van Buren St (*) & Subscriber & Female & 1990\\\\\n",
       "\t 21742445 & 2019-01-01 00:13:23 & 2019-01-01 00:27:12 & 1524 & 829.0   &  15 & Racine Ave \\& 18th St                & 644 & Western Ave \\& Fillmore St (*)  & Subscriber & Female & 1994\\\\\n",
       "\t 21742446 & 2019-01-01 00:13:45 & 2019-01-01 00:43:28 &  252 & 1,783.0 & 123 & California Ave \\& Milwaukee Ave      & 176 & Clark St \\& Elm St              & Subscriber & Male   & 1993\\\\\n",
       "\t 21742447 & 2019-01-01 00:14:52 & 2019-01-01 00:20:56 & 1170 & 364.0   & 173 & Mies van der Rohe Way \\& Chicago Ave &  35 & Streeter Dr \\& Grand Ave        & Subscriber & Male   & 1994\\\\\n",
       "\t 21742448 & 2019-01-01 00:15:33 & 2019-01-01 00:19:09 & 2437 & 216.0   &  98 & LaSalle St \\& Washington St          &  49 & Dearborn St \\& Monroe St        & Subscriber & Female & 1983\\\\\n",
       "\t 21742449 & 2019-01-01 00:16:06 & 2019-01-01 00:19:03 & 2708 & 177.0   &  98 & LaSalle St \\& Washington St          &  49 & Dearborn St \\& Monroe St        & Subscriber & Male   & 1984\\\\\n",
       "\t 21742450 & 2019-01-01 00:18:41 & 2019-01-01 00:20:21 & 2796 & 100.0   & 211 & St. Clair St \\& Erie St              & 142 & McClurg Ct \\& Erie St           & Subscriber & Male   & 1990\\\\\n",
       "\t 21742451 & 2019-01-01 00:18:43 & 2019-01-01 00:47:30 & 6205 & 1,727.0 & 150 & Fort Dearborn Dr \\& 31st St          & 148 & State St \\& 33rd St             & Subscriber & Male   & 1995\\\\\n",
       "\t 21742452 & 2019-01-01 00:19:18 & 2019-01-01 00:24:54 & 3939 & 336.0   & 268 & Lake Shore Dr \\& North Blvd          & 141 & Clark St \\& Lincoln Ave         & Subscriber & Male   & 1996\\\\\n",
       "\t 21742453 & 2019-01-01 00:20:34 & 2019-01-01 00:35:20 & 6243 & 886.0   & 299 & Halsted St \\& Roscoe St              & 295 & Broadway \\& Argyle St           & Subscriber & Male   & 1994\\\\\n",
       "\t 21742454 & 2019-01-01 00:21:52 & 2019-01-01 00:32:45 & 6300 & 653.0   & 204 & Prairie Ave \\& Garfield Blvd         & 420 & Ellis Ave \\& 55th St            & Subscriber & Female & 1994\\\\\n",
       "\t 21742455 & 2019-01-01 00:23:04 & 2019-01-01 00:33:05 & 3029 & 601.0   &  90 & Millennium Park                     & 255 & Indiana Ave \\& Roosevelt Rd     & Subscriber & Male   & 1986\\\\\n",
       "\t 21742456 & 2019-01-01 00:23:43 & 2019-01-01 00:33:05 &   84 & 562.0   &  90 & Millennium Park                     & 255 & Indiana Ave \\& Roosevelt Rd     & Customer   & Female & 1990\\\\\n",
       "\t 21742457 & 2019-01-01 00:23:54 & 2019-01-01 00:39:00 & 5019 & 906.0   & 289 & Wells St \\& Concord Ln               & 324 & Stockton Dr \\& Wrightwood Ave   & Subscriber & Female & 1989\\\\\n",
       "\t 21742458 & 2019-01-01 00:24:08 & 2019-01-01 00:39:00 & 5526 & 892.0   & 289 & Wells St \\& Concord Ln               & 324 & Stockton Dr \\& Wrightwood Ave   & Subscriber & Female & 1989\\\\\n",
       "\t 21742459 & 2019-01-01 00:24:13 & 2019-01-01 00:31:00 & 3373 & 407.0   & 152 & Lincoln Ave \\& Diversey Pkwy         & 166 & Ashland Ave \\& Wrightwood Ave   & Subscriber & Male   & 1967\\\\\n",
       "\t 21742460 & 2019-01-01 00:24:27 & 2019-01-01 00:47:03 & 5777 & 1,356.0 & 268 & Lake Shore Dr \\& North Blvd          & 319 & Greenview Ave \\& Diversey Pkwy  & Customer   & Female & 1990\\\\\n",
       "\t 21742461 & 2019-01-01 00:25:28 & 2019-01-01 00:27:10 & 3940 & 102.0   &  35 & Streeter Dr \\& Grand Ave             &  35 & Streeter Dr \\& Grand Ave        & Subscriber & Male   & 1985\\\\\n",
       "\t 21742463 & 2019-01-01 00:29:19 & 2019-01-01 01:08:12 & 3914 & 2,333.0 &  35 & Streeter Dr \\& Grand Ave             &  39 & Wabash Ave \\& Adams St          & Customer   &        &   NA\\\\\n",
       "\t 21742464 & 2019-01-01 00:29:21 & 2019-01-01 00:45:21 &  140 & 960.0   &  47 & State St \\& Kinzie St                & 111 & Sedgwick St \\& Huron St         & Subscriber & Male   & 1957\\\\\n",
       "\t 21742465 & 2019-01-01 00:29:28 & 2019-01-01 01:07:49 & 3355 & 2,301.0 &  35 & Streeter Dr \\& Grand Ave             &  39 & Wabash Ave \\& Adams St          & Customer   &        &   NA\\\\\n",
       "\t 21742466 & 2019-01-01 00:29:47 & 2019-01-01 00:49:15 & 5026 & 1,168.0 &  85 & Michigan Ave \\& Oak St               & 329 & Lake Shore Dr \\& Diversey Pkwy  & Subscriber & Male   & 1959\\\\\n",
       "\t 21742467 & 2019-01-01 00:30:48 & 2019-01-01 00:38:42 & 1998 & 474.0   & 289 & Wells St \\& Concord Ln               & 313 & Lakeview Ave \\& Fullerton Pkwy  & Subscriber & Male   & 1994\\\\\n",
       "\t 21742468 & 2019-01-01 00:33:09 & 2019-01-01 00:50:25 & 2630 & 1,036.0 &  13 & Wilton Ave \\& Diversey Pkwy          &  61 & Wood St \\& Milwaukee Ave        & Subscriber & Male   & 1991\\\\\n",
       "\t 21742469 & 2019-01-01 00:34:35 & 2019-01-01 00:38:25 & 3722 & 230.0   & 520 & Greenview Ave \\& Jarvis Ave          & 523 & Eastlake Ter \\& Rogers Ave      & Subscriber & Male   & 1961\\\\\n",
       "\t 21742471 & 2019-01-01 00:38:11 & 2019-01-01 00:50:38 & 1166 & 747.0   & 256 & Broadway \\& Sheridan Rd              & 297 & Paulina St \\& Montrose Ave      & Subscriber & Male   & 1968\\\\\n",
       "\t 21742472 & 2019-01-01 00:38:47 & 2019-01-01 00:50:38 & 1704 & 711.0   & 256 & Broadway \\& Sheridan Rd              & 297 & Paulina St \\& Montrose Ave      & Subscriber & Male   & 1964\\\\\n",
       "\t 21742473 & 2019-01-01 00:40:16 & 2019-01-01 00:49:29 & 1476 & 553.0   & 254 & Pine Grove Ave \\& Irving Park Rd     & 465 & Marine Dr \\& Ainslie St         & Subscriber & Male   & 1990\\\\\n",
       "\t 21742474 & 2019-01-01 00:41:46 & 2019-01-01 00:50:27 & 4614 & 521.0   &  66 & Clinton St \\& Lake St                &  52 & Michigan Ave \\& Lake St         & Subscriber & Male   & 1994\\\\\n",
       "\t ⋮ & ⋮ & ⋮ & ⋮ & ⋮ & ⋮ & ⋮ & ⋮ & ⋮ & ⋮ & ⋮ & ⋮\\\\\n",
       "\t 22178488 & 2019-03-31 22:51:02 & 2019-03-31 22:54:00 & 4602 & 178.0 & 460 & Clark St \\& Bryn Mawr Ave            & 461 & Broadway \\& Ridge Ave                 & Subscriber & Male   & 1986\\\\\n",
       "\t 22178489 & 2019-03-31 22:54:00 & 2019-03-31 23:02:49 & 4151 & 529.0 &  47 & State St \\& Kinzie St                &  26 & McClurg Ct \\& Illinois St             & Subscriber & Male   & 1990\\\\\n",
       "\t 22178490 & 2019-03-31 22:55:28 & 2019-03-31 23:02:10 & 3833 & 402.0 & 108 & Halsted St \\& Polk St                &  19 & Loomis St \\& Taylor St (*)            & Subscriber & Male   & 1992\\\\\n",
       "\t 22178491 & 2019-03-31 22:58:00 & 2019-03-31 23:06:12 & 1374 & 492.0 & 108 & Halsted St \\& Polk St                &  41 & Federal St \\& Polk St                 & Subscriber & Male   & 1992\\\\\n",
       "\t 22178492 & 2019-03-31 22:59:35 & 2019-03-31 23:01:38 & 3723 & 123.0 &  66 & Clinton St \\& Lake St                &  77 & Clinton St \\& Madison St              & Subscriber & Female & 1985\\\\\n",
       "\t 22178493 & 2019-03-31 23:00:17 & 2019-03-31 23:10:52 & 2331 & 635.0 &  51 & Clark St \\& Randolph St              & 364 & Larrabee St \\& Oak St                 & Subscriber & Male   & 1972\\\\\n",
       "\t 22178494 & 2019-03-31 23:00:28 & 2019-03-31 23:09:20 & 1312 & 532.0 &  98 & LaSalle St \\& Washington St          &  22 & May St \\& Taylor St                   & Customer   & Male   & 1993\\\\\n",
       "\t 22178495 & 2019-03-31 23:00:43 & 2019-03-31 23:13:04 & 6205 & 741.0 & 301 & Clark St \\& Schiller St              & 115 & Sheffield Ave \\& Wellington Ave       & Subscriber & Male   & 1988\\\\\n",
       "\t 22178502 & 2019-03-31 23:03:01 & 2019-03-31 23:15:20 & 3360 & 739.0 & 295 & Broadway \\& Argyle St                & 451 & Sheridan Rd \\& Loyola Ave             & Subscriber & Male   & 1992\\\\\n",
       "\t 22178503 & 2019-03-31 23:09:40 & 2019-03-31 23:19:30 & 6416 & 590.0 & 114 & Sheffield Ave \\& Waveland Ave        & 330 & Lincoln Ave \\& Addison St             & Subscriber & Female & 1985\\\\\n",
       "\t 22178504 & 2019-03-31 23:10:19 & 2019-03-31 23:21:33 & 3767 & 674.0 &  50 & Clark St \\& Ida B Wells Dr           &  50 & Clark St \\& Ida B Wells Dr            & Subscriber & Male   & 1957\\\\\n",
       "\t 22178505 & 2019-03-31 23:11:15 & 2019-03-31 23:20:27 & 1646 & 552.0 & 111 & Sedgwick St \\& Huron St              & 301 & Clark St \\& Schiller St               & Subscriber & Male   & 1994\\\\\n",
       "\t 22178506 & 2019-03-31 23:15:53 & 2019-03-31 23:20:27 &  632 & 274.0 &  16 & Paulina Ave \\& North Ave             & 158 & Milwaukee Ave \\& Wabansia Ave         & Subscriber & Male   & 1991\\\\\n",
       "\t 22178507 & 2019-03-31 23:16:57 & 2019-03-31 23:22:42 & 1537 & 345.0 & 173 & Mies van der Rohe Way \\& Chicago Ave & 172 & Rush St \\& Cedar St                   & Subscriber & Male   & 1980\\\\\n",
       "\t 22178508 & 2019-03-31 23:18:42 & 2019-03-31 23:30:40 & 1952 & 718.0 & 301 & Clark St \\& Schiller St              & 210 & Ashland Ave \\& Division St            & Subscriber & Male   & 1988\\\\\n",
       "\t 22178509 & 2019-03-31 23:20:36 & 2019-03-31 23:28:12 & 5331 & 456.0 & 115 & Sheffield Ave \\& Wellington Ave      & 313 & Lakeview Ave \\& Fullerton Pkwy        & Subscriber & Male   & 1987\\\\\n",
       "\t 22178510 & 2019-03-31 23:21:07 & 2019-03-31 23:25:12 &   67 & 245.0 & 325 & Clark St \\& Winnemac Ave             & 464 & Damen Ave \\& Foster Ave               & Subscriber & Male   & 1983\\\\\n",
       "\t 22178515 & 2019-03-31 23:26:00 & 2019-03-31 23:37:24 & 2965 & 684.0 & 403 & Wentworth Ave \\& 33rd St             & 263 & Rhodes Ave \\& 32nd St                 & Subscriber & Male   & 1984\\\\\n",
       "\t 22178516 & 2019-03-31 23:31:30 & 2019-03-31 23:35:29 & 5747 & 239.0 & 309 & Leavitt St \\& Armitage Ave           & 219 & Damen Ave \\& Cortland St              & Subscriber & Male   & 1970\\\\\n",
       "\t 22178517 & 2019-03-31 23:32:54 & 2019-03-31 23:37:50 & 2846 & 296.0 & 181 & LaSalle St \\& Illinois St            &  24 & Fairbanks Ct \\& Grand Ave             & Customer   &        &   NA\\\\\n",
       "\t 22178518 & 2019-03-31 23:33:02 & 2019-03-31 23:43:15 & 2772 & 613.0 & 210 & Ashland Ave \\& Division St           & 210 & Ashland Ave \\& Division St            & Subscriber & Male   & 1972\\\\\n",
       "\t 22178519 & 2019-03-31 23:33:14 & 2019-03-31 23:37:40 & 4304 & 266.0 & 181 & LaSalle St \\& Illinois St            &  24 & Fairbanks Ct \\& Grand Ave             & Customer   &        &   NA\\\\\n",
       "\t 22178520 & 2019-03-31 23:34:08 & 2019-03-31 23:38:07 &  667 & 239.0 & 199 & Wabash Ave \\& Grand Ave              &  26 & McClurg Ct \\& Illinois St             & Subscriber & Female & 1984\\\\\n",
       "\t 22178521 & 2019-03-31 23:39:48 & 2019-03-31 23:41:41 & 4814 & 113.0 & 198 & Green St \\& Madison St               & 233 & Sangamon St \\& Washington Blvd (*)    & Subscriber & Male   & 1971\\\\\n",
       "\t 22178522 & 2019-03-31 23:47:05 & 2019-03-31 23:51:35 & 3873 & 270.0 &  69 & Damen Ave \\& Pierce Ave              & 183 & Damen Ave \\& Thomas St (Augusta Blvd) & Subscriber & Male   & 1985\\\\\n",
       "\t 22178524 & 2019-03-31 23:51:32 & 2019-04-01 00:04:09 & 1501 & 757.0 &  38 & Clark St \\& Lake St                  &  29 & Noble St \\& Milwaukee Ave             & Subscriber & Male   & 1993\\\\\n",
       "\t 22178525 & 2019-03-31 23:52:37 & 2019-03-31 23:58:09 & 3270 & 332.0 & 129 & Blue Island Ave \\& 18th St           & 202 & Halsted St \\& 18th St                 & Subscriber & Male   & 1992\\\\\n",
       "\t 22178526 & 2019-03-31 23:52:38 & 2019-04-01 00:06:44 & 3584 & 846.0 & 283 & LaSalle St \\& Jackson Blvd           & 273 & Michigan Ave \\& 18th St               & Subscriber & Male   & 1984\\\\\n",
       "\t 22178527 & 2019-03-31 23:53:08 & 2019-03-31 23:56:06 & 4384 & 178.0 & 321 & Wabash Ave \\& 9th St                 &  39 & Wabash Ave \\& Adams St                & Subscriber & Male   & 1969\\\\\n",
       "\t 22178528 & 2019-03-31 23:53:48 & 2019-04-01 00:01:16 & 5589 & 448.0 & 248 & Woodlawn Ave \\& 55th St              & 247 & Shore Dr \\& 55th St                   & Subscriber & Male   & 1998\\\\\n",
       "\\end{tabular}\n"
      ],
      "text/markdown": [
       "\n",
       "A data.frame: 365069 × 12\n",
       "\n",
       "| id_viaje &lt;int&gt; | empezo &lt;chr&gt; | termino &lt;chr&gt; | id_bici &lt;int&gt; | tripduration &lt;chr&gt; | id_estacion_inicial &lt;int&gt; | estacion_partida &lt;chr&gt; | id_estacion_llegada &lt;int&gt; | estacion_llegada &lt;chr&gt; | membrecia &lt;chr&gt; | gender &lt;chr&gt; | birthyear &lt;int&gt; |\n",
       "|---|---|---|---|---|---|---|---|---|---|---|---|\n",
       "| 21742443 | 2019-01-01 00:04:37 | 2019-01-01 00:11:07 | 2167 | 390.0   | 199 | Wabash Ave &amp; Grand Ave              |  84 | Milwaukee Ave &amp; Grand Ave      | Subscriber | Male   | 1989 |\n",
       "| 21742444 | 2019-01-01 00:08:13 | 2019-01-01 00:15:34 | 4386 | 441.0   |  44 | State St &amp; Randolph St              | 624 | Dearborn St &amp; Van Buren St (*) | Subscriber | Female | 1990 |\n",
       "| 21742445 | 2019-01-01 00:13:23 | 2019-01-01 00:27:12 | 1524 | 829.0   |  15 | Racine Ave &amp; 18th St                | 644 | Western Ave &amp; Fillmore St (*)  | Subscriber | Female | 1994 |\n",
       "| 21742446 | 2019-01-01 00:13:45 | 2019-01-01 00:43:28 |  252 | 1,783.0 | 123 | California Ave &amp; Milwaukee Ave      | 176 | Clark St &amp; Elm St              | Subscriber | Male   | 1993 |\n",
       "| 21742447 | 2019-01-01 00:14:52 | 2019-01-01 00:20:56 | 1170 | 364.0   | 173 | Mies van der Rohe Way &amp; Chicago Ave |  35 | Streeter Dr &amp; Grand Ave        | Subscriber | Male   | 1994 |\n",
       "| 21742448 | 2019-01-01 00:15:33 | 2019-01-01 00:19:09 | 2437 | 216.0   |  98 | LaSalle St &amp; Washington St          |  49 | Dearborn St &amp; Monroe St        | Subscriber | Female | 1983 |\n",
       "| 21742449 | 2019-01-01 00:16:06 | 2019-01-01 00:19:03 | 2708 | 177.0   |  98 | LaSalle St &amp; Washington St          |  49 | Dearborn St &amp; Monroe St        | Subscriber | Male   | 1984 |\n",
       "| 21742450 | 2019-01-01 00:18:41 | 2019-01-01 00:20:21 | 2796 | 100.0   | 211 | St. Clair St &amp; Erie St              | 142 | McClurg Ct &amp; Erie St           | Subscriber | Male   | 1990 |\n",
       "| 21742451 | 2019-01-01 00:18:43 | 2019-01-01 00:47:30 | 6205 | 1,727.0 | 150 | Fort Dearborn Dr &amp; 31st St          | 148 | State St &amp; 33rd St             | Subscriber | Male   | 1995 |\n",
       "| 21742452 | 2019-01-01 00:19:18 | 2019-01-01 00:24:54 | 3939 | 336.0   | 268 | Lake Shore Dr &amp; North Blvd          | 141 | Clark St &amp; Lincoln Ave         | Subscriber | Male   | 1996 |\n",
       "| 21742453 | 2019-01-01 00:20:34 | 2019-01-01 00:35:20 | 6243 | 886.0   | 299 | Halsted St &amp; Roscoe St              | 295 | Broadway &amp; Argyle St           | Subscriber | Male   | 1994 |\n",
       "| 21742454 | 2019-01-01 00:21:52 | 2019-01-01 00:32:45 | 6300 | 653.0   | 204 | Prairie Ave &amp; Garfield Blvd         | 420 | Ellis Ave &amp; 55th St            | Subscriber | Female | 1994 |\n",
       "| 21742455 | 2019-01-01 00:23:04 | 2019-01-01 00:33:05 | 3029 | 601.0   |  90 | Millennium Park                     | 255 | Indiana Ave &amp; Roosevelt Rd     | Subscriber | Male   | 1986 |\n",
       "| 21742456 | 2019-01-01 00:23:43 | 2019-01-01 00:33:05 |   84 | 562.0   |  90 | Millennium Park                     | 255 | Indiana Ave &amp; Roosevelt Rd     | Customer   | Female | 1990 |\n",
       "| 21742457 | 2019-01-01 00:23:54 | 2019-01-01 00:39:00 | 5019 | 906.0   | 289 | Wells St &amp; Concord Ln               | 324 | Stockton Dr &amp; Wrightwood Ave   | Subscriber | Female | 1989 |\n",
       "| 21742458 | 2019-01-01 00:24:08 | 2019-01-01 00:39:00 | 5526 | 892.0   | 289 | Wells St &amp; Concord Ln               | 324 | Stockton Dr &amp; Wrightwood Ave   | Subscriber | Female | 1989 |\n",
       "| 21742459 | 2019-01-01 00:24:13 | 2019-01-01 00:31:00 | 3373 | 407.0   | 152 | Lincoln Ave &amp; Diversey Pkwy         | 166 | Ashland Ave &amp; Wrightwood Ave   | Subscriber | Male   | 1967 |\n",
       "| 21742460 | 2019-01-01 00:24:27 | 2019-01-01 00:47:03 | 5777 | 1,356.0 | 268 | Lake Shore Dr &amp; North Blvd          | 319 | Greenview Ave &amp; Diversey Pkwy  | Customer   | Female | 1990 |\n",
       "| 21742461 | 2019-01-01 00:25:28 | 2019-01-01 00:27:10 | 3940 | 102.0   |  35 | Streeter Dr &amp; Grand Ave             |  35 | Streeter Dr &amp; Grand Ave        | Subscriber | Male   | 1985 |\n",
       "| 21742463 | 2019-01-01 00:29:19 | 2019-01-01 01:08:12 | 3914 | 2,333.0 |  35 | Streeter Dr &amp; Grand Ave             |  39 | Wabash Ave &amp; Adams St          | Customer   | <!----> |   NA |\n",
       "| 21742464 | 2019-01-01 00:29:21 | 2019-01-01 00:45:21 |  140 | 960.0   |  47 | State St &amp; Kinzie St                | 111 | Sedgwick St &amp; Huron St         | Subscriber | Male   | 1957 |\n",
       "| 21742465 | 2019-01-01 00:29:28 | 2019-01-01 01:07:49 | 3355 | 2,301.0 |  35 | Streeter Dr &amp; Grand Ave             |  39 | Wabash Ave &amp; Adams St          | Customer   | <!----> |   NA |\n",
       "| 21742466 | 2019-01-01 00:29:47 | 2019-01-01 00:49:15 | 5026 | 1,168.0 |  85 | Michigan Ave &amp; Oak St               | 329 | Lake Shore Dr &amp; Diversey Pkwy  | Subscriber | Male   | 1959 |\n",
       "| 21742467 | 2019-01-01 00:30:48 | 2019-01-01 00:38:42 | 1998 | 474.0   | 289 | Wells St &amp; Concord Ln               | 313 | Lakeview Ave &amp; Fullerton Pkwy  | Subscriber | Male   | 1994 |\n",
       "| 21742468 | 2019-01-01 00:33:09 | 2019-01-01 00:50:25 | 2630 | 1,036.0 |  13 | Wilton Ave &amp; Diversey Pkwy          |  61 | Wood St &amp; Milwaukee Ave        | Subscriber | Male   | 1991 |\n",
       "| 21742469 | 2019-01-01 00:34:35 | 2019-01-01 00:38:25 | 3722 | 230.0   | 520 | Greenview Ave &amp; Jarvis Ave          | 523 | Eastlake Ter &amp; Rogers Ave      | Subscriber | Male   | 1961 |\n",
       "| 21742471 | 2019-01-01 00:38:11 | 2019-01-01 00:50:38 | 1166 | 747.0   | 256 | Broadway &amp; Sheridan Rd              | 297 | Paulina St &amp; Montrose Ave      | Subscriber | Male   | 1968 |\n",
       "| 21742472 | 2019-01-01 00:38:47 | 2019-01-01 00:50:38 | 1704 | 711.0   | 256 | Broadway &amp; Sheridan Rd              | 297 | Paulina St &amp; Montrose Ave      | Subscriber | Male   | 1964 |\n",
       "| 21742473 | 2019-01-01 00:40:16 | 2019-01-01 00:49:29 | 1476 | 553.0   | 254 | Pine Grove Ave &amp; Irving Park Rd     | 465 | Marine Dr &amp; Ainslie St         | Subscriber | Male   | 1990 |\n",
       "| 21742474 | 2019-01-01 00:41:46 | 2019-01-01 00:50:27 | 4614 | 521.0   |  66 | Clinton St &amp; Lake St                |  52 | Michigan Ave &amp; Lake St         | Subscriber | Male   | 1994 |\n",
       "| ⋮ | ⋮ | ⋮ | ⋮ | ⋮ | ⋮ | ⋮ | ⋮ | ⋮ | ⋮ | ⋮ | ⋮ |\n",
       "| 22178488 | 2019-03-31 22:51:02 | 2019-03-31 22:54:00 | 4602 | 178.0 | 460 | Clark St &amp; Bryn Mawr Ave            | 461 | Broadway &amp; Ridge Ave                 | Subscriber | Male   | 1986 |\n",
       "| 22178489 | 2019-03-31 22:54:00 | 2019-03-31 23:02:49 | 4151 | 529.0 |  47 | State St &amp; Kinzie St                |  26 | McClurg Ct &amp; Illinois St             | Subscriber | Male   | 1990 |\n",
       "| 22178490 | 2019-03-31 22:55:28 | 2019-03-31 23:02:10 | 3833 | 402.0 | 108 | Halsted St &amp; Polk St                |  19 | Loomis St &amp; Taylor St (*)            | Subscriber | Male   | 1992 |\n",
       "| 22178491 | 2019-03-31 22:58:00 | 2019-03-31 23:06:12 | 1374 | 492.0 | 108 | Halsted St &amp; Polk St                |  41 | Federal St &amp; Polk St                 | Subscriber | Male   | 1992 |\n",
       "| 22178492 | 2019-03-31 22:59:35 | 2019-03-31 23:01:38 | 3723 | 123.0 |  66 | Clinton St &amp; Lake St                |  77 | Clinton St &amp; Madison St              | Subscriber | Female | 1985 |\n",
       "| 22178493 | 2019-03-31 23:00:17 | 2019-03-31 23:10:52 | 2331 | 635.0 |  51 | Clark St &amp; Randolph St              | 364 | Larrabee St &amp; Oak St                 | Subscriber | Male   | 1972 |\n",
       "| 22178494 | 2019-03-31 23:00:28 | 2019-03-31 23:09:20 | 1312 | 532.0 |  98 | LaSalle St &amp; Washington St          |  22 | May St &amp; Taylor St                   | Customer   | Male   | 1993 |\n",
       "| 22178495 | 2019-03-31 23:00:43 | 2019-03-31 23:13:04 | 6205 | 741.0 | 301 | Clark St &amp; Schiller St              | 115 | Sheffield Ave &amp; Wellington Ave       | Subscriber | Male   | 1988 |\n",
       "| 22178502 | 2019-03-31 23:03:01 | 2019-03-31 23:15:20 | 3360 | 739.0 | 295 | Broadway &amp; Argyle St                | 451 | Sheridan Rd &amp; Loyola Ave             | Subscriber | Male   | 1992 |\n",
       "| 22178503 | 2019-03-31 23:09:40 | 2019-03-31 23:19:30 | 6416 | 590.0 | 114 | Sheffield Ave &amp; Waveland Ave        | 330 | Lincoln Ave &amp; Addison St             | Subscriber | Female | 1985 |\n",
       "| 22178504 | 2019-03-31 23:10:19 | 2019-03-31 23:21:33 | 3767 | 674.0 |  50 | Clark St &amp; Ida B Wells Dr           |  50 | Clark St &amp; Ida B Wells Dr            | Subscriber | Male   | 1957 |\n",
       "| 22178505 | 2019-03-31 23:11:15 | 2019-03-31 23:20:27 | 1646 | 552.0 | 111 | Sedgwick St &amp; Huron St              | 301 | Clark St &amp; Schiller St               | Subscriber | Male   | 1994 |\n",
       "| 22178506 | 2019-03-31 23:15:53 | 2019-03-31 23:20:27 |  632 | 274.0 |  16 | Paulina Ave &amp; North Ave             | 158 | Milwaukee Ave &amp; Wabansia Ave         | Subscriber | Male   | 1991 |\n",
       "| 22178507 | 2019-03-31 23:16:57 | 2019-03-31 23:22:42 | 1537 | 345.0 | 173 | Mies van der Rohe Way &amp; Chicago Ave | 172 | Rush St &amp; Cedar St                   | Subscriber | Male   | 1980 |\n",
       "| 22178508 | 2019-03-31 23:18:42 | 2019-03-31 23:30:40 | 1952 | 718.0 | 301 | Clark St &amp; Schiller St              | 210 | Ashland Ave &amp; Division St            | Subscriber | Male   | 1988 |\n",
       "| 22178509 | 2019-03-31 23:20:36 | 2019-03-31 23:28:12 | 5331 | 456.0 | 115 | Sheffield Ave &amp; Wellington Ave      | 313 | Lakeview Ave &amp; Fullerton Pkwy        | Subscriber | Male   | 1987 |\n",
       "| 22178510 | 2019-03-31 23:21:07 | 2019-03-31 23:25:12 |   67 | 245.0 | 325 | Clark St &amp; Winnemac Ave             | 464 | Damen Ave &amp; Foster Ave               | Subscriber | Male   | 1983 |\n",
       "| 22178515 | 2019-03-31 23:26:00 | 2019-03-31 23:37:24 | 2965 | 684.0 | 403 | Wentworth Ave &amp; 33rd St             | 263 | Rhodes Ave &amp; 32nd St                 | Subscriber | Male   | 1984 |\n",
       "| 22178516 | 2019-03-31 23:31:30 | 2019-03-31 23:35:29 | 5747 | 239.0 | 309 | Leavitt St &amp; Armitage Ave           | 219 | Damen Ave &amp; Cortland St              | Subscriber | Male   | 1970 |\n",
       "| 22178517 | 2019-03-31 23:32:54 | 2019-03-31 23:37:50 | 2846 | 296.0 | 181 | LaSalle St &amp; Illinois St            |  24 | Fairbanks Ct &amp; Grand Ave             | Customer   | <!----> |   NA |\n",
       "| 22178518 | 2019-03-31 23:33:02 | 2019-03-31 23:43:15 | 2772 | 613.0 | 210 | Ashland Ave &amp; Division St           | 210 | Ashland Ave &amp; Division St            | Subscriber | Male   | 1972 |\n",
       "| 22178519 | 2019-03-31 23:33:14 | 2019-03-31 23:37:40 | 4304 | 266.0 | 181 | LaSalle St &amp; Illinois St            |  24 | Fairbanks Ct &amp; Grand Ave             | Customer   | <!----> |   NA |\n",
       "| 22178520 | 2019-03-31 23:34:08 | 2019-03-31 23:38:07 |  667 | 239.0 | 199 | Wabash Ave &amp; Grand Ave              |  26 | McClurg Ct &amp; Illinois St             | Subscriber | Female | 1984 |\n",
       "| 22178521 | 2019-03-31 23:39:48 | 2019-03-31 23:41:41 | 4814 | 113.0 | 198 | Green St &amp; Madison St               | 233 | Sangamon St &amp; Washington Blvd (*)    | Subscriber | Male   | 1971 |\n",
       "| 22178522 | 2019-03-31 23:47:05 | 2019-03-31 23:51:35 | 3873 | 270.0 |  69 | Damen Ave &amp; Pierce Ave              | 183 | Damen Ave &amp; Thomas St (Augusta Blvd) | Subscriber | Male   | 1985 |\n",
       "| 22178524 | 2019-03-31 23:51:32 | 2019-04-01 00:04:09 | 1501 | 757.0 |  38 | Clark St &amp; Lake St                  |  29 | Noble St &amp; Milwaukee Ave             | Subscriber | Male   | 1993 |\n",
       "| 22178525 | 2019-03-31 23:52:37 | 2019-03-31 23:58:09 | 3270 | 332.0 | 129 | Blue Island Ave &amp; 18th St           | 202 | Halsted St &amp; 18th St                 | Subscriber | Male   | 1992 |\n",
       "| 22178526 | 2019-03-31 23:52:38 | 2019-04-01 00:06:44 | 3584 | 846.0 | 283 | LaSalle St &amp; Jackson Blvd           | 273 | Michigan Ave &amp; 18th St               | Subscriber | Male   | 1984 |\n",
       "| 22178527 | 2019-03-31 23:53:08 | 2019-03-31 23:56:06 | 4384 | 178.0 | 321 | Wabash Ave &amp; 9th St                 |  39 | Wabash Ave &amp; Adams St                | Subscriber | Male   | 1969 |\n",
       "| 22178528 | 2019-03-31 23:53:48 | 2019-04-01 00:01:16 | 5589 | 448.0 | 248 | Woodlawn Ave &amp; 55th St              | 247 | Shore Dr &amp; 55th St                   | Subscriber | Male   | 1998 |\n",
       "\n"
      ],
      "text/plain": [
       "       id_viaje empezo              termino             id_bici tripduration\n",
       "1      21742443 2019-01-01 00:04:37 2019-01-01 00:11:07 2167    390.0       \n",
       "2      21742444 2019-01-01 00:08:13 2019-01-01 00:15:34 4386    441.0       \n",
       "3      21742445 2019-01-01 00:13:23 2019-01-01 00:27:12 1524    829.0       \n",
       "4      21742446 2019-01-01 00:13:45 2019-01-01 00:43:28  252    1,783.0     \n",
       "5      21742447 2019-01-01 00:14:52 2019-01-01 00:20:56 1170    364.0       \n",
       "6      21742448 2019-01-01 00:15:33 2019-01-01 00:19:09 2437    216.0       \n",
       "7      21742449 2019-01-01 00:16:06 2019-01-01 00:19:03 2708    177.0       \n",
       "8      21742450 2019-01-01 00:18:41 2019-01-01 00:20:21 2796    100.0       \n",
       "9      21742451 2019-01-01 00:18:43 2019-01-01 00:47:30 6205    1,727.0     \n",
       "10     21742452 2019-01-01 00:19:18 2019-01-01 00:24:54 3939    336.0       \n",
       "11     21742453 2019-01-01 00:20:34 2019-01-01 00:35:20 6243    886.0       \n",
       "12     21742454 2019-01-01 00:21:52 2019-01-01 00:32:45 6300    653.0       \n",
       "13     21742455 2019-01-01 00:23:04 2019-01-01 00:33:05 3029    601.0       \n",
       "14     21742456 2019-01-01 00:23:43 2019-01-01 00:33:05   84    562.0       \n",
       "15     21742457 2019-01-01 00:23:54 2019-01-01 00:39:00 5019    906.0       \n",
       "16     21742458 2019-01-01 00:24:08 2019-01-01 00:39:00 5526    892.0       \n",
       "17     21742459 2019-01-01 00:24:13 2019-01-01 00:31:00 3373    407.0       \n",
       "18     21742460 2019-01-01 00:24:27 2019-01-01 00:47:03 5777    1,356.0     \n",
       "19     21742461 2019-01-01 00:25:28 2019-01-01 00:27:10 3940    102.0       \n",
       "20     21742463 2019-01-01 00:29:19 2019-01-01 01:08:12 3914    2,333.0     \n",
       "21     21742464 2019-01-01 00:29:21 2019-01-01 00:45:21  140    960.0       \n",
       "22     21742465 2019-01-01 00:29:28 2019-01-01 01:07:49 3355    2,301.0     \n",
       "23     21742466 2019-01-01 00:29:47 2019-01-01 00:49:15 5026    1,168.0     \n",
       "24     21742467 2019-01-01 00:30:48 2019-01-01 00:38:42 1998    474.0       \n",
       "25     21742468 2019-01-01 00:33:09 2019-01-01 00:50:25 2630    1,036.0     \n",
       "26     21742469 2019-01-01 00:34:35 2019-01-01 00:38:25 3722    230.0       \n",
       "27     21742471 2019-01-01 00:38:11 2019-01-01 00:50:38 1166    747.0       \n",
       "28     21742472 2019-01-01 00:38:47 2019-01-01 00:50:38 1704    711.0       \n",
       "29     21742473 2019-01-01 00:40:16 2019-01-01 00:49:29 1476    553.0       \n",
       "30     21742474 2019-01-01 00:41:46 2019-01-01 00:50:27 4614    521.0       \n",
       "⋮      ⋮        ⋮                   ⋮                   ⋮       ⋮           \n",
       "365040 22178488 2019-03-31 22:51:02 2019-03-31 22:54:00 4602    178.0       \n",
       "365041 22178489 2019-03-31 22:54:00 2019-03-31 23:02:49 4151    529.0       \n",
       "365042 22178490 2019-03-31 22:55:28 2019-03-31 23:02:10 3833    402.0       \n",
       "365043 22178491 2019-03-31 22:58:00 2019-03-31 23:06:12 1374    492.0       \n",
       "365044 22178492 2019-03-31 22:59:35 2019-03-31 23:01:38 3723    123.0       \n",
       "365045 22178493 2019-03-31 23:00:17 2019-03-31 23:10:52 2331    635.0       \n",
       "365046 22178494 2019-03-31 23:00:28 2019-03-31 23:09:20 1312    532.0       \n",
       "365047 22178495 2019-03-31 23:00:43 2019-03-31 23:13:04 6205    741.0       \n",
       "365048 22178502 2019-03-31 23:03:01 2019-03-31 23:15:20 3360    739.0       \n",
       "365049 22178503 2019-03-31 23:09:40 2019-03-31 23:19:30 6416    590.0       \n",
       "365050 22178504 2019-03-31 23:10:19 2019-03-31 23:21:33 3767    674.0       \n",
       "365051 22178505 2019-03-31 23:11:15 2019-03-31 23:20:27 1646    552.0       \n",
       "365052 22178506 2019-03-31 23:15:53 2019-03-31 23:20:27  632    274.0       \n",
       "365053 22178507 2019-03-31 23:16:57 2019-03-31 23:22:42 1537    345.0       \n",
       "365054 22178508 2019-03-31 23:18:42 2019-03-31 23:30:40 1952    718.0       \n",
       "365055 22178509 2019-03-31 23:20:36 2019-03-31 23:28:12 5331    456.0       \n",
       "365056 22178510 2019-03-31 23:21:07 2019-03-31 23:25:12   67    245.0       \n",
       "365057 22178515 2019-03-31 23:26:00 2019-03-31 23:37:24 2965    684.0       \n",
       "365058 22178516 2019-03-31 23:31:30 2019-03-31 23:35:29 5747    239.0       \n",
       "365059 22178517 2019-03-31 23:32:54 2019-03-31 23:37:50 2846    296.0       \n",
       "365060 22178518 2019-03-31 23:33:02 2019-03-31 23:43:15 2772    613.0       \n",
       "365061 22178519 2019-03-31 23:33:14 2019-03-31 23:37:40 4304    266.0       \n",
       "365062 22178520 2019-03-31 23:34:08 2019-03-31 23:38:07  667    239.0       \n",
       "365063 22178521 2019-03-31 23:39:48 2019-03-31 23:41:41 4814    113.0       \n",
       "365064 22178522 2019-03-31 23:47:05 2019-03-31 23:51:35 3873    270.0       \n",
       "365065 22178524 2019-03-31 23:51:32 2019-04-01 00:04:09 1501    757.0       \n",
       "365066 22178525 2019-03-31 23:52:37 2019-03-31 23:58:09 3270    332.0       \n",
       "365067 22178526 2019-03-31 23:52:38 2019-04-01 00:06:44 3584    846.0       \n",
       "365068 22178527 2019-03-31 23:53:08 2019-03-31 23:56:06 4384    178.0       \n",
       "365069 22178528 2019-03-31 23:53:48 2019-04-01 00:01:16 5589    448.0       \n",
       "       id_estacion_inicial estacion_partida                   \n",
       "1      199                 Wabash Ave & Grand Ave             \n",
       "2       44                 State St & Randolph St             \n",
       "3       15                 Racine Ave & 18th St               \n",
       "4      123                 California Ave & Milwaukee Ave     \n",
       "5      173                 Mies van der Rohe Way & Chicago Ave\n",
       "6       98                 LaSalle St & Washington St         \n",
       "7       98                 LaSalle St & Washington St         \n",
       "8      211                 St. Clair St & Erie St             \n",
       "9      150                 Fort Dearborn Dr & 31st St         \n",
       "10     268                 Lake Shore Dr & North Blvd         \n",
       "11     299                 Halsted St & Roscoe St             \n",
       "12     204                 Prairie Ave & Garfield Blvd        \n",
       "13      90                 Millennium Park                    \n",
       "14      90                 Millennium Park                    \n",
       "15     289                 Wells St & Concord Ln              \n",
       "16     289                 Wells St & Concord Ln              \n",
       "17     152                 Lincoln Ave & Diversey Pkwy        \n",
       "18     268                 Lake Shore Dr & North Blvd         \n",
       "19      35                 Streeter Dr & Grand Ave            \n",
       "20      35                 Streeter Dr & Grand Ave            \n",
       "21      47                 State St & Kinzie St               \n",
       "22      35                 Streeter Dr & Grand Ave            \n",
       "23      85                 Michigan Ave & Oak St              \n",
       "24     289                 Wells St & Concord Ln              \n",
       "25      13                 Wilton Ave & Diversey Pkwy         \n",
       "26     520                 Greenview Ave & Jarvis Ave         \n",
       "27     256                 Broadway & Sheridan Rd             \n",
       "28     256                 Broadway & Sheridan Rd             \n",
       "29     254                 Pine Grove Ave & Irving Park Rd    \n",
       "30      66                 Clinton St & Lake St               \n",
       "⋮      ⋮                   ⋮                                  \n",
       "365040 460                 Clark St & Bryn Mawr Ave           \n",
       "365041  47                 State St & Kinzie St               \n",
       "365042 108                 Halsted St & Polk St               \n",
       "365043 108                 Halsted St & Polk St               \n",
       "365044  66                 Clinton St & Lake St               \n",
       "365045  51                 Clark St & Randolph St             \n",
       "365046  98                 LaSalle St & Washington St         \n",
       "365047 301                 Clark St & Schiller St             \n",
       "365048 295                 Broadway & Argyle St               \n",
       "365049 114                 Sheffield Ave & Waveland Ave       \n",
       "365050  50                 Clark St & Ida B Wells Dr          \n",
       "365051 111                 Sedgwick St & Huron St             \n",
       "365052  16                 Paulina Ave & North Ave            \n",
       "365053 173                 Mies van der Rohe Way & Chicago Ave\n",
       "365054 301                 Clark St & Schiller St             \n",
       "365055 115                 Sheffield Ave & Wellington Ave     \n",
       "365056 325                 Clark St & Winnemac Ave            \n",
       "365057 403                 Wentworth Ave & 33rd St            \n",
       "365058 309                 Leavitt St & Armitage Ave          \n",
       "365059 181                 LaSalle St & Illinois St           \n",
       "365060 210                 Ashland Ave & Division St          \n",
       "365061 181                 LaSalle St & Illinois St           \n",
       "365062 199                 Wabash Ave & Grand Ave             \n",
       "365063 198                 Green St & Madison St              \n",
       "365064  69                 Damen Ave & Pierce Ave             \n",
       "365065  38                 Clark St & Lake St                 \n",
       "365066 129                 Blue Island Ave & 18th St          \n",
       "365067 283                 LaSalle St & Jackson Blvd          \n",
       "365068 321                 Wabash Ave & 9th St                \n",
       "365069 248                 Woodlawn Ave & 55th St             \n",
       "       id_estacion_llegada estacion_llegada                     membrecia \n",
       "1       84                 Milwaukee Ave & Grand Ave            Subscriber\n",
       "2      624                 Dearborn St & Van Buren St (*)       Subscriber\n",
       "3      644                 Western Ave & Fillmore St (*)        Subscriber\n",
       "4      176                 Clark St & Elm St                    Subscriber\n",
       "5       35                 Streeter Dr & Grand Ave              Subscriber\n",
       "6       49                 Dearborn St & Monroe St              Subscriber\n",
       "7       49                 Dearborn St & Monroe St              Subscriber\n",
       "8      142                 McClurg Ct & Erie St                 Subscriber\n",
       "9      148                 State St & 33rd St                   Subscriber\n",
       "10     141                 Clark St & Lincoln Ave               Subscriber\n",
       "11     295                 Broadway & Argyle St                 Subscriber\n",
       "12     420                 Ellis Ave & 55th St                  Subscriber\n",
       "13     255                 Indiana Ave & Roosevelt Rd           Subscriber\n",
       "14     255                 Indiana Ave & Roosevelt Rd           Customer  \n",
       "15     324                 Stockton Dr & Wrightwood Ave         Subscriber\n",
       "16     324                 Stockton Dr & Wrightwood Ave         Subscriber\n",
       "17     166                 Ashland Ave & Wrightwood Ave         Subscriber\n",
       "18     319                 Greenview Ave & Diversey Pkwy        Customer  \n",
       "19      35                 Streeter Dr & Grand Ave              Subscriber\n",
       "20      39                 Wabash Ave & Adams St                Customer  \n",
       "21     111                 Sedgwick St & Huron St               Subscriber\n",
       "22      39                 Wabash Ave & Adams St                Customer  \n",
       "23     329                 Lake Shore Dr & Diversey Pkwy        Subscriber\n",
       "24     313                 Lakeview Ave & Fullerton Pkwy        Subscriber\n",
       "25      61                 Wood St & Milwaukee Ave              Subscriber\n",
       "26     523                 Eastlake Ter & Rogers Ave            Subscriber\n",
       "27     297                 Paulina St & Montrose Ave            Subscriber\n",
       "28     297                 Paulina St & Montrose Ave            Subscriber\n",
       "29     465                 Marine Dr & Ainslie St               Subscriber\n",
       "30      52                 Michigan Ave & Lake St               Subscriber\n",
       "⋮      ⋮                   ⋮                                    ⋮         \n",
       "365040 461                 Broadway & Ridge Ave                 Subscriber\n",
       "365041  26                 McClurg Ct & Illinois St             Subscriber\n",
       "365042  19                 Loomis St & Taylor St (*)            Subscriber\n",
       "365043  41                 Federal St & Polk St                 Subscriber\n",
       "365044  77                 Clinton St & Madison St              Subscriber\n",
       "365045 364                 Larrabee St & Oak St                 Subscriber\n",
       "365046  22                 May St & Taylor St                   Customer  \n",
       "365047 115                 Sheffield Ave & Wellington Ave       Subscriber\n",
       "365048 451                 Sheridan Rd & Loyola Ave             Subscriber\n",
       "365049 330                 Lincoln Ave & Addison St             Subscriber\n",
       "365050  50                 Clark St & Ida B Wells Dr            Subscriber\n",
       "365051 301                 Clark St & Schiller St               Subscriber\n",
       "365052 158                 Milwaukee Ave & Wabansia Ave         Subscriber\n",
       "365053 172                 Rush St & Cedar St                   Subscriber\n",
       "365054 210                 Ashland Ave & Division St            Subscriber\n",
       "365055 313                 Lakeview Ave & Fullerton Pkwy        Subscriber\n",
       "365056 464                 Damen Ave & Foster Ave               Subscriber\n",
       "365057 263                 Rhodes Ave & 32nd St                 Subscriber\n",
       "365058 219                 Damen Ave & Cortland St              Subscriber\n",
       "365059  24                 Fairbanks Ct & Grand Ave             Customer  \n",
       "365060 210                 Ashland Ave & Division St            Subscriber\n",
       "365061  24                 Fairbanks Ct & Grand Ave             Customer  \n",
       "365062  26                 McClurg Ct & Illinois St             Subscriber\n",
       "365063 233                 Sangamon St & Washington Blvd (*)    Subscriber\n",
       "365064 183                 Damen Ave & Thomas St (Augusta Blvd) Subscriber\n",
       "365065  29                 Noble St & Milwaukee Ave             Subscriber\n",
       "365066 202                 Halsted St & 18th St                 Subscriber\n",
       "365067 273                 Michigan Ave & 18th St               Subscriber\n",
       "365068  39                 Wabash Ave & Adams St                Subscriber\n",
       "365069 247                 Shore Dr & 55th St                   Subscriber\n",
       "       gender birthyear\n",
       "1      Male   1989     \n",
       "2      Female 1990     \n",
       "3      Female 1994     \n",
       "4      Male   1993     \n",
       "5      Male   1994     \n",
       "6      Female 1983     \n",
       "7      Male   1984     \n",
       "8      Male   1990     \n",
       "9      Male   1995     \n",
       "10     Male   1996     \n",
       "11     Male   1994     \n",
       "12     Female 1994     \n",
       "13     Male   1986     \n",
       "14     Female 1990     \n",
       "15     Female 1989     \n",
       "16     Female 1989     \n",
       "17     Male   1967     \n",
       "18     Female 1990     \n",
       "19     Male   1985     \n",
       "20              NA     \n",
       "21     Male   1957     \n",
       "22              NA     \n",
       "23     Male   1959     \n",
       "24     Male   1994     \n",
       "25     Male   1991     \n",
       "26     Male   1961     \n",
       "27     Male   1968     \n",
       "28     Male   1964     \n",
       "29     Male   1990     \n",
       "30     Male   1994     \n",
       "⋮      ⋮      ⋮        \n",
       "365040 Male   1986     \n",
       "365041 Male   1990     \n",
       "365042 Male   1992     \n",
       "365043 Male   1992     \n",
       "365044 Female 1985     \n",
       "365045 Male   1972     \n",
       "365046 Male   1993     \n",
       "365047 Male   1988     \n",
       "365048 Male   1992     \n",
       "365049 Female 1985     \n",
       "365050 Male   1957     \n",
       "365051 Male   1994     \n",
       "365052 Male   1991     \n",
       "365053 Male   1980     \n",
       "365054 Male   1988     \n",
       "365055 Male   1987     \n",
       "365056 Male   1983     \n",
       "365057 Male   1984     \n",
       "365058 Male   1970     \n",
       "365059          NA     \n",
       "365060 Male   1972     \n",
       "365061          NA     \n",
       "365062 Female 1984     \n",
       "365063 Male   1971     \n",
       "365064 Male   1985     \n",
       "365065 Male   1993     \n",
       "365066 Male   1992     \n",
       "365067 Male   1984     \n",
       "365068 Male   1969     \n",
       "365069 Male   1998     "
      ]
     },
     "metadata": {},
     "output_type": "display_data"
    },
    {
     "data": {
      "text/html": [
       "<table class=\"dataframe\">\n",
       "<caption>A data.frame: 1108163 × 12</caption>\n",
       "<thead>\n",
       "\t<tr><th scope=col>id_viaje</th><th scope=col>empezo</th><th scope=col>termino</th><th scope=col>id_bici</th><th scope=col>X01...Rental.Details.Duration.In.Seconds.Uncapped</th><th scope=col>id_estacion_inicial</th><th scope=col>estacion_partida</th><th scope=col>id_estacion_llegada</th><th scope=col>estacion_llegada</th><th scope=col>membrecia</th><th scope=col>Member.Gender</th><th scope=col>X05...Member.Details.Member.Birthday.Year</th></tr>\n",
       "\t<tr><th scope=col>&lt;int&gt;</th><th scope=col>&lt;chr&gt;</th><th scope=col>&lt;chr&gt;</th><th scope=col>&lt;int&gt;</th><th scope=col>&lt;chr&gt;</th><th scope=col>&lt;int&gt;</th><th scope=col>&lt;chr&gt;</th><th scope=col>&lt;int&gt;</th><th scope=col>&lt;chr&gt;</th><th scope=col>&lt;chr&gt;</th><th scope=col>&lt;chr&gt;</th><th scope=col>&lt;int&gt;</th></tr>\n",
       "</thead>\n",
       "<tbody>\n",
       "\t<tr><td>22178529</td><td>2019-04-01 00:02:22</td><td>2019-04-01 00:09:48</td><td>6251</td><td><span style=white-space:pre-wrap>446.0  </span></td><td> 81</td><td><span style=white-space:pre-wrap>Daley Center Plaza             </span></td><td> 56</td><td><span style=white-space:pre-wrap>Desplaines St &amp; Kinzie St           </span></td><td>Subscriber</td><td><span style=white-space:pre-wrap>Male  </span></td><td>1975</td></tr>\n",
       "\t<tr><td>22178530</td><td>2019-04-01 00:03:02</td><td>2019-04-01 00:20:30</td><td>6226</td><td>1,048.0</td><td>317</td><td><span style=white-space:pre-wrap>Wood St &amp; Taylor St            </span></td><td> 59</td><td><span style=white-space:pre-wrap>Wabash Ave &amp; Roosevelt Rd           </span></td><td>Subscriber</td><td>Female</td><td>1984</td></tr>\n",
       "\t<tr><td>22178531</td><td>2019-04-01 00:11:07</td><td>2019-04-01 00:15:19</td><td>5649</td><td><span style=white-space:pre-wrap>252.0  </span></td><td>283</td><td><span style=white-space:pre-wrap>LaSalle St &amp; Jackson Blvd      </span></td><td>174</td><td><span style=white-space:pre-wrap>Canal St &amp; Madison St               </span></td><td>Subscriber</td><td><span style=white-space:pre-wrap>Male  </span></td><td>1990</td></tr>\n",
       "\t<tr><td>22178532</td><td>2019-04-01 00:13:01</td><td>2019-04-01 00:18:58</td><td>4151</td><td><span style=white-space:pre-wrap>357.0  </span></td><td> 26</td><td><span style=white-space:pre-wrap>McClurg Ct &amp; Illinois St       </span></td><td>133</td><td><span style=white-space:pre-wrap>Kingsbury St &amp; Kinzie St            </span></td><td>Subscriber</td><td><span style=white-space:pre-wrap>Male  </span></td><td>1993</td></tr>\n",
       "\t<tr><td>22178533</td><td>2019-04-01 00:19:26</td><td>2019-04-01 00:36:13</td><td>3270</td><td>1,007.0</td><td>202</td><td><span style=white-space:pre-wrap>Halsted St &amp; 18th St           </span></td><td>129</td><td><span style=white-space:pre-wrap>Blue Island Ave &amp; 18th St           </span></td><td>Subscriber</td><td><span style=white-space:pre-wrap>Male  </span></td><td>1992</td></tr>\n",
       "\t<tr><td>22178534</td><td>2019-04-01 00:19:39</td><td>2019-04-01 00:23:56</td><td>3123</td><td><span style=white-space:pre-wrap>257.0  </span></td><td>420</td><td><span style=white-space:pre-wrap>Ellis Ave &amp; 55th St            </span></td><td>426</td><td><span style=white-space:pre-wrap>Ellis Ave &amp; 60th St                 </span></td><td>Subscriber</td><td><span style=white-space:pre-wrap>Male  </span></td><td>1999</td></tr>\n",
       "\t<tr><td>22178535</td><td>2019-04-01 00:26:33</td><td>2019-04-01 00:35:41</td><td>6418</td><td><span style=white-space:pre-wrap>548.0  </span></td><td>503</td><td><span style=white-space:pre-wrap>Drake Ave &amp; Fullerton Ave      </span></td><td>500</td><td><span style=white-space:pre-wrap>Central Park Ave &amp; Elbridge Ave     </span></td><td>Subscriber</td><td><span style=white-space:pre-wrap>Male  </span></td><td>1969</td></tr>\n",
       "\t<tr><td>22178536</td><td>2019-04-01 00:29:48</td><td>2019-04-01 00:36:11</td><td>4513</td><td><span style=white-space:pre-wrap>383.0  </span></td><td>260</td><td><span style=white-space:pre-wrap>Kedzie Ave &amp; Milwaukee Ave     </span></td><td>499</td><td><span style=white-space:pre-wrap>Kosciuszko Park                     </span></td><td>Subscriber</td><td><span style=white-space:pre-wrap>Male  </span></td><td>1991</td></tr>\n",
       "\t<tr><td>22178537</td><td>2019-04-01 00:32:07</td><td>2019-04-01 01:07:44</td><td>3280</td><td>2,137.0</td><td>211</td><td><span style=white-space:pre-wrap>St. Clair St &amp; Erie St         </span></td><td>211</td><td><span style=white-space:pre-wrap>St. Clair St &amp; Erie St              </span></td><td><span style=white-space:pre-wrap>Customer  </span></td><td><span style=white-space:pre-wrap>      </span></td><td><span style=white-space:pre-wrap>  NA</span></td></tr>\n",
       "\t<tr><td>22178538</td><td>2019-04-01 00:32:19</td><td>2019-04-01 01:07:39</td><td>5534</td><td>2,120.0</td><td>211</td><td><span style=white-space:pre-wrap>St. Clair St &amp; Erie St         </span></td><td>211</td><td><span style=white-space:pre-wrap>St. Clair St &amp; Erie St              </span></td><td><span style=white-space:pre-wrap>Customer  </span></td><td><span style=white-space:pre-wrap>      </span></td><td><span style=white-space:pre-wrap>  NA</span></td></tr>\n",
       "\t<tr><td>22178539</td><td>2019-04-01 00:36:20</td><td>2019-04-01 00:41:17</td><td>4666</td><td><span style=white-space:pre-wrap>297.0  </span></td><td>304</td><td><span style=white-space:pre-wrap>Broadway &amp; Waveland Ave        </span></td><td>232</td><td><span style=white-space:pre-wrap>Pine Grove Ave &amp; Waveland Ave       </span></td><td>Subscriber</td><td><span style=white-space:pre-wrap>Male  </span></td><td>1975</td></tr>\n",
       "\t<tr><td>22178540</td><td>2019-04-01 00:58:38</td><td>2019-04-01 01:04:43</td><td>3735</td><td><span style=white-space:pre-wrap>365.0  </span></td><td> 37</td><td><span style=white-space:pre-wrap>Dearborn St &amp; Adams St         </span></td><td>337</td><td><span style=white-space:pre-wrap>Clark St &amp; Chicago Ave              </span></td><td>Subscriber</td><td><span style=white-space:pre-wrap>Male  </span></td><td>1991</td></tr>\n",
       "\t<tr><td>22178541</td><td>2019-04-01 01:09:41</td><td>2019-04-01 01:12:26</td><td>6108</td><td><span style=white-space:pre-wrap>165.0  </span></td><td> 75</td><td><span style=white-space:pre-wrap>Canal St &amp; Jackson Blvd        </span></td><td> 36</td><td><span style=white-space:pre-wrap>Franklin St &amp; Jackson Blvd          </span></td><td>Subscriber</td><td><span style=white-space:pre-wrap>Male  </span></td><td>1990</td></tr>\n",
       "\t<tr><td>22178542</td><td>2019-04-01 01:13:15</td><td>2019-04-01 01:20:38</td><td>6157</td><td><span style=white-space:pre-wrap>443.0  </span></td><td>334</td><td><span style=white-space:pre-wrap>Lake Shore Dr &amp; Belmont Ave    </span></td><td>256</td><td><span style=white-space:pre-wrap>Broadway &amp; Sheridan Rd              </span></td><td>Subscriber</td><td><span style=white-space:pre-wrap>Male  </span></td><td>1989</td></tr>\n",
       "\t<tr><td>22178543</td><td>2019-04-01 01:18:09</td><td>2019-04-01 01:23:02</td><td>4384</td><td><span style=white-space:pre-wrap>293.0  </span></td><td> 39</td><td><span style=white-space:pre-wrap>Wabash Ave &amp; Adams St          </span></td><td>255</td><td><span style=white-space:pre-wrap>Indiana Ave &amp; Roosevelt Rd          </span></td><td>Subscriber</td><td><span style=white-space:pre-wrap>Male  </span></td><td>1969</td></tr>\n",
       "\t<tr><td>22178544</td><td>2019-04-01 01:28:21</td><td>2019-04-01 01:31:45</td><td>4022</td><td><span style=white-space:pre-wrap>204.0  </span></td><td>287</td><td><span style=white-space:pre-wrap>Franklin St &amp; Monroe St        </span></td><td> 89</td><td>Financial Pl &amp; Ida B Wells Dr (Temp)</td><td>Subscriber</td><td><span style=white-space:pre-wrap>Male  </span></td><td>1994</td></tr>\n",
       "\t<tr><td>22178545</td><td>2019-04-01 01:31:35</td><td>2019-04-01 01:35:28</td><td>2748</td><td><span style=white-space:pre-wrap>233.0  </span></td><td>148</td><td><span style=white-space:pre-wrap>State St &amp; 33rd St             </span></td><td>272</td><td><span style=white-space:pre-wrap>Indiana Ave &amp; 31st St               </span></td><td>Subscriber</td><td>Female</td><td>1989</td></tr>\n",
       "\t<tr><td>22178546</td><td>2019-04-01 01:53:56</td><td>2019-04-01 02:03:02</td><td>5351</td><td><span style=white-space:pre-wrap>546.0  </span></td><td> 59</td><td><span style=white-space:pre-wrap>Wabash Ave &amp; Roosevelt Rd      </span></td><td> 36</td><td><span style=white-space:pre-wrap>Franklin St &amp; Jackson Blvd          </span></td><td>Subscriber</td><td><span style=white-space:pre-wrap>Male  </span></td><td>1958</td></tr>\n",
       "\t<tr><td>22178547</td><td>2019-04-01 02:10:56</td><td>2019-04-01 02:31:45</td><td>1406</td><td>1,249.0</td><td>240</td><td><span style=white-space:pre-wrap>Sheridan Rd &amp; Irving Park Rd   </span></td><td>325</td><td><span style=white-space:pre-wrap>Clark St &amp; Winnemac Ave             </span></td><td><span style=white-space:pre-wrap>Customer  </span></td><td><span style=white-space:pre-wrap>      </span></td><td><span style=white-space:pre-wrap>  NA</span></td></tr>\n",
       "\t<tr><td>22178548</td><td>2019-04-01 02:12:53</td><td>2019-04-01 02:16:56</td><td>3325</td><td><span style=white-space:pre-wrap>243.0  </span></td><td>430</td><td><span style=white-space:pre-wrap>MLK Jr Dr &amp; 63rd St            </span></td><td>427</td><td><span style=white-space:pre-wrap>Cottage Grove Ave &amp; 63rd St         </span></td><td>Subscriber</td><td><span style=white-space:pre-wrap>Male  </span></td><td>1985</td></tr>\n",
       "\t<tr><td>22178549</td><td>2019-04-01 02:27:02</td><td>2019-04-01 02:30:10</td><td><span style=white-space:pre-wrap>  93</span></td><td><span style=white-space:pre-wrap>188.0  </span></td><td>257</td><td><span style=white-space:pre-wrap>Lincoln Ave &amp; Waveland Ave     </span></td><td>230</td><td><span style=white-space:pre-wrap>Lincoln Ave &amp; Roscoe St             </span></td><td>Subscriber</td><td><span style=white-space:pre-wrap>Male  </span></td><td>1981</td></tr>\n",
       "\t<tr><td>22178550</td><td>2019-04-01 02:37:48</td><td>2019-04-01 02:41:35</td><td>3325</td><td><span style=white-space:pre-wrap>227.0  </span></td><td>427</td><td><span style=white-space:pre-wrap>Cottage Grove Ave &amp; 63rd St    </span></td><td>430</td><td><span style=white-space:pre-wrap>MLK Jr Dr &amp; 63rd St                 </span></td><td>Subscriber</td><td><span style=white-space:pre-wrap>Male  </span></td><td>1985</td></tr>\n",
       "\t<tr><td>22178551</td><td>2019-04-01 02:42:51</td><td>2019-04-01 02:48:26</td><td>3193</td><td><span style=white-space:pre-wrap>335.0  </span></td><td>172</td><td><span style=white-space:pre-wrap>Rush St &amp; Cedar St             </span></td><td>635</td><td><span style=white-space:pre-wrap>Fairbanks St &amp; Superior St (*)      </span></td><td>Subscriber</td><td><span style=white-space:pre-wrap>Male  </span></td><td>1992</td></tr>\n",
       "\t<tr><td>22178552</td><td>2019-04-01 02:58:12</td><td>2019-04-01 03:09:14</td><td>1167</td><td><span style=white-space:pre-wrap>662.0  </span></td><td>304</td><td><span style=white-space:pre-wrap>Broadway &amp; Waveland Ave        </span></td><td>246</td><td><span style=white-space:pre-wrap>Ashland Ave &amp; Belle Plaine Ave      </span></td><td>Subscriber</td><td>Female</td><td>1959</td></tr>\n",
       "\t<tr><td>22178554</td><td>2019-04-01 02:59:22</td><td>2019-04-01 03:09:14</td><td>6418</td><td><span style=white-space:pre-wrap>592.0  </span></td><td>500</td><td>Central Park Ave &amp; Elbridge Ave</td><td>503</td><td><span style=white-space:pre-wrap>Drake Ave &amp; Fullerton Ave           </span></td><td>Subscriber</td><td><span style=white-space:pre-wrap>Male  </span></td><td>1969</td></tr>\n",
       "\t<tr><td>22178555</td><td>2019-04-01 03:01:13</td><td>2019-04-01 03:04:39</td><td>1627</td><td><span style=white-space:pre-wrap>206.0  </span></td><td> 90</td><td><span style=white-space:pre-wrap>Millennium Park                </span></td><td> 44</td><td><span style=white-space:pre-wrap>State St &amp; Randolph St              </span></td><td>Subscriber</td><td>Female</td><td>1992</td></tr>\n",
       "\t<tr><td>22178556</td><td>2019-04-01 03:15:06</td><td>2019-04-01 03:20:10</td><td>6065</td><td><span style=white-space:pre-wrap>304.0  </span></td><td>299</td><td><span style=white-space:pre-wrap>Halsted St &amp; Roscoe St         </span></td><td>334</td><td><span style=white-space:pre-wrap>Lake Shore Dr &amp; Belmont Ave         </span></td><td>Subscriber</td><td><span style=white-space:pre-wrap>Male  </span></td><td>1989</td></tr>\n",
       "\t<tr><td>22178557</td><td>2019-04-01 03:46:31</td><td>2019-04-01 03:51:23</td><td>5578</td><td><span style=white-space:pre-wrap>292.0  </span></td><td> 15</td><td><span style=white-space:pre-wrap>Racine Ave &amp; 18th St           </span></td><td>205</td><td><span style=white-space:pre-wrap>Paulina St &amp; 18th St                </span></td><td>Subscriber</td><td><span style=white-space:pre-wrap>Male  </span></td><td>1981</td></tr>\n",
       "\t<tr><td>22178558</td><td>2019-04-01 03:46:46</td><td>2019-04-01 04:17:05</td><td>1065</td><td>1,819.0</td><td> 19</td><td><span style=white-space:pre-wrap>Loomis St &amp; Taylor St (*)      </span></td><td> 31</td><td><span style=white-space:pre-wrap>Franklin St &amp; Chicago Ave           </span></td><td>Subscriber</td><td><span style=white-space:pre-wrap>Male  </span></td><td>1997</td></tr>\n",
       "\t<tr><td>22178559</td><td>2019-04-01 04:01:10</td><td>2019-04-01 04:12:50</td><td> 268</td><td><span style=white-space:pre-wrap>700.0  </span></td><td>260</td><td><span style=white-space:pre-wrap>Kedzie Ave &amp; Milwaukee Ave     </span></td><td>485</td><td><span style=white-space:pre-wrap>Sawyer Ave &amp; Irving Park Rd         </span></td><td><span style=white-space:pre-wrap>Customer  </span></td><td><span style=white-space:pre-wrap>Male  </span></td><td>1975</td></tr>\n",
       "\t<tr><td>⋮</td><td>⋮</td><td>⋮</td><td>⋮</td><td>⋮</td><td>⋮</td><td>⋮</td><td>⋮</td><td>⋮</td><td>⋮</td><td>⋮</td><td>⋮</td></tr>\n",
       "\t<tr><td>23479349</td><td>2019-06-30 23:44:37</td><td>2019-07-01 00:10:31</td><td> 957</td><td>1,554.0</td><td><span style=white-space:pre-wrap>  2</span></td><td><span style=white-space:pre-wrap>Buckingham Fountain (Temp)   </span></td><td> 52</td><td><span style=white-space:pre-wrap>Michigan Ave &amp; Lake St              </span></td><td><span style=white-space:pre-wrap>Customer  </span></td><td><span style=white-space:pre-wrap>      </span></td><td><span style=white-space:pre-wrap>  NA</span></td></tr>\n",
       "\t<tr><td>23479350</td><td>2019-06-30 23:45:02</td><td>2019-07-01 00:10:11</td><td>5142</td><td>1,509.0</td><td><span style=white-space:pre-wrap>  2</span></td><td><span style=white-space:pre-wrap>Buckingham Fountain (Temp)   </span></td><td> 52</td><td><span style=white-space:pre-wrap>Michigan Ave &amp; Lake St              </span></td><td><span style=white-space:pre-wrap>Customer  </span></td><td><span style=white-space:pre-wrap>      </span></td><td><span style=white-space:pre-wrap>  NA</span></td></tr>\n",
       "\t<tr><td>23479351</td><td>2019-06-30 23:45:10</td><td>2019-06-30 23:54:15</td><td>5047</td><td><span style=white-space:pre-wrap>545.0  </span></td><td>300</td><td><span style=white-space:pre-wrap>Broadway &amp; Barry Ave         </span></td><td>144</td><td><span style=white-space:pre-wrap>Larrabee St &amp; Webster Ave           </span></td><td>Subscriber</td><td><span style=white-space:pre-wrap>Male  </span></td><td>1980</td></tr>\n",
       "\t<tr><td>23479353</td><td>2019-06-30 23:46:05</td><td>2019-07-01 00:17:16</td><td> 240</td><td>1,871.0</td><td> 59</td><td><span style=white-space:pre-wrap>Wabash Ave &amp; Roosevelt Rd    </span></td><td><span style=white-space:pre-wrap>  6</span></td><td><span style=white-space:pre-wrap>Dusable Harbor                      </span></td><td><span style=white-space:pre-wrap>Customer  </span></td><td>Female</td><td>1997</td></tr>\n",
       "\t<tr><td>23479354</td><td>2019-06-30 23:46:16</td><td>2019-07-01 00:17:16</td><td>5166</td><td>1,860.0</td><td> 59</td><td><span style=white-space:pre-wrap>Wabash Ave &amp; Roosevelt Rd    </span></td><td><span style=white-space:pre-wrap>  6</span></td><td><span style=white-space:pre-wrap>Dusable Harbor                      </span></td><td><span style=white-space:pre-wrap>Customer  </span></td><td>Female</td><td>1997</td></tr>\n",
       "\t<tr><td>23479355</td><td>2019-06-30 23:46:19</td><td>2019-06-30 23:55:05</td><td>2092</td><td><span style=white-space:pre-wrap>526.0  </span></td><td>299</td><td><span style=white-space:pre-wrap>Halsted St &amp; Roscoe St       </span></td><td>254</td><td><span style=white-space:pre-wrap>Pine Grove Ave &amp; Irving Park Rd     </span></td><td>Subscriber</td><td><span style=white-space:pre-wrap>Male  </span></td><td>1981</td></tr>\n",
       "\t<tr><td>23479357</td><td>2019-06-30 23:47:26</td><td>2019-07-01 00:17:15</td><td>1132</td><td>1,789.0</td><td> 59</td><td><span style=white-space:pre-wrap>Wabash Ave &amp; Roosevelt Rd    </span></td><td><span style=white-space:pre-wrap>  6</span></td><td><span style=white-space:pre-wrap>Dusable Harbor                      </span></td><td><span style=white-space:pre-wrap>Customer  </span></td><td>Female</td><td>1998</td></tr>\n",
       "\t<tr><td>23479358</td><td>2019-06-30 23:48:34</td><td>2019-07-01 00:01:29</td><td>3131</td><td><span style=white-space:pre-wrap>775.0  </span></td><td> 29</td><td><span style=white-space:pre-wrap>Noble St &amp; Milwaukee Ave     </span></td><td>123</td><td><span style=white-space:pre-wrap>California Ave &amp; Milwaukee Ave      </span></td><td>Subscriber</td><td><span style=white-space:pre-wrap>Male  </span></td><td>1987</td></tr>\n",
       "\t<tr><td>23479360</td><td>2019-06-30 23:49:18</td><td>2019-06-30 23:55:18</td><td>3597</td><td><span style=white-space:pre-wrap>360.0  </span></td><td>212</td><td><span style=white-space:pre-wrap>Wells St &amp; Hubbard St        </span></td><td> 98</td><td><span style=white-space:pre-wrap>LaSalle St &amp; Washington St          </span></td><td><span style=white-space:pre-wrap>Customer  </span></td><td><span style=white-space:pre-wrap>Male  </span></td><td>1989</td></tr>\n",
       "\t<tr><td>23479361</td><td>2019-06-30 23:49:29</td><td>2019-07-01 00:00:57</td><td>2099</td><td><span style=white-space:pre-wrap>688.0  </span></td><td>310</td><td><span style=white-space:pre-wrap>Damen Ave &amp; Charleston St    </span></td><td>210</td><td><span style=white-space:pre-wrap>Ashland Ave &amp; Division St           </span></td><td>Subscriber</td><td><span style=white-space:pre-wrap>Male  </span></td><td>1978</td></tr>\n",
       "\t<tr><td>23479362</td><td>2019-06-30 23:49:46</td><td>2019-07-01 00:31:52</td><td>6399</td><td>2,526.0</td><td>392</td><td><span style=white-space:pre-wrap>Perry Ave &amp; 69th St          </span></td><td>392</td><td><span style=white-space:pre-wrap>Perry Ave &amp; 69th St                 </span></td><td>Subscriber</td><td><span style=white-space:pre-wrap>Male  </span></td><td>1957</td></tr>\n",
       "\t<tr><td>23479364</td><td>2019-06-30 23:49:59</td><td>2019-07-01 00:04:58</td><td>1923</td><td><span style=white-space:pre-wrap>899.0  </span></td><td>228</td><td><span style=white-space:pre-wrap>Damen Ave &amp; Melrose Ave      </span></td><td>223</td><td><span style=white-space:pre-wrap>Clifton Ave &amp; Armitage Ave          </span></td><td>Subscriber</td><td><span style=white-space:pre-wrap>Male  </span></td><td>1989</td></tr>\n",
       "\t<tr><td>23479365</td><td>2019-06-30 23:49:59</td><td>2019-06-30 23:55:47</td><td>2962</td><td><span style=white-space:pre-wrap>348.0  </span></td><td> 50</td><td><span style=white-space:pre-wrap>Clark St &amp; Ida B Wells Dr    </span></td><td>321</td><td><span style=white-space:pre-wrap>Wabash Ave &amp; 9th St                 </span></td><td>Subscriber</td><td>Female</td><td>1986</td></tr>\n",
       "\t<tr><td>23479366</td><td>2019-06-30 23:50:02</td><td>2019-07-01 00:06:32</td><td>3410</td><td><span style=white-space:pre-wrap>990.0  </span></td><td>260</td><td><span style=white-space:pre-wrap>Kedzie Ave &amp; Milwaukee Ave   </span></td><td>128</td><td><span style=white-space:pre-wrap>Damen Ave &amp; Chicago Ave             </span></td><td>Subscriber</td><td><span style=white-space:pre-wrap>Male  </span></td><td>1996</td></tr>\n",
       "\t<tr><td>23479368</td><td>2019-06-30 23:51:02</td><td>2019-07-01 00:02:46</td><td> 143</td><td><span style=white-space:pre-wrap>704.0  </span></td><td> 36</td><td><span style=white-space:pre-wrap>Franklin St &amp; Jackson Blvd   </span></td><td>199</td><td><span style=white-space:pre-wrap>Wabash Ave &amp; Grand Ave              </span></td><td>Subscriber</td><td><span style=white-space:pre-wrap>Male  </span></td><td>1992</td></tr>\n",
       "\t<tr><td>23479371</td><td>2019-06-30 23:52:34</td><td>2019-07-01 00:05:48</td><td>5156</td><td><span style=white-space:pre-wrap>794.0  </span></td><td>114</td><td>Sheffield Ave &amp; Waveland Ave </td><td>324</td><td><span style=white-space:pre-wrap>Stockton Dr &amp; Wrightwood Ave        </span></td><td>Subscriber</td><td>Female</td><td>1990</td></tr>\n",
       "\t<tr><td>23479373</td><td>2019-06-30 23:53:59</td><td>2019-07-01 00:53:58</td><td> 648</td><td>3,599.0</td><td>268</td><td><span style=white-space:pre-wrap>Lake Shore Dr &amp; North Blvd   </span></td><td>220</td><td><span style=white-space:pre-wrap>Clark St &amp; Drummond Pl              </span></td><td>Subscriber</td><td><span style=white-space:pre-wrap>Male  </span></td><td>1987</td></tr>\n",
       "\t<tr><td>23479374</td><td>2019-06-30 23:54:04</td><td>2019-07-01 00:54:05</td><td>4883</td><td>3,601.0</td><td>268</td><td><span style=white-space:pre-wrap>Lake Shore Dr &amp; North Blvd   </span></td><td>220</td><td><span style=white-space:pre-wrap>Clark St &amp; Drummond Pl              </span></td><td>Subscriber</td><td>Female</td><td>1986</td></tr>\n",
       "\t<tr><td>23479376</td><td>2019-06-30 23:54:19</td><td>2019-07-01 00:04:45</td><td>1577</td><td><span style=white-space:pre-wrap>626.0  </span></td><td>227</td><td>Southport Ave &amp; Waveland Ave </td><td>632</td><td><span style=white-space:pre-wrap>Clark St &amp; Newport St               </span></td><td><span style=white-space:pre-wrap>Customer  </span></td><td><span style=white-space:pre-wrap>      </span></td><td><span style=white-space:pre-wrap>  NA</span></td></tr>\n",
       "\t<tr><td>23479377</td><td>2019-06-30 23:55:24</td><td>2019-07-01 00:04:58</td><td>1759</td><td><span style=white-space:pre-wrap>574.0  </span></td><td> 81</td><td><span style=white-space:pre-wrap>Daley Center Plaza           </span></td><td> 56</td><td><span style=white-space:pre-wrap>Desplaines St &amp; Kinzie St           </span></td><td>Subscriber</td><td><span style=white-space:pre-wrap>Male  </span></td><td>1975</td></tr>\n",
       "\t<tr><td>23479378</td><td>2019-06-30 23:55:58</td><td>2019-07-01 00:13:59</td><td> 429</td><td>1,081.0</td><td>283</td><td><span style=white-space:pre-wrap>LaSalle St &amp; Jackson Blvd    </span></td><td>273</td><td><span style=white-space:pre-wrap>Michigan Ave &amp; 18th St              </span></td><td>Subscriber</td><td><span style=white-space:pre-wrap>Male  </span></td><td>1984</td></tr>\n",
       "\t<tr><td>23479379</td><td>2019-06-30 23:56:00</td><td>2019-06-30 23:58:49</td><td>4889</td><td><span style=white-space:pre-wrap>169.0  </span></td><td>225</td><td><span style=white-space:pre-wrap>Halsted St &amp; Dickens Ave     </span></td><td>224</td><td><span style=white-space:pre-wrap>Halsted St &amp; Willow St              </span></td><td>Subscriber</td><td><span style=white-space:pre-wrap>Male  </span></td><td>1987</td></tr>\n",
       "\t<tr><td>23479380</td><td>2019-06-30 23:57:00</td><td>2019-07-01 00:04:02</td><td> 993</td><td><span style=white-space:pre-wrap>422.0  </span></td><td>106</td><td><span style=white-space:pre-wrap>State St &amp; Pearson St        </span></td><td>620</td><td>Orleans St &amp; Chestnut St (NEXT Apts)</td><td>Subscriber</td><td><span style=white-space:pre-wrap>Male  </span></td><td>1964</td></tr>\n",
       "\t<tr><td>23479381</td><td>2019-06-30 23:57:54</td><td>2019-07-01 00:10:47</td><td>1044</td><td><span style=white-space:pre-wrap>773.0  </span></td><td>215</td><td><span style=white-space:pre-wrap>Damen Ave &amp; Madison St       </span></td><td> 69</td><td><span style=white-space:pre-wrap>Damen Ave &amp; Pierce Ave              </span></td><td>Subscriber</td><td><span style=white-space:pre-wrap>Male  </span></td><td>1962</td></tr>\n",
       "\t<tr><td>23479382</td><td>2019-06-30 23:57:55</td><td>2019-07-01 01:20:55</td><td>4281</td><td>4,980.0</td><td>515</td><td><span style=white-space:pre-wrap>Paulina St &amp; Howard St       </span></td><td>451</td><td><span style=white-space:pre-wrap>Sheridan Rd &amp; Loyola Ave            </span></td><td><span style=white-space:pre-wrap>Customer  </span></td><td><span style=white-space:pre-wrap>      </span></td><td><span style=white-space:pre-wrap>  NA</span></td></tr>\n",
       "\t<tr><td>23479383</td><td>2019-06-30 23:58:00</td><td>2019-07-01 00:20:22</td><td>4573</td><td>1,342.0</td><td>206</td><td><span style=white-space:pre-wrap>Halsted St &amp; Archer Ave      </span></td><td>206</td><td><span style=white-space:pre-wrap>Halsted St &amp; Archer Ave             </span></td><td><span style=white-space:pre-wrap>Customer  </span></td><td><span style=white-space:pre-wrap>      </span></td><td><span style=white-space:pre-wrap>  NA</span></td></tr>\n",
       "\t<tr><td>23479384</td><td>2019-06-30 23:58:04</td><td>2019-07-01 00:14:17</td><td>6301</td><td><span style=white-space:pre-wrap>973.0  </span></td><td>199</td><td><span style=white-space:pre-wrap>Wabash Ave &amp; Grand Ave       </span></td><td>338</td><td><span style=white-space:pre-wrap>Calumet Ave &amp; 18th St               </span></td><td>Subscriber</td><td><span style=white-space:pre-wrap>Male  </span></td><td>1980</td></tr>\n",
       "\t<tr><td>23479385</td><td>2019-06-30 23:58:20</td><td>2019-07-01 00:25:51</td><td>4472</td><td>1,651.0</td><td>319</td><td>Greenview Ave &amp; Diversey Pkwy</td><td>337</td><td><span style=white-space:pre-wrap>Clark St &amp; Chicago Ave              </span></td><td>Subscriber</td><td>Female</td><td>1991</td></tr>\n",
       "\t<tr><td>23479386</td><td>2019-06-30 23:58:52</td><td>2019-07-01 00:11:24</td><td>5021</td><td><span style=white-space:pre-wrap>752.0  </span></td><td>226</td><td><span style=white-space:pre-wrap>Racine Ave &amp; Belmont Ave     </span></td><td>300</td><td><span style=white-space:pre-wrap>Broadway &amp; Barry Ave                </span></td><td>Subscriber</td><td><span style=white-space:pre-wrap>Male  </span></td><td>1992</td></tr>\n",
       "\t<tr><td>23479387</td><td>2019-06-30 23:59:05</td><td>2019-07-01 00:26:14</td><td>4749</td><td>1,629.0</td><td> 85</td><td><span style=white-space:pre-wrap>Michigan Ave &amp; Oak St        </span></td><td>249</td><td><span style=white-space:pre-wrap>Montrose Harbor                     </span></td><td>Subscriber</td><td><span style=white-space:pre-wrap>Male  </span></td><td>1987</td></tr>\n",
       "</tbody>\n",
       "</table>\n"
      ],
      "text/latex": [
       "A data.frame: 1108163 × 12\n",
       "\\begin{tabular}{llllllllllll}\n",
       " id\\_viaje & empezo & termino & id\\_bici & X01...Rental.Details.Duration.In.Seconds.Uncapped & id\\_estacion\\_inicial & estacion\\_partida & id\\_estacion\\_llegada & estacion\\_llegada & membrecia & Member.Gender & X05...Member.Details.Member.Birthday.Year\\\\\n",
       " <int> & <chr> & <chr> & <int> & <chr> & <int> & <chr> & <int> & <chr> & <chr> & <chr> & <int>\\\\\n",
       "\\hline\n",
       "\t 22178529 & 2019-04-01 00:02:22 & 2019-04-01 00:09:48 & 6251 & 446.0   &  81 & Daley Center Plaza              &  56 & Desplaines St \\& Kinzie St            & Subscriber & Male   & 1975\\\\\n",
       "\t 22178530 & 2019-04-01 00:03:02 & 2019-04-01 00:20:30 & 6226 & 1,048.0 & 317 & Wood St \\& Taylor St             &  59 & Wabash Ave \\& Roosevelt Rd            & Subscriber & Female & 1984\\\\\n",
       "\t 22178531 & 2019-04-01 00:11:07 & 2019-04-01 00:15:19 & 5649 & 252.0   & 283 & LaSalle St \\& Jackson Blvd       & 174 & Canal St \\& Madison St                & Subscriber & Male   & 1990\\\\\n",
       "\t 22178532 & 2019-04-01 00:13:01 & 2019-04-01 00:18:58 & 4151 & 357.0   &  26 & McClurg Ct \\& Illinois St        & 133 & Kingsbury St \\& Kinzie St             & Subscriber & Male   & 1993\\\\\n",
       "\t 22178533 & 2019-04-01 00:19:26 & 2019-04-01 00:36:13 & 3270 & 1,007.0 & 202 & Halsted St \\& 18th St            & 129 & Blue Island Ave \\& 18th St            & Subscriber & Male   & 1992\\\\\n",
       "\t 22178534 & 2019-04-01 00:19:39 & 2019-04-01 00:23:56 & 3123 & 257.0   & 420 & Ellis Ave \\& 55th St             & 426 & Ellis Ave \\& 60th St                  & Subscriber & Male   & 1999\\\\\n",
       "\t 22178535 & 2019-04-01 00:26:33 & 2019-04-01 00:35:41 & 6418 & 548.0   & 503 & Drake Ave \\& Fullerton Ave       & 500 & Central Park Ave \\& Elbridge Ave      & Subscriber & Male   & 1969\\\\\n",
       "\t 22178536 & 2019-04-01 00:29:48 & 2019-04-01 00:36:11 & 4513 & 383.0   & 260 & Kedzie Ave \\& Milwaukee Ave      & 499 & Kosciuszko Park                      & Subscriber & Male   & 1991\\\\\n",
       "\t 22178537 & 2019-04-01 00:32:07 & 2019-04-01 01:07:44 & 3280 & 2,137.0 & 211 & St. Clair St \\& Erie St          & 211 & St. Clair St \\& Erie St               & Customer   &        &   NA\\\\\n",
       "\t 22178538 & 2019-04-01 00:32:19 & 2019-04-01 01:07:39 & 5534 & 2,120.0 & 211 & St. Clair St \\& Erie St          & 211 & St. Clair St \\& Erie St               & Customer   &        &   NA\\\\\n",
       "\t 22178539 & 2019-04-01 00:36:20 & 2019-04-01 00:41:17 & 4666 & 297.0   & 304 & Broadway \\& Waveland Ave         & 232 & Pine Grove Ave \\& Waveland Ave        & Subscriber & Male   & 1975\\\\\n",
       "\t 22178540 & 2019-04-01 00:58:38 & 2019-04-01 01:04:43 & 3735 & 365.0   &  37 & Dearborn St \\& Adams St          & 337 & Clark St \\& Chicago Ave               & Subscriber & Male   & 1991\\\\\n",
       "\t 22178541 & 2019-04-01 01:09:41 & 2019-04-01 01:12:26 & 6108 & 165.0   &  75 & Canal St \\& Jackson Blvd         &  36 & Franklin St \\& Jackson Blvd           & Subscriber & Male   & 1990\\\\\n",
       "\t 22178542 & 2019-04-01 01:13:15 & 2019-04-01 01:20:38 & 6157 & 443.0   & 334 & Lake Shore Dr \\& Belmont Ave     & 256 & Broadway \\& Sheridan Rd               & Subscriber & Male   & 1989\\\\\n",
       "\t 22178543 & 2019-04-01 01:18:09 & 2019-04-01 01:23:02 & 4384 & 293.0   &  39 & Wabash Ave \\& Adams St           & 255 & Indiana Ave \\& Roosevelt Rd           & Subscriber & Male   & 1969\\\\\n",
       "\t 22178544 & 2019-04-01 01:28:21 & 2019-04-01 01:31:45 & 4022 & 204.0   & 287 & Franklin St \\& Monroe St         &  89 & Financial Pl \\& Ida B Wells Dr (Temp) & Subscriber & Male   & 1994\\\\\n",
       "\t 22178545 & 2019-04-01 01:31:35 & 2019-04-01 01:35:28 & 2748 & 233.0   & 148 & State St \\& 33rd St              & 272 & Indiana Ave \\& 31st St                & Subscriber & Female & 1989\\\\\n",
       "\t 22178546 & 2019-04-01 01:53:56 & 2019-04-01 02:03:02 & 5351 & 546.0   &  59 & Wabash Ave \\& Roosevelt Rd       &  36 & Franklin St \\& Jackson Blvd           & Subscriber & Male   & 1958\\\\\n",
       "\t 22178547 & 2019-04-01 02:10:56 & 2019-04-01 02:31:45 & 1406 & 1,249.0 & 240 & Sheridan Rd \\& Irving Park Rd    & 325 & Clark St \\& Winnemac Ave              & Customer   &        &   NA\\\\\n",
       "\t 22178548 & 2019-04-01 02:12:53 & 2019-04-01 02:16:56 & 3325 & 243.0   & 430 & MLK Jr Dr \\& 63rd St             & 427 & Cottage Grove Ave \\& 63rd St          & Subscriber & Male   & 1985\\\\\n",
       "\t 22178549 & 2019-04-01 02:27:02 & 2019-04-01 02:30:10 &   93 & 188.0   & 257 & Lincoln Ave \\& Waveland Ave      & 230 & Lincoln Ave \\& Roscoe St              & Subscriber & Male   & 1981\\\\\n",
       "\t 22178550 & 2019-04-01 02:37:48 & 2019-04-01 02:41:35 & 3325 & 227.0   & 427 & Cottage Grove Ave \\& 63rd St     & 430 & MLK Jr Dr \\& 63rd St                  & Subscriber & Male   & 1985\\\\\n",
       "\t 22178551 & 2019-04-01 02:42:51 & 2019-04-01 02:48:26 & 3193 & 335.0   & 172 & Rush St \\& Cedar St              & 635 & Fairbanks St \\& Superior St (*)       & Subscriber & Male   & 1992\\\\\n",
       "\t 22178552 & 2019-04-01 02:58:12 & 2019-04-01 03:09:14 & 1167 & 662.0   & 304 & Broadway \\& Waveland Ave         & 246 & Ashland Ave \\& Belle Plaine Ave       & Subscriber & Female & 1959\\\\\n",
       "\t 22178554 & 2019-04-01 02:59:22 & 2019-04-01 03:09:14 & 6418 & 592.0   & 500 & Central Park Ave \\& Elbridge Ave & 503 & Drake Ave \\& Fullerton Ave            & Subscriber & Male   & 1969\\\\\n",
       "\t 22178555 & 2019-04-01 03:01:13 & 2019-04-01 03:04:39 & 1627 & 206.0   &  90 & Millennium Park                 &  44 & State St \\& Randolph St               & Subscriber & Female & 1992\\\\\n",
       "\t 22178556 & 2019-04-01 03:15:06 & 2019-04-01 03:20:10 & 6065 & 304.0   & 299 & Halsted St \\& Roscoe St          & 334 & Lake Shore Dr \\& Belmont Ave          & Subscriber & Male   & 1989\\\\\n",
       "\t 22178557 & 2019-04-01 03:46:31 & 2019-04-01 03:51:23 & 5578 & 292.0   &  15 & Racine Ave \\& 18th St            & 205 & Paulina St \\& 18th St                 & Subscriber & Male   & 1981\\\\\n",
       "\t 22178558 & 2019-04-01 03:46:46 & 2019-04-01 04:17:05 & 1065 & 1,819.0 &  19 & Loomis St \\& Taylor St (*)       &  31 & Franklin St \\& Chicago Ave            & Subscriber & Male   & 1997\\\\\n",
       "\t 22178559 & 2019-04-01 04:01:10 & 2019-04-01 04:12:50 &  268 & 700.0   & 260 & Kedzie Ave \\& Milwaukee Ave      & 485 & Sawyer Ave \\& Irving Park Rd          & Customer   & Male   & 1975\\\\\n",
       "\t ⋮ & ⋮ & ⋮ & ⋮ & ⋮ & ⋮ & ⋮ & ⋮ & ⋮ & ⋮ & ⋮ & ⋮\\\\\n",
       "\t 23479349 & 2019-06-30 23:44:37 & 2019-07-01 00:10:31 &  957 & 1,554.0 &   2 & Buckingham Fountain (Temp)    &  52 & Michigan Ave \\& Lake St               & Customer   &        &   NA\\\\\n",
       "\t 23479350 & 2019-06-30 23:45:02 & 2019-07-01 00:10:11 & 5142 & 1,509.0 &   2 & Buckingham Fountain (Temp)    &  52 & Michigan Ave \\& Lake St               & Customer   &        &   NA\\\\\n",
       "\t 23479351 & 2019-06-30 23:45:10 & 2019-06-30 23:54:15 & 5047 & 545.0   & 300 & Broadway \\& Barry Ave          & 144 & Larrabee St \\& Webster Ave            & Subscriber & Male   & 1980\\\\\n",
       "\t 23479353 & 2019-06-30 23:46:05 & 2019-07-01 00:17:16 &  240 & 1,871.0 &  59 & Wabash Ave \\& Roosevelt Rd     &   6 & Dusable Harbor                       & Customer   & Female & 1997\\\\\n",
       "\t 23479354 & 2019-06-30 23:46:16 & 2019-07-01 00:17:16 & 5166 & 1,860.0 &  59 & Wabash Ave \\& Roosevelt Rd     &   6 & Dusable Harbor                       & Customer   & Female & 1997\\\\\n",
       "\t 23479355 & 2019-06-30 23:46:19 & 2019-06-30 23:55:05 & 2092 & 526.0   & 299 & Halsted St \\& Roscoe St        & 254 & Pine Grove Ave \\& Irving Park Rd      & Subscriber & Male   & 1981\\\\\n",
       "\t 23479357 & 2019-06-30 23:47:26 & 2019-07-01 00:17:15 & 1132 & 1,789.0 &  59 & Wabash Ave \\& Roosevelt Rd     &   6 & Dusable Harbor                       & Customer   & Female & 1998\\\\\n",
       "\t 23479358 & 2019-06-30 23:48:34 & 2019-07-01 00:01:29 & 3131 & 775.0   &  29 & Noble St \\& Milwaukee Ave      & 123 & California Ave \\& Milwaukee Ave       & Subscriber & Male   & 1987\\\\\n",
       "\t 23479360 & 2019-06-30 23:49:18 & 2019-06-30 23:55:18 & 3597 & 360.0   & 212 & Wells St \\& Hubbard St         &  98 & LaSalle St \\& Washington St           & Customer   & Male   & 1989\\\\\n",
       "\t 23479361 & 2019-06-30 23:49:29 & 2019-07-01 00:00:57 & 2099 & 688.0   & 310 & Damen Ave \\& Charleston St     & 210 & Ashland Ave \\& Division St            & Subscriber & Male   & 1978\\\\\n",
       "\t 23479362 & 2019-06-30 23:49:46 & 2019-07-01 00:31:52 & 6399 & 2,526.0 & 392 & Perry Ave \\& 69th St           & 392 & Perry Ave \\& 69th St                  & Subscriber & Male   & 1957\\\\\n",
       "\t 23479364 & 2019-06-30 23:49:59 & 2019-07-01 00:04:58 & 1923 & 899.0   & 228 & Damen Ave \\& Melrose Ave       & 223 & Clifton Ave \\& Armitage Ave           & Subscriber & Male   & 1989\\\\\n",
       "\t 23479365 & 2019-06-30 23:49:59 & 2019-06-30 23:55:47 & 2962 & 348.0   &  50 & Clark St \\& Ida B Wells Dr     & 321 & Wabash Ave \\& 9th St                  & Subscriber & Female & 1986\\\\\n",
       "\t 23479366 & 2019-06-30 23:50:02 & 2019-07-01 00:06:32 & 3410 & 990.0   & 260 & Kedzie Ave \\& Milwaukee Ave    & 128 & Damen Ave \\& Chicago Ave              & Subscriber & Male   & 1996\\\\\n",
       "\t 23479368 & 2019-06-30 23:51:02 & 2019-07-01 00:02:46 &  143 & 704.0   &  36 & Franklin St \\& Jackson Blvd    & 199 & Wabash Ave \\& Grand Ave               & Subscriber & Male   & 1992\\\\\n",
       "\t 23479371 & 2019-06-30 23:52:34 & 2019-07-01 00:05:48 & 5156 & 794.0   & 114 & Sheffield Ave \\& Waveland Ave  & 324 & Stockton Dr \\& Wrightwood Ave         & Subscriber & Female & 1990\\\\\n",
       "\t 23479373 & 2019-06-30 23:53:59 & 2019-07-01 00:53:58 &  648 & 3,599.0 & 268 & Lake Shore Dr \\& North Blvd    & 220 & Clark St \\& Drummond Pl               & Subscriber & Male   & 1987\\\\\n",
       "\t 23479374 & 2019-06-30 23:54:04 & 2019-07-01 00:54:05 & 4883 & 3,601.0 & 268 & Lake Shore Dr \\& North Blvd    & 220 & Clark St \\& Drummond Pl               & Subscriber & Female & 1986\\\\\n",
       "\t 23479376 & 2019-06-30 23:54:19 & 2019-07-01 00:04:45 & 1577 & 626.0   & 227 & Southport Ave \\& Waveland Ave  & 632 & Clark St \\& Newport St                & Customer   &        &   NA\\\\\n",
       "\t 23479377 & 2019-06-30 23:55:24 & 2019-07-01 00:04:58 & 1759 & 574.0   &  81 & Daley Center Plaza            &  56 & Desplaines St \\& Kinzie St            & Subscriber & Male   & 1975\\\\\n",
       "\t 23479378 & 2019-06-30 23:55:58 & 2019-07-01 00:13:59 &  429 & 1,081.0 & 283 & LaSalle St \\& Jackson Blvd     & 273 & Michigan Ave \\& 18th St               & Subscriber & Male   & 1984\\\\\n",
       "\t 23479379 & 2019-06-30 23:56:00 & 2019-06-30 23:58:49 & 4889 & 169.0   & 225 & Halsted St \\& Dickens Ave      & 224 & Halsted St \\& Willow St               & Subscriber & Male   & 1987\\\\\n",
       "\t 23479380 & 2019-06-30 23:57:00 & 2019-07-01 00:04:02 &  993 & 422.0   & 106 & State St \\& Pearson St         & 620 & Orleans St \\& Chestnut St (NEXT Apts) & Subscriber & Male   & 1964\\\\\n",
       "\t 23479381 & 2019-06-30 23:57:54 & 2019-07-01 00:10:47 & 1044 & 773.0   & 215 & Damen Ave \\& Madison St        &  69 & Damen Ave \\& Pierce Ave               & Subscriber & Male   & 1962\\\\\n",
       "\t 23479382 & 2019-06-30 23:57:55 & 2019-07-01 01:20:55 & 4281 & 4,980.0 & 515 & Paulina St \\& Howard St        & 451 & Sheridan Rd \\& Loyola Ave             & Customer   &        &   NA\\\\\n",
       "\t 23479383 & 2019-06-30 23:58:00 & 2019-07-01 00:20:22 & 4573 & 1,342.0 & 206 & Halsted St \\& Archer Ave       & 206 & Halsted St \\& Archer Ave              & Customer   &        &   NA\\\\\n",
       "\t 23479384 & 2019-06-30 23:58:04 & 2019-07-01 00:14:17 & 6301 & 973.0   & 199 & Wabash Ave \\& Grand Ave        & 338 & Calumet Ave \\& 18th St                & Subscriber & Male   & 1980\\\\\n",
       "\t 23479385 & 2019-06-30 23:58:20 & 2019-07-01 00:25:51 & 4472 & 1,651.0 & 319 & Greenview Ave \\& Diversey Pkwy & 337 & Clark St \\& Chicago Ave               & Subscriber & Female & 1991\\\\\n",
       "\t 23479386 & 2019-06-30 23:58:52 & 2019-07-01 00:11:24 & 5021 & 752.0   & 226 & Racine Ave \\& Belmont Ave      & 300 & Broadway \\& Barry Ave                 & Subscriber & Male   & 1992\\\\\n",
       "\t 23479387 & 2019-06-30 23:59:05 & 2019-07-01 00:26:14 & 4749 & 1,629.0 &  85 & Michigan Ave \\& Oak St         & 249 & Montrose Harbor                      & Subscriber & Male   & 1987\\\\\n",
       "\\end{tabular}\n"
      ],
      "text/markdown": [
       "\n",
       "A data.frame: 1108163 × 12\n",
       "\n",
       "| id_viaje &lt;int&gt; | empezo &lt;chr&gt; | termino &lt;chr&gt; | id_bici &lt;int&gt; | X01...Rental.Details.Duration.In.Seconds.Uncapped &lt;chr&gt; | id_estacion_inicial &lt;int&gt; | estacion_partida &lt;chr&gt; | id_estacion_llegada &lt;int&gt; | estacion_llegada &lt;chr&gt; | membrecia &lt;chr&gt; | Member.Gender &lt;chr&gt; | X05...Member.Details.Member.Birthday.Year &lt;int&gt; |\n",
       "|---|---|---|---|---|---|---|---|---|---|---|---|\n",
       "| 22178529 | 2019-04-01 00:02:22 | 2019-04-01 00:09:48 | 6251 | 446.0   |  81 | Daley Center Plaza              |  56 | Desplaines St &amp; Kinzie St            | Subscriber | Male   | 1975 |\n",
       "| 22178530 | 2019-04-01 00:03:02 | 2019-04-01 00:20:30 | 6226 | 1,048.0 | 317 | Wood St &amp; Taylor St             |  59 | Wabash Ave &amp; Roosevelt Rd            | Subscriber | Female | 1984 |\n",
       "| 22178531 | 2019-04-01 00:11:07 | 2019-04-01 00:15:19 | 5649 | 252.0   | 283 | LaSalle St &amp; Jackson Blvd       | 174 | Canal St &amp; Madison St                | Subscriber | Male   | 1990 |\n",
       "| 22178532 | 2019-04-01 00:13:01 | 2019-04-01 00:18:58 | 4151 | 357.0   |  26 | McClurg Ct &amp; Illinois St        | 133 | Kingsbury St &amp; Kinzie St             | Subscriber | Male   | 1993 |\n",
       "| 22178533 | 2019-04-01 00:19:26 | 2019-04-01 00:36:13 | 3270 | 1,007.0 | 202 | Halsted St &amp; 18th St            | 129 | Blue Island Ave &amp; 18th St            | Subscriber | Male   | 1992 |\n",
       "| 22178534 | 2019-04-01 00:19:39 | 2019-04-01 00:23:56 | 3123 | 257.0   | 420 | Ellis Ave &amp; 55th St             | 426 | Ellis Ave &amp; 60th St                  | Subscriber | Male   | 1999 |\n",
       "| 22178535 | 2019-04-01 00:26:33 | 2019-04-01 00:35:41 | 6418 | 548.0   | 503 | Drake Ave &amp; Fullerton Ave       | 500 | Central Park Ave &amp; Elbridge Ave      | Subscriber | Male   | 1969 |\n",
       "| 22178536 | 2019-04-01 00:29:48 | 2019-04-01 00:36:11 | 4513 | 383.0   | 260 | Kedzie Ave &amp; Milwaukee Ave      | 499 | Kosciuszko Park                      | Subscriber | Male   | 1991 |\n",
       "| 22178537 | 2019-04-01 00:32:07 | 2019-04-01 01:07:44 | 3280 | 2,137.0 | 211 | St. Clair St &amp; Erie St          | 211 | St. Clair St &amp; Erie St               | Customer   | <!----> |   NA |\n",
       "| 22178538 | 2019-04-01 00:32:19 | 2019-04-01 01:07:39 | 5534 | 2,120.0 | 211 | St. Clair St &amp; Erie St          | 211 | St. Clair St &amp; Erie St               | Customer   | <!----> |   NA |\n",
       "| 22178539 | 2019-04-01 00:36:20 | 2019-04-01 00:41:17 | 4666 | 297.0   | 304 | Broadway &amp; Waveland Ave         | 232 | Pine Grove Ave &amp; Waveland Ave        | Subscriber | Male   | 1975 |\n",
       "| 22178540 | 2019-04-01 00:58:38 | 2019-04-01 01:04:43 | 3735 | 365.0   |  37 | Dearborn St &amp; Adams St          | 337 | Clark St &amp; Chicago Ave               | Subscriber | Male   | 1991 |\n",
       "| 22178541 | 2019-04-01 01:09:41 | 2019-04-01 01:12:26 | 6108 | 165.0   |  75 | Canal St &amp; Jackson Blvd         |  36 | Franklin St &amp; Jackson Blvd           | Subscriber | Male   | 1990 |\n",
       "| 22178542 | 2019-04-01 01:13:15 | 2019-04-01 01:20:38 | 6157 | 443.0   | 334 | Lake Shore Dr &amp; Belmont Ave     | 256 | Broadway &amp; Sheridan Rd               | Subscriber | Male   | 1989 |\n",
       "| 22178543 | 2019-04-01 01:18:09 | 2019-04-01 01:23:02 | 4384 | 293.0   |  39 | Wabash Ave &amp; Adams St           | 255 | Indiana Ave &amp; Roosevelt Rd           | Subscriber | Male   | 1969 |\n",
       "| 22178544 | 2019-04-01 01:28:21 | 2019-04-01 01:31:45 | 4022 | 204.0   | 287 | Franklin St &amp; Monroe St         |  89 | Financial Pl &amp; Ida B Wells Dr (Temp) | Subscriber | Male   | 1994 |\n",
       "| 22178545 | 2019-04-01 01:31:35 | 2019-04-01 01:35:28 | 2748 | 233.0   | 148 | State St &amp; 33rd St              | 272 | Indiana Ave &amp; 31st St                | Subscriber | Female | 1989 |\n",
       "| 22178546 | 2019-04-01 01:53:56 | 2019-04-01 02:03:02 | 5351 | 546.0   |  59 | Wabash Ave &amp; Roosevelt Rd       |  36 | Franklin St &amp; Jackson Blvd           | Subscriber | Male   | 1958 |\n",
       "| 22178547 | 2019-04-01 02:10:56 | 2019-04-01 02:31:45 | 1406 | 1,249.0 | 240 | Sheridan Rd &amp; Irving Park Rd    | 325 | Clark St &amp; Winnemac Ave              | Customer   | <!----> |   NA |\n",
       "| 22178548 | 2019-04-01 02:12:53 | 2019-04-01 02:16:56 | 3325 | 243.0   | 430 | MLK Jr Dr &amp; 63rd St             | 427 | Cottage Grove Ave &amp; 63rd St          | Subscriber | Male   | 1985 |\n",
       "| 22178549 | 2019-04-01 02:27:02 | 2019-04-01 02:30:10 |   93 | 188.0   | 257 | Lincoln Ave &amp; Waveland Ave      | 230 | Lincoln Ave &amp; Roscoe St              | Subscriber | Male   | 1981 |\n",
       "| 22178550 | 2019-04-01 02:37:48 | 2019-04-01 02:41:35 | 3325 | 227.0   | 427 | Cottage Grove Ave &amp; 63rd St     | 430 | MLK Jr Dr &amp; 63rd St                  | Subscriber | Male   | 1985 |\n",
       "| 22178551 | 2019-04-01 02:42:51 | 2019-04-01 02:48:26 | 3193 | 335.0   | 172 | Rush St &amp; Cedar St              | 635 | Fairbanks St &amp; Superior St (*)       | Subscriber | Male   | 1992 |\n",
       "| 22178552 | 2019-04-01 02:58:12 | 2019-04-01 03:09:14 | 1167 | 662.0   | 304 | Broadway &amp; Waveland Ave         | 246 | Ashland Ave &amp; Belle Plaine Ave       | Subscriber | Female | 1959 |\n",
       "| 22178554 | 2019-04-01 02:59:22 | 2019-04-01 03:09:14 | 6418 | 592.0   | 500 | Central Park Ave &amp; Elbridge Ave | 503 | Drake Ave &amp; Fullerton Ave            | Subscriber | Male   | 1969 |\n",
       "| 22178555 | 2019-04-01 03:01:13 | 2019-04-01 03:04:39 | 1627 | 206.0   |  90 | Millennium Park                 |  44 | State St &amp; Randolph St               | Subscriber | Female | 1992 |\n",
       "| 22178556 | 2019-04-01 03:15:06 | 2019-04-01 03:20:10 | 6065 | 304.0   | 299 | Halsted St &amp; Roscoe St          | 334 | Lake Shore Dr &amp; Belmont Ave          | Subscriber | Male   | 1989 |\n",
       "| 22178557 | 2019-04-01 03:46:31 | 2019-04-01 03:51:23 | 5578 | 292.0   |  15 | Racine Ave &amp; 18th St            | 205 | Paulina St &amp; 18th St                 | Subscriber | Male   | 1981 |\n",
       "| 22178558 | 2019-04-01 03:46:46 | 2019-04-01 04:17:05 | 1065 | 1,819.0 |  19 | Loomis St &amp; Taylor St (*)       |  31 | Franklin St &amp; Chicago Ave            | Subscriber | Male   | 1997 |\n",
       "| 22178559 | 2019-04-01 04:01:10 | 2019-04-01 04:12:50 |  268 | 700.0   | 260 | Kedzie Ave &amp; Milwaukee Ave      | 485 | Sawyer Ave &amp; Irving Park Rd          | Customer   | Male   | 1975 |\n",
       "| ⋮ | ⋮ | ⋮ | ⋮ | ⋮ | ⋮ | ⋮ | ⋮ | ⋮ | ⋮ | ⋮ | ⋮ |\n",
       "| 23479349 | 2019-06-30 23:44:37 | 2019-07-01 00:10:31 |  957 | 1,554.0 |   2 | Buckingham Fountain (Temp)    |  52 | Michigan Ave &amp; Lake St               | Customer   | <!----> |   NA |\n",
       "| 23479350 | 2019-06-30 23:45:02 | 2019-07-01 00:10:11 | 5142 | 1,509.0 |   2 | Buckingham Fountain (Temp)    |  52 | Michigan Ave &amp; Lake St               | Customer   | <!----> |   NA |\n",
       "| 23479351 | 2019-06-30 23:45:10 | 2019-06-30 23:54:15 | 5047 | 545.0   | 300 | Broadway &amp; Barry Ave          | 144 | Larrabee St &amp; Webster Ave            | Subscriber | Male   | 1980 |\n",
       "| 23479353 | 2019-06-30 23:46:05 | 2019-07-01 00:17:16 |  240 | 1,871.0 |  59 | Wabash Ave &amp; Roosevelt Rd     |   6 | Dusable Harbor                       | Customer   | Female | 1997 |\n",
       "| 23479354 | 2019-06-30 23:46:16 | 2019-07-01 00:17:16 | 5166 | 1,860.0 |  59 | Wabash Ave &amp; Roosevelt Rd     |   6 | Dusable Harbor                       | Customer   | Female | 1997 |\n",
       "| 23479355 | 2019-06-30 23:46:19 | 2019-06-30 23:55:05 | 2092 | 526.0   | 299 | Halsted St &amp; Roscoe St        | 254 | Pine Grove Ave &amp; Irving Park Rd      | Subscriber | Male   | 1981 |\n",
       "| 23479357 | 2019-06-30 23:47:26 | 2019-07-01 00:17:15 | 1132 | 1,789.0 |  59 | Wabash Ave &amp; Roosevelt Rd     |   6 | Dusable Harbor                       | Customer   | Female | 1998 |\n",
       "| 23479358 | 2019-06-30 23:48:34 | 2019-07-01 00:01:29 | 3131 | 775.0   |  29 | Noble St &amp; Milwaukee Ave      | 123 | California Ave &amp; Milwaukee Ave       | Subscriber | Male   | 1987 |\n",
       "| 23479360 | 2019-06-30 23:49:18 | 2019-06-30 23:55:18 | 3597 | 360.0   | 212 | Wells St &amp; Hubbard St         |  98 | LaSalle St &amp; Washington St           | Customer   | Male   | 1989 |\n",
       "| 23479361 | 2019-06-30 23:49:29 | 2019-07-01 00:00:57 | 2099 | 688.0   | 310 | Damen Ave &amp; Charleston St     | 210 | Ashland Ave &amp; Division St            | Subscriber | Male   | 1978 |\n",
       "| 23479362 | 2019-06-30 23:49:46 | 2019-07-01 00:31:52 | 6399 | 2,526.0 | 392 | Perry Ave &amp; 69th St           | 392 | Perry Ave &amp; 69th St                  | Subscriber | Male   | 1957 |\n",
       "| 23479364 | 2019-06-30 23:49:59 | 2019-07-01 00:04:58 | 1923 | 899.0   | 228 | Damen Ave &amp; Melrose Ave       | 223 | Clifton Ave &amp; Armitage Ave           | Subscriber | Male   | 1989 |\n",
       "| 23479365 | 2019-06-30 23:49:59 | 2019-06-30 23:55:47 | 2962 | 348.0   |  50 | Clark St &amp; Ida B Wells Dr     | 321 | Wabash Ave &amp; 9th St                  | Subscriber | Female | 1986 |\n",
       "| 23479366 | 2019-06-30 23:50:02 | 2019-07-01 00:06:32 | 3410 | 990.0   | 260 | Kedzie Ave &amp; Milwaukee Ave    | 128 | Damen Ave &amp; Chicago Ave              | Subscriber | Male   | 1996 |\n",
       "| 23479368 | 2019-06-30 23:51:02 | 2019-07-01 00:02:46 |  143 | 704.0   |  36 | Franklin St &amp; Jackson Blvd    | 199 | Wabash Ave &amp; Grand Ave               | Subscriber | Male   | 1992 |\n",
       "| 23479371 | 2019-06-30 23:52:34 | 2019-07-01 00:05:48 | 5156 | 794.0   | 114 | Sheffield Ave &amp; Waveland Ave  | 324 | Stockton Dr &amp; Wrightwood Ave         | Subscriber | Female | 1990 |\n",
       "| 23479373 | 2019-06-30 23:53:59 | 2019-07-01 00:53:58 |  648 | 3,599.0 | 268 | Lake Shore Dr &amp; North Blvd    | 220 | Clark St &amp; Drummond Pl               | Subscriber | Male   | 1987 |\n",
       "| 23479374 | 2019-06-30 23:54:04 | 2019-07-01 00:54:05 | 4883 | 3,601.0 | 268 | Lake Shore Dr &amp; North Blvd    | 220 | Clark St &amp; Drummond Pl               | Subscriber | Female | 1986 |\n",
       "| 23479376 | 2019-06-30 23:54:19 | 2019-07-01 00:04:45 | 1577 | 626.0   | 227 | Southport Ave &amp; Waveland Ave  | 632 | Clark St &amp; Newport St                | Customer   | <!----> |   NA |\n",
       "| 23479377 | 2019-06-30 23:55:24 | 2019-07-01 00:04:58 | 1759 | 574.0   |  81 | Daley Center Plaza            |  56 | Desplaines St &amp; Kinzie St            | Subscriber | Male   | 1975 |\n",
       "| 23479378 | 2019-06-30 23:55:58 | 2019-07-01 00:13:59 |  429 | 1,081.0 | 283 | LaSalle St &amp; Jackson Blvd     | 273 | Michigan Ave &amp; 18th St               | Subscriber | Male   | 1984 |\n",
       "| 23479379 | 2019-06-30 23:56:00 | 2019-06-30 23:58:49 | 4889 | 169.0   | 225 | Halsted St &amp; Dickens Ave      | 224 | Halsted St &amp; Willow St               | Subscriber | Male   | 1987 |\n",
       "| 23479380 | 2019-06-30 23:57:00 | 2019-07-01 00:04:02 |  993 | 422.0   | 106 | State St &amp; Pearson St         | 620 | Orleans St &amp; Chestnut St (NEXT Apts) | Subscriber | Male   | 1964 |\n",
       "| 23479381 | 2019-06-30 23:57:54 | 2019-07-01 00:10:47 | 1044 | 773.0   | 215 | Damen Ave &amp; Madison St        |  69 | Damen Ave &amp; Pierce Ave               | Subscriber | Male   | 1962 |\n",
       "| 23479382 | 2019-06-30 23:57:55 | 2019-07-01 01:20:55 | 4281 | 4,980.0 | 515 | Paulina St &amp; Howard St        | 451 | Sheridan Rd &amp; Loyola Ave             | Customer   | <!----> |   NA |\n",
       "| 23479383 | 2019-06-30 23:58:00 | 2019-07-01 00:20:22 | 4573 | 1,342.0 | 206 | Halsted St &amp; Archer Ave       | 206 | Halsted St &amp; Archer Ave              | Customer   | <!----> |   NA |\n",
       "| 23479384 | 2019-06-30 23:58:04 | 2019-07-01 00:14:17 | 6301 | 973.0   | 199 | Wabash Ave &amp; Grand Ave        | 338 | Calumet Ave &amp; 18th St                | Subscriber | Male   | 1980 |\n",
       "| 23479385 | 2019-06-30 23:58:20 | 2019-07-01 00:25:51 | 4472 | 1,651.0 | 319 | Greenview Ave &amp; Diversey Pkwy | 337 | Clark St &amp; Chicago Ave               | Subscriber | Female | 1991 |\n",
       "| 23479386 | 2019-06-30 23:58:52 | 2019-07-01 00:11:24 | 5021 | 752.0   | 226 | Racine Ave &amp; Belmont Ave      | 300 | Broadway &amp; Barry Ave                 | Subscriber | Male   | 1992 |\n",
       "| 23479387 | 2019-06-30 23:59:05 | 2019-07-01 00:26:14 | 4749 | 1,629.0 |  85 | Michigan Ave &amp; Oak St         | 249 | Montrose Harbor                      | Subscriber | Male   | 1987 |\n",
       "\n"
      ],
      "text/plain": [
       "        id_viaje empezo              termino             id_bici\n",
       "1       22178529 2019-04-01 00:02:22 2019-04-01 00:09:48 6251   \n",
       "2       22178530 2019-04-01 00:03:02 2019-04-01 00:20:30 6226   \n",
       "3       22178531 2019-04-01 00:11:07 2019-04-01 00:15:19 5649   \n",
       "4       22178532 2019-04-01 00:13:01 2019-04-01 00:18:58 4151   \n",
       "5       22178533 2019-04-01 00:19:26 2019-04-01 00:36:13 3270   \n",
       "6       22178534 2019-04-01 00:19:39 2019-04-01 00:23:56 3123   \n",
       "7       22178535 2019-04-01 00:26:33 2019-04-01 00:35:41 6418   \n",
       "8       22178536 2019-04-01 00:29:48 2019-04-01 00:36:11 4513   \n",
       "9       22178537 2019-04-01 00:32:07 2019-04-01 01:07:44 3280   \n",
       "10      22178538 2019-04-01 00:32:19 2019-04-01 01:07:39 5534   \n",
       "11      22178539 2019-04-01 00:36:20 2019-04-01 00:41:17 4666   \n",
       "12      22178540 2019-04-01 00:58:38 2019-04-01 01:04:43 3735   \n",
       "13      22178541 2019-04-01 01:09:41 2019-04-01 01:12:26 6108   \n",
       "14      22178542 2019-04-01 01:13:15 2019-04-01 01:20:38 6157   \n",
       "15      22178543 2019-04-01 01:18:09 2019-04-01 01:23:02 4384   \n",
       "16      22178544 2019-04-01 01:28:21 2019-04-01 01:31:45 4022   \n",
       "17      22178545 2019-04-01 01:31:35 2019-04-01 01:35:28 2748   \n",
       "18      22178546 2019-04-01 01:53:56 2019-04-01 02:03:02 5351   \n",
       "19      22178547 2019-04-01 02:10:56 2019-04-01 02:31:45 1406   \n",
       "20      22178548 2019-04-01 02:12:53 2019-04-01 02:16:56 3325   \n",
       "21      22178549 2019-04-01 02:27:02 2019-04-01 02:30:10   93   \n",
       "22      22178550 2019-04-01 02:37:48 2019-04-01 02:41:35 3325   \n",
       "23      22178551 2019-04-01 02:42:51 2019-04-01 02:48:26 3193   \n",
       "24      22178552 2019-04-01 02:58:12 2019-04-01 03:09:14 1167   \n",
       "25      22178554 2019-04-01 02:59:22 2019-04-01 03:09:14 6418   \n",
       "26      22178555 2019-04-01 03:01:13 2019-04-01 03:04:39 1627   \n",
       "27      22178556 2019-04-01 03:15:06 2019-04-01 03:20:10 6065   \n",
       "28      22178557 2019-04-01 03:46:31 2019-04-01 03:51:23 5578   \n",
       "29      22178558 2019-04-01 03:46:46 2019-04-01 04:17:05 1065   \n",
       "30      22178559 2019-04-01 04:01:10 2019-04-01 04:12:50  268   \n",
       "⋮       ⋮        ⋮                   ⋮                   ⋮      \n",
       "1108134 23479349 2019-06-30 23:44:37 2019-07-01 00:10:31  957   \n",
       "1108135 23479350 2019-06-30 23:45:02 2019-07-01 00:10:11 5142   \n",
       "1108136 23479351 2019-06-30 23:45:10 2019-06-30 23:54:15 5047   \n",
       "1108137 23479353 2019-06-30 23:46:05 2019-07-01 00:17:16  240   \n",
       "1108138 23479354 2019-06-30 23:46:16 2019-07-01 00:17:16 5166   \n",
       "1108139 23479355 2019-06-30 23:46:19 2019-06-30 23:55:05 2092   \n",
       "1108140 23479357 2019-06-30 23:47:26 2019-07-01 00:17:15 1132   \n",
       "1108141 23479358 2019-06-30 23:48:34 2019-07-01 00:01:29 3131   \n",
       "1108142 23479360 2019-06-30 23:49:18 2019-06-30 23:55:18 3597   \n",
       "1108143 23479361 2019-06-30 23:49:29 2019-07-01 00:00:57 2099   \n",
       "1108144 23479362 2019-06-30 23:49:46 2019-07-01 00:31:52 6399   \n",
       "1108145 23479364 2019-06-30 23:49:59 2019-07-01 00:04:58 1923   \n",
       "1108146 23479365 2019-06-30 23:49:59 2019-06-30 23:55:47 2962   \n",
       "1108147 23479366 2019-06-30 23:50:02 2019-07-01 00:06:32 3410   \n",
       "1108148 23479368 2019-06-30 23:51:02 2019-07-01 00:02:46  143   \n",
       "1108149 23479371 2019-06-30 23:52:34 2019-07-01 00:05:48 5156   \n",
       "1108150 23479373 2019-06-30 23:53:59 2019-07-01 00:53:58  648   \n",
       "1108151 23479374 2019-06-30 23:54:04 2019-07-01 00:54:05 4883   \n",
       "1108152 23479376 2019-06-30 23:54:19 2019-07-01 00:04:45 1577   \n",
       "1108153 23479377 2019-06-30 23:55:24 2019-07-01 00:04:58 1759   \n",
       "1108154 23479378 2019-06-30 23:55:58 2019-07-01 00:13:59  429   \n",
       "1108155 23479379 2019-06-30 23:56:00 2019-06-30 23:58:49 4889   \n",
       "1108156 23479380 2019-06-30 23:57:00 2019-07-01 00:04:02  993   \n",
       "1108157 23479381 2019-06-30 23:57:54 2019-07-01 00:10:47 1044   \n",
       "1108158 23479382 2019-06-30 23:57:55 2019-07-01 01:20:55 4281   \n",
       "1108159 23479383 2019-06-30 23:58:00 2019-07-01 00:20:22 4573   \n",
       "1108160 23479384 2019-06-30 23:58:04 2019-07-01 00:14:17 6301   \n",
       "1108161 23479385 2019-06-30 23:58:20 2019-07-01 00:25:51 4472   \n",
       "1108162 23479386 2019-06-30 23:58:52 2019-07-01 00:11:24 5021   \n",
       "1108163 23479387 2019-06-30 23:59:05 2019-07-01 00:26:14 4749   \n",
       "        X01...Rental.Details.Duration.In.Seconds.Uncapped id_estacion_inicial\n",
       "1       446.0                                              81                \n",
       "2       1,048.0                                           317                \n",
       "3       252.0                                             283                \n",
       "4       357.0                                              26                \n",
       "5       1,007.0                                           202                \n",
       "6       257.0                                             420                \n",
       "7       548.0                                             503                \n",
       "8       383.0                                             260                \n",
       "9       2,137.0                                           211                \n",
       "10      2,120.0                                           211                \n",
       "11      297.0                                             304                \n",
       "12      365.0                                              37                \n",
       "13      165.0                                              75                \n",
       "14      443.0                                             334                \n",
       "15      293.0                                              39                \n",
       "16      204.0                                             287                \n",
       "17      233.0                                             148                \n",
       "18      546.0                                              59                \n",
       "19      1,249.0                                           240                \n",
       "20      243.0                                             430                \n",
       "21      188.0                                             257                \n",
       "22      227.0                                             427                \n",
       "23      335.0                                             172                \n",
       "24      662.0                                             304                \n",
       "25      592.0                                             500                \n",
       "26      206.0                                              90                \n",
       "27      304.0                                             299                \n",
       "28      292.0                                              15                \n",
       "29      1,819.0                                            19                \n",
       "30      700.0                                             260                \n",
       "⋮       ⋮                                                 ⋮                  \n",
       "1108134 1,554.0                                             2                \n",
       "1108135 1,509.0                                             2                \n",
       "1108136 545.0                                             300                \n",
       "1108137 1,871.0                                            59                \n",
       "1108138 1,860.0                                            59                \n",
       "1108139 526.0                                             299                \n",
       "1108140 1,789.0                                            59                \n",
       "1108141 775.0                                              29                \n",
       "1108142 360.0                                             212                \n",
       "1108143 688.0                                             310                \n",
       "1108144 2,526.0                                           392                \n",
       "1108145 899.0                                             228                \n",
       "1108146 348.0                                              50                \n",
       "1108147 990.0                                             260                \n",
       "1108148 704.0                                              36                \n",
       "1108149 794.0                                             114                \n",
       "1108150 3,599.0                                           268                \n",
       "1108151 3,601.0                                           268                \n",
       "1108152 626.0                                             227                \n",
       "1108153 574.0                                              81                \n",
       "1108154 1,081.0                                           283                \n",
       "1108155 169.0                                             225                \n",
       "1108156 422.0                                             106                \n",
       "1108157 773.0                                             215                \n",
       "1108158 4,980.0                                           515                \n",
       "1108159 1,342.0                                           206                \n",
       "1108160 973.0                                             199                \n",
       "1108161 1,651.0                                           319                \n",
       "1108162 752.0                                             226                \n",
       "1108163 1,629.0                                            85                \n",
       "        estacion_partida                id_estacion_llegada\n",
       "1       Daley Center Plaza               56                \n",
       "2       Wood St & Taylor St              59                \n",
       "3       LaSalle St & Jackson Blvd       174                \n",
       "4       McClurg Ct & Illinois St        133                \n",
       "5       Halsted St & 18th St            129                \n",
       "6       Ellis Ave & 55th St             426                \n",
       "7       Drake Ave & Fullerton Ave       500                \n",
       "8       Kedzie Ave & Milwaukee Ave      499                \n",
       "9       St. Clair St & Erie St          211                \n",
       "10      St. Clair St & Erie St          211                \n",
       "11      Broadway & Waveland Ave         232                \n",
       "12      Dearborn St & Adams St          337                \n",
       "13      Canal St & Jackson Blvd          36                \n",
       "14      Lake Shore Dr & Belmont Ave     256                \n",
       "15      Wabash Ave & Adams St           255                \n",
       "16      Franklin St & Monroe St          89                \n",
       "17      State St & 33rd St              272                \n",
       "18      Wabash Ave & Roosevelt Rd        36                \n",
       "19      Sheridan Rd & Irving Park Rd    325                \n",
       "20      MLK Jr Dr & 63rd St             427                \n",
       "21      Lincoln Ave & Waveland Ave      230                \n",
       "22      Cottage Grove Ave & 63rd St     430                \n",
       "23      Rush St & Cedar St              635                \n",
       "24      Broadway & Waveland Ave         246                \n",
       "25      Central Park Ave & Elbridge Ave 503                \n",
       "26      Millennium Park                  44                \n",
       "27      Halsted St & Roscoe St          334                \n",
       "28      Racine Ave & 18th St            205                \n",
       "29      Loomis St & Taylor St (*)        31                \n",
       "30      Kedzie Ave & Milwaukee Ave      485                \n",
       "⋮       ⋮                               ⋮                  \n",
       "1108134 Buckingham Fountain (Temp)       52                \n",
       "1108135 Buckingham Fountain (Temp)       52                \n",
       "1108136 Broadway & Barry Ave            144                \n",
       "1108137 Wabash Ave & Roosevelt Rd         6                \n",
       "1108138 Wabash Ave & Roosevelt Rd         6                \n",
       "1108139 Halsted St & Roscoe St          254                \n",
       "1108140 Wabash Ave & Roosevelt Rd         6                \n",
       "1108141 Noble St & Milwaukee Ave        123                \n",
       "1108142 Wells St & Hubbard St            98                \n",
       "1108143 Damen Ave & Charleston St       210                \n",
       "1108144 Perry Ave & 69th St             392                \n",
       "1108145 Damen Ave & Melrose Ave         223                \n",
       "1108146 Clark St & Ida B Wells Dr       321                \n",
       "1108147 Kedzie Ave & Milwaukee Ave      128                \n",
       "1108148 Franklin St & Jackson Blvd      199                \n",
       "1108149 Sheffield Ave & Waveland Ave    324                \n",
       "1108150 Lake Shore Dr & North Blvd      220                \n",
       "1108151 Lake Shore Dr & North Blvd      220                \n",
       "1108152 Southport Ave & Waveland Ave    632                \n",
       "1108153 Daley Center Plaza               56                \n",
       "1108154 LaSalle St & Jackson Blvd       273                \n",
       "1108155 Halsted St & Dickens Ave        224                \n",
       "1108156 State St & Pearson St           620                \n",
       "1108157 Damen Ave & Madison St           69                \n",
       "1108158 Paulina St & Howard St          451                \n",
       "1108159 Halsted St & Archer Ave         206                \n",
       "1108160 Wabash Ave & Grand Ave          338                \n",
       "1108161 Greenview Ave & Diversey Pkwy   337                \n",
       "1108162 Racine Ave & Belmont Ave        300                \n",
       "1108163 Michigan Ave & Oak St           249                \n",
       "        estacion_llegada                     membrecia  Member.Gender\n",
       "1       Desplaines St & Kinzie St            Subscriber Male         \n",
       "2       Wabash Ave & Roosevelt Rd            Subscriber Female       \n",
       "3       Canal St & Madison St                Subscriber Male         \n",
       "4       Kingsbury St & Kinzie St             Subscriber Male         \n",
       "5       Blue Island Ave & 18th St            Subscriber Male         \n",
       "6       Ellis Ave & 60th St                  Subscriber Male         \n",
       "7       Central Park Ave & Elbridge Ave      Subscriber Male         \n",
       "8       Kosciuszko Park                      Subscriber Male         \n",
       "9       St. Clair St & Erie St               Customer                \n",
       "10      St. Clair St & Erie St               Customer                \n",
       "11      Pine Grove Ave & Waveland Ave        Subscriber Male         \n",
       "12      Clark St & Chicago Ave               Subscriber Male         \n",
       "13      Franklin St & Jackson Blvd           Subscriber Male         \n",
       "14      Broadway & Sheridan Rd               Subscriber Male         \n",
       "15      Indiana Ave & Roosevelt Rd           Subscriber Male         \n",
       "16      Financial Pl & Ida B Wells Dr (Temp) Subscriber Male         \n",
       "17      Indiana Ave & 31st St                Subscriber Female       \n",
       "18      Franklin St & Jackson Blvd           Subscriber Male         \n",
       "19      Clark St & Winnemac Ave              Customer                \n",
       "20      Cottage Grove Ave & 63rd St          Subscriber Male         \n",
       "21      Lincoln Ave & Roscoe St              Subscriber Male         \n",
       "22      MLK Jr Dr & 63rd St                  Subscriber Male         \n",
       "23      Fairbanks St & Superior St (*)       Subscriber Male         \n",
       "24      Ashland Ave & Belle Plaine Ave       Subscriber Female       \n",
       "25      Drake Ave & Fullerton Ave            Subscriber Male         \n",
       "26      State St & Randolph St               Subscriber Female       \n",
       "27      Lake Shore Dr & Belmont Ave          Subscriber Male         \n",
       "28      Paulina St & 18th St                 Subscriber Male         \n",
       "29      Franklin St & Chicago Ave            Subscriber Male         \n",
       "30      Sawyer Ave & Irving Park Rd          Customer   Male         \n",
       "⋮       ⋮                                    ⋮          ⋮            \n",
       "1108134 Michigan Ave & Lake St               Customer                \n",
       "1108135 Michigan Ave & Lake St               Customer                \n",
       "1108136 Larrabee St & Webster Ave            Subscriber Male         \n",
       "1108137 Dusable Harbor                       Customer   Female       \n",
       "1108138 Dusable Harbor                       Customer   Female       \n",
       "1108139 Pine Grove Ave & Irving Park Rd      Subscriber Male         \n",
       "1108140 Dusable Harbor                       Customer   Female       \n",
       "1108141 California Ave & Milwaukee Ave       Subscriber Male         \n",
       "1108142 LaSalle St & Washington St           Customer   Male         \n",
       "1108143 Ashland Ave & Division St            Subscriber Male         \n",
       "1108144 Perry Ave & 69th St                  Subscriber Male         \n",
       "1108145 Clifton Ave & Armitage Ave           Subscriber Male         \n",
       "1108146 Wabash Ave & 9th St                  Subscriber Female       \n",
       "1108147 Damen Ave & Chicago Ave              Subscriber Male         \n",
       "1108148 Wabash Ave & Grand Ave               Subscriber Male         \n",
       "1108149 Stockton Dr & Wrightwood Ave         Subscriber Female       \n",
       "1108150 Clark St & Drummond Pl               Subscriber Male         \n",
       "1108151 Clark St & Drummond Pl               Subscriber Female       \n",
       "1108152 Clark St & Newport St                Customer                \n",
       "1108153 Desplaines St & Kinzie St            Subscriber Male         \n",
       "1108154 Michigan Ave & 18th St               Subscriber Male         \n",
       "1108155 Halsted St & Willow St               Subscriber Male         \n",
       "1108156 Orleans St & Chestnut St (NEXT Apts) Subscriber Male         \n",
       "1108157 Damen Ave & Pierce Ave               Subscriber Male         \n",
       "1108158 Sheridan Rd & Loyola Ave             Customer                \n",
       "1108159 Halsted St & Archer Ave              Customer                \n",
       "1108160 Calumet Ave & 18th St                Subscriber Male         \n",
       "1108161 Clark St & Chicago Ave               Subscriber Female       \n",
       "1108162 Broadway & Barry Ave                 Subscriber Male         \n",
       "1108163 Montrose Harbor                      Subscriber Male         \n",
       "        X05...Member.Details.Member.Birthday.Year\n",
       "1       1975                                     \n",
       "2       1984                                     \n",
       "3       1990                                     \n",
       "4       1993                                     \n",
       "5       1992                                     \n",
       "6       1999                                     \n",
       "7       1969                                     \n",
       "8       1991                                     \n",
       "9         NA                                     \n",
       "10        NA                                     \n",
       "11      1975                                     \n",
       "12      1991                                     \n",
       "13      1990                                     \n",
       "14      1989                                     \n",
       "15      1969                                     \n",
       "16      1994                                     \n",
       "17      1989                                     \n",
       "18      1958                                     \n",
       "19        NA                                     \n",
       "20      1985                                     \n",
       "21      1981                                     \n",
       "22      1985                                     \n",
       "23      1992                                     \n",
       "24      1959                                     \n",
       "25      1969                                     \n",
       "26      1992                                     \n",
       "27      1989                                     \n",
       "28      1981                                     \n",
       "29      1997                                     \n",
       "30      1975                                     \n",
       "⋮       ⋮                                        \n",
       "1108134   NA                                     \n",
       "1108135   NA                                     \n",
       "1108136 1980                                     \n",
       "1108137 1997                                     \n",
       "1108138 1997                                     \n",
       "1108139 1981                                     \n",
       "1108140 1998                                     \n",
       "1108141 1987                                     \n",
       "1108142 1989                                     \n",
       "1108143 1978                                     \n",
       "1108144 1957                                     \n",
       "1108145 1989                                     \n",
       "1108146 1986                                     \n",
       "1108147 1996                                     \n",
       "1108148 1992                                     \n",
       "1108149 1990                                     \n",
       "1108150 1987                                     \n",
       "1108151 1986                                     \n",
       "1108152   NA                                     \n",
       "1108153 1975                                     \n",
       "1108154 1984                                     \n",
       "1108155 1987                                     \n",
       "1108156 1964                                     \n",
       "1108157 1962                                     \n",
       "1108158   NA                                     \n",
       "1108159   NA                                     \n",
       "1108160 1980                                     \n",
       "1108161 1991                                     \n",
       "1108162 1992                                     \n",
       "1108163 1987                                     "
      ]
     },
     "metadata": {},
     "output_type": "display_data"
    },
    {
     "data": {
      "text/html": [
       "<table class=\"dataframe\">\n",
       "<caption>A data.frame: 1640718 × 12</caption>\n",
       "<thead>\n",
       "\t<tr><th scope=col>id_viaje</th><th scope=col>empezo</th><th scope=col>termino</th><th scope=col>id_bici</th><th scope=col>tripduration</th><th scope=col>id_estacion_inicial</th><th scope=col>estacion_partida</th><th scope=col>id_estacion_llegada</th><th scope=col>estacion_llegada</th><th scope=col>membrecia</th><th scope=col>gender</th><th scope=col>birthyear</th></tr>\n",
       "\t<tr><th scope=col>&lt;int&gt;</th><th scope=col>&lt;chr&gt;</th><th scope=col>&lt;chr&gt;</th><th scope=col>&lt;int&gt;</th><th scope=col>&lt;chr&gt;</th><th scope=col>&lt;int&gt;</th><th scope=col>&lt;chr&gt;</th><th scope=col>&lt;int&gt;</th><th scope=col>&lt;chr&gt;</th><th scope=col>&lt;chr&gt;</th><th scope=col>&lt;chr&gt;</th><th scope=col>&lt;int&gt;</th></tr>\n",
       "</thead>\n",
       "<tbody>\n",
       "\t<tr><td>23479388</td><td>2019-07-01 00:00:27</td><td>2019-07-01 00:20:41</td><td>3591</td><td><span style=white-space:pre-wrap>1,214.0  </span></td><td>117</td><td><span style=white-space:pre-wrap>Wilton Ave &amp; Belmont Ave      </span></td><td>497</td><td><span style=white-space:pre-wrap>Kimball Ave &amp; Belmont Ave    </span></td><td>Subscriber</td><td>Male</td><td>1992</td></tr>\n",
       "\t<tr><td>23479389</td><td>2019-07-01 00:01:16</td><td>2019-07-01 00:18:44</td><td>5353</td><td><span style=white-space:pre-wrap>1,048.0  </span></td><td>381</td><td><span style=white-space:pre-wrap>Western Ave &amp; Monroe St       </span></td><td>203</td><td><span style=white-space:pre-wrap>Western Ave &amp; 21st St        </span></td><td><span style=white-space:pre-wrap>Customer  </span></td><td><span style=white-space:pre-wrap>    </span></td><td><span style=white-space:pre-wrap>  NA</span></td></tr>\n",
       "\t<tr><td>23479390</td><td>2019-07-01 00:01:48</td><td>2019-07-01 00:27:42</td><td>6180</td><td><span style=white-space:pre-wrap>1,554.0  </span></td><td>313</td><td>Lakeview Ave &amp; Fullerton Pkwy </td><td>144</td><td><span style=white-space:pre-wrap>Larrabee St &amp; Webster Ave    </span></td><td><span style=white-space:pre-wrap>Customer  </span></td><td><span style=white-space:pre-wrap>    </span></td><td><span style=white-space:pre-wrap>  NA</span></td></tr>\n",
       "\t<tr><td>23479391</td><td>2019-07-01 00:02:07</td><td>2019-07-01 00:27:10</td><td>5540</td><td><span style=white-space:pre-wrap>1,503.0  </span></td><td>313</td><td>Lakeview Ave &amp; Fullerton Pkwy </td><td>144</td><td><span style=white-space:pre-wrap>Larrabee St &amp; Webster Ave    </span></td><td><span style=white-space:pre-wrap>Customer  </span></td><td><span style=white-space:pre-wrap>    </span></td><td><span style=white-space:pre-wrap>  NA</span></td></tr>\n",
       "\t<tr><td>23479392</td><td>2019-07-01 00:02:13</td><td>2019-07-01 00:22:26</td><td>6014</td><td><span style=white-space:pre-wrap>1,213.0  </span></td><td>168</td><td><span style=white-space:pre-wrap>Michigan Ave &amp; 14th St        </span></td><td> 62</td><td><span style=white-space:pre-wrap>McCormick Place              </span></td><td><span style=white-space:pre-wrap>Customer  </span></td><td><span style=white-space:pre-wrap>    </span></td><td><span style=white-space:pre-wrap>  NA</span></td></tr>\n",
       "\t<tr><td>23479393</td><td>2019-07-01 00:02:21</td><td>2019-07-01 00:07:31</td><td>4941</td><td><span style=white-space:pre-wrap>310.0    </span></td><td>300</td><td><span style=white-space:pre-wrap>Broadway &amp; Barry Ave          </span></td><td>232</td><td>Pine Grove Ave &amp; Waveland Ave</td><td>Subscriber</td><td>Male</td><td>1990</td></tr>\n",
       "\t<tr><td>23479394</td><td>2019-07-01 00:02:24</td><td>2019-07-01 00:23:12</td><td>3770</td><td><span style=white-space:pre-wrap>1,248.0  </span></td><td>168</td><td><span style=white-space:pre-wrap>Michigan Ave &amp; 14th St        </span></td><td> 62</td><td><span style=white-space:pre-wrap>McCormick Place              </span></td><td><span style=white-space:pre-wrap>Customer  </span></td><td><span style=white-space:pre-wrap>    </span></td><td><span style=white-space:pre-wrap>  NA</span></td></tr>\n",
       "\t<tr><td>23479395</td><td>2019-07-01 00:02:26</td><td>2019-07-01 00:28:16</td><td>5442</td><td><span style=white-space:pre-wrap>1,550.0  </span></td><td>313</td><td>Lakeview Ave &amp; Fullerton Pkwy </td><td>144</td><td><span style=white-space:pre-wrap>Larrabee St &amp; Webster Ave    </span></td><td><span style=white-space:pre-wrap>Customer  </span></td><td><span style=white-space:pre-wrap>    </span></td><td><span style=white-space:pre-wrap>  NA</span></td></tr>\n",
       "\t<tr><td>23479396</td><td>2019-07-01 00:02:34</td><td>2019-07-01 00:28:57</td><td>2957</td><td><span style=white-space:pre-wrap>1,583.0  </span></td><td> 43</td><td><span style=white-space:pre-wrap>Michigan Ave &amp; Washington St  </span></td><td>195</td><td><span style=white-space:pre-wrap>Columbus Dr &amp; Randolph St    </span></td><td><span style=white-space:pre-wrap>Customer  </span></td><td><span style=white-space:pre-wrap>    </span></td><td><span style=white-space:pre-wrap>  NA</span></td></tr>\n",
       "\t<tr><td>23479397</td><td>2019-07-01 00:02:45</td><td>2019-07-01 00:29:14</td><td>6091</td><td><span style=white-space:pre-wrap>1,589.0  </span></td><td> 43</td><td><span style=white-space:pre-wrap>Michigan Ave &amp; Washington St  </span></td><td>195</td><td><span style=white-space:pre-wrap>Columbus Dr &amp; Randolph St    </span></td><td><span style=white-space:pre-wrap>Customer  </span></td><td><span style=white-space:pre-wrap>    </span></td><td><span style=white-space:pre-wrap>  NA</span></td></tr>\n",
       "\t<tr><td>23479398</td><td>2019-07-01 00:02:57</td><td>2019-07-01 00:29:05</td><td>4116</td><td><span style=white-space:pre-wrap>1,568.0  </span></td><td>511</td><td>Albany Ave &amp; Bloomingdale Ave </td><td> 84</td><td><span style=white-space:pre-wrap>Milwaukee Ave &amp; Grand Ave    </span></td><td><span style=white-space:pre-wrap>Customer  </span></td><td><span style=white-space:pre-wrap>    </span></td><td><span style=white-space:pre-wrap>  NA</span></td></tr>\n",
       "\t<tr><td>23479399</td><td>2019-07-01 00:03:07</td><td>2019-07-01 00:28:50</td><td>4948</td><td><span style=white-space:pre-wrap>1,543.0  </span></td><td> 43</td><td><span style=white-space:pre-wrap>Michigan Ave &amp; Washington St  </span></td><td>195</td><td><span style=white-space:pre-wrap>Columbus Dr &amp; Randolph St    </span></td><td><span style=white-space:pre-wrap>Customer  </span></td><td><span style=white-space:pre-wrap>    </span></td><td><span style=white-space:pre-wrap>  NA</span></td></tr>\n",
       "\t<tr><td>23479400</td><td>2019-07-01 00:04:09</td><td>2019-07-01 00:36:56</td><td> 307</td><td><span style=white-space:pre-wrap>1,967.0  </span></td><td> 24</td><td><span style=white-space:pre-wrap>Fairbanks Ct &amp; Grand Ave      </span></td><td> 24</td><td><span style=white-space:pre-wrap>Fairbanks Ct &amp; Grand Ave     </span></td><td><span style=white-space:pre-wrap>Customer  </span></td><td><span style=white-space:pre-wrap>    </span></td><td><span style=white-space:pre-wrap>  NA</span></td></tr>\n",
       "\t<tr><td>23479401</td><td>2019-07-01 00:04:25</td><td>2019-07-01 00:36:56</td><td>2422</td><td><span style=white-space:pre-wrap>1,951.0  </span></td><td> 24</td><td><span style=white-space:pre-wrap>Fairbanks Ct &amp; Grand Ave      </span></td><td> 24</td><td><span style=white-space:pre-wrap>Fairbanks Ct &amp; Grand Ave     </span></td><td><span style=white-space:pre-wrap>Customer  </span></td><td><span style=white-space:pre-wrap>    </span></td><td><span style=white-space:pre-wrap>  NA</span></td></tr>\n",
       "\t<tr><td>23479402</td><td>2019-07-01 00:04:41</td><td>2019-07-01 00:37:22</td><td>3369</td><td><span style=white-space:pre-wrap>1,961.0  </span></td><td> 24</td><td><span style=white-space:pre-wrap>Fairbanks Ct &amp; Grand Ave      </span></td><td> 24</td><td><span style=white-space:pre-wrap>Fairbanks Ct &amp; Grand Ave     </span></td><td><span style=white-space:pre-wrap>Customer  </span></td><td><span style=white-space:pre-wrap>    </span></td><td><span style=white-space:pre-wrap>  NA</span></td></tr>\n",
       "\t<tr><td>23479403</td><td>2019-07-01 00:05:18</td><td>2019-07-01 00:37:08</td><td>4050</td><td><span style=white-space:pre-wrap>1,910.0  </span></td><td> 24</td><td><span style=white-space:pre-wrap>Fairbanks Ct &amp; Grand Ave      </span></td><td> 24</td><td><span style=white-space:pre-wrap>Fairbanks Ct &amp; Grand Ave     </span></td><td><span style=white-space:pre-wrap>Customer  </span></td><td><span style=white-space:pre-wrap>    </span></td><td><span style=white-space:pre-wrap>  NA</span></td></tr>\n",
       "\t<tr><td>23479404</td><td>2019-07-01 00:06:06</td><td>2019-07-01 00:33:33</td><td>1535</td><td><span style=white-space:pre-wrap>1,647.0  </span></td><td> 43</td><td><span style=white-space:pre-wrap>Michigan Ave &amp; Washington St  </span></td><td> 43</td><td>Michigan Ave &amp; Washington St </td><td><span style=white-space:pre-wrap>Customer  </span></td><td><span style=white-space:pre-wrap>    </span></td><td><span style=white-space:pre-wrap>  NA</span></td></tr>\n",
       "\t<tr><td>23479405</td><td>2019-07-01 00:06:10</td><td>2019-07-01 00:33:08</td><td>4722</td><td><span style=white-space:pre-wrap>1,618.0  </span></td><td> 43</td><td><span style=white-space:pre-wrap>Michigan Ave &amp; Washington St  </span></td><td> 43</td><td>Michigan Ave &amp; Washington St </td><td><span style=white-space:pre-wrap>Customer  </span></td><td><span style=white-space:pre-wrap>    </span></td><td><span style=white-space:pre-wrap>  NA</span></td></tr>\n",
       "\t<tr><td>23479406</td><td>2019-07-01 00:06:51</td><td>2019-07-01 00:26:22</td><td>2758</td><td><span style=white-space:pre-wrap>1,171.0  </span></td><td>624</td><td><span style=white-space:pre-wrap>Dearborn St &amp; Van Buren St    </span></td><td>237</td><td><span style=white-space:pre-wrap>MLK Jr Dr &amp; 29th St          </span></td><td>Subscriber</td><td>Male</td><td>1995</td></tr>\n",
       "\t<tr><td>23479407</td><td>2019-07-01 00:06:55</td><td>2019-07-01 00:33:28</td><td>1614</td><td><span style=white-space:pre-wrap>1,593.0  </span></td><td> 43</td><td><span style=white-space:pre-wrap>Michigan Ave &amp; Washington St  </span></td><td> 43</td><td>Michigan Ave &amp; Washington St </td><td><span style=white-space:pre-wrap>Customer  </span></td><td><span style=white-space:pre-wrap>    </span></td><td><span style=white-space:pre-wrap>  NA</span></td></tr>\n",
       "\t<tr><td>23479408</td><td>2019-07-01 00:08:24</td><td>2019-07-01 00:20:07</td><td>2447</td><td><span style=white-space:pre-wrap>703.0    </span></td><td>239</td><td><span style=white-space:pre-wrap>Western Ave &amp; Leland Ave      </span></td><td>455</td><td>Maplewood Ave &amp; Peterson Ave </td><td>Subscriber</td><td>Male</td><td>1970</td></tr>\n",
       "\t<tr><td>23479409</td><td>2019-07-01 00:08:40</td><td>2019-07-01 00:27:50</td><td>6336</td><td><span style=white-space:pre-wrap>1,150.0  </span></td><td>257</td><td><span style=white-space:pre-wrap>Lincoln Ave &amp; Waveland Ave    </span></td><td>295</td><td><span style=white-space:pre-wrap>Broadway &amp; Argyle St         </span></td><td>Subscriber</td><td>Male</td><td>1993</td></tr>\n",
       "\t<tr><td>23479410</td><td>2019-07-01 00:08:45</td><td>2019-07-01 00:19:24</td><td>3249</td><td><span style=white-space:pre-wrap>639.0    </span></td><td>309</td><td><span style=white-space:pre-wrap>Leavitt St &amp; Armitage Ave     </span></td><td>113</td><td><span style=white-space:pre-wrap>Bissell St &amp; Armitage Ave    </span></td><td><span style=white-space:pre-wrap>Customer  </span></td><td><span style=white-space:pre-wrap>    </span></td><td><span style=white-space:pre-wrap>  NA</span></td></tr>\n",
       "\t<tr><td>23479411</td><td>2019-07-01 00:10:20</td><td>2019-07-01 00:19:36</td><td>3632</td><td><span style=white-space:pre-wrap>556.0    </span></td><td> 76</td><td><span style=white-space:pre-wrap>Lake Shore Dr &amp; Monroe St     </span></td><td> 59</td><td><span style=white-space:pre-wrap>Wabash Ave &amp; Roosevelt Rd    </span></td><td><span style=white-space:pre-wrap>Customer  </span></td><td><span style=white-space:pre-wrap>    </span></td><td><span style=white-space:pre-wrap>  NA</span></td></tr>\n",
       "\t<tr><td>23479412</td><td>2019-07-01 00:10:47</td><td>2019-07-01 01:46:44</td><td>3154</td><td>5,757.0  </td><td> 90</td><td>Millennium Park               </td><td> 90</td><td>Millennium Park              </td><td>Customer  </td><td>    </td><td>  NA</td></tr>\n",
       "\t<tr><td>23479414</td><td>2019-07-01 00:11:17</td><td>2019-07-01 00:25:36</td><td>2138</td><td><span style=white-space:pre-wrap>859.0    </span></td><td>313</td><td>Lakeview Ave &amp; Fullerton Pkwy </td><td> 58</td><td>Marshfield Ave &amp; Cortland St </td><td><span style=white-space:pre-wrap>Customer  </span></td><td><span style=white-space:pre-wrap>    </span></td><td><span style=white-space:pre-wrap>  NA</span></td></tr>\n",
       "\t<tr><td>23479415</td><td>2019-07-01 00:11:22</td><td>2019-07-01 01:46:44</td><td>1713</td><td>5,722.0  </td><td> 90</td><td>Millennium Park               </td><td> 90</td><td>Millennium Park              </td><td>Customer  </td><td>    </td><td>  NA</td></tr>\n",
       "\t<tr><td>23479416</td><td>2019-07-01 00:14:40</td><td>2019-07-02 07:53:48</td><td>1122</td><td>113,948.0</td><td>123</td><td>California Ave &amp; Milwaukee Ave</td><td>509</td><td><span style=white-space:pre-wrap>Troy St &amp; North Ave          </span></td><td><span style=white-space:pre-wrap>Customer  </span></td><td><span style=white-space:pre-wrap>    </span></td><td><span style=white-space:pre-wrap>  NA</span></td></tr>\n",
       "\t<tr><td>23479417</td><td>2019-07-01 00:14:58</td><td>2019-07-01 01:15:58</td><td> 356</td><td><span style=white-space:pre-wrap>3,660.0  </span></td><td>123</td><td>California Ave &amp; Milwaukee Ave</td><td>222</td><td><span style=white-space:pre-wrap>Milwaukee Ave &amp; Rockwell St  </span></td><td><span style=white-space:pre-wrap>Customer  </span></td><td><span style=white-space:pre-wrap>    </span></td><td><span style=white-space:pre-wrap>  NA</span></td></tr>\n",
       "\t<tr><td>23479418</td><td>2019-07-01 00:15:06</td><td>2019-07-01 00:36:40</td><td>4525</td><td><span style=white-space:pre-wrap>1,294.0  </span></td><td>240</td><td><span style=white-space:pre-wrap>Sheridan Rd &amp; Irving Park Rd  </span></td><td>326</td><td><span style=white-space:pre-wrap>Clark St &amp; Leland Ave        </span></td><td><span style=white-space:pre-wrap>Customer  </span></td><td>Male</td><td>1987</td></tr>\n",
       "\t<tr><td>⋮</td><td>⋮</td><td>⋮</td><td>⋮</td><td>⋮</td><td>⋮</td><td>⋮</td><td>⋮</td><td>⋮</td><td>⋮</td><td>⋮</td><td>⋮</td></tr>\n",
       "\t<tr><td>25223610</td><td>2019-09-30 23:44:28</td><td>2019-09-30 23:50:15</td><td>5387</td><td><span style=white-space:pre-wrap>347.0  </span></td><td> 22</td><td><span style=white-space:pre-wrap>May St &amp; Taylor St                     </span></td><td>282</td><td><span style=white-space:pre-wrap>Halsted St &amp; Maxwell St         </span></td><td>Subscriber</td><td><span style=white-space:pre-wrap>Male  </span></td><td>1995</td></tr>\n",
       "\t<tr><td>25223611</td><td>2019-09-30 23:45:47</td><td>2019-10-01 00:06:31</td><td>5747</td><td>1,244.0</td><td>664</td><td><span style=white-space:pre-wrap>Leavitt St &amp; Belmont Ave (*)           </span></td><td>313</td><td><span style=white-space:pre-wrap>Lakeview Ave &amp; Fullerton Pkwy   </span></td><td>Subscriber</td><td>Female</td><td>1996</td></tr>\n",
       "\t<tr><td>25223612</td><td>2019-09-30 23:46:37</td><td>2019-10-01 00:10:19</td><td>4333</td><td>1,421.0</td><td>591</td><td><span style=white-space:pre-wrap>Kilbourn Ave &amp; Milwaukee Ave           </span></td><td>123</td><td><span style=white-space:pre-wrap>California Ave &amp; Milwaukee Ave  </span></td><td><span style=white-space:pre-wrap>Customer  </span></td><td><span style=white-space:pre-wrap>      </span></td><td><span style=white-space:pre-wrap>  NA</span></td></tr>\n",
       "\t<tr><td>25223613</td><td>2019-09-30 23:47:11</td><td>2019-10-01 00:12:26</td><td>6228</td><td>1,514.0</td><td>232</td><td><span style=white-space:pre-wrap>Pine Grove Ave &amp; Waveland Ave          </span></td><td>257</td><td><span style=white-space:pre-wrap>Lincoln Ave &amp; Waveland Ave      </span></td><td><span style=white-space:pre-wrap>Customer  </span></td><td><span style=white-space:pre-wrap>Male  </span></td><td>1999</td></tr>\n",
       "\t<tr><td>25223614</td><td>2019-09-30 23:47:31</td><td>2019-09-30 23:56:55</td><td> 488</td><td><span style=white-space:pre-wrap>563.0  </span></td><td>596</td><td><span style=white-space:pre-wrap>Benson Ave &amp; Church St                 </span></td><td>600</td><td><span style=white-space:pre-wrap>Dodge Ave &amp; Church St           </span></td><td><span style=white-space:pre-wrap>Customer  </span></td><td><span style=white-space:pre-wrap>Male  </span></td><td>1971</td></tr>\n",
       "\t<tr><td>25223615</td><td>2019-09-30 23:47:41</td><td>2019-10-01 00:28:15</td><td> 406</td><td>2,433.0</td><td>302</td><td><span style=white-space:pre-wrap>Sheffield Ave &amp; Wrightwood Ave         </span></td><td> 85</td><td><span style=white-space:pre-wrap>Michigan Ave &amp; Oak St           </span></td><td><span style=white-space:pre-wrap>Customer  </span></td><td><span style=white-space:pre-wrap>      </span></td><td><span style=white-space:pre-wrap>  NA</span></td></tr>\n",
       "\t<tr><td>25223616</td><td>2019-09-30 23:47:57</td><td>2019-09-30 23:50:40</td><td>3584</td><td><span style=white-space:pre-wrap>163.0  </span></td><td>302</td><td><span style=white-space:pre-wrap>Sheffield Ave &amp; Wrightwood Ave         </span></td><td>349</td><td><span style=white-space:pre-wrap>Halsted St &amp; Wrightwood Ave     </span></td><td>Subscriber</td><td><span style=white-space:pre-wrap>Male  </span></td><td>1992</td></tr>\n",
       "\t<tr><td>25223617</td><td>2019-09-30 23:48:12</td><td>2019-09-30 23:53:16</td><td>4970</td><td><span style=white-space:pre-wrap>304.0  </span></td><td>654</td><td><span style=white-space:pre-wrap>Racine Ave &amp; Washington Blvd (*)       </span></td><td>186</td><td><span style=white-space:pre-wrap>Ogden Ave &amp; Race Ave            </span></td><td>Subscriber</td><td>Female</td><td>1989</td></tr>\n",
       "\t<tr><td>25223618</td><td>2019-09-30 23:48:29</td><td>2019-10-01 00:12:16</td><td>2370</td><td>1,426.0</td><td>232</td><td><span style=white-space:pre-wrap>Pine Grove Ave &amp; Waveland Ave          </span></td><td>257</td><td><span style=white-space:pre-wrap>Lincoln Ave &amp; Waveland Ave      </span></td><td><span style=white-space:pre-wrap>Customer  </span></td><td><span style=white-space:pre-wrap>Male  </span></td><td>1989</td></tr>\n",
       "\t<tr><td>25223619</td><td>2019-09-30 23:48:39</td><td>2019-10-01 00:13:07</td><td>4737</td><td>1,468.0</td><td>490</td><td><span style=white-space:pre-wrap>Troy St &amp; Elston Ave                   </span></td><td>296</td><td><span style=white-space:pre-wrap>Broadway &amp; Belmont Ave          </span></td><td>Subscriber</td><td><span style=white-space:pre-wrap>Male  </span></td><td>1994</td></tr>\n",
       "\t<tr><td>25223620</td><td>2019-09-30 23:49:24</td><td>2019-09-30 23:56:47</td><td>3182</td><td><span style=white-space:pre-wrap>443.0  </span></td><td>232</td><td><span style=white-space:pre-wrap>Pine Grove Ave &amp; Waveland Ave          </span></td><td>117</td><td><span style=white-space:pre-wrap>Wilton Ave &amp; Belmont Ave        </span></td><td><span style=white-space:pre-wrap>Customer  </span></td><td><span style=white-space:pre-wrap>      </span></td><td><span style=white-space:pre-wrap>  NA</span></td></tr>\n",
       "\t<tr><td>25223621</td><td>2019-09-30 23:49:26</td><td>2019-10-01 00:12:34</td><td>1867</td><td>1,387.0</td><td>232</td><td><span style=white-space:pre-wrap>Pine Grove Ave &amp; Waveland Ave          </span></td><td>257</td><td><span style=white-space:pre-wrap>Lincoln Ave &amp; Waveland Ave      </span></td><td><span style=white-space:pre-wrap>Customer  </span></td><td><span style=white-space:pre-wrap>      </span></td><td><span style=white-space:pre-wrap>  NA</span></td></tr>\n",
       "\t<tr><td>25223622</td><td>2019-09-30 23:51:33</td><td>2019-10-01 00:15:18</td><td>3892</td><td>1,425.0</td><td> 50</td><td><span style=white-space:pre-wrap>Clark St &amp; Ida B Wells Dr              </span></td><td>280</td><td><span style=white-space:pre-wrap>Morgan St &amp; 31st St             </span></td><td>Subscriber</td><td><span style=white-space:pre-wrap>Male  </span></td><td>1985</td></tr>\n",
       "\t<tr><td>25223623</td><td>2019-09-30 23:51:27</td><td>2019-10-01 00:10:39</td><td>3422</td><td>1,151.0</td><td>331</td><td><span style=white-space:pre-wrap>Halsted St &amp; Clybourn Ave              </span></td><td>637</td><td><span style=white-space:pre-wrap>Wood St &amp; Chicago Ave (*)       </span></td><td>Subscriber</td><td><span style=white-space:pre-wrap>Male  </span></td><td>1993</td></tr>\n",
       "\t<tr><td>25223624</td><td>2019-09-30 23:51:38</td><td>2019-10-01 00:28:28</td><td>5507</td><td>2,209.0</td><td>349</td><td><span style=white-space:pre-wrap>Halsted St &amp; Wrightwood Ave            </span></td><td> 85</td><td><span style=white-space:pre-wrap>Michigan Ave &amp; Oak St           </span></td><td>Subscriber</td><td><span style=white-space:pre-wrap>Male  </span></td><td>1992</td></tr>\n",
       "\t<tr><td>25223625</td><td>2019-09-30 23:51:45</td><td>2019-10-01 00:12:43</td><td>5387</td><td>1,257.0</td><td>282</td><td><span style=white-space:pre-wrap>Halsted St &amp; Maxwell St                </span></td><td>148</td><td><span style=white-space:pre-wrap>State St &amp; 33rd St              </span></td><td><span style=white-space:pre-wrap>Customer  </span></td><td><span style=white-space:pre-wrap>      </span></td><td>1999</td></tr>\n",
       "\t<tr><td>25223626</td><td>2019-09-30 23:51:49</td><td>2019-10-01 00:01:12</td><td>1908</td><td><span style=white-space:pre-wrap>563.0  </span></td><td>195</td><td><span style=white-space:pre-wrap>Columbus Dr &amp; Randolph St              </span></td><td> 77</td><td><span style=white-space:pre-wrap>Clinton St &amp; Madison St         </span></td><td>Subscriber</td><td><span style=white-space:pre-wrap>Male  </span></td><td>1969</td></tr>\n",
       "\t<tr><td>25223627</td><td>2019-09-30 23:52:37</td><td>2019-10-01 00:03:15</td><td>5232</td><td><span style=white-space:pre-wrap>638.0  </span></td><td>331</td><td><span style=white-space:pre-wrap>Halsted St &amp; Clybourn Ave              </span></td><td> 13</td><td><span style=white-space:pre-wrap>Wilton Ave &amp; Diversey Pkwy      </span></td><td>Subscriber</td><td><span style=white-space:pre-wrap>Male  </span></td><td>1993</td></tr>\n",
       "\t<tr><td>25223628</td><td>2019-09-30 23:52:53</td><td>2019-10-01 00:19:53</td><td> 803</td><td>1,620.0</td><td>225</td><td><span style=white-space:pre-wrap>Halsted St &amp; Dickens Ave               </span></td><td>260</td><td><span style=white-space:pre-wrap>Kedzie Ave &amp; Milwaukee Ave      </span></td><td><span style=white-space:pre-wrap>Customer  </span></td><td><span style=white-space:pre-wrap>      </span></td><td><span style=white-space:pre-wrap>  NA</span></td></tr>\n",
       "\t<tr><td>25223629</td><td>2019-09-30 23:53:05</td><td>2019-10-01 00:06:27</td><td>4600</td><td><span style=white-space:pre-wrap>801.0  </span></td><td>238</td><td>Wolcott (Ravenswood) Ave &amp; Montrose Ave</td><td>251</td><td><span style=white-space:pre-wrap>Clarendon Ave &amp; Leland Ave      </span></td><td>Subscriber</td><td><span style=white-space:pre-wrap>Male  </span></td><td>1980</td></tr>\n",
       "\t<tr><td>25223630</td><td>2019-09-30 23:54:03</td><td>2019-10-01 00:09:59</td><td>1788</td><td><span style=white-space:pre-wrap>955.0  </span></td><td>228</td><td><span style=white-space:pre-wrap>Damen Ave &amp; Melrose Ave                </span></td><td>240</td><td><span style=white-space:pre-wrap>Sheridan Rd &amp; Irving Park Rd    </span></td><td>Subscriber</td><td><span style=white-space:pre-wrap>Male  </span></td><td>1986</td></tr>\n",
       "\t<tr><td>25223631</td><td>2019-09-30 23:55:26</td><td>2019-10-01 00:06:47</td><td>4409</td><td><span style=white-space:pre-wrap>680.0  </span></td><td> 54</td><td><span style=white-space:pre-wrap>Ogden Ave &amp; Chicago Ave                </span></td><td>346</td><td><span style=white-space:pre-wrap>Ada St &amp; Washington Blvd        </span></td><td>Subscriber</td><td><span style=white-space:pre-wrap>Male  </span></td><td>1989</td></tr>\n",
       "\t<tr><td>25223632</td><td>2019-09-30 23:55:40</td><td>2019-10-01 00:29:01</td><td>5488</td><td>2,001.0</td><td> 52</td><td><span style=white-space:pre-wrap>Michigan Ave &amp; Lake St                 </span></td><td>289</td><td><span style=white-space:pre-wrap>Wells St &amp; Concord Ln           </span></td><td>Subscriber</td><td>Female</td><td>1995</td></tr>\n",
       "\t<tr><td>25223633</td><td>2019-09-30 23:56:09</td><td>2019-10-01 00:30:33</td><td>5181</td><td>2,063.0</td><td>264</td><td><span style=white-space:pre-wrap>Stetson Ave &amp; South Water St           </span></td><td>623</td><td><span style=white-space:pre-wrap>Michigan Ave &amp; 8th St           </span></td><td><span style=white-space:pre-wrap>Customer  </span></td><td><span style=white-space:pre-wrap>      </span></td><td><span style=white-space:pre-wrap>  NA</span></td></tr>\n",
       "\t<tr><td>25223634</td><td>2019-09-30 23:56:12</td><td>2019-10-01 00:30:21</td><td> 400</td><td>2,049.0</td><td>264</td><td><span style=white-space:pre-wrap>Stetson Ave &amp; South Water St           </span></td><td>623</td><td><span style=white-space:pre-wrap>Michigan Ave &amp; 8th St           </span></td><td><span style=white-space:pre-wrap>Customer  </span></td><td><span style=white-space:pre-wrap>      </span></td><td><span style=white-space:pre-wrap>  NA</span></td></tr>\n",
       "\t<tr><td>25223635</td><td>2019-09-30 23:56:27</td><td>2019-10-01 00:06:20</td><td>5690</td><td><span style=white-space:pre-wrap>593.0  </span></td><td> 84</td><td><span style=white-space:pre-wrap>Milwaukee Ave &amp; Grand Ave              </span></td><td>134</td><td><span style=white-space:pre-wrap>Peoria St &amp; Jackson Blvd        </span></td><td>Subscriber</td><td><span style=white-space:pre-wrap>Male  </span></td><td>1993</td></tr>\n",
       "\t<tr><td>25223636</td><td>2019-09-30 23:57:02</td><td>2019-10-01 00:02:13</td><td>5079</td><td><span style=white-space:pre-wrap>310.0  </span></td><td>268</td><td><span style=white-space:pre-wrap>Lake Shore Dr &amp; North Blvd             </span></td><td> 85</td><td><span style=white-space:pre-wrap>Michigan Ave &amp; Oak St           </span></td><td>Subscriber</td><td><span style=white-space:pre-wrap>Male  </span></td><td>1992</td></tr>\n",
       "\t<tr><td>25223637</td><td>2019-09-30 23:57:45</td><td>2019-10-01 00:01:41</td><td>5535</td><td><span style=white-space:pre-wrap>235.0  </span></td><td>423</td><td><span style=white-space:pre-wrap>University Ave &amp; 57th St               </span></td><td>426</td><td><span style=white-space:pre-wrap>Ellis Ave &amp; 60th St             </span></td><td><span style=white-space:pre-wrap>Customer  </span></td><td><span style=white-space:pre-wrap>Male  </span></td><td>2000</td></tr>\n",
       "\t<tr><td>25223638</td><td>2019-09-30 23:57:47</td><td>2019-10-01 00:04:41</td><td>6120</td><td><span style=white-space:pre-wrap>414.0  </span></td><td>110</td><td><span style=white-space:pre-wrap>Dearborn St &amp; Erie St                  </span></td><td> 31</td><td>Franklin St &amp; Chicago Ave (Temp)</td><td>Subscriber</td><td><span style=white-space:pre-wrap>Male  </span></td><td>1986</td></tr>\n",
       "\t<tr><td>25223639</td><td>2019-09-30 23:59:37</td><td>2019-10-01 00:05:17</td><td><span style=white-space:pre-wrap>  60</span></td><td><span style=white-space:pre-wrap>339.0  </span></td><td>265</td><td><span style=white-space:pre-wrap>Cottage Grove Ave &amp; Oakwood Blvd       </span></td><td>179</td><td><span style=white-space:pre-wrap>MLK Jr Dr &amp; Pershing Rd         </span></td><td>Subscriber</td><td>Female</td><td>1996</td></tr>\n",
       "</tbody>\n",
       "</table>\n"
      ],
      "text/latex": [
       "A data.frame: 1640718 × 12\n",
       "\\begin{tabular}{llllllllllll}\n",
       " id\\_viaje & empezo & termino & id\\_bici & tripduration & id\\_estacion\\_inicial & estacion\\_partida & id\\_estacion\\_llegada & estacion\\_llegada & membrecia & gender & birthyear\\\\\n",
       " <int> & <chr> & <chr> & <int> & <chr> & <int> & <chr> & <int> & <chr> & <chr> & <chr> & <int>\\\\\n",
       "\\hline\n",
       "\t 23479388 & 2019-07-01 00:00:27 & 2019-07-01 00:20:41 & 3591 & 1,214.0   & 117 & Wilton Ave \\& Belmont Ave       & 497 & Kimball Ave \\& Belmont Ave     & Subscriber & Male & 1992\\\\\n",
       "\t 23479389 & 2019-07-01 00:01:16 & 2019-07-01 00:18:44 & 5353 & 1,048.0   & 381 & Western Ave \\& Monroe St        & 203 & Western Ave \\& 21st St         & Customer   &      &   NA\\\\\n",
       "\t 23479390 & 2019-07-01 00:01:48 & 2019-07-01 00:27:42 & 6180 & 1,554.0   & 313 & Lakeview Ave \\& Fullerton Pkwy  & 144 & Larrabee St \\& Webster Ave     & Customer   &      &   NA\\\\\n",
       "\t 23479391 & 2019-07-01 00:02:07 & 2019-07-01 00:27:10 & 5540 & 1,503.0   & 313 & Lakeview Ave \\& Fullerton Pkwy  & 144 & Larrabee St \\& Webster Ave     & Customer   &      &   NA\\\\\n",
       "\t 23479392 & 2019-07-01 00:02:13 & 2019-07-01 00:22:26 & 6014 & 1,213.0   & 168 & Michigan Ave \\& 14th St         &  62 & McCormick Place               & Customer   &      &   NA\\\\\n",
       "\t 23479393 & 2019-07-01 00:02:21 & 2019-07-01 00:07:31 & 4941 & 310.0     & 300 & Broadway \\& Barry Ave           & 232 & Pine Grove Ave \\& Waveland Ave & Subscriber & Male & 1990\\\\\n",
       "\t 23479394 & 2019-07-01 00:02:24 & 2019-07-01 00:23:12 & 3770 & 1,248.0   & 168 & Michigan Ave \\& 14th St         &  62 & McCormick Place               & Customer   &      &   NA\\\\\n",
       "\t 23479395 & 2019-07-01 00:02:26 & 2019-07-01 00:28:16 & 5442 & 1,550.0   & 313 & Lakeview Ave \\& Fullerton Pkwy  & 144 & Larrabee St \\& Webster Ave     & Customer   &      &   NA\\\\\n",
       "\t 23479396 & 2019-07-01 00:02:34 & 2019-07-01 00:28:57 & 2957 & 1,583.0   &  43 & Michigan Ave \\& Washington St   & 195 & Columbus Dr \\& Randolph St     & Customer   &      &   NA\\\\\n",
       "\t 23479397 & 2019-07-01 00:02:45 & 2019-07-01 00:29:14 & 6091 & 1,589.0   &  43 & Michigan Ave \\& Washington St   & 195 & Columbus Dr \\& Randolph St     & Customer   &      &   NA\\\\\n",
       "\t 23479398 & 2019-07-01 00:02:57 & 2019-07-01 00:29:05 & 4116 & 1,568.0   & 511 & Albany Ave \\& Bloomingdale Ave  &  84 & Milwaukee Ave \\& Grand Ave     & Customer   &      &   NA\\\\\n",
       "\t 23479399 & 2019-07-01 00:03:07 & 2019-07-01 00:28:50 & 4948 & 1,543.0   &  43 & Michigan Ave \\& Washington St   & 195 & Columbus Dr \\& Randolph St     & Customer   &      &   NA\\\\\n",
       "\t 23479400 & 2019-07-01 00:04:09 & 2019-07-01 00:36:56 &  307 & 1,967.0   &  24 & Fairbanks Ct \\& Grand Ave       &  24 & Fairbanks Ct \\& Grand Ave      & Customer   &      &   NA\\\\\n",
       "\t 23479401 & 2019-07-01 00:04:25 & 2019-07-01 00:36:56 & 2422 & 1,951.0   &  24 & Fairbanks Ct \\& Grand Ave       &  24 & Fairbanks Ct \\& Grand Ave      & Customer   &      &   NA\\\\\n",
       "\t 23479402 & 2019-07-01 00:04:41 & 2019-07-01 00:37:22 & 3369 & 1,961.0   &  24 & Fairbanks Ct \\& Grand Ave       &  24 & Fairbanks Ct \\& Grand Ave      & Customer   &      &   NA\\\\\n",
       "\t 23479403 & 2019-07-01 00:05:18 & 2019-07-01 00:37:08 & 4050 & 1,910.0   &  24 & Fairbanks Ct \\& Grand Ave       &  24 & Fairbanks Ct \\& Grand Ave      & Customer   &      &   NA\\\\\n",
       "\t 23479404 & 2019-07-01 00:06:06 & 2019-07-01 00:33:33 & 1535 & 1,647.0   &  43 & Michigan Ave \\& Washington St   &  43 & Michigan Ave \\& Washington St  & Customer   &      &   NA\\\\\n",
       "\t 23479405 & 2019-07-01 00:06:10 & 2019-07-01 00:33:08 & 4722 & 1,618.0   &  43 & Michigan Ave \\& Washington St   &  43 & Michigan Ave \\& Washington St  & Customer   &      &   NA\\\\\n",
       "\t 23479406 & 2019-07-01 00:06:51 & 2019-07-01 00:26:22 & 2758 & 1,171.0   & 624 & Dearborn St \\& Van Buren St     & 237 & MLK Jr Dr \\& 29th St           & Subscriber & Male & 1995\\\\\n",
       "\t 23479407 & 2019-07-01 00:06:55 & 2019-07-01 00:33:28 & 1614 & 1,593.0   &  43 & Michigan Ave \\& Washington St   &  43 & Michigan Ave \\& Washington St  & Customer   &      &   NA\\\\\n",
       "\t 23479408 & 2019-07-01 00:08:24 & 2019-07-01 00:20:07 & 2447 & 703.0     & 239 & Western Ave \\& Leland Ave       & 455 & Maplewood Ave \\& Peterson Ave  & Subscriber & Male & 1970\\\\\n",
       "\t 23479409 & 2019-07-01 00:08:40 & 2019-07-01 00:27:50 & 6336 & 1,150.0   & 257 & Lincoln Ave \\& Waveland Ave     & 295 & Broadway \\& Argyle St          & Subscriber & Male & 1993\\\\\n",
       "\t 23479410 & 2019-07-01 00:08:45 & 2019-07-01 00:19:24 & 3249 & 639.0     & 309 & Leavitt St \\& Armitage Ave      & 113 & Bissell St \\& Armitage Ave     & Customer   &      &   NA\\\\\n",
       "\t 23479411 & 2019-07-01 00:10:20 & 2019-07-01 00:19:36 & 3632 & 556.0     &  76 & Lake Shore Dr \\& Monroe St      &  59 & Wabash Ave \\& Roosevelt Rd     & Customer   &      &   NA\\\\\n",
       "\t 23479412 & 2019-07-01 00:10:47 & 2019-07-01 01:46:44 & 3154 & 5,757.0   &  90 & Millennium Park                &  90 & Millennium Park               & Customer   &      &   NA\\\\\n",
       "\t 23479414 & 2019-07-01 00:11:17 & 2019-07-01 00:25:36 & 2138 & 859.0     & 313 & Lakeview Ave \\& Fullerton Pkwy  &  58 & Marshfield Ave \\& Cortland St  & Customer   &      &   NA\\\\\n",
       "\t 23479415 & 2019-07-01 00:11:22 & 2019-07-01 01:46:44 & 1713 & 5,722.0   &  90 & Millennium Park                &  90 & Millennium Park               & Customer   &      &   NA\\\\\n",
       "\t 23479416 & 2019-07-01 00:14:40 & 2019-07-02 07:53:48 & 1122 & 113,948.0 & 123 & California Ave \\& Milwaukee Ave & 509 & Troy St \\& North Ave           & Customer   &      &   NA\\\\\n",
       "\t 23479417 & 2019-07-01 00:14:58 & 2019-07-01 01:15:58 &  356 & 3,660.0   & 123 & California Ave \\& Milwaukee Ave & 222 & Milwaukee Ave \\& Rockwell St   & Customer   &      &   NA\\\\\n",
       "\t 23479418 & 2019-07-01 00:15:06 & 2019-07-01 00:36:40 & 4525 & 1,294.0   & 240 & Sheridan Rd \\& Irving Park Rd   & 326 & Clark St \\& Leland Ave         & Customer   & Male & 1987\\\\\n",
       "\t ⋮ & ⋮ & ⋮ & ⋮ & ⋮ & ⋮ & ⋮ & ⋮ & ⋮ & ⋮ & ⋮ & ⋮\\\\\n",
       "\t 25223610 & 2019-09-30 23:44:28 & 2019-09-30 23:50:15 & 5387 & 347.0   &  22 & May St \\& Taylor St                      & 282 & Halsted St \\& Maxwell St          & Subscriber & Male   & 1995\\\\\n",
       "\t 25223611 & 2019-09-30 23:45:47 & 2019-10-01 00:06:31 & 5747 & 1,244.0 & 664 & Leavitt St \\& Belmont Ave (*)            & 313 & Lakeview Ave \\& Fullerton Pkwy    & Subscriber & Female & 1996\\\\\n",
       "\t 25223612 & 2019-09-30 23:46:37 & 2019-10-01 00:10:19 & 4333 & 1,421.0 & 591 & Kilbourn Ave \\& Milwaukee Ave            & 123 & California Ave \\& Milwaukee Ave   & Customer   &        &   NA\\\\\n",
       "\t 25223613 & 2019-09-30 23:47:11 & 2019-10-01 00:12:26 & 6228 & 1,514.0 & 232 & Pine Grove Ave \\& Waveland Ave           & 257 & Lincoln Ave \\& Waveland Ave       & Customer   & Male   & 1999\\\\\n",
       "\t 25223614 & 2019-09-30 23:47:31 & 2019-09-30 23:56:55 &  488 & 563.0   & 596 & Benson Ave \\& Church St                  & 600 & Dodge Ave \\& Church St            & Customer   & Male   & 1971\\\\\n",
       "\t 25223615 & 2019-09-30 23:47:41 & 2019-10-01 00:28:15 &  406 & 2,433.0 & 302 & Sheffield Ave \\& Wrightwood Ave          &  85 & Michigan Ave \\& Oak St            & Customer   &        &   NA\\\\\n",
       "\t 25223616 & 2019-09-30 23:47:57 & 2019-09-30 23:50:40 & 3584 & 163.0   & 302 & Sheffield Ave \\& Wrightwood Ave          & 349 & Halsted St \\& Wrightwood Ave      & Subscriber & Male   & 1992\\\\\n",
       "\t 25223617 & 2019-09-30 23:48:12 & 2019-09-30 23:53:16 & 4970 & 304.0   & 654 & Racine Ave \\& Washington Blvd (*)        & 186 & Ogden Ave \\& Race Ave             & Subscriber & Female & 1989\\\\\n",
       "\t 25223618 & 2019-09-30 23:48:29 & 2019-10-01 00:12:16 & 2370 & 1,426.0 & 232 & Pine Grove Ave \\& Waveland Ave           & 257 & Lincoln Ave \\& Waveland Ave       & Customer   & Male   & 1989\\\\\n",
       "\t 25223619 & 2019-09-30 23:48:39 & 2019-10-01 00:13:07 & 4737 & 1,468.0 & 490 & Troy St \\& Elston Ave                    & 296 & Broadway \\& Belmont Ave           & Subscriber & Male   & 1994\\\\\n",
       "\t 25223620 & 2019-09-30 23:49:24 & 2019-09-30 23:56:47 & 3182 & 443.0   & 232 & Pine Grove Ave \\& Waveland Ave           & 117 & Wilton Ave \\& Belmont Ave         & Customer   &        &   NA\\\\\n",
       "\t 25223621 & 2019-09-30 23:49:26 & 2019-10-01 00:12:34 & 1867 & 1,387.0 & 232 & Pine Grove Ave \\& Waveland Ave           & 257 & Lincoln Ave \\& Waveland Ave       & Customer   &        &   NA\\\\\n",
       "\t 25223622 & 2019-09-30 23:51:33 & 2019-10-01 00:15:18 & 3892 & 1,425.0 &  50 & Clark St \\& Ida B Wells Dr               & 280 & Morgan St \\& 31st St              & Subscriber & Male   & 1985\\\\\n",
       "\t 25223623 & 2019-09-30 23:51:27 & 2019-10-01 00:10:39 & 3422 & 1,151.0 & 331 & Halsted St \\& Clybourn Ave               & 637 & Wood St \\& Chicago Ave (*)        & Subscriber & Male   & 1993\\\\\n",
       "\t 25223624 & 2019-09-30 23:51:38 & 2019-10-01 00:28:28 & 5507 & 2,209.0 & 349 & Halsted St \\& Wrightwood Ave             &  85 & Michigan Ave \\& Oak St            & Subscriber & Male   & 1992\\\\\n",
       "\t 25223625 & 2019-09-30 23:51:45 & 2019-10-01 00:12:43 & 5387 & 1,257.0 & 282 & Halsted St \\& Maxwell St                 & 148 & State St \\& 33rd St               & Customer   &        & 1999\\\\\n",
       "\t 25223626 & 2019-09-30 23:51:49 & 2019-10-01 00:01:12 & 1908 & 563.0   & 195 & Columbus Dr \\& Randolph St               &  77 & Clinton St \\& Madison St          & Subscriber & Male   & 1969\\\\\n",
       "\t 25223627 & 2019-09-30 23:52:37 & 2019-10-01 00:03:15 & 5232 & 638.0   & 331 & Halsted St \\& Clybourn Ave               &  13 & Wilton Ave \\& Diversey Pkwy       & Subscriber & Male   & 1993\\\\\n",
       "\t 25223628 & 2019-09-30 23:52:53 & 2019-10-01 00:19:53 &  803 & 1,620.0 & 225 & Halsted St \\& Dickens Ave                & 260 & Kedzie Ave \\& Milwaukee Ave       & Customer   &        &   NA\\\\\n",
       "\t 25223629 & 2019-09-30 23:53:05 & 2019-10-01 00:06:27 & 4600 & 801.0   & 238 & Wolcott (Ravenswood) Ave \\& Montrose Ave & 251 & Clarendon Ave \\& Leland Ave       & Subscriber & Male   & 1980\\\\\n",
       "\t 25223630 & 2019-09-30 23:54:03 & 2019-10-01 00:09:59 & 1788 & 955.0   & 228 & Damen Ave \\& Melrose Ave                 & 240 & Sheridan Rd \\& Irving Park Rd     & Subscriber & Male   & 1986\\\\\n",
       "\t 25223631 & 2019-09-30 23:55:26 & 2019-10-01 00:06:47 & 4409 & 680.0   &  54 & Ogden Ave \\& Chicago Ave                 & 346 & Ada St \\& Washington Blvd         & Subscriber & Male   & 1989\\\\\n",
       "\t 25223632 & 2019-09-30 23:55:40 & 2019-10-01 00:29:01 & 5488 & 2,001.0 &  52 & Michigan Ave \\& Lake St                  & 289 & Wells St \\& Concord Ln            & Subscriber & Female & 1995\\\\\n",
       "\t 25223633 & 2019-09-30 23:56:09 & 2019-10-01 00:30:33 & 5181 & 2,063.0 & 264 & Stetson Ave \\& South Water St            & 623 & Michigan Ave \\& 8th St            & Customer   &        &   NA\\\\\n",
       "\t 25223634 & 2019-09-30 23:56:12 & 2019-10-01 00:30:21 &  400 & 2,049.0 & 264 & Stetson Ave \\& South Water St            & 623 & Michigan Ave \\& 8th St            & Customer   &        &   NA\\\\\n",
       "\t 25223635 & 2019-09-30 23:56:27 & 2019-10-01 00:06:20 & 5690 & 593.0   &  84 & Milwaukee Ave \\& Grand Ave               & 134 & Peoria St \\& Jackson Blvd         & Subscriber & Male   & 1993\\\\\n",
       "\t 25223636 & 2019-09-30 23:57:02 & 2019-10-01 00:02:13 & 5079 & 310.0   & 268 & Lake Shore Dr \\& North Blvd              &  85 & Michigan Ave \\& Oak St            & Subscriber & Male   & 1992\\\\\n",
       "\t 25223637 & 2019-09-30 23:57:45 & 2019-10-01 00:01:41 & 5535 & 235.0   & 423 & University Ave \\& 57th St                & 426 & Ellis Ave \\& 60th St              & Customer   & Male   & 2000\\\\\n",
       "\t 25223638 & 2019-09-30 23:57:47 & 2019-10-01 00:04:41 & 6120 & 414.0   & 110 & Dearborn St \\& Erie St                   &  31 & Franklin St \\& Chicago Ave (Temp) & Subscriber & Male   & 1986\\\\\n",
       "\t 25223639 & 2019-09-30 23:59:37 & 2019-10-01 00:05:17 &   60 & 339.0   & 265 & Cottage Grove Ave \\& Oakwood Blvd        & 179 & MLK Jr Dr \\& Pershing Rd          & Subscriber & Female & 1996\\\\\n",
       "\\end{tabular}\n"
      ],
      "text/markdown": [
       "\n",
       "A data.frame: 1640718 × 12\n",
       "\n",
       "| id_viaje &lt;int&gt; | empezo &lt;chr&gt; | termino &lt;chr&gt; | id_bici &lt;int&gt; | tripduration &lt;chr&gt; | id_estacion_inicial &lt;int&gt; | estacion_partida &lt;chr&gt; | id_estacion_llegada &lt;int&gt; | estacion_llegada &lt;chr&gt; | membrecia &lt;chr&gt; | gender &lt;chr&gt; | birthyear &lt;int&gt; |\n",
       "|---|---|---|---|---|---|---|---|---|---|---|---|\n",
       "| 23479388 | 2019-07-01 00:00:27 | 2019-07-01 00:20:41 | 3591 | 1,214.0   | 117 | Wilton Ave &amp; Belmont Ave       | 497 | Kimball Ave &amp; Belmont Ave     | Subscriber | Male | 1992 |\n",
       "| 23479389 | 2019-07-01 00:01:16 | 2019-07-01 00:18:44 | 5353 | 1,048.0   | 381 | Western Ave &amp; Monroe St        | 203 | Western Ave &amp; 21st St         | Customer   | <!----> |   NA |\n",
       "| 23479390 | 2019-07-01 00:01:48 | 2019-07-01 00:27:42 | 6180 | 1,554.0   | 313 | Lakeview Ave &amp; Fullerton Pkwy  | 144 | Larrabee St &amp; Webster Ave     | Customer   | <!----> |   NA |\n",
       "| 23479391 | 2019-07-01 00:02:07 | 2019-07-01 00:27:10 | 5540 | 1,503.0   | 313 | Lakeview Ave &amp; Fullerton Pkwy  | 144 | Larrabee St &amp; Webster Ave     | Customer   | <!----> |   NA |\n",
       "| 23479392 | 2019-07-01 00:02:13 | 2019-07-01 00:22:26 | 6014 | 1,213.0   | 168 | Michigan Ave &amp; 14th St         |  62 | McCormick Place               | Customer   | <!----> |   NA |\n",
       "| 23479393 | 2019-07-01 00:02:21 | 2019-07-01 00:07:31 | 4941 | 310.0     | 300 | Broadway &amp; Barry Ave           | 232 | Pine Grove Ave &amp; Waveland Ave | Subscriber | Male | 1990 |\n",
       "| 23479394 | 2019-07-01 00:02:24 | 2019-07-01 00:23:12 | 3770 | 1,248.0   | 168 | Michigan Ave &amp; 14th St         |  62 | McCormick Place               | Customer   | <!----> |   NA |\n",
       "| 23479395 | 2019-07-01 00:02:26 | 2019-07-01 00:28:16 | 5442 | 1,550.0   | 313 | Lakeview Ave &amp; Fullerton Pkwy  | 144 | Larrabee St &amp; Webster Ave     | Customer   | <!----> |   NA |\n",
       "| 23479396 | 2019-07-01 00:02:34 | 2019-07-01 00:28:57 | 2957 | 1,583.0   |  43 | Michigan Ave &amp; Washington St   | 195 | Columbus Dr &amp; Randolph St     | Customer   | <!----> |   NA |\n",
       "| 23479397 | 2019-07-01 00:02:45 | 2019-07-01 00:29:14 | 6091 | 1,589.0   |  43 | Michigan Ave &amp; Washington St   | 195 | Columbus Dr &amp; Randolph St     | Customer   | <!----> |   NA |\n",
       "| 23479398 | 2019-07-01 00:02:57 | 2019-07-01 00:29:05 | 4116 | 1,568.0   | 511 | Albany Ave &amp; Bloomingdale Ave  |  84 | Milwaukee Ave &amp; Grand Ave     | Customer   | <!----> |   NA |\n",
       "| 23479399 | 2019-07-01 00:03:07 | 2019-07-01 00:28:50 | 4948 | 1,543.0   |  43 | Michigan Ave &amp; Washington St   | 195 | Columbus Dr &amp; Randolph St     | Customer   | <!----> |   NA |\n",
       "| 23479400 | 2019-07-01 00:04:09 | 2019-07-01 00:36:56 |  307 | 1,967.0   |  24 | Fairbanks Ct &amp; Grand Ave       |  24 | Fairbanks Ct &amp; Grand Ave      | Customer   | <!----> |   NA |\n",
       "| 23479401 | 2019-07-01 00:04:25 | 2019-07-01 00:36:56 | 2422 | 1,951.0   |  24 | Fairbanks Ct &amp; Grand Ave       |  24 | Fairbanks Ct &amp; Grand Ave      | Customer   | <!----> |   NA |\n",
       "| 23479402 | 2019-07-01 00:04:41 | 2019-07-01 00:37:22 | 3369 | 1,961.0   |  24 | Fairbanks Ct &amp; Grand Ave       |  24 | Fairbanks Ct &amp; Grand Ave      | Customer   | <!----> |   NA |\n",
       "| 23479403 | 2019-07-01 00:05:18 | 2019-07-01 00:37:08 | 4050 | 1,910.0   |  24 | Fairbanks Ct &amp; Grand Ave       |  24 | Fairbanks Ct &amp; Grand Ave      | Customer   | <!----> |   NA |\n",
       "| 23479404 | 2019-07-01 00:06:06 | 2019-07-01 00:33:33 | 1535 | 1,647.0   |  43 | Michigan Ave &amp; Washington St   |  43 | Michigan Ave &amp; Washington St  | Customer   | <!----> |   NA |\n",
       "| 23479405 | 2019-07-01 00:06:10 | 2019-07-01 00:33:08 | 4722 | 1,618.0   |  43 | Michigan Ave &amp; Washington St   |  43 | Michigan Ave &amp; Washington St  | Customer   | <!----> |   NA |\n",
       "| 23479406 | 2019-07-01 00:06:51 | 2019-07-01 00:26:22 | 2758 | 1,171.0   | 624 | Dearborn St &amp; Van Buren St     | 237 | MLK Jr Dr &amp; 29th St           | Subscriber | Male | 1995 |\n",
       "| 23479407 | 2019-07-01 00:06:55 | 2019-07-01 00:33:28 | 1614 | 1,593.0   |  43 | Michigan Ave &amp; Washington St   |  43 | Michigan Ave &amp; Washington St  | Customer   | <!----> |   NA |\n",
       "| 23479408 | 2019-07-01 00:08:24 | 2019-07-01 00:20:07 | 2447 | 703.0     | 239 | Western Ave &amp; Leland Ave       | 455 | Maplewood Ave &amp; Peterson Ave  | Subscriber | Male | 1970 |\n",
       "| 23479409 | 2019-07-01 00:08:40 | 2019-07-01 00:27:50 | 6336 | 1,150.0   | 257 | Lincoln Ave &amp; Waveland Ave     | 295 | Broadway &amp; Argyle St          | Subscriber | Male | 1993 |\n",
       "| 23479410 | 2019-07-01 00:08:45 | 2019-07-01 00:19:24 | 3249 | 639.0     | 309 | Leavitt St &amp; Armitage Ave      | 113 | Bissell St &amp; Armitage Ave     | Customer   | <!----> |   NA |\n",
       "| 23479411 | 2019-07-01 00:10:20 | 2019-07-01 00:19:36 | 3632 | 556.0     |  76 | Lake Shore Dr &amp; Monroe St      |  59 | Wabash Ave &amp; Roosevelt Rd     | Customer   | <!----> |   NA |\n",
       "| 23479412 | 2019-07-01 00:10:47 | 2019-07-01 01:46:44 | 3154 | 5,757.0   |  90 | Millennium Park                |  90 | Millennium Park               | Customer   | <!----> |   NA |\n",
       "| 23479414 | 2019-07-01 00:11:17 | 2019-07-01 00:25:36 | 2138 | 859.0     | 313 | Lakeview Ave &amp; Fullerton Pkwy  |  58 | Marshfield Ave &amp; Cortland St  | Customer   | <!----> |   NA |\n",
       "| 23479415 | 2019-07-01 00:11:22 | 2019-07-01 01:46:44 | 1713 | 5,722.0   |  90 | Millennium Park                |  90 | Millennium Park               | Customer   | <!----> |   NA |\n",
       "| 23479416 | 2019-07-01 00:14:40 | 2019-07-02 07:53:48 | 1122 | 113,948.0 | 123 | California Ave &amp; Milwaukee Ave | 509 | Troy St &amp; North Ave           | Customer   | <!----> |   NA |\n",
       "| 23479417 | 2019-07-01 00:14:58 | 2019-07-01 01:15:58 |  356 | 3,660.0   | 123 | California Ave &amp; Milwaukee Ave | 222 | Milwaukee Ave &amp; Rockwell St   | Customer   | <!----> |   NA |\n",
       "| 23479418 | 2019-07-01 00:15:06 | 2019-07-01 00:36:40 | 4525 | 1,294.0   | 240 | Sheridan Rd &amp; Irving Park Rd   | 326 | Clark St &amp; Leland Ave         | Customer   | Male | 1987 |\n",
       "| ⋮ | ⋮ | ⋮ | ⋮ | ⋮ | ⋮ | ⋮ | ⋮ | ⋮ | ⋮ | ⋮ | ⋮ |\n",
       "| 25223610 | 2019-09-30 23:44:28 | 2019-09-30 23:50:15 | 5387 | 347.0   |  22 | May St &amp; Taylor St                      | 282 | Halsted St &amp; Maxwell St          | Subscriber | Male   | 1995 |\n",
       "| 25223611 | 2019-09-30 23:45:47 | 2019-10-01 00:06:31 | 5747 | 1,244.0 | 664 | Leavitt St &amp; Belmont Ave (*)            | 313 | Lakeview Ave &amp; Fullerton Pkwy    | Subscriber | Female | 1996 |\n",
       "| 25223612 | 2019-09-30 23:46:37 | 2019-10-01 00:10:19 | 4333 | 1,421.0 | 591 | Kilbourn Ave &amp; Milwaukee Ave            | 123 | California Ave &amp; Milwaukee Ave   | Customer   | <!----> |   NA |\n",
       "| 25223613 | 2019-09-30 23:47:11 | 2019-10-01 00:12:26 | 6228 | 1,514.0 | 232 | Pine Grove Ave &amp; Waveland Ave           | 257 | Lincoln Ave &amp; Waveland Ave       | Customer   | Male   | 1999 |\n",
       "| 25223614 | 2019-09-30 23:47:31 | 2019-09-30 23:56:55 |  488 | 563.0   | 596 | Benson Ave &amp; Church St                  | 600 | Dodge Ave &amp; Church St            | Customer   | Male   | 1971 |\n",
       "| 25223615 | 2019-09-30 23:47:41 | 2019-10-01 00:28:15 |  406 | 2,433.0 | 302 | Sheffield Ave &amp; Wrightwood Ave          |  85 | Michigan Ave &amp; Oak St            | Customer   | <!----> |   NA |\n",
       "| 25223616 | 2019-09-30 23:47:57 | 2019-09-30 23:50:40 | 3584 | 163.0   | 302 | Sheffield Ave &amp; Wrightwood Ave          | 349 | Halsted St &amp; Wrightwood Ave      | Subscriber | Male   | 1992 |\n",
       "| 25223617 | 2019-09-30 23:48:12 | 2019-09-30 23:53:16 | 4970 | 304.0   | 654 | Racine Ave &amp; Washington Blvd (*)        | 186 | Ogden Ave &amp; Race Ave             | Subscriber | Female | 1989 |\n",
       "| 25223618 | 2019-09-30 23:48:29 | 2019-10-01 00:12:16 | 2370 | 1,426.0 | 232 | Pine Grove Ave &amp; Waveland Ave           | 257 | Lincoln Ave &amp; Waveland Ave       | Customer   | Male   | 1989 |\n",
       "| 25223619 | 2019-09-30 23:48:39 | 2019-10-01 00:13:07 | 4737 | 1,468.0 | 490 | Troy St &amp; Elston Ave                    | 296 | Broadway &amp; Belmont Ave           | Subscriber | Male   | 1994 |\n",
       "| 25223620 | 2019-09-30 23:49:24 | 2019-09-30 23:56:47 | 3182 | 443.0   | 232 | Pine Grove Ave &amp; Waveland Ave           | 117 | Wilton Ave &amp; Belmont Ave         | Customer   | <!----> |   NA |\n",
       "| 25223621 | 2019-09-30 23:49:26 | 2019-10-01 00:12:34 | 1867 | 1,387.0 | 232 | Pine Grove Ave &amp; Waveland Ave           | 257 | Lincoln Ave &amp; Waveland Ave       | Customer   | <!----> |   NA |\n",
       "| 25223622 | 2019-09-30 23:51:33 | 2019-10-01 00:15:18 | 3892 | 1,425.0 |  50 | Clark St &amp; Ida B Wells Dr               | 280 | Morgan St &amp; 31st St              | Subscriber | Male   | 1985 |\n",
       "| 25223623 | 2019-09-30 23:51:27 | 2019-10-01 00:10:39 | 3422 | 1,151.0 | 331 | Halsted St &amp; Clybourn Ave               | 637 | Wood St &amp; Chicago Ave (*)        | Subscriber | Male   | 1993 |\n",
       "| 25223624 | 2019-09-30 23:51:38 | 2019-10-01 00:28:28 | 5507 | 2,209.0 | 349 | Halsted St &amp; Wrightwood Ave             |  85 | Michigan Ave &amp; Oak St            | Subscriber | Male   | 1992 |\n",
       "| 25223625 | 2019-09-30 23:51:45 | 2019-10-01 00:12:43 | 5387 | 1,257.0 | 282 | Halsted St &amp; Maxwell St                 | 148 | State St &amp; 33rd St               | Customer   | <!----> | 1999 |\n",
       "| 25223626 | 2019-09-30 23:51:49 | 2019-10-01 00:01:12 | 1908 | 563.0   | 195 | Columbus Dr &amp; Randolph St               |  77 | Clinton St &amp; Madison St          | Subscriber | Male   | 1969 |\n",
       "| 25223627 | 2019-09-30 23:52:37 | 2019-10-01 00:03:15 | 5232 | 638.0   | 331 | Halsted St &amp; Clybourn Ave               |  13 | Wilton Ave &amp; Diversey Pkwy       | Subscriber | Male   | 1993 |\n",
       "| 25223628 | 2019-09-30 23:52:53 | 2019-10-01 00:19:53 |  803 | 1,620.0 | 225 | Halsted St &amp; Dickens Ave                | 260 | Kedzie Ave &amp; Milwaukee Ave       | Customer   | <!----> |   NA |\n",
       "| 25223629 | 2019-09-30 23:53:05 | 2019-10-01 00:06:27 | 4600 | 801.0   | 238 | Wolcott (Ravenswood) Ave &amp; Montrose Ave | 251 | Clarendon Ave &amp; Leland Ave       | Subscriber | Male   | 1980 |\n",
       "| 25223630 | 2019-09-30 23:54:03 | 2019-10-01 00:09:59 | 1788 | 955.0   | 228 | Damen Ave &amp; Melrose Ave                 | 240 | Sheridan Rd &amp; Irving Park Rd     | Subscriber | Male   | 1986 |\n",
       "| 25223631 | 2019-09-30 23:55:26 | 2019-10-01 00:06:47 | 4409 | 680.0   |  54 | Ogden Ave &amp; Chicago Ave                 | 346 | Ada St &amp; Washington Blvd         | Subscriber | Male   | 1989 |\n",
       "| 25223632 | 2019-09-30 23:55:40 | 2019-10-01 00:29:01 | 5488 | 2,001.0 |  52 | Michigan Ave &amp; Lake St                  | 289 | Wells St &amp; Concord Ln            | Subscriber | Female | 1995 |\n",
       "| 25223633 | 2019-09-30 23:56:09 | 2019-10-01 00:30:33 | 5181 | 2,063.0 | 264 | Stetson Ave &amp; South Water St            | 623 | Michigan Ave &amp; 8th St            | Customer   | <!----> |   NA |\n",
       "| 25223634 | 2019-09-30 23:56:12 | 2019-10-01 00:30:21 |  400 | 2,049.0 | 264 | Stetson Ave &amp; South Water St            | 623 | Michigan Ave &amp; 8th St            | Customer   | <!----> |   NA |\n",
       "| 25223635 | 2019-09-30 23:56:27 | 2019-10-01 00:06:20 | 5690 | 593.0   |  84 | Milwaukee Ave &amp; Grand Ave               | 134 | Peoria St &amp; Jackson Blvd         | Subscriber | Male   | 1993 |\n",
       "| 25223636 | 2019-09-30 23:57:02 | 2019-10-01 00:02:13 | 5079 | 310.0   | 268 | Lake Shore Dr &amp; North Blvd              |  85 | Michigan Ave &amp; Oak St            | Subscriber | Male   | 1992 |\n",
       "| 25223637 | 2019-09-30 23:57:45 | 2019-10-01 00:01:41 | 5535 | 235.0   | 423 | University Ave &amp; 57th St                | 426 | Ellis Ave &amp; 60th St              | Customer   | Male   | 2000 |\n",
       "| 25223638 | 2019-09-30 23:57:47 | 2019-10-01 00:04:41 | 6120 | 414.0   | 110 | Dearborn St &amp; Erie St                   |  31 | Franklin St &amp; Chicago Ave (Temp) | Subscriber | Male   | 1986 |\n",
       "| 25223639 | 2019-09-30 23:59:37 | 2019-10-01 00:05:17 |   60 | 339.0   | 265 | Cottage Grove Ave &amp; Oakwood Blvd        | 179 | MLK Jr Dr &amp; Pershing Rd          | Subscriber | Female | 1996 |\n",
       "\n"
      ],
      "text/plain": [
       "        id_viaje empezo              termino             id_bici tripduration\n",
       "1       23479388 2019-07-01 00:00:27 2019-07-01 00:20:41 3591    1,214.0     \n",
       "2       23479389 2019-07-01 00:01:16 2019-07-01 00:18:44 5353    1,048.0     \n",
       "3       23479390 2019-07-01 00:01:48 2019-07-01 00:27:42 6180    1,554.0     \n",
       "4       23479391 2019-07-01 00:02:07 2019-07-01 00:27:10 5540    1,503.0     \n",
       "5       23479392 2019-07-01 00:02:13 2019-07-01 00:22:26 6014    1,213.0     \n",
       "6       23479393 2019-07-01 00:02:21 2019-07-01 00:07:31 4941    310.0       \n",
       "7       23479394 2019-07-01 00:02:24 2019-07-01 00:23:12 3770    1,248.0     \n",
       "8       23479395 2019-07-01 00:02:26 2019-07-01 00:28:16 5442    1,550.0     \n",
       "9       23479396 2019-07-01 00:02:34 2019-07-01 00:28:57 2957    1,583.0     \n",
       "10      23479397 2019-07-01 00:02:45 2019-07-01 00:29:14 6091    1,589.0     \n",
       "11      23479398 2019-07-01 00:02:57 2019-07-01 00:29:05 4116    1,568.0     \n",
       "12      23479399 2019-07-01 00:03:07 2019-07-01 00:28:50 4948    1,543.0     \n",
       "13      23479400 2019-07-01 00:04:09 2019-07-01 00:36:56  307    1,967.0     \n",
       "14      23479401 2019-07-01 00:04:25 2019-07-01 00:36:56 2422    1,951.0     \n",
       "15      23479402 2019-07-01 00:04:41 2019-07-01 00:37:22 3369    1,961.0     \n",
       "16      23479403 2019-07-01 00:05:18 2019-07-01 00:37:08 4050    1,910.0     \n",
       "17      23479404 2019-07-01 00:06:06 2019-07-01 00:33:33 1535    1,647.0     \n",
       "18      23479405 2019-07-01 00:06:10 2019-07-01 00:33:08 4722    1,618.0     \n",
       "19      23479406 2019-07-01 00:06:51 2019-07-01 00:26:22 2758    1,171.0     \n",
       "20      23479407 2019-07-01 00:06:55 2019-07-01 00:33:28 1614    1,593.0     \n",
       "21      23479408 2019-07-01 00:08:24 2019-07-01 00:20:07 2447    703.0       \n",
       "22      23479409 2019-07-01 00:08:40 2019-07-01 00:27:50 6336    1,150.0     \n",
       "23      23479410 2019-07-01 00:08:45 2019-07-01 00:19:24 3249    639.0       \n",
       "24      23479411 2019-07-01 00:10:20 2019-07-01 00:19:36 3632    556.0       \n",
       "25      23479412 2019-07-01 00:10:47 2019-07-01 01:46:44 3154    5,757.0     \n",
       "26      23479414 2019-07-01 00:11:17 2019-07-01 00:25:36 2138    859.0       \n",
       "27      23479415 2019-07-01 00:11:22 2019-07-01 01:46:44 1713    5,722.0     \n",
       "28      23479416 2019-07-01 00:14:40 2019-07-02 07:53:48 1122    113,948.0   \n",
       "29      23479417 2019-07-01 00:14:58 2019-07-01 01:15:58  356    3,660.0     \n",
       "30      23479418 2019-07-01 00:15:06 2019-07-01 00:36:40 4525    1,294.0     \n",
       "⋮       ⋮        ⋮                   ⋮                   ⋮       ⋮           \n",
       "1640689 25223610 2019-09-30 23:44:28 2019-09-30 23:50:15 5387    347.0       \n",
       "1640690 25223611 2019-09-30 23:45:47 2019-10-01 00:06:31 5747    1,244.0     \n",
       "1640691 25223612 2019-09-30 23:46:37 2019-10-01 00:10:19 4333    1,421.0     \n",
       "1640692 25223613 2019-09-30 23:47:11 2019-10-01 00:12:26 6228    1,514.0     \n",
       "1640693 25223614 2019-09-30 23:47:31 2019-09-30 23:56:55  488    563.0       \n",
       "1640694 25223615 2019-09-30 23:47:41 2019-10-01 00:28:15  406    2,433.0     \n",
       "1640695 25223616 2019-09-30 23:47:57 2019-09-30 23:50:40 3584    163.0       \n",
       "1640696 25223617 2019-09-30 23:48:12 2019-09-30 23:53:16 4970    304.0       \n",
       "1640697 25223618 2019-09-30 23:48:29 2019-10-01 00:12:16 2370    1,426.0     \n",
       "1640698 25223619 2019-09-30 23:48:39 2019-10-01 00:13:07 4737    1,468.0     \n",
       "1640699 25223620 2019-09-30 23:49:24 2019-09-30 23:56:47 3182    443.0       \n",
       "1640700 25223621 2019-09-30 23:49:26 2019-10-01 00:12:34 1867    1,387.0     \n",
       "1640701 25223622 2019-09-30 23:51:33 2019-10-01 00:15:18 3892    1,425.0     \n",
       "1640702 25223623 2019-09-30 23:51:27 2019-10-01 00:10:39 3422    1,151.0     \n",
       "1640703 25223624 2019-09-30 23:51:38 2019-10-01 00:28:28 5507    2,209.0     \n",
       "1640704 25223625 2019-09-30 23:51:45 2019-10-01 00:12:43 5387    1,257.0     \n",
       "1640705 25223626 2019-09-30 23:51:49 2019-10-01 00:01:12 1908    563.0       \n",
       "1640706 25223627 2019-09-30 23:52:37 2019-10-01 00:03:15 5232    638.0       \n",
       "1640707 25223628 2019-09-30 23:52:53 2019-10-01 00:19:53  803    1,620.0     \n",
       "1640708 25223629 2019-09-30 23:53:05 2019-10-01 00:06:27 4600    801.0       \n",
       "1640709 25223630 2019-09-30 23:54:03 2019-10-01 00:09:59 1788    955.0       \n",
       "1640710 25223631 2019-09-30 23:55:26 2019-10-01 00:06:47 4409    680.0       \n",
       "1640711 25223632 2019-09-30 23:55:40 2019-10-01 00:29:01 5488    2,001.0     \n",
       "1640712 25223633 2019-09-30 23:56:09 2019-10-01 00:30:33 5181    2,063.0     \n",
       "1640713 25223634 2019-09-30 23:56:12 2019-10-01 00:30:21  400    2,049.0     \n",
       "1640714 25223635 2019-09-30 23:56:27 2019-10-01 00:06:20 5690    593.0       \n",
       "1640715 25223636 2019-09-30 23:57:02 2019-10-01 00:02:13 5079    310.0       \n",
       "1640716 25223637 2019-09-30 23:57:45 2019-10-01 00:01:41 5535    235.0       \n",
       "1640717 25223638 2019-09-30 23:57:47 2019-10-01 00:04:41 6120    414.0       \n",
       "1640718 25223639 2019-09-30 23:59:37 2019-10-01 00:05:17   60    339.0       \n",
       "        id_estacion_inicial estacion_partida                       \n",
       "1       117                 Wilton Ave & Belmont Ave               \n",
       "2       381                 Western Ave & Monroe St                \n",
       "3       313                 Lakeview Ave & Fullerton Pkwy          \n",
       "4       313                 Lakeview Ave & Fullerton Pkwy          \n",
       "5       168                 Michigan Ave & 14th St                 \n",
       "6       300                 Broadway & Barry Ave                   \n",
       "7       168                 Michigan Ave & 14th St                 \n",
       "8       313                 Lakeview Ave & Fullerton Pkwy          \n",
       "9        43                 Michigan Ave & Washington St           \n",
       "10       43                 Michigan Ave & Washington St           \n",
       "11      511                 Albany Ave & Bloomingdale Ave          \n",
       "12       43                 Michigan Ave & Washington St           \n",
       "13       24                 Fairbanks Ct & Grand Ave               \n",
       "14       24                 Fairbanks Ct & Grand Ave               \n",
       "15       24                 Fairbanks Ct & Grand Ave               \n",
       "16       24                 Fairbanks Ct & Grand Ave               \n",
       "17       43                 Michigan Ave & Washington St           \n",
       "18       43                 Michigan Ave & Washington St           \n",
       "19      624                 Dearborn St & Van Buren St             \n",
       "20       43                 Michigan Ave & Washington St           \n",
       "21      239                 Western Ave & Leland Ave               \n",
       "22      257                 Lincoln Ave & Waveland Ave             \n",
       "23      309                 Leavitt St & Armitage Ave              \n",
       "24       76                 Lake Shore Dr & Monroe St              \n",
       "25       90                 Millennium Park                        \n",
       "26      313                 Lakeview Ave & Fullerton Pkwy          \n",
       "27       90                 Millennium Park                        \n",
       "28      123                 California Ave & Milwaukee Ave         \n",
       "29      123                 California Ave & Milwaukee Ave         \n",
       "30      240                 Sheridan Rd & Irving Park Rd           \n",
       "⋮       ⋮                   ⋮                                      \n",
       "1640689  22                 May St & Taylor St                     \n",
       "1640690 664                 Leavitt St & Belmont Ave (*)           \n",
       "1640691 591                 Kilbourn Ave & Milwaukee Ave           \n",
       "1640692 232                 Pine Grove Ave & Waveland Ave          \n",
       "1640693 596                 Benson Ave & Church St                 \n",
       "1640694 302                 Sheffield Ave & Wrightwood Ave         \n",
       "1640695 302                 Sheffield Ave & Wrightwood Ave         \n",
       "1640696 654                 Racine Ave & Washington Blvd (*)       \n",
       "1640697 232                 Pine Grove Ave & Waveland Ave          \n",
       "1640698 490                 Troy St & Elston Ave                   \n",
       "1640699 232                 Pine Grove Ave & Waveland Ave          \n",
       "1640700 232                 Pine Grove Ave & Waveland Ave          \n",
       "1640701  50                 Clark St & Ida B Wells Dr              \n",
       "1640702 331                 Halsted St & Clybourn Ave              \n",
       "1640703 349                 Halsted St & Wrightwood Ave            \n",
       "1640704 282                 Halsted St & Maxwell St                \n",
       "1640705 195                 Columbus Dr & Randolph St              \n",
       "1640706 331                 Halsted St & Clybourn Ave              \n",
       "1640707 225                 Halsted St & Dickens Ave               \n",
       "1640708 238                 Wolcott (Ravenswood) Ave & Montrose Ave\n",
       "1640709 228                 Damen Ave & Melrose Ave                \n",
       "1640710  54                 Ogden Ave & Chicago Ave                \n",
       "1640711  52                 Michigan Ave & Lake St                 \n",
       "1640712 264                 Stetson Ave & South Water St           \n",
       "1640713 264                 Stetson Ave & South Water St           \n",
       "1640714  84                 Milwaukee Ave & Grand Ave              \n",
       "1640715 268                 Lake Shore Dr & North Blvd             \n",
       "1640716 423                 University Ave & 57th St               \n",
       "1640717 110                 Dearborn St & Erie St                  \n",
       "1640718 265                 Cottage Grove Ave & Oakwood Blvd       \n",
       "        id_estacion_llegada estacion_llegada                 membrecia  gender\n",
       "1       497                 Kimball Ave & Belmont Ave        Subscriber Male  \n",
       "2       203                 Western Ave & 21st St            Customer         \n",
       "3       144                 Larrabee St & Webster Ave        Customer         \n",
       "4       144                 Larrabee St & Webster Ave        Customer         \n",
       "5        62                 McCormick Place                  Customer         \n",
       "6       232                 Pine Grove Ave & Waveland Ave    Subscriber Male  \n",
       "7        62                 McCormick Place                  Customer         \n",
       "8       144                 Larrabee St & Webster Ave        Customer         \n",
       "9       195                 Columbus Dr & Randolph St        Customer         \n",
       "10      195                 Columbus Dr & Randolph St        Customer         \n",
       "11       84                 Milwaukee Ave & Grand Ave        Customer         \n",
       "12      195                 Columbus Dr & Randolph St        Customer         \n",
       "13       24                 Fairbanks Ct & Grand Ave         Customer         \n",
       "14       24                 Fairbanks Ct & Grand Ave         Customer         \n",
       "15       24                 Fairbanks Ct & Grand Ave         Customer         \n",
       "16       24                 Fairbanks Ct & Grand Ave         Customer         \n",
       "17       43                 Michigan Ave & Washington St     Customer         \n",
       "18       43                 Michigan Ave & Washington St     Customer         \n",
       "19      237                 MLK Jr Dr & 29th St              Subscriber Male  \n",
       "20       43                 Michigan Ave & Washington St     Customer         \n",
       "21      455                 Maplewood Ave & Peterson Ave     Subscriber Male  \n",
       "22      295                 Broadway & Argyle St             Subscriber Male  \n",
       "23      113                 Bissell St & Armitage Ave        Customer         \n",
       "24       59                 Wabash Ave & Roosevelt Rd        Customer         \n",
       "25       90                 Millennium Park                  Customer         \n",
       "26       58                 Marshfield Ave & Cortland St     Customer         \n",
       "27       90                 Millennium Park                  Customer         \n",
       "28      509                 Troy St & North Ave              Customer         \n",
       "29      222                 Milwaukee Ave & Rockwell St      Customer         \n",
       "30      326                 Clark St & Leland Ave            Customer   Male  \n",
       "⋮       ⋮                   ⋮                                ⋮          ⋮     \n",
       "1640689 282                 Halsted St & Maxwell St          Subscriber Male  \n",
       "1640690 313                 Lakeview Ave & Fullerton Pkwy    Subscriber Female\n",
       "1640691 123                 California Ave & Milwaukee Ave   Customer         \n",
       "1640692 257                 Lincoln Ave & Waveland Ave       Customer   Male  \n",
       "1640693 600                 Dodge Ave & Church St            Customer   Male  \n",
       "1640694  85                 Michigan Ave & Oak St            Customer         \n",
       "1640695 349                 Halsted St & Wrightwood Ave      Subscriber Male  \n",
       "1640696 186                 Ogden Ave & Race Ave             Subscriber Female\n",
       "1640697 257                 Lincoln Ave & Waveland Ave       Customer   Male  \n",
       "1640698 296                 Broadway & Belmont Ave           Subscriber Male  \n",
       "1640699 117                 Wilton Ave & Belmont Ave         Customer         \n",
       "1640700 257                 Lincoln Ave & Waveland Ave       Customer         \n",
       "1640701 280                 Morgan St & 31st St              Subscriber Male  \n",
       "1640702 637                 Wood St & Chicago Ave (*)        Subscriber Male  \n",
       "1640703  85                 Michigan Ave & Oak St            Subscriber Male  \n",
       "1640704 148                 State St & 33rd St               Customer         \n",
       "1640705  77                 Clinton St & Madison St          Subscriber Male  \n",
       "1640706  13                 Wilton Ave & Diversey Pkwy       Subscriber Male  \n",
       "1640707 260                 Kedzie Ave & Milwaukee Ave       Customer         \n",
       "1640708 251                 Clarendon Ave & Leland Ave       Subscriber Male  \n",
       "1640709 240                 Sheridan Rd & Irving Park Rd     Subscriber Male  \n",
       "1640710 346                 Ada St & Washington Blvd         Subscriber Male  \n",
       "1640711 289                 Wells St & Concord Ln            Subscriber Female\n",
       "1640712 623                 Michigan Ave & 8th St            Customer         \n",
       "1640713 623                 Michigan Ave & 8th St            Customer         \n",
       "1640714 134                 Peoria St & Jackson Blvd         Subscriber Male  \n",
       "1640715  85                 Michigan Ave & Oak St            Subscriber Male  \n",
       "1640716 426                 Ellis Ave & 60th St              Customer   Male  \n",
       "1640717  31                 Franklin St & Chicago Ave (Temp) Subscriber Male  \n",
       "1640718 179                 MLK Jr Dr & Pershing Rd          Subscriber Female\n",
       "        birthyear\n",
       "1       1992     \n",
       "2         NA     \n",
       "3         NA     \n",
       "4         NA     \n",
       "5         NA     \n",
       "6       1990     \n",
       "7         NA     \n",
       "8         NA     \n",
       "9         NA     \n",
       "10        NA     \n",
       "11        NA     \n",
       "12        NA     \n",
       "13        NA     \n",
       "14        NA     \n",
       "15        NA     \n",
       "16        NA     \n",
       "17        NA     \n",
       "18        NA     \n",
       "19      1995     \n",
       "20        NA     \n",
       "21      1970     \n",
       "22      1993     \n",
       "23        NA     \n",
       "24        NA     \n",
       "25        NA     \n",
       "26        NA     \n",
       "27        NA     \n",
       "28        NA     \n",
       "29        NA     \n",
       "30      1987     \n",
       "⋮       ⋮        \n",
       "1640689 1995     \n",
       "1640690 1996     \n",
       "1640691   NA     \n",
       "1640692 1999     \n",
       "1640693 1971     \n",
       "1640694   NA     \n",
       "1640695 1992     \n",
       "1640696 1989     \n",
       "1640697 1989     \n",
       "1640698 1994     \n",
       "1640699   NA     \n",
       "1640700   NA     \n",
       "1640701 1985     \n",
       "1640702 1993     \n",
       "1640703 1992     \n",
       "1640704 1999     \n",
       "1640705 1969     \n",
       "1640706 1993     \n",
       "1640707   NA     \n",
       "1640708 1980     \n",
       "1640709 1986     \n",
       "1640710 1989     \n",
       "1640711 1995     \n",
       "1640712   NA     \n",
       "1640713   NA     \n",
       "1640714 1993     \n",
       "1640715 1992     \n",
       "1640716 2000     \n",
       "1640717 1986     \n",
       "1640718 1996     "
      ]
     },
     "metadata": {},
     "output_type": "display_data"
    },
    {
     "data": {
      "text/html": [
       "<table class=\"dataframe\">\n",
       "<caption>A data.frame: 704054 × 12</caption>\n",
       "<thead>\n",
       "\t<tr><th scope=col>id_viaje</th><th scope=col>empezo</th><th scope=col>termino</th><th scope=col>id_bici</th><th scope=col>tripduration</th><th scope=col>id_estacion_inicial</th><th scope=col>estacion_partida</th><th scope=col>id_estacion_llegada</th><th scope=col>estacion_llegada</th><th scope=col>membrecia</th><th scope=col>gender</th><th scope=col>birthyear</th></tr>\n",
       "\t<tr><th scope=col>&lt;int&gt;</th><th scope=col>&lt;chr&gt;</th><th scope=col>&lt;chr&gt;</th><th scope=col>&lt;int&gt;</th><th scope=col>&lt;chr&gt;</th><th scope=col>&lt;int&gt;</th><th scope=col>&lt;chr&gt;</th><th scope=col>&lt;int&gt;</th><th scope=col>&lt;chr&gt;</th><th scope=col>&lt;chr&gt;</th><th scope=col>&lt;chr&gt;</th><th scope=col>&lt;int&gt;</th></tr>\n",
       "</thead>\n",
       "<tbody>\n",
       "\t<tr><td>25223640</td><td>2019-10-01 00:01:39</td><td>2019-10-01 00:17:20</td><td>2215</td><td><span style=white-space:pre-wrap>940.0  </span></td><td> 20</td><td><span style=white-space:pre-wrap>Sheffield Ave &amp; Kingsbury St  </span></td><td>309</td><td><span style=white-space:pre-wrap>Leavitt St &amp; Armitage Ave     </span></td><td>Subscriber</td><td><span style=white-space:pre-wrap>Male  </span></td><td>1987</td></tr>\n",
       "\t<tr><td>25223641</td><td>2019-10-01 00:02:16</td><td>2019-10-01 00:06:34</td><td>6328</td><td><span style=white-space:pre-wrap>258.0  </span></td><td> 19</td><td>Throop (Loomis) St &amp; Taylor St</td><td>241</td><td><span style=white-space:pre-wrap>Morgan St &amp; Polk St           </span></td><td>Subscriber</td><td><span style=white-space:pre-wrap>Male  </span></td><td>1998</td></tr>\n",
       "\t<tr><td>25223642</td><td>2019-10-01 00:04:32</td><td>2019-10-01 00:18:43</td><td>3003</td><td><span style=white-space:pre-wrap>850.0  </span></td><td> 84</td><td><span style=white-space:pre-wrap>Milwaukee Ave &amp; Grand Ave     </span></td><td>199</td><td><span style=white-space:pre-wrap>Wabash Ave &amp; Grand Ave        </span></td><td>Subscriber</td><td>Female</td><td>1991</td></tr>\n",
       "\t<tr><td>25223643</td><td>2019-10-01 00:04:32</td><td>2019-10-01 00:43:43</td><td>3275</td><td>2,350.0</td><td>313</td><td>Lakeview Ave &amp; Fullerton Pkwy </td><td>290</td><td><span style=white-space:pre-wrap>Kedzie Ave &amp; Palmer Ct        </span></td><td>Subscriber</td><td><span style=white-space:pre-wrap>Male  </span></td><td>1990</td></tr>\n",
       "\t<tr><td>25223644</td><td>2019-10-01 00:04:34</td><td>2019-10-01 00:35:42</td><td>5294</td><td>1,867.0</td><td>210</td><td><span style=white-space:pre-wrap>Ashland Ave &amp; Division St     </span></td><td>382</td><td><span style=white-space:pre-wrap>Western Ave &amp; Congress Pkwy   </span></td><td>Subscriber</td><td><span style=white-space:pre-wrap>Male  </span></td><td>1987</td></tr>\n",
       "\t<tr><td>25223645</td><td>2019-10-01 00:04:38</td><td>2019-10-01 00:10:51</td><td>1891</td><td><span style=white-space:pre-wrap>373.0  </span></td><td>156</td><td><span style=white-space:pre-wrap>Clark St &amp; Wellington Ave     </span></td><td>226</td><td><span style=white-space:pre-wrap>Racine Ave &amp; Belmont Ave      </span></td><td>Subscriber</td><td>Female</td><td>1994</td></tr>\n",
       "\t<tr><td>25223646</td><td>2019-10-01 00:04:52</td><td>2019-10-01 00:22:45</td><td>1061</td><td>1,072.0</td><td> 84</td><td><span style=white-space:pre-wrap>Milwaukee Ave &amp; Grand Ave     </span></td><td>142</td><td><span style=white-space:pre-wrap>McClurg Ct &amp; Erie St          </span></td><td>Subscriber</td><td>Female</td><td>1991</td></tr>\n",
       "\t<tr><td>25223647</td><td>2019-10-01 00:04:57</td><td>2019-10-01 00:29:16</td><td>1274</td><td>1,458.0</td><td>156</td><td><span style=white-space:pre-wrap>Clark St &amp; Wellington Ave     </span></td><td>463</td><td><span style=white-space:pre-wrap>Clark St &amp; Berwyn Ave         </span></td><td>Subscriber</td><td><span style=white-space:pre-wrap>Male  </span></td><td>1995</td></tr>\n",
       "\t<tr><td>25223648</td><td>2019-10-01 00:05:20</td><td>2019-10-01 00:29:18</td><td>6011</td><td>1,437.0</td><td>156</td><td><span style=white-space:pre-wrap>Clark St &amp; Wellington Ave     </span></td><td>463</td><td><span style=white-space:pre-wrap>Clark St &amp; Berwyn Ave         </span></td><td>Subscriber</td><td>Female</td><td>1993</td></tr>\n",
       "\t<tr><td>25223649</td><td>2019-10-01 00:05:20</td><td>2019-10-01 02:23:46</td><td>2957</td><td>8,306.0</td><td>336</td><td><span style=white-space:pre-wrap>Cottage Grove Ave &amp; 47th St   </span></td><td>336</td><td><span style=white-space:pre-wrap>Cottage Grove Ave &amp; 47th St   </span></td><td><span style=white-space:pre-wrap>Customer  </span></td><td><span style=white-space:pre-wrap>      </span></td><td><span style=white-space:pre-wrap>  NA</span></td></tr>\n",
       "\t<tr><td>25223650</td><td>2019-10-01 00:05:30</td><td>2019-10-01 00:37:36</td><td>2564</td><td>1,925.0</td><td> 77</td><td><span style=white-space:pre-wrap>Clinton St &amp; Madison St       </span></td><td>506</td><td><span style=white-space:pre-wrap>Spaulding Ave &amp; Armitage Ave  </span></td><td>Subscriber</td><td><span style=white-space:pre-wrap>Male  </span></td><td>1977</td></tr>\n",
       "\t<tr><td>25223651</td><td>2019-10-01 00:07:25</td><td>2019-10-01 00:19:53</td><td>3601</td><td><span style=white-space:pre-wrap>748.0  </span></td><td>198</td><td><span style=white-space:pre-wrap>Green St &amp; Madison St         </span></td><td>331</td><td><span style=white-space:pre-wrap>Halsted St &amp; Clybourn Ave     </span></td><td>Subscriber</td><td>Female</td><td>1980</td></tr>\n",
       "\t<tr><td>25223652</td><td>2019-10-01 00:08:40</td><td>2019-10-01 00:26:00</td><td> 711</td><td>1,039.0</td><td> 66</td><td><span style=white-space:pre-wrap>Clinton St &amp; Lake St          </span></td><td> 16</td><td><span style=white-space:pre-wrap>Paulina Ave &amp; North Ave       </span></td><td><span style=white-space:pre-wrap>Customer  </span></td><td><span style=white-space:pre-wrap>Male  </span></td><td>1994</td></tr>\n",
       "\t<tr><td>25223653</td><td>2019-10-01 00:08:52</td><td>2019-10-01 00:29:17</td><td>5005</td><td>1,224.0</td><td>240</td><td><span style=white-space:pre-wrap>Sheridan Rd &amp; Irving Park Rd  </span></td><td>230</td><td><span style=white-space:pre-wrap>Lincoln Ave &amp; Roscoe St       </span></td><td><span style=white-space:pre-wrap>Customer  </span></td><td><span style=white-space:pre-wrap>      </span></td><td><span style=white-space:pre-wrap>  NA</span></td></tr>\n",
       "\t<tr><td>25223655</td><td>2019-10-01 00:10:03</td><td>2019-10-01 00:15:30</td><td>1730</td><td><span style=white-space:pre-wrap>326.0  </span></td><td> 66</td><td><span style=white-space:pre-wrap>Clinton St &amp; Lake St          </span></td><td> 88</td><td><span style=white-space:pre-wrap>Racine Ave &amp; Randolph St      </span></td><td>Subscriber</td><td><span style=white-space:pre-wrap>Male  </span></td><td>1992</td></tr>\n",
       "\t<tr><td>25223656</td><td>2019-10-01 00:10:46</td><td>2019-10-01 00:16:04</td><td>4595</td><td><span style=white-space:pre-wrap>318.0  </span></td><td>373</td><td><span style=white-space:pre-wrap>Kedzie Ave &amp; Chicago Ave      </span></td><td>377</td><td><span style=white-space:pre-wrap>Kedzie Ave &amp; Lake St          </span></td><td><span style=white-space:pre-wrap>Customer  </span></td><td><span style=white-space:pre-wrap>      </span></td><td><span style=white-space:pre-wrap>  NA</span></td></tr>\n",
       "\t<tr><td>25223657</td><td>2019-10-01 00:12:04</td><td>2019-10-01 01:13:36</td><td>2958</td><td>3,692.0</td><td> 74</td><td><span style=white-space:pre-wrap>Kingsbury St &amp; Erie St        </span></td><td>402</td><td><span style=white-space:pre-wrap>Shields Ave &amp; 31st St         </span></td><td><span style=white-space:pre-wrap>Customer  </span></td><td>Female</td><td>1962</td></tr>\n",
       "\t<tr><td>25223658</td><td>2019-10-01 00:12:47</td><td>2019-10-01 00:17:55</td><td>1489</td><td><span style=white-space:pre-wrap>308.0  </span></td><td>289</td><td><span style=white-space:pre-wrap>Wells St &amp; Concord Ln         </span></td><td>176</td><td><span style=white-space:pre-wrap>Clark St &amp; Elm St             </span></td><td>Subscriber</td><td><span style=white-space:pre-wrap>Male  </span></td><td>1992</td></tr>\n",
       "\t<tr><td>25223659</td><td>2019-10-01 00:13:21</td><td>2019-10-01 00:34:12</td><td>3602</td><td>1,251.0</td><td>106</td><td><span style=white-space:pre-wrap>State St &amp; Pearson St         </span></td><td>334</td><td><span style=white-space:pre-wrap>Lake Shore Dr &amp; Belmont Ave   </span></td><td><span style=white-space:pre-wrap>Customer  </span></td><td><span style=white-space:pre-wrap>      </span></td><td><span style=white-space:pre-wrap>  NA</span></td></tr>\n",
       "\t<tr><td>25223660</td><td>2019-10-01 00:15:07</td><td>2019-10-01 00:40:34</td><td>4228</td><td>1,527.0</td><td>133</td><td><span style=white-space:pre-wrap>Kingsbury St &amp; Kinzie St      </span></td><td>673</td><td><span style=white-space:pre-wrap>Lincoln Park Conservatory     </span></td><td><span style=white-space:pre-wrap>Customer  </span></td><td>Female</td><td>1995</td></tr>\n",
       "\t<tr><td>25223661</td><td>2019-10-01 00:15:22</td><td>2019-10-01 00:40:42</td><td> 447</td><td>1,520.0</td><td>133</td><td><span style=white-space:pre-wrap>Kingsbury St &amp; Kinzie St      </span></td><td>673</td><td><span style=white-space:pre-wrap>Lincoln Park Conservatory     </span></td><td><span style=white-space:pre-wrap>Customer  </span></td><td><span style=white-space:pre-wrap>      </span></td><td><span style=white-space:pre-wrap>  NA</span></td></tr>\n",
       "\t<tr><td>25223662</td><td>2019-10-01 00:16:09</td><td>2019-10-01 00:41:05</td><td>1368</td><td>1,496.0</td><td> 29</td><td><span style=white-space:pre-wrap>Noble St &amp; Milwaukee Ave      </span></td><td>498</td><td><span style=white-space:pre-wrap>California Ave &amp; Fletcher St  </span></td><td><span style=white-space:pre-wrap>Customer  </span></td><td><span style=white-space:pre-wrap>      </span></td><td><span style=white-space:pre-wrap>  NA</span></td></tr>\n",
       "\t<tr><td>25223663</td><td>2019-10-01 00:17:09</td><td>2019-10-01 00:22:01</td><td>5232</td><td><span style=white-space:pre-wrap>292.0  </span></td><td> 13</td><td><span style=white-space:pre-wrap>Wilton Ave &amp; Diversey Pkwy    </span></td><td>117</td><td><span style=white-space:pre-wrap>Wilton Ave &amp; Belmont Ave      </span></td><td>Subscriber</td><td><span style=white-space:pre-wrap>Male  </span></td><td>1991</td></tr>\n",
       "\t<tr><td>25223664</td><td>2019-10-01 00:17:09</td><td>2019-10-01 00:29:51</td><td>2188</td><td><span style=white-space:pre-wrap>761.0  </span></td><td>491</td><td><span style=white-space:pre-wrap>Talman Ave &amp; Addison St       </span></td><td>630</td><td><span style=white-space:pre-wrap>Kildare Ave &amp; Montrose Ave    </span></td><td><span style=white-space:pre-wrap>Customer  </span></td><td><span style=white-space:pre-wrap>Male  </span></td><td>1990</td></tr>\n",
       "\t<tr><td>25223665</td><td>2019-10-01 00:18:23</td><td>2019-10-01 00:25:17</td><td>6402</td><td><span style=white-space:pre-wrap>413.0  </span></td><td>309</td><td><span style=white-space:pre-wrap>Leavitt St &amp; Armitage Ave     </span></td><td>123</td><td>California Ave &amp; Milwaukee Ave</td><td>Subscriber</td><td><span style=white-space:pre-wrap>Male  </span></td><td>1987</td></tr>\n",
       "\t<tr><td>25223666</td><td>2019-10-01 00:18:32</td><td>2019-10-01 00:45:33</td><td>2388</td><td>1,621.0</td><td>103</td><td><span style=white-space:pre-wrap>Clinton St &amp; Polk St          </span></td><td>103</td><td><span style=white-space:pre-wrap>Clinton St &amp; Polk St          </span></td><td><span style=white-space:pre-wrap>Customer  </span></td><td><span style=white-space:pre-wrap>      </span></td><td><span style=white-space:pre-wrap>  NA</span></td></tr>\n",
       "\t<tr><td>25223667</td><td>2019-10-01 00:20:34</td><td>2019-10-01 00:25:03</td><td>5658</td><td><span style=white-space:pre-wrap>269.0  </span></td><td>264</td><td><span style=white-space:pre-wrap>Stetson Ave &amp; South Water St  </span></td><td><span style=white-space:pre-wrap>  7</span></td><td><span style=white-space:pre-wrap>Field Blvd &amp; South Water St   </span></td><td>Subscriber</td><td><span style=white-space:pre-wrap>Male  </span></td><td>1967</td></tr>\n",
       "\t<tr><td>25223668</td><td>2019-10-01 00:21:06</td><td>2019-10-01 00:27:18</td><td>5354</td><td><span style=white-space:pre-wrap>371.0  </span></td><td>169</td><td><span style=white-space:pre-wrap>Canal St &amp; Harrison St        </span></td><td> 66</td><td><span style=white-space:pre-wrap>Clinton St &amp; Lake St          </span></td><td>Subscriber</td><td><span style=white-space:pre-wrap>Male  </span></td><td>1964</td></tr>\n",
       "\t<tr><td>25223669</td><td>2019-10-01 00:21:19</td><td>2019-10-01 00:52:23</td><td>5479</td><td>1,863.0</td><td>323</td><td><span style=white-space:pre-wrap>Sheridan Rd &amp; Lawrence Ave    </span></td><td>465</td><td><span style=white-space:pre-wrap>Marine Dr &amp; Ainslie St        </span></td><td><span style=white-space:pre-wrap>Customer  </span></td><td><span style=white-space:pre-wrap>      </span></td><td><span style=white-space:pre-wrap>  NA</span></td></tr>\n",
       "\t<tr><td>25223670</td><td>2019-10-01 00:21:32</td><td>2019-10-01 00:30:22</td><td>6321</td><td><span style=white-space:pre-wrap>530.0  </span></td><td>291</td><td><span style=white-space:pre-wrap>Wells St &amp; Evergreen Ave      </span></td><td>161</td><td><span style=white-space:pre-wrap>Rush St &amp; Superior St         </span></td><td>Subscriber</td><td>Female</td><td>1991</td></tr>\n",
       "\t<tr><td>⋮</td><td>⋮</td><td>⋮</td><td>⋮</td><td>⋮</td><td>⋮</td><td>⋮</td><td>⋮</td><td>⋮</td><td>⋮</td><td>⋮</td><td>⋮</td></tr>\n",
       "\t<tr><td>25962873</td><td>2019-12-31 23:30:31</td><td>2019-12-31 23:34:49</td><td>2382</td><td><span style=white-space:pre-wrap>257.0  </span></td><td>148</td><td><span style=white-space:pre-wrap>State St &amp; 33rd St                 </span></td><td>402</td><td><span style=white-space:pre-wrap>Shields Ave &amp; 31st St             </span></td><td>Subscriber</td><td><span style=white-space:pre-wrap>Male  </span></td><td>1995</td></tr>\n",
       "\t<tr><td>25962874</td><td>2019-12-31 23:31:35</td><td>2019-12-31 23:50:47</td><td>3388</td><td>1,152.0</td><td>174</td><td><span style=white-space:pre-wrap>Canal St &amp; Madison St              </span></td><td> 33</td><td><span style=white-space:pre-wrap>State St &amp; Van Buren St           </span></td><td>Subscriber</td><td><span style=white-space:pre-wrap>Male  </span></td><td>1985</td></tr>\n",
       "\t<tr><td>25962875</td><td>2019-12-31 23:31:59</td><td>2019-12-31 23:40:41</td><td>3213</td><td><span style=white-space:pre-wrap>522.0  </span></td><td>277</td><td><span style=white-space:pre-wrap>Ashland Ave &amp; Grand Ave            </span></td><td>130</td><td><span style=white-space:pre-wrap>Damen Ave &amp; Division St           </span></td><td>Subscriber</td><td><span style=white-space:pre-wrap>Male  </span></td><td>1984</td></tr>\n",
       "\t<tr><td>25962876</td><td>2019-12-31 23:32:47</td><td>2019-12-31 23:45:47</td><td>4599</td><td><span style=white-space:pre-wrap>780.0  </span></td><td>275</td><td><span style=white-space:pre-wrap>Ashland Ave &amp; 13th St              </span></td><td>205</td><td><span style=white-space:pre-wrap>Paulina St &amp; 18th St              </span></td><td>Subscriber</td><td><span style=white-space:pre-wrap>Male  </span></td><td>1987</td></tr>\n",
       "\t<tr><td>25962877</td><td>2019-12-31 23:35:20</td><td>2019-12-31 23:39:45</td><td>1914</td><td><span style=white-space:pre-wrap>265.0  </span></td><td>417</td><td><span style=white-space:pre-wrap>Cornell Ave &amp; Hyde Park Blvd       </span></td><td>345</td><td><span style=white-space:pre-wrap>Lake Park Ave &amp; 56th St           </span></td><td>Subscriber</td><td><span style=white-space:pre-wrap>Male  </span></td><td>1993</td></tr>\n",
       "\t<tr><td>25962878</td><td>2019-12-31 23:35:28</td><td>2019-12-31 23:40:59</td><td>3775</td><td><span style=white-space:pre-wrap>330.0  </span></td><td>160</td><td><span style=white-space:pre-wrap>Campbell Ave &amp; North Ave           </span></td><td>309</td><td><span style=white-space:pre-wrap>Leavitt St &amp; Armitage Ave         </span></td><td>Subscriber</td><td><span style=white-space:pre-wrap>Male  </span></td><td>1991</td></tr>\n",
       "\t<tr><td>25962879</td><td>2019-12-31 23:36:30</td><td>2019-12-31 23:56:19</td><td>4877</td><td>1,189.0</td><td> 90</td><td>Millennium Park                    </td><td> 90</td><td>Millennium Park                   </td><td>Subscriber</td><td>Male  </td><td>1992</td></tr>\n",
       "\t<tr><td>25962880</td><td>2019-12-31 23:40:08</td><td>2019-12-31 23:48:46</td><td>6330</td><td><span style=white-space:pre-wrap>517.0  </span></td><td>241</td><td><span style=white-space:pre-wrap>Morgan St &amp; Polk St                </span></td><td> 15</td><td><span style=white-space:pre-wrap>Racine Ave &amp; 18th St              </span></td><td>Subscriber</td><td><span style=white-space:pre-wrap>Male  </span></td><td>1994</td></tr>\n",
       "\t<tr><td>25962881</td><td>2019-12-31 23:41:31</td><td>2019-12-31 23:50:18</td><td>6025</td><td><span style=white-space:pre-wrap>527.0  </span></td><td>159</td><td><span style=white-space:pre-wrap>Claremont Ave &amp; Hirsch St          </span></td><td> 20</td><td><span style=white-space:pre-wrap>Sheffield Ave &amp; Kingsbury St      </span></td><td>Subscriber</td><td><span style=white-space:pre-wrap>Male  </span></td><td>1989</td></tr>\n",
       "\t<tr><td>25962882</td><td>2019-12-31 23:41:49</td><td>2020-01-01 00:28:39</td><td> 269</td><td>2,809.0</td><td>394</td><td><span style=white-space:pre-wrap>Clark St &amp; 9th St (AMLI)           </span></td><td>394</td><td><span style=white-space:pre-wrap>Clark St &amp; 9th St (AMLI)          </span></td><td>Subscriber</td><td>Female</td><td>1974</td></tr>\n",
       "\t<tr><td>25962885</td><td>2019-12-31 23:42:11</td><td>2020-01-01 00:24:21</td><td> 389</td><td>2,530.0</td><td>145</td><td>Mies van der Rohe Way &amp; Chestnut St</td><td> 26</td><td><span style=white-space:pre-wrap>McClurg Ct &amp; Illinois St          </span></td><td>Subscriber</td><td>Female</td><td>1979</td></tr>\n",
       "\t<tr><td>25962886</td><td>2019-12-31 23:42:41</td><td>2020-01-01 00:39:20</td><td>3701</td><td>3,398.0</td><td>232</td><td><span style=white-space:pre-wrap>Pine Grove Ave &amp; Waveland Ave      </span></td><td>232</td><td><span style=white-space:pre-wrap>Pine Grove Ave &amp; Waveland Ave     </span></td><td>Subscriber</td><td><span style=white-space:pre-wrap>Male  </span></td><td>1977</td></tr>\n",
       "\t<tr><td>25962887</td><td>2019-12-31 23:43:41</td><td>2020-01-01 00:56:43</td><td><span style=white-space:pre-wrap>  73</span></td><td>4,381.0</td><td>289</td><td><span style=white-space:pre-wrap>Wells St &amp; Concord Ln              </span></td><td>289</td><td><span style=white-space:pre-wrap>Wells St &amp; Concord Ln             </span></td><td>Subscriber</td><td>Female</td><td>1996</td></tr>\n",
       "\t<tr><td>25962888</td><td>2019-12-31 23:44:59</td><td>2019-12-31 23:50:34</td><td>6053</td><td><span style=white-space:pre-wrap>335.0  </span></td><td>144</td><td><span style=white-space:pre-wrap>Larrabee St &amp; Webster Ave          </span></td><td>289</td><td><span style=white-space:pre-wrap>Wells St &amp; Concord Ln             </span></td><td>Subscriber</td><td><span style=white-space:pre-wrap>Male  </span></td><td>1989</td></tr>\n",
       "\t<tr><td>25962889</td><td>2019-12-31 23:45:35</td><td>2019-12-31 23:48:17</td><td>2076</td><td><span style=white-space:pre-wrap>161.0  </span></td><td>140</td><td><span style=white-space:pre-wrap>Dearborn Pkwy &amp; Delaware Pl        </span></td><td>161</td><td><span style=white-space:pre-wrap>Rush St &amp; Superior St             </span></td><td>Subscriber</td><td><span style=white-space:pre-wrap>Male  </span></td><td>1994</td></tr>\n",
       "\t<tr><td>25962890</td><td>2019-12-31 23:46:19</td><td>2019-12-31 23:53:51</td><td><span style=white-space:pre-wrap>  41</span></td><td><span style=white-space:pre-wrap>451.0  </span></td><td>641</td><td>Central Park Ave &amp; Bloomingdale Ave</td><td>259</td><td>California Ave &amp; Francis Pl (Temp)</td><td>Subscriber</td><td><span style=white-space:pre-wrap>Male  </span></td><td>1966</td></tr>\n",
       "\t<tr><td>25962891</td><td>2019-12-31 23:49:38</td><td>2020-01-01 00:15:19</td><td>2936</td><td>1,540.0</td><td> 90</td><td><span style=white-space:pre-wrap>Millennium Park                    </span></td><td> 76</td><td><span style=white-space:pre-wrap>Lake Shore Dr &amp; Monroe St         </span></td><td><span style=white-space:pre-wrap>Customer  </span></td><td><span style=white-space:pre-wrap>      </span></td><td><span style=white-space:pre-wrap>  NA</span></td></tr>\n",
       "\t<tr><td>25962892</td><td>2019-12-31 23:49:43</td><td>2020-01-01 00:21:51</td><td>1671</td><td>1,927.0</td><td> 90</td><td><span style=white-space:pre-wrap>Millennium Park                    </span></td><td> 76</td><td><span style=white-space:pre-wrap>Lake Shore Dr &amp; Monroe St         </span></td><td><span style=white-space:pre-wrap>Customer  </span></td><td><span style=white-space:pre-wrap>      </span></td><td><span style=white-space:pre-wrap>  NA</span></td></tr>\n",
       "\t<tr><td>25962893</td><td>2019-12-31 23:49:51</td><td>2020-01-01 00:22:08</td><td>3925</td><td>1,936.0</td><td> 90</td><td><span style=white-space:pre-wrap>Millennium Park                    </span></td><td> 76</td><td><span style=white-space:pre-wrap>Lake Shore Dr &amp; Monroe St         </span></td><td><span style=white-space:pre-wrap>Customer  </span></td><td><span style=white-space:pre-wrap>      </span></td><td><span style=white-space:pre-wrap>  NA</span></td></tr>\n",
       "\t<tr><td>25962894</td><td>2019-12-31 23:49:53</td><td>2020-01-01 00:22:30</td><td>2898</td><td>1,956.0</td><td> 90</td><td><span style=white-space:pre-wrap>Millennium Park                    </span></td><td> 76</td><td><span style=white-space:pre-wrap>Lake Shore Dr &amp; Monroe St         </span></td><td><span style=white-space:pre-wrap>Customer  </span></td><td><span style=white-space:pre-wrap>      </span></td><td><span style=white-space:pre-wrap>  NA</span></td></tr>\n",
       "\t<tr><td>25962895</td><td>2019-12-31 23:50:05</td><td>2019-12-31 23:53:33</td><td>1720</td><td><span style=white-space:pre-wrap>208.0  </span></td><td>624</td><td><span style=white-space:pre-wrap>Dearborn St &amp; Van Buren St         </span></td><td> 81</td><td><span style=white-space:pre-wrap>Daley Center Plaza                </span></td><td>Subscriber</td><td>Female</td><td>1990</td></tr>\n",
       "\t<tr><td>25962896</td><td>2019-12-31 23:50:19</td><td>2019-12-31 23:55:37</td><td>4561</td><td><span style=white-space:pre-wrap>318.0  </span></td><td>255</td><td><span style=white-space:pre-wrap>Indiana Ave &amp; Roosevelt Rd         </span></td><td><span style=white-space:pre-wrap>  3</span></td><td><span style=white-space:pre-wrap>Shedd Aquarium                    </span></td><td>Subscriber</td><td><span style=white-space:pre-wrap>Male  </span></td><td>1990</td></tr>\n",
       "\t<tr><td>25962897</td><td>2019-12-31 23:51:19</td><td>2019-12-31 23:55:33</td><td>5654</td><td><span style=white-space:pre-wrap>254.0  </span></td><td>638</td><td><span style=white-space:pre-wrap>Clinton St &amp; Jackson Blvd          </span></td><td>134</td><td><span style=white-space:pre-wrap>Peoria St &amp; Jackson Blvd          </span></td><td>Subscriber</td><td><span style=white-space:pre-wrap>Male  </span></td><td>1997</td></tr>\n",
       "\t<tr><td>25962898</td><td>2019-12-31 23:54:38</td><td>2020-01-01 00:04:38</td><td> 606</td><td><span style=white-space:pre-wrap>599.0  </span></td><td>455</td><td><span style=white-space:pre-wrap>Maplewood Ave &amp; Peterson Ave       </span></td><td>467</td><td><span style=white-space:pre-wrap>Western Ave &amp; Lunt Ave            </span></td><td>Subscriber</td><td><span style=white-space:pre-wrap>Male  </span></td><td>1986</td></tr>\n",
       "\t<tr><td>25962899</td><td>2019-12-31 23:54:54</td><td>2020-01-01 00:22:02</td><td>5996</td><td>1,628.0</td><td>145</td><td>Mies van der Rohe Way &amp; Chestnut St</td><td> 25</td><td><span style=white-space:pre-wrap>Michigan Ave &amp; Pearson St         </span></td><td>Subscriber</td><td><span style=white-space:pre-wrap>Male  </span></td><td>1992</td></tr>\n",
       "\t<tr><td>25962900</td><td>2019-12-31 23:56:13</td><td>2020-01-01 00:15:45</td><td>2196</td><td>1,172.0</td><td>112</td><td><span style=white-space:pre-wrap>Green St &amp; Randolph St             </span></td><td>225</td><td><span style=white-space:pre-wrap>Halsted St &amp; Dickens Ave          </span></td><td>Subscriber</td><td><span style=white-space:pre-wrap>Male  </span></td><td>1981</td></tr>\n",
       "\t<tr><td>25962901</td><td>2019-12-31 23:56:34</td><td>2020-01-01 00:22:08</td><td>4877</td><td>1,533.0</td><td> 90</td><td>Millennium Park                    </td><td> 90</td><td>Millennium Park                   </td><td>Subscriber</td><td>Male  </td><td>1992</td></tr>\n",
       "\t<tr><td>25962902</td><td>2019-12-31 23:57:05</td><td>2020-01-01 00:05:46</td><td> 863</td><td><span style=white-space:pre-wrap>520.0  </span></td><td>623</td><td><span style=white-space:pre-wrap>Michigan Ave &amp; 8th St              </span></td><td> 52</td><td><span style=white-space:pre-wrap>Michigan Ave &amp; Lake St            </span></td><td>Subscriber</td><td><span style=white-space:pre-wrap>Male  </span></td><td>1967</td></tr>\n",
       "\t<tr><td>25962903</td><td>2019-12-31 23:57:11</td><td>2020-01-01 00:05:45</td><td>2637</td><td><span style=white-space:pre-wrap>514.0  </span></td><td>623</td><td><span style=white-space:pre-wrap>Michigan Ave &amp; 8th St              </span></td><td> 52</td><td><span style=white-space:pre-wrap>Michigan Ave &amp; Lake St            </span></td><td>Subscriber</td><td>Female</td><td>1970</td></tr>\n",
       "\t<tr><td>25962904</td><td>2019-12-31 23:57:17</td><td>2019-12-31 23:59:18</td><td>5930</td><td><span style=white-space:pre-wrap>120.0  </span></td><td>256</td><td><span style=white-space:pre-wrap>Broadway &amp; Sheridan Rd             </span></td><td>240</td><td><span style=white-space:pre-wrap>Sheridan Rd &amp; Irving Park Rd      </span></td><td>Subscriber</td><td><span style=white-space:pre-wrap>Male  </span></td><td>1982</td></tr>\n",
       "</tbody>\n",
       "</table>\n"
      ],
      "text/latex": [
       "A data.frame: 704054 × 12\n",
       "\\begin{tabular}{llllllllllll}\n",
       " id\\_viaje & empezo & termino & id\\_bici & tripduration & id\\_estacion\\_inicial & estacion\\_partida & id\\_estacion\\_llegada & estacion\\_llegada & membrecia & gender & birthyear\\\\\n",
       " <int> & <chr> & <chr> & <int> & <chr> & <int> & <chr> & <int> & <chr> & <chr> & <chr> & <int>\\\\\n",
       "\\hline\n",
       "\t 25223640 & 2019-10-01 00:01:39 & 2019-10-01 00:17:20 & 2215 & 940.0   &  20 & Sheffield Ave \\& Kingsbury St   & 309 & Leavitt St \\& Armitage Ave      & Subscriber & Male   & 1987\\\\\n",
       "\t 25223641 & 2019-10-01 00:02:16 & 2019-10-01 00:06:34 & 6328 & 258.0   &  19 & Throop (Loomis) St \\& Taylor St & 241 & Morgan St \\& Polk St            & Subscriber & Male   & 1998\\\\\n",
       "\t 25223642 & 2019-10-01 00:04:32 & 2019-10-01 00:18:43 & 3003 & 850.0   &  84 & Milwaukee Ave \\& Grand Ave      & 199 & Wabash Ave \\& Grand Ave         & Subscriber & Female & 1991\\\\\n",
       "\t 25223643 & 2019-10-01 00:04:32 & 2019-10-01 00:43:43 & 3275 & 2,350.0 & 313 & Lakeview Ave \\& Fullerton Pkwy  & 290 & Kedzie Ave \\& Palmer Ct         & Subscriber & Male   & 1990\\\\\n",
       "\t 25223644 & 2019-10-01 00:04:34 & 2019-10-01 00:35:42 & 5294 & 1,867.0 & 210 & Ashland Ave \\& Division St      & 382 & Western Ave \\& Congress Pkwy    & Subscriber & Male   & 1987\\\\\n",
       "\t 25223645 & 2019-10-01 00:04:38 & 2019-10-01 00:10:51 & 1891 & 373.0   & 156 & Clark St \\& Wellington Ave      & 226 & Racine Ave \\& Belmont Ave       & Subscriber & Female & 1994\\\\\n",
       "\t 25223646 & 2019-10-01 00:04:52 & 2019-10-01 00:22:45 & 1061 & 1,072.0 &  84 & Milwaukee Ave \\& Grand Ave      & 142 & McClurg Ct \\& Erie St           & Subscriber & Female & 1991\\\\\n",
       "\t 25223647 & 2019-10-01 00:04:57 & 2019-10-01 00:29:16 & 1274 & 1,458.0 & 156 & Clark St \\& Wellington Ave      & 463 & Clark St \\& Berwyn Ave          & Subscriber & Male   & 1995\\\\\n",
       "\t 25223648 & 2019-10-01 00:05:20 & 2019-10-01 00:29:18 & 6011 & 1,437.0 & 156 & Clark St \\& Wellington Ave      & 463 & Clark St \\& Berwyn Ave          & Subscriber & Female & 1993\\\\\n",
       "\t 25223649 & 2019-10-01 00:05:20 & 2019-10-01 02:23:46 & 2957 & 8,306.0 & 336 & Cottage Grove Ave \\& 47th St    & 336 & Cottage Grove Ave \\& 47th St    & Customer   &        &   NA\\\\\n",
       "\t 25223650 & 2019-10-01 00:05:30 & 2019-10-01 00:37:36 & 2564 & 1,925.0 &  77 & Clinton St \\& Madison St        & 506 & Spaulding Ave \\& Armitage Ave   & Subscriber & Male   & 1977\\\\\n",
       "\t 25223651 & 2019-10-01 00:07:25 & 2019-10-01 00:19:53 & 3601 & 748.0   & 198 & Green St \\& Madison St          & 331 & Halsted St \\& Clybourn Ave      & Subscriber & Female & 1980\\\\\n",
       "\t 25223652 & 2019-10-01 00:08:40 & 2019-10-01 00:26:00 &  711 & 1,039.0 &  66 & Clinton St \\& Lake St           &  16 & Paulina Ave \\& North Ave        & Customer   & Male   & 1994\\\\\n",
       "\t 25223653 & 2019-10-01 00:08:52 & 2019-10-01 00:29:17 & 5005 & 1,224.0 & 240 & Sheridan Rd \\& Irving Park Rd   & 230 & Lincoln Ave \\& Roscoe St        & Customer   &        &   NA\\\\\n",
       "\t 25223655 & 2019-10-01 00:10:03 & 2019-10-01 00:15:30 & 1730 & 326.0   &  66 & Clinton St \\& Lake St           &  88 & Racine Ave \\& Randolph St       & Subscriber & Male   & 1992\\\\\n",
       "\t 25223656 & 2019-10-01 00:10:46 & 2019-10-01 00:16:04 & 4595 & 318.0   & 373 & Kedzie Ave \\& Chicago Ave       & 377 & Kedzie Ave \\& Lake St           & Customer   &        &   NA\\\\\n",
       "\t 25223657 & 2019-10-01 00:12:04 & 2019-10-01 01:13:36 & 2958 & 3,692.0 &  74 & Kingsbury St \\& Erie St         & 402 & Shields Ave \\& 31st St          & Customer   & Female & 1962\\\\\n",
       "\t 25223658 & 2019-10-01 00:12:47 & 2019-10-01 00:17:55 & 1489 & 308.0   & 289 & Wells St \\& Concord Ln          & 176 & Clark St \\& Elm St              & Subscriber & Male   & 1992\\\\\n",
       "\t 25223659 & 2019-10-01 00:13:21 & 2019-10-01 00:34:12 & 3602 & 1,251.0 & 106 & State St \\& Pearson St          & 334 & Lake Shore Dr \\& Belmont Ave    & Customer   &        &   NA\\\\\n",
       "\t 25223660 & 2019-10-01 00:15:07 & 2019-10-01 00:40:34 & 4228 & 1,527.0 & 133 & Kingsbury St \\& Kinzie St       & 673 & Lincoln Park Conservatory      & Customer   & Female & 1995\\\\\n",
       "\t 25223661 & 2019-10-01 00:15:22 & 2019-10-01 00:40:42 &  447 & 1,520.0 & 133 & Kingsbury St \\& Kinzie St       & 673 & Lincoln Park Conservatory      & Customer   &        &   NA\\\\\n",
       "\t 25223662 & 2019-10-01 00:16:09 & 2019-10-01 00:41:05 & 1368 & 1,496.0 &  29 & Noble St \\& Milwaukee Ave       & 498 & California Ave \\& Fletcher St   & Customer   &        &   NA\\\\\n",
       "\t 25223663 & 2019-10-01 00:17:09 & 2019-10-01 00:22:01 & 5232 & 292.0   &  13 & Wilton Ave \\& Diversey Pkwy     & 117 & Wilton Ave \\& Belmont Ave       & Subscriber & Male   & 1991\\\\\n",
       "\t 25223664 & 2019-10-01 00:17:09 & 2019-10-01 00:29:51 & 2188 & 761.0   & 491 & Talman Ave \\& Addison St        & 630 & Kildare Ave \\& Montrose Ave     & Customer   & Male   & 1990\\\\\n",
       "\t 25223665 & 2019-10-01 00:18:23 & 2019-10-01 00:25:17 & 6402 & 413.0   & 309 & Leavitt St \\& Armitage Ave      & 123 & California Ave \\& Milwaukee Ave & Subscriber & Male   & 1987\\\\\n",
       "\t 25223666 & 2019-10-01 00:18:32 & 2019-10-01 00:45:33 & 2388 & 1,621.0 & 103 & Clinton St \\& Polk St           & 103 & Clinton St \\& Polk St           & Customer   &        &   NA\\\\\n",
       "\t 25223667 & 2019-10-01 00:20:34 & 2019-10-01 00:25:03 & 5658 & 269.0   & 264 & Stetson Ave \\& South Water St   &   7 & Field Blvd \\& South Water St    & Subscriber & Male   & 1967\\\\\n",
       "\t 25223668 & 2019-10-01 00:21:06 & 2019-10-01 00:27:18 & 5354 & 371.0   & 169 & Canal St \\& Harrison St         &  66 & Clinton St \\& Lake St           & Subscriber & Male   & 1964\\\\\n",
       "\t 25223669 & 2019-10-01 00:21:19 & 2019-10-01 00:52:23 & 5479 & 1,863.0 & 323 & Sheridan Rd \\& Lawrence Ave     & 465 & Marine Dr \\& Ainslie St         & Customer   &        &   NA\\\\\n",
       "\t 25223670 & 2019-10-01 00:21:32 & 2019-10-01 00:30:22 & 6321 & 530.0   & 291 & Wells St \\& Evergreen Ave       & 161 & Rush St \\& Superior St          & Subscriber & Female & 1991\\\\\n",
       "\t ⋮ & ⋮ & ⋮ & ⋮ & ⋮ & ⋮ & ⋮ & ⋮ & ⋮ & ⋮ & ⋮ & ⋮\\\\\n",
       "\t 25962873 & 2019-12-31 23:30:31 & 2019-12-31 23:34:49 & 2382 & 257.0   & 148 & State St \\& 33rd St                  & 402 & Shields Ave \\& 31st St              & Subscriber & Male   & 1995\\\\\n",
       "\t 25962874 & 2019-12-31 23:31:35 & 2019-12-31 23:50:47 & 3388 & 1,152.0 & 174 & Canal St \\& Madison St               &  33 & State St \\& Van Buren St            & Subscriber & Male   & 1985\\\\\n",
       "\t 25962875 & 2019-12-31 23:31:59 & 2019-12-31 23:40:41 & 3213 & 522.0   & 277 & Ashland Ave \\& Grand Ave             & 130 & Damen Ave \\& Division St            & Subscriber & Male   & 1984\\\\\n",
       "\t 25962876 & 2019-12-31 23:32:47 & 2019-12-31 23:45:47 & 4599 & 780.0   & 275 & Ashland Ave \\& 13th St               & 205 & Paulina St \\& 18th St               & Subscriber & Male   & 1987\\\\\n",
       "\t 25962877 & 2019-12-31 23:35:20 & 2019-12-31 23:39:45 & 1914 & 265.0   & 417 & Cornell Ave \\& Hyde Park Blvd        & 345 & Lake Park Ave \\& 56th St            & Subscriber & Male   & 1993\\\\\n",
       "\t 25962878 & 2019-12-31 23:35:28 & 2019-12-31 23:40:59 & 3775 & 330.0   & 160 & Campbell Ave \\& North Ave            & 309 & Leavitt St \\& Armitage Ave          & Subscriber & Male   & 1991\\\\\n",
       "\t 25962879 & 2019-12-31 23:36:30 & 2019-12-31 23:56:19 & 4877 & 1,189.0 &  90 & Millennium Park                     &  90 & Millennium Park                    & Subscriber & Male   & 1992\\\\\n",
       "\t 25962880 & 2019-12-31 23:40:08 & 2019-12-31 23:48:46 & 6330 & 517.0   & 241 & Morgan St \\& Polk St                 &  15 & Racine Ave \\& 18th St               & Subscriber & Male   & 1994\\\\\n",
       "\t 25962881 & 2019-12-31 23:41:31 & 2019-12-31 23:50:18 & 6025 & 527.0   & 159 & Claremont Ave \\& Hirsch St           &  20 & Sheffield Ave \\& Kingsbury St       & Subscriber & Male   & 1989\\\\\n",
       "\t 25962882 & 2019-12-31 23:41:49 & 2020-01-01 00:28:39 &  269 & 2,809.0 & 394 & Clark St \\& 9th St (AMLI)            & 394 & Clark St \\& 9th St (AMLI)           & Subscriber & Female & 1974\\\\\n",
       "\t 25962885 & 2019-12-31 23:42:11 & 2020-01-01 00:24:21 &  389 & 2,530.0 & 145 & Mies van der Rohe Way \\& Chestnut St &  26 & McClurg Ct \\& Illinois St           & Subscriber & Female & 1979\\\\\n",
       "\t 25962886 & 2019-12-31 23:42:41 & 2020-01-01 00:39:20 & 3701 & 3,398.0 & 232 & Pine Grove Ave \\& Waveland Ave       & 232 & Pine Grove Ave \\& Waveland Ave      & Subscriber & Male   & 1977\\\\\n",
       "\t 25962887 & 2019-12-31 23:43:41 & 2020-01-01 00:56:43 &   73 & 4,381.0 & 289 & Wells St \\& Concord Ln               & 289 & Wells St \\& Concord Ln              & Subscriber & Female & 1996\\\\\n",
       "\t 25962888 & 2019-12-31 23:44:59 & 2019-12-31 23:50:34 & 6053 & 335.0   & 144 & Larrabee St \\& Webster Ave           & 289 & Wells St \\& Concord Ln              & Subscriber & Male   & 1989\\\\\n",
       "\t 25962889 & 2019-12-31 23:45:35 & 2019-12-31 23:48:17 & 2076 & 161.0   & 140 & Dearborn Pkwy \\& Delaware Pl         & 161 & Rush St \\& Superior St              & Subscriber & Male   & 1994\\\\\n",
       "\t 25962890 & 2019-12-31 23:46:19 & 2019-12-31 23:53:51 &   41 & 451.0   & 641 & Central Park Ave \\& Bloomingdale Ave & 259 & California Ave \\& Francis Pl (Temp) & Subscriber & Male   & 1966\\\\\n",
       "\t 25962891 & 2019-12-31 23:49:38 & 2020-01-01 00:15:19 & 2936 & 1,540.0 &  90 & Millennium Park                     &  76 & Lake Shore Dr \\& Monroe St          & Customer   &        &   NA\\\\\n",
       "\t 25962892 & 2019-12-31 23:49:43 & 2020-01-01 00:21:51 & 1671 & 1,927.0 &  90 & Millennium Park                     &  76 & Lake Shore Dr \\& Monroe St          & Customer   &        &   NA\\\\\n",
       "\t 25962893 & 2019-12-31 23:49:51 & 2020-01-01 00:22:08 & 3925 & 1,936.0 &  90 & Millennium Park                     &  76 & Lake Shore Dr \\& Monroe St          & Customer   &        &   NA\\\\\n",
       "\t 25962894 & 2019-12-31 23:49:53 & 2020-01-01 00:22:30 & 2898 & 1,956.0 &  90 & Millennium Park                     &  76 & Lake Shore Dr \\& Monroe St          & Customer   &        &   NA\\\\\n",
       "\t 25962895 & 2019-12-31 23:50:05 & 2019-12-31 23:53:33 & 1720 & 208.0   & 624 & Dearborn St \\& Van Buren St          &  81 & Daley Center Plaza                 & Subscriber & Female & 1990\\\\\n",
       "\t 25962896 & 2019-12-31 23:50:19 & 2019-12-31 23:55:37 & 4561 & 318.0   & 255 & Indiana Ave \\& Roosevelt Rd          &   3 & Shedd Aquarium                     & Subscriber & Male   & 1990\\\\\n",
       "\t 25962897 & 2019-12-31 23:51:19 & 2019-12-31 23:55:33 & 5654 & 254.0   & 638 & Clinton St \\& Jackson Blvd           & 134 & Peoria St \\& Jackson Blvd           & Subscriber & Male   & 1997\\\\\n",
       "\t 25962898 & 2019-12-31 23:54:38 & 2020-01-01 00:04:38 &  606 & 599.0   & 455 & Maplewood Ave \\& Peterson Ave        & 467 & Western Ave \\& Lunt Ave             & Subscriber & Male   & 1986\\\\\n",
       "\t 25962899 & 2019-12-31 23:54:54 & 2020-01-01 00:22:02 & 5996 & 1,628.0 & 145 & Mies van der Rohe Way \\& Chestnut St &  25 & Michigan Ave \\& Pearson St          & Subscriber & Male   & 1992\\\\\n",
       "\t 25962900 & 2019-12-31 23:56:13 & 2020-01-01 00:15:45 & 2196 & 1,172.0 & 112 & Green St \\& Randolph St              & 225 & Halsted St \\& Dickens Ave           & Subscriber & Male   & 1981\\\\\n",
       "\t 25962901 & 2019-12-31 23:56:34 & 2020-01-01 00:22:08 & 4877 & 1,533.0 &  90 & Millennium Park                     &  90 & Millennium Park                    & Subscriber & Male   & 1992\\\\\n",
       "\t 25962902 & 2019-12-31 23:57:05 & 2020-01-01 00:05:46 &  863 & 520.0   & 623 & Michigan Ave \\& 8th St               &  52 & Michigan Ave \\& Lake St             & Subscriber & Male   & 1967\\\\\n",
       "\t 25962903 & 2019-12-31 23:57:11 & 2020-01-01 00:05:45 & 2637 & 514.0   & 623 & Michigan Ave \\& 8th St               &  52 & Michigan Ave \\& Lake St             & Subscriber & Female & 1970\\\\\n",
       "\t 25962904 & 2019-12-31 23:57:17 & 2019-12-31 23:59:18 & 5930 & 120.0   & 256 & Broadway \\& Sheridan Rd              & 240 & Sheridan Rd \\& Irving Park Rd       & Subscriber & Male   & 1982\\\\\n",
       "\\end{tabular}\n"
      ],
      "text/markdown": [
       "\n",
       "A data.frame: 704054 × 12\n",
       "\n",
       "| id_viaje &lt;int&gt; | empezo &lt;chr&gt; | termino &lt;chr&gt; | id_bici &lt;int&gt; | tripduration &lt;chr&gt; | id_estacion_inicial &lt;int&gt; | estacion_partida &lt;chr&gt; | id_estacion_llegada &lt;int&gt; | estacion_llegada &lt;chr&gt; | membrecia &lt;chr&gt; | gender &lt;chr&gt; | birthyear &lt;int&gt; |\n",
       "|---|---|---|---|---|---|---|---|---|---|---|---|\n",
       "| 25223640 | 2019-10-01 00:01:39 | 2019-10-01 00:17:20 | 2215 | 940.0   |  20 | Sheffield Ave &amp; Kingsbury St   | 309 | Leavitt St &amp; Armitage Ave      | Subscriber | Male   | 1987 |\n",
       "| 25223641 | 2019-10-01 00:02:16 | 2019-10-01 00:06:34 | 6328 | 258.0   |  19 | Throop (Loomis) St &amp; Taylor St | 241 | Morgan St &amp; Polk St            | Subscriber | Male   | 1998 |\n",
       "| 25223642 | 2019-10-01 00:04:32 | 2019-10-01 00:18:43 | 3003 | 850.0   |  84 | Milwaukee Ave &amp; Grand Ave      | 199 | Wabash Ave &amp; Grand Ave         | Subscriber | Female | 1991 |\n",
       "| 25223643 | 2019-10-01 00:04:32 | 2019-10-01 00:43:43 | 3275 | 2,350.0 | 313 | Lakeview Ave &amp; Fullerton Pkwy  | 290 | Kedzie Ave &amp; Palmer Ct         | Subscriber | Male   | 1990 |\n",
       "| 25223644 | 2019-10-01 00:04:34 | 2019-10-01 00:35:42 | 5294 | 1,867.0 | 210 | Ashland Ave &amp; Division St      | 382 | Western Ave &amp; Congress Pkwy    | Subscriber | Male   | 1987 |\n",
       "| 25223645 | 2019-10-01 00:04:38 | 2019-10-01 00:10:51 | 1891 | 373.0   | 156 | Clark St &amp; Wellington Ave      | 226 | Racine Ave &amp; Belmont Ave       | Subscriber | Female | 1994 |\n",
       "| 25223646 | 2019-10-01 00:04:52 | 2019-10-01 00:22:45 | 1061 | 1,072.0 |  84 | Milwaukee Ave &amp; Grand Ave      | 142 | McClurg Ct &amp; Erie St           | Subscriber | Female | 1991 |\n",
       "| 25223647 | 2019-10-01 00:04:57 | 2019-10-01 00:29:16 | 1274 | 1,458.0 | 156 | Clark St &amp; Wellington Ave      | 463 | Clark St &amp; Berwyn Ave          | Subscriber | Male   | 1995 |\n",
       "| 25223648 | 2019-10-01 00:05:20 | 2019-10-01 00:29:18 | 6011 | 1,437.0 | 156 | Clark St &amp; Wellington Ave      | 463 | Clark St &amp; Berwyn Ave          | Subscriber | Female | 1993 |\n",
       "| 25223649 | 2019-10-01 00:05:20 | 2019-10-01 02:23:46 | 2957 | 8,306.0 | 336 | Cottage Grove Ave &amp; 47th St    | 336 | Cottage Grove Ave &amp; 47th St    | Customer   | <!----> |   NA |\n",
       "| 25223650 | 2019-10-01 00:05:30 | 2019-10-01 00:37:36 | 2564 | 1,925.0 |  77 | Clinton St &amp; Madison St        | 506 | Spaulding Ave &amp; Armitage Ave   | Subscriber | Male   | 1977 |\n",
       "| 25223651 | 2019-10-01 00:07:25 | 2019-10-01 00:19:53 | 3601 | 748.0   | 198 | Green St &amp; Madison St          | 331 | Halsted St &amp; Clybourn Ave      | Subscriber | Female | 1980 |\n",
       "| 25223652 | 2019-10-01 00:08:40 | 2019-10-01 00:26:00 |  711 | 1,039.0 |  66 | Clinton St &amp; Lake St           |  16 | Paulina Ave &amp; North Ave        | Customer   | Male   | 1994 |\n",
       "| 25223653 | 2019-10-01 00:08:52 | 2019-10-01 00:29:17 | 5005 | 1,224.0 | 240 | Sheridan Rd &amp; Irving Park Rd   | 230 | Lincoln Ave &amp; Roscoe St        | Customer   | <!----> |   NA |\n",
       "| 25223655 | 2019-10-01 00:10:03 | 2019-10-01 00:15:30 | 1730 | 326.0   |  66 | Clinton St &amp; Lake St           |  88 | Racine Ave &amp; Randolph St       | Subscriber | Male   | 1992 |\n",
       "| 25223656 | 2019-10-01 00:10:46 | 2019-10-01 00:16:04 | 4595 | 318.0   | 373 | Kedzie Ave &amp; Chicago Ave       | 377 | Kedzie Ave &amp; Lake St           | Customer   | <!----> |   NA |\n",
       "| 25223657 | 2019-10-01 00:12:04 | 2019-10-01 01:13:36 | 2958 | 3,692.0 |  74 | Kingsbury St &amp; Erie St         | 402 | Shields Ave &amp; 31st St          | Customer   | Female | 1962 |\n",
       "| 25223658 | 2019-10-01 00:12:47 | 2019-10-01 00:17:55 | 1489 | 308.0   | 289 | Wells St &amp; Concord Ln          | 176 | Clark St &amp; Elm St              | Subscriber | Male   | 1992 |\n",
       "| 25223659 | 2019-10-01 00:13:21 | 2019-10-01 00:34:12 | 3602 | 1,251.0 | 106 | State St &amp; Pearson St          | 334 | Lake Shore Dr &amp; Belmont Ave    | Customer   | <!----> |   NA |\n",
       "| 25223660 | 2019-10-01 00:15:07 | 2019-10-01 00:40:34 | 4228 | 1,527.0 | 133 | Kingsbury St &amp; Kinzie St       | 673 | Lincoln Park Conservatory      | Customer   | Female | 1995 |\n",
       "| 25223661 | 2019-10-01 00:15:22 | 2019-10-01 00:40:42 |  447 | 1,520.0 | 133 | Kingsbury St &amp; Kinzie St       | 673 | Lincoln Park Conservatory      | Customer   | <!----> |   NA |\n",
       "| 25223662 | 2019-10-01 00:16:09 | 2019-10-01 00:41:05 | 1368 | 1,496.0 |  29 | Noble St &amp; Milwaukee Ave       | 498 | California Ave &amp; Fletcher St   | Customer   | <!----> |   NA |\n",
       "| 25223663 | 2019-10-01 00:17:09 | 2019-10-01 00:22:01 | 5232 | 292.0   |  13 | Wilton Ave &amp; Diversey Pkwy     | 117 | Wilton Ave &amp; Belmont Ave       | Subscriber | Male   | 1991 |\n",
       "| 25223664 | 2019-10-01 00:17:09 | 2019-10-01 00:29:51 | 2188 | 761.0   | 491 | Talman Ave &amp; Addison St        | 630 | Kildare Ave &amp; Montrose Ave     | Customer   | Male   | 1990 |\n",
       "| 25223665 | 2019-10-01 00:18:23 | 2019-10-01 00:25:17 | 6402 | 413.0   | 309 | Leavitt St &amp; Armitage Ave      | 123 | California Ave &amp; Milwaukee Ave | Subscriber | Male   | 1987 |\n",
       "| 25223666 | 2019-10-01 00:18:32 | 2019-10-01 00:45:33 | 2388 | 1,621.0 | 103 | Clinton St &amp; Polk St           | 103 | Clinton St &amp; Polk St           | Customer   | <!----> |   NA |\n",
       "| 25223667 | 2019-10-01 00:20:34 | 2019-10-01 00:25:03 | 5658 | 269.0   | 264 | Stetson Ave &amp; South Water St   |   7 | Field Blvd &amp; South Water St    | Subscriber | Male   | 1967 |\n",
       "| 25223668 | 2019-10-01 00:21:06 | 2019-10-01 00:27:18 | 5354 | 371.0   | 169 | Canal St &amp; Harrison St         |  66 | Clinton St &amp; Lake St           | Subscriber | Male   | 1964 |\n",
       "| 25223669 | 2019-10-01 00:21:19 | 2019-10-01 00:52:23 | 5479 | 1,863.0 | 323 | Sheridan Rd &amp; Lawrence Ave     | 465 | Marine Dr &amp; Ainslie St         | Customer   | <!----> |   NA |\n",
       "| 25223670 | 2019-10-01 00:21:32 | 2019-10-01 00:30:22 | 6321 | 530.0   | 291 | Wells St &amp; Evergreen Ave       | 161 | Rush St &amp; Superior St          | Subscriber | Female | 1991 |\n",
       "| ⋮ | ⋮ | ⋮ | ⋮ | ⋮ | ⋮ | ⋮ | ⋮ | ⋮ | ⋮ | ⋮ | ⋮ |\n",
       "| 25962873 | 2019-12-31 23:30:31 | 2019-12-31 23:34:49 | 2382 | 257.0   | 148 | State St &amp; 33rd St                  | 402 | Shields Ave &amp; 31st St              | Subscriber | Male   | 1995 |\n",
       "| 25962874 | 2019-12-31 23:31:35 | 2019-12-31 23:50:47 | 3388 | 1,152.0 | 174 | Canal St &amp; Madison St               |  33 | State St &amp; Van Buren St            | Subscriber | Male   | 1985 |\n",
       "| 25962875 | 2019-12-31 23:31:59 | 2019-12-31 23:40:41 | 3213 | 522.0   | 277 | Ashland Ave &amp; Grand Ave             | 130 | Damen Ave &amp; Division St            | Subscriber | Male   | 1984 |\n",
       "| 25962876 | 2019-12-31 23:32:47 | 2019-12-31 23:45:47 | 4599 | 780.0   | 275 | Ashland Ave &amp; 13th St               | 205 | Paulina St &amp; 18th St               | Subscriber | Male   | 1987 |\n",
       "| 25962877 | 2019-12-31 23:35:20 | 2019-12-31 23:39:45 | 1914 | 265.0   | 417 | Cornell Ave &amp; Hyde Park Blvd        | 345 | Lake Park Ave &amp; 56th St            | Subscriber | Male   | 1993 |\n",
       "| 25962878 | 2019-12-31 23:35:28 | 2019-12-31 23:40:59 | 3775 | 330.0   | 160 | Campbell Ave &amp; North Ave            | 309 | Leavitt St &amp; Armitage Ave          | Subscriber | Male   | 1991 |\n",
       "| 25962879 | 2019-12-31 23:36:30 | 2019-12-31 23:56:19 | 4877 | 1,189.0 |  90 | Millennium Park                     |  90 | Millennium Park                    | Subscriber | Male   | 1992 |\n",
       "| 25962880 | 2019-12-31 23:40:08 | 2019-12-31 23:48:46 | 6330 | 517.0   | 241 | Morgan St &amp; Polk St                 |  15 | Racine Ave &amp; 18th St               | Subscriber | Male   | 1994 |\n",
       "| 25962881 | 2019-12-31 23:41:31 | 2019-12-31 23:50:18 | 6025 | 527.0   | 159 | Claremont Ave &amp; Hirsch St           |  20 | Sheffield Ave &amp; Kingsbury St       | Subscriber | Male   | 1989 |\n",
       "| 25962882 | 2019-12-31 23:41:49 | 2020-01-01 00:28:39 |  269 | 2,809.0 | 394 | Clark St &amp; 9th St (AMLI)            | 394 | Clark St &amp; 9th St (AMLI)           | Subscriber | Female | 1974 |\n",
       "| 25962885 | 2019-12-31 23:42:11 | 2020-01-01 00:24:21 |  389 | 2,530.0 | 145 | Mies van der Rohe Way &amp; Chestnut St |  26 | McClurg Ct &amp; Illinois St           | Subscriber | Female | 1979 |\n",
       "| 25962886 | 2019-12-31 23:42:41 | 2020-01-01 00:39:20 | 3701 | 3,398.0 | 232 | Pine Grove Ave &amp; Waveland Ave       | 232 | Pine Grove Ave &amp; Waveland Ave      | Subscriber | Male   | 1977 |\n",
       "| 25962887 | 2019-12-31 23:43:41 | 2020-01-01 00:56:43 |   73 | 4,381.0 | 289 | Wells St &amp; Concord Ln               | 289 | Wells St &amp; Concord Ln              | Subscriber | Female | 1996 |\n",
       "| 25962888 | 2019-12-31 23:44:59 | 2019-12-31 23:50:34 | 6053 | 335.0   | 144 | Larrabee St &amp; Webster Ave           | 289 | Wells St &amp; Concord Ln              | Subscriber | Male   | 1989 |\n",
       "| 25962889 | 2019-12-31 23:45:35 | 2019-12-31 23:48:17 | 2076 | 161.0   | 140 | Dearborn Pkwy &amp; Delaware Pl         | 161 | Rush St &amp; Superior St              | Subscriber | Male   | 1994 |\n",
       "| 25962890 | 2019-12-31 23:46:19 | 2019-12-31 23:53:51 |   41 | 451.0   | 641 | Central Park Ave &amp; Bloomingdale Ave | 259 | California Ave &amp; Francis Pl (Temp) | Subscriber | Male   | 1966 |\n",
       "| 25962891 | 2019-12-31 23:49:38 | 2020-01-01 00:15:19 | 2936 | 1,540.0 |  90 | Millennium Park                     |  76 | Lake Shore Dr &amp; Monroe St          | Customer   | <!----> |   NA |\n",
       "| 25962892 | 2019-12-31 23:49:43 | 2020-01-01 00:21:51 | 1671 | 1,927.0 |  90 | Millennium Park                     |  76 | Lake Shore Dr &amp; Monroe St          | Customer   | <!----> |   NA |\n",
       "| 25962893 | 2019-12-31 23:49:51 | 2020-01-01 00:22:08 | 3925 | 1,936.0 |  90 | Millennium Park                     |  76 | Lake Shore Dr &amp; Monroe St          | Customer   | <!----> |   NA |\n",
       "| 25962894 | 2019-12-31 23:49:53 | 2020-01-01 00:22:30 | 2898 | 1,956.0 |  90 | Millennium Park                     |  76 | Lake Shore Dr &amp; Monroe St          | Customer   | <!----> |   NA |\n",
       "| 25962895 | 2019-12-31 23:50:05 | 2019-12-31 23:53:33 | 1720 | 208.0   | 624 | Dearborn St &amp; Van Buren St          |  81 | Daley Center Plaza                 | Subscriber | Female | 1990 |\n",
       "| 25962896 | 2019-12-31 23:50:19 | 2019-12-31 23:55:37 | 4561 | 318.0   | 255 | Indiana Ave &amp; Roosevelt Rd          |   3 | Shedd Aquarium                     | Subscriber | Male   | 1990 |\n",
       "| 25962897 | 2019-12-31 23:51:19 | 2019-12-31 23:55:33 | 5654 | 254.0   | 638 | Clinton St &amp; Jackson Blvd           | 134 | Peoria St &amp; Jackson Blvd           | Subscriber | Male   | 1997 |\n",
       "| 25962898 | 2019-12-31 23:54:38 | 2020-01-01 00:04:38 |  606 | 599.0   | 455 | Maplewood Ave &amp; Peterson Ave        | 467 | Western Ave &amp; Lunt Ave             | Subscriber | Male   | 1986 |\n",
       "| 25962899 | 2019-12-31 23:54:54 | 2020-01-01 00:22:02 | 5996 | 1,628.0 | 145 | Mies van der Rohe Way &amp; Chestnut St |  25 | Michigan Ave &amp; Pearson St          | Subscriber | Male   | 1992 |\n",
       "| 25962900 | 2019-12-31 23:56:13 | 2020-01-01 00:15:45 | 2196 | 1,172.0 | 112 | Green St &amp; Randolph St              | 225 | Halsted St &amp; Dickens Ave           | Subscriber | Male   | 1981 |\n",
       "| 25962901 | 2019-12-31 23:56:34 | 2020-01-01 00:22:08 | 4877 | 1,533.0 |  90 | Millennium Park                     |  90 | Millennium Park                    | Subscriber | Male   | 1992 |\n",
       "| 25962902 | 2019-12-31 23:57:05 | 2020-01-01 00:05:46 |  863 | 520.0   | 623 | Michigan Ave &amp; 8th St               |  52 | Michigan Ave &amp; Lake St             | Subscriber | Male   | 1967 |\n",
       "| 25962903 | 2019-12-31 23:57:11 | 2020-01-01 00:05:45 | 2637 | 514.0   | 623 | Michigan Ave &amp; 8th St               |  52 | Michigan Ave &amp; Lake St             | Subscriber | Female | 1970 |\n",
       "| 25962904 | 2019-12-31 23:57:17 | 2019-12-31 23:59:18 | 5930 | 120.0   | 256 | Broadway &amp; Sheridan Rd              | 240 | Sheridan Rd &amp; Irving Park Rd       | Subscriber | Male   | 1982 |\n",
       "\n"
      ],
      "text/plain": [
       "       id_viaje empezo              termino             id_bici tripduration\n",
       "1      25223640 2019-10-01 00:01:39 2019-10-01 00:17:20 2215    940.0       \n",
       "2      25223641 2019-10-01 00:02:16 2019-10-01 00:06:34 6328    258.0       \n",
       "3      25223642 2019-10-01 00:04:32 2019-10-01 00:18:43 3003    850.0       \n",
       "4      25223643 2019-10-01 00:04:32 2019-10-01 00:43:43 3275    2,350.0     \n",
       "5      25223644 2019-10-01 00:04:34 2019-10-01 00:35:42 5294    1,867.0     \n",
       "6      25223645 2019-10-01 00:04:38 2019-10-01 00:10:51 1891    373.0       \n",
       "7      25223646 2019-10-01 00:04:52 2019-10-01 00:22:45 1061    1,072.0     \n",
       "8      25223647 2019-10-01 00:04:57 2019-10-01 00:29:16 1274    1,458.0     \n",
       "9      25223648 2019-10-01 00:05:20 2019-10-01 00:29:18 6011    1,437.0     \n",
       "10     25223649 2019-10-01 00:05:20 2019-10-01 02:23:46 2957    8,306.0     \n",
       "11     25223650 2019-10-01 00:05:30 2019-10-01 00:37:36 2564    1,925.0     \n",
       "12     25223651 2019-10-01 00:07:25 2019-10-01 00:19:53 3601    748.0       \n",
       "13     25223652 2019-10-01 00:08:40 2019-10-01 00:26:00  711    1,039.0     \n",
       "14     25223653 2019-10-01 00:08:52 2019-10-01 00:29:17 5005    1,224.0     \n",
       "15     25223655 2019-10-01 00:10:03 2019-10-01 00:15:30 1730    326.0       \n",
       "16     25223656 2019-10-01 00:10:46 2019-10-01 00:16:04 4595    318.0       \n",
       "17     25223657 2019-10-01 00:12:04 2019-10-01 01:13:36 2958    3,692.0     \n",
       "18     25223658 2019-10-01 00:12:47 2019-10-01 00:17:55 1489    308.0       \n",
       "19     25223659 2019-10-01 00:13:21 2019-10-01 00:34:12 3602    1,251.0     \n",
       "20     25223660 2019-10-01 00:15:07 2019-10-01 00:40:34 4228    1,527.0     \n",
       "21     25223661 2019-10-01 00:15:22 2019-10-01 00:40:42  447    1,520.0     \n",
       "22     25223662 2019-10-01 00:16:09 2019-10-01 00:41:05 1368    1,496.0     \n",
       "23     25223663 2019-10-01 00:17:09 2019-10-01 00:22:01 5232    292.0       \n",
       "24     25223664 2019-10-01 00:17:09 2019-10-01 00:29:51 2188    761.0       \n",
       "25     25223665 2019-10-01 00:18:23 2019-10-01 00:25:17 6402    413.0       \n",
       "26     25223666 2019-10-01 00:18:32 2019-10-01 00:45:33 2388    1,621.0     \n",
       "27     25223667 2019-10-01 00:20:34 2019-10-01 00:25:03 5658    269.0       \n",
       "28     25223668 2019-10-01 00:21:06 2019-10-01 00:27:18 5354    371.0       \n",
       "29     25223669 2019-10-01 00:21:19 2019-10-01 00:52:23 5479    1,863.0     \n",
       "30     25223670 2019-10-01 00:21:32 2019-10-01 00:30:22 6321    530.0       \n",
       "⋮      ⋮        ⋮                   ⋮                   ⋮       ⋮           \n",
       "704025 25962873 2019-12-31 23:30:31 2019-12-31 23:34:49 2382    257.0       \n",
       "704026 25962874 2019-12-31 23:31:35 2019-12-31 23:50:47 3388    1,152.0     \n",
       "704027 25962875 2019-12-31 23:31:59 2019-12-31 23:40:41 3213    522.0       \n",
       "704028 25962876 2019-12-31 23:32:47 2019-12-31 23:45:47 4599    780.0       \n",
       "704029 25962877 2019-12-31 23:35:20 2019-12-31 23:39:45 1914    265.0       \n",
       "704030 25962878 2019-12-31 23:35:28 2019-12-31 23:40:59 3775    330.0       \n",
       "704031 25962879 2019-12-31 23:36:30 2019-12-31 23:56:19 4877    1,189.0     \n",
       "704032 25962880 2019-12-31 23:40:08 2019-12-31 23:48:46 6330    517.0       \n",
       "704033 25962881 2019-12-31 23:41:31 2019-12-31 23:50:18 6025    527.0       \n",
       "704034 25962882 2019-12-31 23:41:49 2020-01-01 00:28:39  269    2,809.0     \n",
       "704035 25962885 2019-12-31 23:42:11 2020-01-01 00:24:21  389    2,530.0     \n",
       "704036 25962886 2019-12-31 23:42:41 2020-01-01 00:39:20 3701    3,398.0     \n",
       "704037 25962887 2019-12-31 23:43:41 2020-01-01 00:56:43   73    4,381.0     \n",
       "704038 25962888 2019-12-31 23:44:59 2019-12-31 23:50:34 6053    335.0       \n",
       "704039 25962889 2019-12-31 23:45:35 2019-12-31 23:48:17 2076    161.0       \n",
       "704040 25962890 2019-12-31 23:46:19 2019-12-31 23:53:51   41    451.0       \n",
       "704041 25962891 2019-12-31 23:49:38 2020-01-01 00:15:19 2936    1,540.0     \n",
       "704042 25962892 2019-12-31 23:49:43 2020-01-01 00:21:51 1671    1,927.0     \n",
       "704043 25962893 2019-12-31 23:49:51 2020-01-01 00:22:08 3925    1,936.0     \n",
       "704044 25962894 2019-12-31 23:49:53 2020-01-01 00:22:30 2898    1,956.0     \n",
       "704045 25962895 2019-12-31 23:50:05 2019-12-31 23:53:33 1720    208.0       \n",
       "704046 25962896 2019-12-31 23:50:19 2019-12-31 23:55:37 4561    318.0       \n",
       "704047 25962897 2019-12-31 23:51:19 2019-12-31 23:55:33 5654    254.0       \n",
       "704048 25962898 2019-12-31 23:54:38 2020-01-01 00:04:38  606    599.0       \n",
       "704049 25962899 2019-12-31 23:54:54 2020-01-01 00:22:02 5996    1,628.0     \n",
       "704050 25962900 2019-12-31 23:56:13 2020-01-01 00:15:45 2196    1,172.0     \n",
       "704051 25962901 2019-12-31 23:56:34 2020-01-01 00:22:08 4877    1,533.0     \n",
       "704052 25962902 2019-12-31 23:57:05 2020-01-01 00:05:46  863    520.0       \n",
       "704053 25962903 2019-12-31 23:57:11 2020-01-01 00:05:45 2637    514.0       \n",
       "704054 25962904 2019-12-31 23:57:17 2019-12-31 23:59:18 5930    120.0       \n",
       "       id_estacion_inicial estacion_partida                   \n",
       "1       20                 Sheffield Ave & Kingsbury St       \n",
       "2       19                 Throop (Loomis) St & Taylor St     \n",
       "3       84                 Milwaukee Ave & Grand Ave          \n",
       "4      313                 Lakeview Ave & Fullerton Pkwy      \n",
       "5      210                 Ashland Ave & Division St          \n",
       "6      156                 Clark St & Wellington Ave          \n",
       "7       84                 Milwaukee Ave & Grand Ave          \n",
       "8      156                 Clark St & Wellington Ave          \n",
       "9      156                 Clark St & Wellington Ave          \n",
       "10     336                 Cottage Grove Ave & 47th St        \n",
       "11      77                 Clinton St & Madison St            \n",
       "12     198                 Green St & Madison St              \n",
       "13      66                 Clinton St & Lake St               \n",
       "14     240                 Sheridan Rd & Irving Park Rd       \n",
       "15      66                 Clinton St & Lake St               \n",
       "16     373                 Kedzie Ave & Chicago Ave           \n",
       "17      74                 Kingsbury St & Erie St             \n",
       "18     289                 Wells St & Concord Ln              \n",
       "19     106                 State St & Pearson St              \n",
       "20     133                 Kingsbury St & Kinzie St           \n",
       "21     133                 Kingsbury St & Kinzie St           \n",
       "22      29                 Noble St & Milwaukee Ave           \n",
       "23      13                 Wilton Ave & Diversey Pkwy         \n",
       "24     491                 Talman Ave & Addison St            \n",
       "25     309                 Leavitt St & Armitage Ave          \n",
       "26     103                 Clinton St & Polk St               \n",
       "27     264                 Stetson Ave & South Water St       \n",
       "28     169                 Canal St & Harrison St             \n",
       "29     323                 Sheridan Rd & Lawrence Ave         \n",
       "30     291                 Wells St & Evergreen Ave           \n",
       "⋮      ⋮                   ⋮                                  \n",
       "704025 148                 State St & 33rd St                 \n",
       "704026 174                 Canal St & Madison St              \n",
       "704027 277                 Ashland Ave & Grand Ave            \n",
       "704028 275                 Ashland Ave & 13th St              \n",
       "704029 417                 Cornell Ave & Hyde Park Blvd       \n",
       "704030 160                 Campbell Ave & North Ave           \n",
       "704031  90                 Millennium Park                    \n",
       "704032 241                 Morgan St & Polk St                \n",
       "704033 159                 Claremont Ave & Hirsch St          \n",
       "704034 394                 Clark St & 9th St (AMLI)           \n",
       "704035 145                 Mies van der Rohe Way & Chestnut St\n",
       "704036 232                 Pine Grove Ave & Waveland Ave      \n",
       "704037 289                 Wells St & Concord Ln              \n",
       "704038 144                 Larrabee St & Webster Ave          \n",
       "704039 140                 Dearborn Pkwy & Delaware Pl        \n",
       "704040 641                 Central Park Ave & Bloomingdale Ave\n",
       "704041  90                 Millennium Park                    \n",
       "704042  90                 Millennium Park                    \n",
       "704043  90                 Millennium Park                    \n",
       "704044  90                 Millennium Park                    \n",
       "704045 624                 Dearborn St & Van Buren St         \n",
       "704046 255                 Indiana Ave & Roosevelt Rd         \n",
       "704047 638                 Clinton St & Jackson Blvd          \n",
       "704048 455                 Maplewood Ave & Peterson Ave       \n",
       "704049 145                 Mies van der Rohe Way & Chestnut St\n",
       "704050 112                 Green St & Randolph St             \n",
       "704051  90                 Millennium Park                    \n",
       "704052 623                 Michigan Ave & 8th St              \n",
       "704053 623                 Michigan Ave & 8th St              \n",
       "704054 256                 Broadway & Sheridan Rd             \n",
       "       id_estacion_llegada estacion_llegada                   membrecia  gender\n",
       "1      309                 Leavitt St & Armitage Ave          Subscriber Male  \n",
       "2      241                 Morgan St & Polk St                Subscriber Male  \n",
       "3      199                 Wabash Ave & Grand Ave             Subscriber Female\n",
       "4      290                 Kedzie Ave & Palmer Ct             Subscriber Male  \n",
       "5      382                 Western Ave & Congress Pkwy        Subscriber Male  \n",
       "6      226                 Racine Ave & Belmont Ave           Subscriber Female\n",
       "7      142                 McClurg Ct & Erie St               Subscriber Female\n",
       "8      463                 Clark St & Berwyn Ave              Subscriber Male  \n",
       "9      463                 Clark St & Berwyn Ave              Subscriber Female\n",
       "10     336                 Cottage Grove Ave & 47th St        Customer         \n",
       "11     506                 Spaulding Ave & Armitage Ave       Subscriber Male  \n",
       "12     331                 Halsted St & Clybourn Ave          Subscriber Female\n",
       "13      16                 Paulina Ave & North Ave            Customer   Male  \n",
       "14     230                 Lincoln Ave & Roscoe St            Customer         \n",
       "15      88                 Racine Ave & Randolph St           Subscriber Male  \n",
       "16     377                 Kedzie Ave & Lake St               Customer         \n",
       "17     402                 Shields Ave & 31st St              Customer   Female\n",
       "18     176                 Clark St & Elm St                  Subscriber Male  \n",
       "19     334                 Lake Shore Dr & Belmont Ave        Customer         \n",
       "20     673                 Lincoln Park Conservatory          Customer   Female\n",
       "21     673                 Lincoln Park Conservatory          Customer         \n",
       "22     498                 California Ave & Fletcher St       Customer         \n",
       "23     117                 Wilton Ave & Belmont Ave           Subscriber Male  \n",
       "24     630                 Kildare Ave & Montrose Ave         Customer   Male  \n",
       "25     123                 California Ave & Milwaukee Ave     Subscriber Male  \n",
       "26     103                 Clinton St & Polk St               Customer         \n",
       "27       7                 Field Blvd & South Water St        Subscriber Male  \n",
       "28      66                 Clinton St & Lake St               Subscriber Male  \n",
       "29     465                 Marine Dr & Ainslie St             Customer         \n",
       "30     161                 Rush St & Superior St              Subscriber Female\n",
       "⋮      ⋮                   ⋮                                  ⋮          ⋮     \n",
       "704025 402                 Shields Ave & 31st St              Subscriber Male  \n",
       "704026  33                 State St & Van Buren St            Subscriber Male  \n",
       "704027 130                 Damen Ave & Division St            Subscriber Male  \n",
       "704028 205                 Paulina St & 18th St               Subscriber Male  \n",
       "704029 345                 Lake Park Ave & 56th St            Subscriber Male  \n",
       "704030 309                 Leavitt St & Armitage Ave          Subscriber Male  \n",
       "704031  90                 Millennium Park                    Subscriber Male  \n",
       "704032  15                 Racine Ave & 18th St               Subscriber Male  \n",
       "704033  20                 Sheffield Ave & Kingsbury St       Subscriber Male  \n",
       "704034 394                 Clark St & 9th St (AMLI)           Subscriber Female\n",
       "704035  26                 McClurg Ct & Illinois St           Subscriber Female\n",
       "704036 232                 Pine Grove Ave & Waveland Ave      Subscriber Male  \n",
       "704037 289                 Wells St & Concord Ln              Subscriber Female\n",
       "704038 289                 Wells St & Concord Ln              Subscriber Male  \n",
       "704039 161                 Rush St & Superior St              Subscriber Male  \n",
       "704040 259                 California Ave & Francis Pl (Temp) Subscriber Male  \n",
       "704041  76                 Lake Shore Dr & Monroe St          Customer         \n",
       "704042  76                 Lake Shore Dr & Monroe St          Customer         \n",
       "704043  76                 Lake Shore Dr & Monroe St          Customer         \n",
       "704044  76                 Lake Shore Dr & Monroe St          Customer         \n",
       "704045  81                 Daley Center Plaza                 Subscriber Female\n",
       "704046   3                 Shedd Aquarium                     Subscriber Male  \n",
       "704047 134                 Peoria St & Jackson Blvd           Subscriber Male  \n",
       "704048 467                 Western Ave & Lunt Ave             Subscriber Male  \n",
       "704049  25                 Michigan Ave & Pearson St          Subscriber Male  \n",
       "704050 225                 Halsted St & Dickens Ave           Subscriber Male  \n",
       "704051  90                 Millennium Park                    Subscriber Male  \n",
       "704052  52                 Michigan Ave & Lake St             Subscriber Male  \n",
       "704053  52                 Michigan Ave & Lake St             Subscriber Female\n",
       "704054 240                 Sheridan Rd & Irving Park Rd       Subscriber Male  \n",
       "       birthyear\n",
       "1      1987     \n",
       "2      1998     \n",
       "3      1991     \n",
       "4      1990     \n",
       "5      1987     \n",
       "6      1994     \n",
       "7      1991     \n",
       "8      1995     \n",
       "9      1993     \n",
       "10       NA     \n",
       "11     1977     \n",
       "12     1980     \n",
       "13     1994     \n",
       "14       NA     \n",
       "15     1992     \n",
       "16       NA     \n",
       "17     1962     \n",
       "18     1992     \n",
       "19       NA     \n",
       "20     1995     \n",
       "21       NA     \n",
       "22       NA     \n",
       "23     1991     \n",
       "24     1990     \n",
       "25     1987     \n",
       "26       NA     \n",
       "27     1967     \n",
       "28     1964     \n",
       "29       NA     \n",
       "30     1991     \n",
       "⋮      ⋮        \n",
       "704025 1995     \n",
       "704026 1985     \n",
       "704027 1984     \n",
       "704028 1987     \n",
       "704029 1993     \n",
       "704030 1991     \n",
       "704031 1992     \n",
       "704032 1994     \n",
       "704033 1989     \n",
       "704034 1974     \n",
       "704035 1979     \n",
       "704036 1977     \n",
       "704037 1996     \n",
       "704038 1989     \n",
       "704039 1994     \n",
       "704040 1966     \n",
       "704041   NA     \n",
       "704042   NA     \n",
       "704043   NA     \n",
       "704044   NA     \n",
       "704045 1990     \n",
       "704046 1990     \n",
       "704047 1997     \n",
       "704048 1986     \n",
       "704049 1992     \n",
       "704050 1981     \n",
       "704051 1992     \n",
       "704052 1967     \n",
       "704053 1970     \n",
       "704054 1982     "
      ]
     },
     "metadata": {},
     "output_type": "display_data"
    }
   ],
   "source": [
    "(Q1 <- rename(Q1\n",
    "                   ,id_viaje = trip_id\n",
    "                   ,id_bici = bikeid \n",
    "                   ,empezo = start_time  \n",
    "                   ,termino = end_time  \n",
    "                   ,estacion_partida = from_station_name \n",
    "                   ,id_estacion_inicial = from_station_id \n",
    "                   ,estacion_llegada = to_station_name \n",
    "                   ,id_estacion_llegada = to_station_id \n",
    "                   ,membrecia = usertype))\n",
    "\n",
    "\n",
    "(Q2<- rename(Q2\n",
    "                   ,id_viaje = \"X01...Rental.Details.Rental.ID\"\n",
    "                   ,id_bici = \"X01...Rental.Details.Bike.ID\" \n",
    "                   ,empezo = \"X01...Rental.Details.Local.Start.Time\"  \n",
    "                   ,termino = \"X01...Rental.Details.Local.End.Time\"  \n",
    "                   ,estacion_partida = \"X03...Rental.Start.Station.Name\" \n",
    "                   ,id_estacion_inicial = \"X03...Rental.Start.Station.ID\"\n",
    "                   ,estacion_llegada = \"X02...Rental.End.Station.Name\" \n",
    "                   ,id_estacion_llegada = \"X02...Rental.End.Station.ID\"\n",
    "                   ,membrecia = \"User.Type\"))\n",
    "\n",
    "(Q3 <- rename(Q3\n",
    "                   ,id_viaje = trip_id\n",
    "                   ,id_bici = bikeid \n",
    "                   ,empezo = start_time  \n",
    "                   ,termino = end_time  \n",
    "                   ,estacion_partida = from_station_name \n",
    "                   ,id_estacion_inicial = from_station_id \n",
    "                   ,estacion_llegada = to_station_name \n",
    "                   ,id_estacion_llegada = to_station_id \n",
    "                   ,membrecia = usertype))\n",
    "(Q4 <- rename(Q4\n",
    "                   ,id_viaje = trip_id\n",
    "                   ,id_bici = bikeid \n",
    "                   ,empezo = start_time  \n",
    "                   ,termino = end_time  \n",
    "                   ,estacion_partida = from_station_name \n",
    "                   ,id_estacion_inicial = from_station_id \n",
    "                   ,estacion_llegada = to_station_name \n",
    "                   ,id_estacion_llegada = to_station_id \n",
    "                   ,membrecia = usertype))\n",
    "\n"
   ]
  },
  {
   "cell_type": "markdown",
   "id": "003db646",
   "metadata": {
    "papermill": {
     "duration": 0.022284,
     "end_time": "2023-05-16T19:58:38.092724",
     "exception": false,
     "start_time": "2023-05-16T19:58:38.070440",
     "status": "completed"
    },
    "tags": []
   },
   "source": [
    "Vemos los datos y sus formatos para determinar si hacen falta cambios\n"
   ]
  },
  {
   "cell_type": "code",
   "execution_count": 5,
   "id": "ddf42f0f",
   "metadata": {
    "execution": {
     "iopub.execute_input": "2023-05-16T19:58:38.140513Z",
     "iopub.status.busy": "2023-05-16T19:58:38.138596Z",
     "iopub.status.idle": "2023-05-16T19:58:38.255075Z",
     "shell.execute_reply": "2023-05-16T19:58:38.252835Z"
    },
    "papermill": {
     "duration": 0.14393,
     "end_time": "2023-05-16T19:58:38.258316",
     "exception": false,
     "start_time": "2023-05-16T19:58:38.114386",
     "status": "completed"
    },
    "tags": []
   },
   "outputs": [
    {
     "name": "stdout",
     "output_type": "stream",
     "text": [
      "'data.frame':\t365069 obs. of  12 variables:\n",
      " $ id_viaje           : int  21742443 21742444 21742445 21742446 21742447 21742448 21742449 21742450 21742451 21742452 ...\n",
      " $ empezo             : chr  \"2019-01-01 00:04:37\" \"2019-01-01 00:08:13\" \"2019-01-01 00:13:23\" \"2019-01-01 00:13:45\" ...\n",
      " $ termino            : chr  \"2019-01-01 00:11:07\" \"2019-01-01 00:15:34\" \"2019-01-01 00:27:12\" \"2019-01-01 00:43:28\" ...\n",
      " $ id_bici            : int  2167 4386 1524 252 1170 2437 2708 2796 6205 3939 ...\n",
      " $ tripduration       : chr  \"390.0\" \"441.0\" \"829.0\" \"1,783.0\" ...\n",
      " $ id_estacion_inicial: int  199 44 15 123 173 98 98 211 150 268 ...\n",
      " $ estacion_partida   : chr  \"Wabash Ave & Grand Ave\" \"State St & Randolph St\" \"Racine Ave & 18th St\" \"California Ave & Milwaukee Ave\" ...\n",
      " $ id_estacion_llegada: int  84 624 644 176 35 49 49 142 148 141 ...\n",
      " $ estacion_llegada   : chr  \"Milwaukee Ave & Grand Ave\" \"Dearborn St & Van Buren St (*)\" \"Western Ave & Fillmore St (*)\" \"Clark St & Elm St\" ...\n",
      " $ membrecia          : chr  \"Subscriber\" \"Subscriber\" \"Subscriber\" \"Subscriber\" ...\n",
      " $ gender             : chr  \"Male\" \"Female\" \"Female\" \"Male\" ...\n",
      " $ birthyear          : int  1989 1990 1994 1993 1994 1983 1984 1990 1995 1996 ...\n",
      "'data.frame':\t1108163 obs. of  12 variables:\n",
      " $ id_viaje                                         : int  22178529 22178530 22178531 22178532 22178533 22178534 22178535 22178536 22178537 22178538 ...\n",
      " $ empezo                                           : chr  \"2019-04-01 00:02:22\" \"2019-04-01 00:03:02\" \"2019-04-01 00:11:07\" \"2019-04-01 00:13:01\" ...\n",
      " $ termino                                          : chr  \"2019-04-01 00:09:48\" \"2019-04-01 00:20:30\" \"2019-04-01 00:15:19\" \"2019-04-01 00:18:58\" ...\n",
      " $ id_bici                                          : int  6251 6226 5649 4151 3270 3123 6418 4513 3280 5534 ...\n",
      " $ X01...Rental.Details.Duration.In.Seconds.Uncapped: chr  \"446.0\" \"1,048.0\" \"252.0\" \"357.0\" ...\n",
      " $ id_estacion_inicial                              : int  81 317 283 26 202 420 503 260 211 211 ...\n",
      " $ estacion_partida                                 : chr  \"Daley Center Plaza\" \"Wood St & Taylor St\" \"LaSalle St & Jackson Blvd\" \"McClurg Ct & Illinois St\" ...\n",
      " $ id_estacion_llegada                              : int  56 59 174 133 129 426 500 499 211 211 ...\n",
      " $ estacion_llegada                                 : chr  \"Desplaines St & Kinzie St\" \"Wabash Ave & Roosevelt Rd\" \"Canal St & Madison St\" \"Kingsbury St & Kinzie St\" ...\n",
      " $ membrecia                                        : chr  \"Subscriber\" \"Subscriber\" \"Subscriber\" \"Subscriber\" ...\n",
      " $ Member.Gender                                    : chr  \"Male\" \"Female\" \"Male\" \"Male\" ...\n",
      " $ X05...Member.Details.Member.Birthday.Year        : int  1975 1984 1990 1993 1992 1999 1969 1991 NA NA ...\n",
      "'data.frame':\t1640718 obs. of  12 variables:\n",
      " $ id_viaje           : int  23479388 23479389 23479390 23479391 23479392 23479393 23479394 23479395 23479396 23479397 ...\n",
      " $ empezo             : chr  \"2019-07-01 00:00:27\" \"2019-07-01 00:01:16\" \"2019-07-01 00:01:48\" \"2019-07-01 00:02:07\" ...\n",
      " $ termino            : chr  \"2019-07-01 00:20:41\" \"2019-07-01 00:18:44\" \"2019-07-01 00:27:42\" \"2019-07-01 00:27:10\" ...\n",
      " $ id_bici            : int  3591 5353 6180 5540 6014 4941 3770 5442 2957 6091 ...\n",
      " $ tripduration       : chr  \"1,214.0\" \"1,048.0\" \"1,554.0\" \"1,503.0\" ...\n",
      " $ id_estacion_inicial: int  117 381 313 313 168 300 168 313 43 43 ...\n",
      " $ estacion_partida   : chr  \"Wilton Ave & Belmont Ave\" \"Western Ave & Monroe St\" \"Lakeview Ave & Fullerton Pkwy\" \"Lakeview Ave & Fullerton Pkwy\" ...\n",
      " $ id_estacion_llegada: int  497 203 144 144 62 232 62 144 195 195 ...\n",
      " $ estacion_llegada   : chr  \"Kimball Ave & Belmont Ave\" \"Western Ave & 21st St\" \"Larrabee St & Webster Ave\" \"Larrabee St & Webster Ave\" ...\n",
      " $ membrecia          : chr  \"Subscriber\" \"Customer\" \"Customer\" \"Customer\" ...\n",
      " $ gender             : chr  \"Male\" \"\" \"\" \"\" ...\n",
      " $ birthyear          : int  1992 NA NA NA NA 1990 NA NA NA NA ...\n",
      "'data.frame':\t704054 obs. of  12 variables:\n",
      " $ id_viaje           : int  25223640 25223641 25223642 25223643 25223644 25223645 25223646 25223647 25223648 25223649 ...\n",
      " $ empezo             : chr  \"2019-10-01 00:01:39\" \"2019-10-01 00:02:16\" \"2019-10-01 00:04:32\" \"2019-10-01 00:04:32\" ...\n",
      " $ termino            : chr  \"2019-10-01 00:17:20\" \"2019-10-01 00:06:34\" \"2019-10-01 00:18:43\" \"2019-10-01 00:43:43\" ...\n",
      " $ id_bici            : int  2215 6328 3003 3275 5294 1891 1061 1274 6011 2957 ...\n",
      " $ tripduration       : chr  \"940.0\" \"258.0\" \"850.0\" \"2,350.0\" ...\n",
      " $ id_estacion_inicial: int  20 19 84 313 210 156 84 156 156 336 ...\n",
      " $ estacion_partida   : chr  \"Sheffield Ave & Kingsbury St\" \"Throop (Loomis) St & Taylor St\" \"Milwaukee Ave & Grand Ave\" \"Lakeview Ave & Fullerton Pkwy\" ...\n",
      " $ id_estacion_llegada: int  309 241 199 290 382 226 142 463 463 336 ...\n",
      " $ estacion_llegada   : chr  \"Leavitt St & Armitage Ave\" \"Morgan St & Polk St\" \"Wabash Ave & Grand Ave\" \"Kedzie Ave & Palmer Ct\" ...\n",
      " $ membrecia          : chr  \"Subscriber\" \"Subscriber\" \"Subscriber\" \"Subscriber\" ...\n",
      " $ gender             : chr  \"Male\" \"Male\" \"Female\" \"Male\" ...\n",
      " $ birthyear          : int  1987 1998 1991 1990 1987 1994 1991 1995 1993 NA ...\n"
     ]
    }
   ],
   "source": [
    "str(Q1)\n",
    "str(Q2)\n",
    "str(Q3)\n",
    "str(Q4)\n"
   ]
  },
  {
   "cell_type": "markdown",
   "id": "9d013653",
   "metadata": {
    "papermill": {
     "duration": 0.022341,
     "end_time": "2023-05-16T19:58:38.304136",
     "exception": false,
     "start_time": "2023-05-16T19:58:38.281795",
     "status": "completed"
    },
    "tags": []
   },
   "source": [
    "Antes de llevar todos los cuartiles a un solo DF voy a cambiarle el formato a dos columnas de int a Chr"
   ]
  },
  {
   "cell_type": "code",
   "execution_count": 6,
   "id": "a0fac1fa",
   "metadata": {
    "execution": {
     "iopub.execute_input": "2023-05-16T19:58:38.354137Z",
     "iopub.status.busy": "2023-05-16T19:58:38.351495Z",
     "iopub.status.idle": "2023-05-16T19:58:38.411772Z",
     "shell.execute_reply": "2023-05-16T19:58:38.409031Z"
    },
    "papermill": {
     "duration": 0.089036,
     "end_time": "2023-05-16T19:58:38.415378",
     "exception": false,
     "start_time": "2023-05-16T19:58:38.326342",
     "status": "completed"
    },
    "tags": []
   },
   "outputs": [],
   "source": [
    "Q4 <-  mutate(Q4, id_viaje = as.character(id_viaje)\n",
    "                   ,id_bici = as.character(id_bici)) \n",
    "Q3 <-  mutate(Q3, id_viaje = as.character(id_viaje)\n",
    "                   ,id_bici = as.character(id_bici)) \n",
    "Q2 <-  mutate(Q2, id_viaje = as.character(id_viaje)\n",
    "                   ,id_bici = as.character(id_bici)) \n",
    "Q1 <-  mutate(Q1, id_viaje = as.character(id_viaje)\n",
    "                   ,id_bici = as.character(id_bici)) \n"
   ]
  },
  {
   "cell_type": "markdown",
   "id": "162b1a46",
   "metadata": {
    "papermill": {
     "duration": 0.023522,
     "end_time": "2023-05-16T19:58:38.461822",
     "exception": false,
     "start_time": "2023-05-16T19:58:38.438300",
     "status": "completed"
    },
    "tags": []
   },
   "source": [
    "Juntamos todos los cuartiles y procedemos a ver un resumen del DF completo\n"
   ]
  },
  {
   "cell_type": "code",
   "execution_count": 7,
   "id": "6bda8c55",
   "metadata": {
    "execution": {
     "iopub.execute_input": "2023-05-16T19:58:38.512037Z",
     "iopub.status.busy": "2023-05-16T19:58:38.509301Z",
     "iopub.status.idle": "2023-05-16T19:58:49.852775Z",
     "shell.execute_reply": "2023-05-16T19:58:49.850753Z"
    },
    "papermill": {
     "duration": 11.371603,
     "end_time": "2023-05-16T19:58:49.856034",
     "exception": false,
     "start_time": "2023-05-16T19:58:38.484431",
     "status": "completed"
    },
    "tags": []
   },
   "outputs": [],
   "source": [
    "viajes_2019 <- bind_rows(Q1, Q2, Q3, Q4)"
   ]
  },
  {
   "cell_type": "code",
   "execution_count": 8,
   "id": "9b1e76f3",
   "metadata": {
    "_kg_hide-input": false,
    "execution": {
     "iopub.execute_input": "2023-05-16T19:58:49.905662Z",
     "iopub.status.busy": "2023-05-16T19:58:49.903869Z",
     "iopub.status.idle": "2023-05-16T19:58:49.942962Z",
     "shell.execute_reply": "2023-05-16T19:58:49.940826Z"
    },
    "papermill": {
     "duration": 0.066662,
     "end_time": "2023-05-16T19:58:49.945459",
     "exception": false,
     "start_time": "2023-05-16T19:58:49.878797",
     "status": "completed"
    },
    "tags": []
   },
   "outputs": [
    {
     "data": {
      "text/html": [
       "<table class=\"dataframe\">\n",
       "<caption>A data.frame: 6 × 15</caption>\n",
       "<thead>\n",
       "\t<tr><th></th><th scope=col>id_viaje</th><th scope=col>empezo</th><th scope=col>termino</th><th scope=col>id_bici</th><th scope=col>tripduration</th><th scope=col>id_estacion_inicial</th><th scope=col>estacion_partida</th><th scope=col>id_estacion_llegada</th><th scope=col>estacion_llegada</th><th scope=col>membrecia</th><th scope=col>gender</th><th scope=col>birthyear</th><th scope=col>X01...Rental.Details.Duration.In.Seconds.Uncapped</th><th scope=col>Member.Gender</th><th scope=col>X05...Member.Details.Member.Birthday.Year</th></tr>\n",
       "\t<tr><th></th><th scope=col>&lt;chr&gt;</th><th scope=col>&lt;chr&gt;</th><th scope=col>&lt;chr&gt;</th><th scope=col>&lt;chr&gt;</th><th scope=col>&lt;chr&gt;</th><th scope=col>&lt;int&gt;</th><th scope=col>&lt;chr&gt;</th><th scope=col>&lt;int&gt;</th><th scope=col>&lt;chr&gt;</th><th scope=col>&lt;chr&gt;</th><th scope=col>&lt;chr&gt;</th><th scope=col>&lt;int&gt;</th><th scope=col>&lt;chr&gt;</th><th scope=col>&lt;chr&gt;</th><th scope=col>&lt;int&gt;</th></tr>\n",
       "</thead>\n",
       "<tbody>\n",
       "\t<tr><th scope=row>1</th><td>21742443</td><td>2019-01-01 00:04:37</td><td>2019-01-01 00:11:07</td><td>2167</td><td><span style=white-space:pre-wrap>390.0  </span></td><td>199</td><td><span style=white-space:pre-wrap>Wabash Ave &amp; Grand Ave             </span></td><td> 84</td><td><span style=white-space:pre-wrap>Milwaukee Ave &amp; Grand Ave     </span></td><td>Subscriber</td><td><span style=white-space:pre-wrap>Male  </span></td><td>1989</td><td>NA</td><td>NA</td><td>NA</td></tr>\n",
       "\t<tr><th scope=row>2</th><td>21742444</td><td>2019-01-01 00:08:13</td><td>2019-01-01 00:15:34</td><td>4386</td><td><span style=white-space:pre-wrap>441.0  </span></td><td> 44</td><td><span style=white-space:pre-wrap>State St &amp; Randolph St             </span></td><td>624</td><td>Dearborn St &amp; Van Buren St (*)</td><td>Subscriber</td><td>Female</td><td>1990</td><td>NA</td><td>NA</td><td>NA</td></tr>\n",
       "\t<tr><th scope=row>3</th><td>21742445</td><td>2019-01-01 00:13:23</td><td>2019-01-01 00:27:12</td><td>1524</td><td><span style=white-space:pre-wrap>829.0  </span></td><td> 15</td><td><span style=white-space:pre-wrap>Racine Ave &amp; 18th St               </span></td><td>644</td><td>Western Ave &amp; Fillmore St (*) </td><td>Subscriber</td><td>Female</td><td>1994</td><td>NA</td><td>NA</td><td>NA</td></tr>\n",
       "\t<tr><th scope=row>4</th><td>21742446</td><td>2019-01-01 00:13:45</td><td>2019-01-01 00:43:28</td><td>252 </td><td>1,783.0</td><td>123</td><td><span style=white-space:pre-wrap>California Ave &amp; Milwaukee Ave     </span></td><td>176</td><td><span style=white-space:pre-wrap>Clark St &amp; Elm St             </span></td><td>Subscriber</td><td><span style=white-space:pre-wrap>Male  </span></td><td>1993</td><td>NA</td><td>NA</td><td>NA</td></tr>\n",
       "\t<tr><th scope=row>5</th><td>21742447</td><td>2019-01-01 00:14:52</td><td>2019-01-01 00:20:56</td><td>1170</td><td><span style=white-space:pre-wrap>364.0  </span></td><td>173</td><td>Mies van der Rohe Way &amp; Chicago Ave</td><td> 35</td><td><span style=white-space:pre-wrap>Streeter Dr &amp; Grand Ave       </span></td><td>Subscriber</td><td><span style=white-space:pre-wrap>Male  </span></td><td>1994</td><td>NA</td><td>NA</td><td>NA</td></tr>\n",
       "\t<tr><th scope=row>6</th><td>21742448</td><td>2019-01-01 00:15:33</td><td>2019-01-01 00:19:09</td><td>2437</td><td><span style=white-space:pre-wrap>216.0  </span></td><td> 98</td><td><span style=white-space:pre-wrap>LaSalle St &amp; Washington St         </span></td><td> 49</td><td><span style=white-space:pre-wrap>Dearborn St &amp; Monroe St       </span></td><td>Subscriber</td><td>Female</td><td>1983</td><td>NA</td><td>NA</td><td>NA</td></tr>\n",
       "</tbody>\n",
       "</table>\n"
      ],
      "text/latex": [
       "A data.frame: 6 × 15\n",
       "\\begin{tabular}{r|lllllllllllllll}\n",
       "  & id\\_viaje & empezo & termino & id\\_bici & tripduration & id\\_estacion\\_inicial & estacion\\_partida & id\\_estacion\\_llegada & estacion\\_llegada & membrecia & gender & birthyear & X01...Rental.Details.Duration.In.Seconds.Uncapped & Member.Gender & X05...Member.Details.Member.Birthday.Year\\\\\n",
       "  & <chr> & <chr> & <chr> & <chr> & <chr> & <int> & <chr> & <int> & <chr> & <chr> & <chr> & <int> & <chr> & <chr> & <int>\\\\\n",
       "\\hline\n",
       "\t1 & 21742443 & 2019-01-01 00:04:37 & 2019-01-01 00:11:07 & 2167 & 390.0   & 199 & Wabash Ave \\& Grand Ave              &  84 & Milwaukee Ave \\& Grand Ave      & Subscriber & Male   & 1989 & NA & NA & NA\\\\\n",
       "\t2 & 21742444 & 2019-01-01 00:08:13 & 2019-01-01 00:15:34 & 4386 & 441.0   &  44 & State St \\& Randolph St              & 624 & Dearborn St \\& Van Buren St (*) & Subscriber & Female & 1990 & NA & NA & NA\\\\\n",
       "\t3 & 21742445 & 2019-01-01 00:13:23 & 2019-01-01 00:27:12 & 1524 & 829.0   &  15 & Racine Ave \\& 18th St                & 644 & Western Ave \\& Fillmore St (*)  & Subscriber & Female & 1994 & NA & NA & NA\\\\\n",
       "\t4 & 21742446 & 2019-01-01 00:13:45 & 2019-01-01 00:43:28 & 252  & 1,783.0 & 123 & California Ave \\& Milwaukee Ave      & 176 & Clark St \\& Elm St              & Subscriber & Male   & 1993 & NA & NA & NA\\\\\n",
       "\t5 & 21742447 & 2019-01-01 00:14:52 & 2019-01-01 00:20:56 & 1170 & 364.0   & 173 & Mies van der Rohe Way \\& Chicago Ave &  35 & Streeter Dr \\& Grand Ave        & Subscriber & Male   & 1994 & NA & NA & NA\\\\\n",
       "\t6 & 21742448 & 2019-01-01 00:15:33 & 2019-01-01 00:19:09 & 2437 & 216.0   &  98 & LaSalle St \\& Washington St          &  49 & Dearborn St \\& Monroe St        & Subscriber & Female & 1983 & NA & NA & NA\\\\\n",
       "\\end{tabular}\n"
      ],
      "text/markdown": [
       "\n",
       "A data.frame: 6 × 15\n",
       "\n",
       "| <!--/--> | id_viaje &lt;chr&gt; | empezo &lt;chr&gt; | termino &lt;chr&gt; | id_bici &lt;chr&gt; | tripduration &lt;chr&gt; | id_estacion_inicial &lt;int&gt; | estacion_partida &lt;chr&gt; | id_estacion_llegada &lt;int&gt; | estacion_llegada &lt;chr&gt; | membrecia &lt;chr&gt; | gender &lt;chr&gt; | birthyear &lt;int&gt; | X01...Rental.Details.Duration.In.Seconds.Uncapped &lt;chr&gt; | Member.Gender &lt;chr&gt; | X05...Member.Details.Member.Birthday.Year &lt;int&gt; |\n",
       "|---|---|---|---|---|---|---|---|---|---|---|---|---|---|---|---|\n",
       "| 1 | 21742443 | 2019-01-01 00:04:37 | 2019-01-01 00:11:07 | 2167 | 390.0   | 199 | Wabash Ave &amp; Grand Ave              |  84 | Milwaukee Ave &amp; Grand Ave      | Subscriber | Male   | 1989 | NA | NA | NA |\n",
       "| 2 | 21742444 | 2019-01-01 00:08:13 | 2019-01-01 00:15:34 | 4386 | 441.0   |  44 | State St &amp; Randolph St              | 624 | Dearborn St &amp; Van Buren St (*) | Subscriber | Female | 1990 | NA | NA | NA |\n",
       "| 3 | 21742445 | 2019-01-01 00:13:23 | 2019-01-01 00:27:12 | 1524 | 829.0   |  15 | Racine Ave &amp; 18th St                | 644 | Western Ave &amp; Fillmore St (*)  | Subscriber | Female | 1994 | NA | NA | NA |\n",
       "| 4 | 21742446 | 2019-01-01 00:13:45 | 2019-01-01 00:43:28 | 252  | 1,783.0 | 123 | California Ave &amp; Milwaukee Ave      | 176 | Clark St &amp; Elm St              | Subscriber | Male   | 1993 | NA | NA | NA |\n",
       "| 5 | 21742447 | 2019-01-01 00:14:52 | 2019-01-01 00:20:56 | 1170 | 364.0   | 173 | Mies van der Rohe Way &amp; Chicago Ave |  35 | Streeter Dr &amp; Grand Ave        | Subscriber | Male   | 1994 | NA | NA | NA |\n",
       "| 6 | 21742448 | 2019-01-01 00:15:33 | 2019-01-01 00:19:09 | 2437 | 216.0   |  98 | LaSalle St &amp; Washington St          |  49 | Dearborn St &amp; Monroe St        | Subscriber | Female | 1983 | NA | NA | NA |\n",
       "\n"
      ],
      "text/plain": [
       "  id_viaje empezo              termino             id_bici tripduration\n",
       "1 21742443 2019-01-01 00:04:37 2019-01-01 00:11:07 2167    390.0       \n",
       "2 21742444 2019-01-01 00:08:13 2019-01-01 00:15:34 4386    441.0       \n",
       "3 21742445 2019-01-01 00:13:23 2019-01-01 00:27:12 1524    829.0       \n",
       "4 21742446 2019-01-01 00:13:45 2019-01-01 00:43:28 252     1,783.0     \n",
       "5 21742447 2019-01-01 00:14:52 2019-01-01 00:20:56 1170    364.0       \n",
       "6 21742448 2019-01-01 00:15:33 2019-01-01 00:19:09 2437    216.0       \n",
       "  id_estacion_inicial estacion_partida                    id_estacion_llegada\n",
       "1 199                 Wabash Ave & Grand Ave               84                \n",
       "2  44                 State St & Randolph St              624                \n",
       "3  15                 Racine Ave & 18th St                644                \n",
       "4 123                 California Ave & Milwaukee Ave      176                \n",
       "5 173                 Mies van der Rohe Way & Chicago Ave  35                \n",
       "6  98                 LaSalle St & Washington St           49                \n",
       "  estacion_llegada               membrecia  gender birthyear\n",
       "1 Milwaukee Ave & Grand Ave      Subscriber Male   1989     \n",
       "2 Dearborn St & Van Buren St (*) Subscriber Female 1990     \n",
       "3 Western Ave & Fillmore St (*)  Subscriber Female 1994     \n",
       "4 Clark St & Elm St              Subscriber Male   1993     \n",
       "5 Streeter Dr & Grand Ave        Subscriber Male   1994     \n",
       "6 Dearborn St & Monroe St        Subscriber Female 1983     \n",
       "  X01...Rental.Details.Duration.In.Seconds.Uncapped Member.Gender\n",
       "1 NA                                                NA           \n",
       "2 NA                                                NA           \n",
       "3 NA                                                NA           \n",
       "4 NA                                                NA           \n",
       "5 NA                                                NA           \n",
       "6 NA                                                NA           \n",
       "  X05...Member.Details.Member.Birthday.Year\n",
       "1 NA                                       \n",
       "2 NA                                       \n",
       "3 NA                                       \n",
       "4 NA                                       \n",
       "5 NA                                       \n",
       "6 NA                                       "
      ]
     },
     "metadata": {},
     "output_type": "display_data"
    }
   ],
   "source": [
    "head(viajes_2019)"
   ]
  },
  {
   "cell_type": "markdown",
   "id": "df9af97f",
   "metadata": {
    "papermill": {
     "duration": 0.022758,
     "end_time": "2023-05-16T19:58:49.991009",
     "exception": false,
     "start_time": "2023-05-16T19:58:49.968251",
     "status": "completed"
    },
    "tags": []
   },
   "source": [
    "Como no voy a utilizar las columnas descriptivas ni los formatos que tienen por defecto los conteos de viajes voy a sacarlos, ademas de que la cantidad de nulls puede ser contraproducente."
   ]
  },
  {
   "cell_type": "code",
   "execution_count": 9,
   "id": "a0b516b3",
   "metadata": {
    "execution": {
     "iopub.execute_input": "2023-05-16T19:58:50.040484Z",
     "iopub.status.busy": "2023-05-16T19:58:50.038753Z",
     "iopub.status.idle": "2023-05-16T19:58:50.060158Z",
     "shell.execute_reply": "2023-05-16T19:58:50.058204Z"
    },
    "papermill": {
     "duration": 0.049266,
     "end_time": "2023-05-16T19:58:50.063001",
     "exception": false,
     "start_time": "2023-05-16T19:58:50.013735",
     "status": "completed"
    },
    "tags": []
   },
   "outputs": [],
   "source": [
    "viajes_2019 <- viajes_2019 %>%  \n",
    "  select(-c(birthyear, gender, \"X01...Rental.Details.Duration.In.Seconds.Uncapped\", \"X05...Member.Details.Member.Birthday.Year\", \"Member.Gender\", \"tripduration\"))"
   ]
  },
  {
   "cell_type": "markdown",
   "id": "e96323ed",
   "metadata": {
    "papermill": {
     "duration": 0.022704,
     "end_time": "2023-05-16T19:58:50.109202",
     "exception": false,
     "start_time": "2023-05-16T19:58:50.086498",
     "status": "completed"
    },
    "tags": []
   },
   "source": [
    "Ahora si veamos como quedaria el DF analizandolo desde distintos comandos."
   ]
  },
  {
   "cell_type": "code",
   "execution_count": 10,
   "id": "660a13f2",
   "metadata": {
    "execution": {
     "iopub.execute_input": "2023-05-16T19:58:50.158622Z",
     "iopub.status.busy": "2023-05-16T19:58:50.156929Z",
     "iopub.status.idle": "2023-05-16T19:58:50.721257Z",
     "shell.execute_reply": "2023-05-16T19:58:50.718872Z"
    },
    "papermill": {
     "duration": 0.592687,
     "end_time": "2023-05-16T19:58:50.724490",
     "exception": false,
     "start_time": "2023-05-16T19:58:50.131803",
     "status": "completed"
    },
    "tags": []
   },
   "outputs": [
    {
     "data": {
      "text/html": [
       "<style>\n",
       ".list-inline {list-style: none; margin:0; padding: 0}\n",
       ".list-inline>li {display: inline-block}\n",
       ".list-inline>li:not(:last-child)::after {content: \"\\00b7\"; padding: 0 .5ex}\n",
       "</style>\n",
       "<ol class=list-inline><li>'id_viaje'</li><li>'empezo'</li><li>'termino'</li><li>'id_bici'</li><li>'id_estacion_inicial'</li><li>'estacion_partida'</li><li>'id_estacion_llegada'</li><li>'estacion_llegada'</li><li>'membrecia'</li></ol>\n"
      ],
      "text/latex": [
       "\\begin{enumerate*}\n",
       "\\item 'id\\_viaje'\n",
       "\\item 'empezo'\n",
       "\\item 'termino'\n",
       "\\item 'id\\_bici'\n",
       "\\item 'id\\_estacion\\_inicial'\n",
       "\\item 'estacion\\_partida'\n",
       "\\item 'id\\_estacion\\_llegada'\n",
       "\\item 'estacion\\_llegada'\n",
       "\\item 'membrecia'\n",
       "\\end{enumerate*}\n"
      ],
      "text/markdown": [
       "1. 'id_viaje'\n",
       "2. 'empezo'\n",
       "3. 'termino'\n",
       "4. 'id_bici'\n",
       "5. 'id_estacion_inicial'\n",
       "6. 'estacion_partida'\n",
       "7. 'id_estacion_llegada'\n",
       "8. 'estacion_llegada'\n",
       "9. 'membrecia'\n",
       "\n",
       "\n"
      ],
      "text/plain": [
       "[1] \"id_viaje\"            \"empezo\"              \"termino\"            \n",
       "[4] \"id_bici\"             \"id_estacion_inicial\" \"estacion_partida\"   \n",
       "[7] \"id_estacion_llegada\" \"estacion_llegada\"    \"membrecia\"          "
      ]
     },
     "metadata": {},
     "output_type": "display_data"
    },
    {
     "data": {
      "text/html": [
       "<table class=\"dataframe\">\n",
       "<caption>A data.frame: 6 × 9</caption>\n",
       "<thead>\n",
       "\t<tr><th></th><th scope=col>id_viaje</th><th scope=col>empezo</th><th scope=col>termino</th><th scope=col>id_bici</th><th scope=col>id_estacion_inicial</th><th scope=col>estacion_partida</th><th scope=col>id_estacion_llegada</th><th scope=col>estacion_llegada</th><th scope=col>membrecia</th></tr>\n",
       "\t<tr><th></th><th scope=col>&lt;chr&gt;</th><th scope=col>&lt;chr&gt;</th><th scope=col>&lt;chr&gt;</th><th scope=col>&lt;chr&gt;</th><th scope=col>&lt;int&gt;</th><th scope=col>&lt;chr&gt;</th><th scope=col>&lt;int&gt;</th><th scope=col>&lt;chr&gt;</th><th scope=col>&lt;chr&gt;</th></tr>\n",
       "</thead>\n",
       "<tbody>\n",
       "\t<tr><th scope=row>1</th><td>21742443</td><td>2019-01-01 00:04:37</td><td>2019-01-01 00:11:07</td><td>2167</td><td>199</td><td><span style=white-space:pre-wrap>Wabash Ave &amp; Grand Ave             </span></td><td> 84</td><td><span style=white-space:pre-wrap>Milwaukee Ave &amp; Grand Ave     </span></td><td>Subscriber</td></tr>\n",
       "\t<tr><th scope=row>2</th><td>21742444</td><td>2019-01-01 00:08:13</td><td>2019-01-01 00:15:34</td><td>4386</td><td> 44</td><td><span style=white-space:pre-wrap>State St &amp; Randolph St             </span></td><td>624</td><td>Dearborn St &amp; Van Buren St (*)</td><td>Subscriber</td></tr>\n",
       "\t<tr><th scope=row>3</th><td>21742445</td><td>2019-01-01 00:13:23</td><td>2019-01-01 00:27:12</td><td>1524</td><td> 15</td><td><span style=white-space:pre-wrap>Racine Ave &amp; 18th St               </span></td><td>644</td><td>Western Ave &amp; Fillmore St (*) </td><td>Subscriber</td></tr>\n",
       "\t<tr><th scope=row>4</th><td>21742446</td><td>2019-01-01 00:13:45</td><td>2019-01-01 00:43:28</td><td>252 </td><td>123</td><td><span style=white-space:pre-wrap>California Ave &amp; Milwaukee Ave     </span></td><td>176</td><td><span style=white-space:pre-wrap>Clark St &amp; Elm St             </span></td><td>Subscriber</td></tr>\n",
       "\t<tr><th scope=row>5</th><td>21742447</td><td>2019-01-01 00:14:52</td><td>2019-01-01 00:20:56</td><td>1170</td><td>173</td><td>Mies van der Rohe Way &amp; Chicago Ave</td><td> 35</td><td><span style=white-space:pre-wrap>Streeter Dr &amp; Grand Ave       </span></td><td>Subscriber</td></tr>\n",
       "\t<tr><th scope=row>6</th><td>21742448</td><td>2019-01-01 00:15:33</td><td>2019-01-01 00:19:09</td><td>2437</td><td> 98</td><td><span style=white-space:pre-wrap>LaSalle St &amp; Washington St         </span></td><td> 49</td><td><span style=white-space:pre-wrap>Dearborn St &amp; Monroe St       </span></td><td>Subscriber</td></tr>\n",
       "</tbody>\n",
       "</table>\n"
      ],
      "text/latex": [
       "A data.frame: 6 × 9\n",
       "\\begin{tabular}{r|lllllllll}\n",
       "  & id\\_viaje & empezo & termino & id\\_bici & id\\_estacion\\_inicial & estacion\\_partida & id\\_estacion\\_llegada & estacion\\_llegada & membrecia\\\\\n",
       "  & <chr> & <chr> & <chr> & <chr> & <int> & <chr> & <int> & <chr> & <chr>\\\\\n",
       "\\hline\n",
       "\t1 & 21742443 & 2019-01-01 00:04:37 & 2019-01-01 00:11:07 & 2167 & 199 & Wabash Ave \\& Grand Ave              &  84 & Milwaukee Ave \\& Grand Ave      & Subscriber\\\\\n",
       "\t2 & 21742444 & 2019-01-01 00:08:13 & 2019-01-01 00:15:34 & 4386 &  44 & State St \\& Randolph St              & 624 & Dearborn St \\& Van Buren St (*) & Subscriber\\\\\n",
       "\t3 & 21742445 & 2019-01-01 00:13:23 & 2019-01-01 00:27:12 & 1524 &  15 & Racine Ave \\& 18th St                & 644 & Western Ave \\& Fillmore St (*)  & Subscriber\\\\\n",
       "\t4 & 21742446 & 2019-01-01 00:13:45 & 2019-01-01 00:43:28 & 252  & 123 & California Ave \\& Milwaukee Ave      & 176 & Clark St \\& Elm St              & Subscriber\\\\\n",
       "\t5 & 21742447 & 2019-01-01 00:14:52 & 2019-01-01 00:20:56 & 1170 & 173 & Mies van der Rohe Way \\& Chicago Ave &  35 & Streeter Dr \\& Grand Ave        & Subscriber\\\\\n",
       "\t6 & 21742448 & 2019-01-01 00:15:33 & 2019-01-01 00:19:09 & 2437 &  98 & LaSalle St \\& Washington St          &  49 & Dearborn St \\& Monroe St        & Subscriber\\\\\n",
       "\\end{tabular}\n"
      ],
      "text/markdown": [
       "\n",
       "A data.frame: 6 × 9\n",
       "\n",
       "| <!--/--> | id_viaje &lt;chr&gt; | empezo &lt;chr&gt; | termino &lt;chr&gt; | id_bici &lt;chr&gt; | id_estacion_inicial &lt;int&gt; | estacion_partida &lt;chr&gt; | id_estacion_llegada &lt;int&gt; | estacion_llegada &lt;chr&gt; | membrecia &lt;chr&gt; |\n",
       "|---|---|---|---|---|---|---|---|---|---|\n",
       "| 1 | 21742443 | 2019-01-01 00:04:37 | 2019-01-01 00:11:07 | 2167 | 199 | Wabash Ave &amp; Grand Ave              |  84 | Milwaukee Ave &amp; Grand Ave      | Subscriber |\n",
       "| 2 | 21742444 | 2019-01-01 00:08:13 | 2019-01-01 00:15:34 | 4386 |  44 | State St &amp; Randolph St              | 624 | Dearborn St &amp; Van Buren St (*) | Subscriber |\n",
       "| 3 | 21742445 | 2019-01-01 00:13:23 | 2019-01-01 00:27:12 | 1524 |  15 | Racine Ave &amp; 18th St                | 644 | Western Ave &amp; Fillmore St (*)  | Subscriber |\n",
       "| 4 | 21742446 | 2019-01-01 00:13:45 | 2019-01-01 00:43:28 | 252  | 123 | California Ave &amp; Milwaukee Ave      | 176 | Clark St &amp; Elm St              | Subscriber |\n",
       "| 5 | 21742447 | 2019-01-01 00:14:52 | 2019-01-01 00:20:56 | 1170 | 173 | Mies van der Rohe Way &amp; Chicago Ave |  35 | Streeter Dr &amp; Grand Ave        | Subscriber |\n",
       "| 6 | 21742448 | 2019-01-01 00:15:33 | 2019-01-01 00:19:09 | 2437 |  98 | LaSalle St &amp; Washington St          |  49 | Dearborn St &amp; Monroe St        | Subscriber |\n",
       "\n"
      ],
      "text/plain": [
       "  id_viaje empezo              termino             id_bici id_estacion_inicial\n",
       "1 21742443 2019-01-01 00:04:37 2019-01-01 00:11:07 2167    199                \n",
       "2 21742444 2019-01-01 00:08:13 2019-01-01 00:15:34 4386     44                \n",
       "3 21742445 2019-01-01 00:13:23 2019-01-01 00:27:12 1524     15                \n",
       "4 21742446 2019-01-01 00:13:45 2019-01-01 00:43:28 252     123                \n",
       "5 21742447 2019-01-01 00:14:52 2019-01-01 00:20:56 1170    173                \n",
       "6 21742448 2019-01-01 00:15:33 2019-01-01 00:19:09 2437     98                \n",
       "  estacion_partida                    id_estacion_llegada\n",
       "1 Wabash Ave & Grand Ave               84                \n",
       "2 State St & Randolph St              624                \n",
       "3 Racine Ave & 18th St                644                \n",
       "4 California Ave & Milwaukee Ave      176                \n",
       "5 Mies van der Rohe Way & Chicago Ave  35                \n",
       "6 LaSalle St & Washington St           49                \n",
       "  estacion_llegada               membrecia \n",
       "1 Milwaukee Ave & Grand Ave      Subscriber\n",
       "2 Dearborn St & Van Buren St (*) Subscriber\n",
       "3 Western Ave & Fillmore St (*)  Subscriber\n",
       "4 Clark St & Elm St              Subscriber\n",
       "5 Streeter Dr & Grand Ave        Subscriber\n",
       "6 Dearborn St & Monroe St        Subscriber"
      ]
     },
     "metadata": {},
     "output_type": "display_data"
    },
    {
     "data": {
      "text/html": [
       "3818004"
      ],
      "text/latex": [
       "3818004"
      ],
      "text/markdown": [
       "3818004"
      ],
      "text/plain": [
       "[1] 3818004"
      ]
     },
     "metadata": {},
     "output_type": "display_data"
    },
    {
     "data": {
      "text/html": [
       "<style>\n",
       ".list-inline {list-style: none; margin:0; padding: 0}\n",
       ".list-inline>li {display: inline-block}\n",
       ".list-inline>li:not(:last-child)::after {content: \"\\00b7\"; padding: 0 .5ex}\n",
       "</style>\n",
       "<ol class=list-inline><li>3818004</li><li>9</li></ol>\n"
      ],
      "text/latex": [
       "\\begin{enumerate*}\n",
       "\\item 3818004\n",
       "\\item 9\n",
       "\\end{enumerate*}\n"
      ],
      "text/markdown": [
       "1. 3818004\n",
       "2. 9\n",
       "\n",
       "\n"
      ],
      "text/plain": [
       "[1] 3818004       9"
      ]
     },
     "metadata": {},
     "output_type": "display_data"
    },
    {
     "data": {
      "text/plain": [
       "   id_viaje            empezo            termino            id_bici         \n",
       " Length:3818004     Length:3818004     Length:3818004     Length:3818004    \n",
       " Class :character   Class :character   Class :character   Class :character  \n",
       " Mode  :character   Mode  :character   Mode  :character   Mode  :character  \n",
       "                                                                            \n",
       "                                                                            \n",
       "                                                                            \n",
       " id_estacion_inicial estacion_partida   id_estacion_llegada estacion_llegada  \n",
       " Min.   :  1.0       Length:3818004     Min.   :  1.0       Length:3818004    \n",
       " 1st Qu.: 77.0       Class :character   1st Qu.: 77.0       Class :character  \n",
       " Median :174.0       Mode  :character   Median :174.0       Mode  :character  \n",
       " Mean   :201.7                          Mean   :202.6                         \n",
       " 3rd Qu.:289.0                          3rd Qu.:291.0                         \n",
       " Max.   :673.0                          Max.   :673.0                         \n",
       "  membrecia        \n",
       " Length:3818004    \n",
       " Class :character  \n",
       " Mode  :character  \n",
       "                   \n",
       "                   \n",
       "                   "
      ]
     },
     "metadata": {},
     "output_type": "display_data"
    },
    {
     "name": "stdout",
     "output_type": "stream",
     "text": [
      "'data.frame':\t3818004 obs. of  9 variables:\n",
      " $ id_viaje           : chr  \"21742443\" \"21742444\" \"21742445\" \"21742446\" ...\n",
      " $ empezo             : chr  \"2019-01-01 00:04:37\" \"2019-01-01 00:08:13\" \"2019-01-01 00:13:23\" \"2019-01-01 00:13:45\" ...\n",
      " $ termino            : chr  \"2019-01-01 00:11:07\" \"2019-01-01 00:15:34\" \"2019-01-01 00:27:12\" \"2019-01-01 00:43:28\" ...\n",
      " $ id_bici            : chr  \"2167\" \"4386\" \"1524\" \"252\" ...\n",
      " $ id_estacion_inicial: int  199 44 15 123 173 98 98 211 150 268 ...\n",
      " $ estacion_partida   : chr  \"Wabash Ave & Grand Ave\" \"State St & Randolph St\" \"Racine Ave & 18th St\" \"California Ave & Milwaukee Ave\" ...\n",
      " $ id_estacion_llegada: int  84 624 644 176 35 49 49 142 148 141 ...\n",
      " $ estacion_llegada   : chr  \"Milwaukee Ave & Grand Ave\" \"Dearborn St & Van Buren St (*)\" \"Western Ave & Fillmore St (*)\" \"Clark St & Elm St\" ...\n",
      " $ membrecia          : chr  \"Subscriber\" \"Subscriber\" \"Subscriber\" \"Subscriber\" ...\n"
     ]
    }
   ],
   "source": [
    "colnames(viajes_2019)\n",
    "\n",
    "head(viajes_2019)\n",
    "\n",
    "nrow(viajes_2019)\n",
    "\n",
    "dim(viajes_2019)\n",
    "\n",
    "summary(viajes_2019)\n",
    "\n",
    "str(viajes_2019)"
   ]
  },
  {
   "cell_type": "markdown",
   "id": "87bb9d10",
   "metadata": {
    "papermill": {
     "duration": 0.024035,
     "end_time": "2023-05-16T19:58:50.773015",
     "exception": false,
     "start_time": "2023-05-16T19:58:50.748980",
     "status": "completed"
    },
    "tags": []
   },
   "source": [
    "Cambiamos el nombre de los clientes a Miembro y Casual."
   ]
  },
  {
   "cell_type": "code",
   "execution_count": 11,
   "id": "533bac31",
   "metadata": {
    "execution": {
     "iopub.execute_input": "2023-05-16T19:58:50.825759Z",
     "iopub.status.busy": "2023-05-16T19:58:50.823773Z",
     "iopub.status.idle": "2023-05-16T19:58:54.060878Z",
     "shell.execute_reply": "2023-05-16T19:58:54.058806Z"
    },
    "papermill": {
     "duration": 3.267487,
     "end_time": "2023-05-16T19:58:54.064451",
     "exception": false,
     "start_time": "2023-05-16T19:58:50.796964",
     "status": "completed"
    },
    "tags": []
   },
   "outputs": [],
   "source": [
    "viajes_2019 <-  viajes_2019 %>% \n",
    "  mutate(membrecia = recode(membrecia\n",
    "                           ,\"Subscriber\" = \"Miembro\"\n",
    "                           ,\"Customer\" = \"Casual\"))\n"
   ]
  },
  {
   "cell_type": "markdown",
   "id": "d064298a",
   "metadata": {
    "papermill": {
     "duration": 0.024775,
     "end_time": "2023-05-16T19:58:54.114082",
     "exception": false,
     "start_time": "2023-05-16T19:58:54.089307",
     "status": "completed"
    },
    "tags": []
   },
   "source": [
    "Bien ahora para hacer un df mas completo y facil de analizar por partes vamos a dividir las fechas para poder tener una columna dedicada para fecha, mes, dia, año y dia de la semana."
   ]
  },
  {
   "cell_type": "code",
   "execution_count": 12,
   "id": "db191ad6",
   "metadata": {
    "execution": {
     "iopub.execute_input": "2023-05-16T19:58:54.167144Z",
     "iopub.status.busy": "2023-05-16T19:58:54.164925Z",
     "iopub.status.idle": "2023-05-16T19:59:03.991036Z",
     "shell.execute_reply": "2023-05-16T19:59:03.989068Z"
    },
    "papermill": {
     "duration": 9.855932,
     "end_time": "2023-05-16T19:59:03.994221",
     "exception": false,
     "start_time": "2023-05-16T19:58:54.138289",
     "status": "completed"
    },
    "tags": []
   },
   "outputs": [],
   "source": [
    "#Lo primero que observo y me gustaria profundizar es en la division de columnas para integrar\n",
    "#la fecha, dias, meses, dia de la semana y años para tener mas columnas en las que agregar funciones.\n",
    "viajes_2019$date <- as.Date(viajes_2019$empezo)\n",
    "viajes_2019$month <- format(as.Date(viajes_2019$date), \"%m\")\n",
    "viajes_2019$day <- format(as.Date(viajes_2019$date), \"%d\")\n",
    "viajes_2019$year <- format(as.Date(viajes_2019$date), \"%Y\")\n",
    "viajes_2019$day_of_week <- format(as.Date(viajes_2019$date), \"%A\")\n"
   ]
  },
  {
   "cell_type": "markdown",
   "id": "882b9a42",
   "metadata": {
    "papermill": {
     "duration": 0.025132,
     "end_time": "2023-05-16T19:59:04.044275",
     "exception": false,
     "start_time": "2023-05-16T19:59:04.019143",
     "status": "completed"
    },
    "tags": []
   },
   "source": [
    "Agregamos la duracion de cada viaje en minutos haciendo un difftime o sea,diferencia entre la hora de la columna termino, con la columna empezo.\n"
   ]
  },
  {
   "cell_type": "code",
   "execution_count": 13,
   "id": "98675610",
   "metadata": {
    "execution": {
     "iopub.execute_input": "2023-05-16T19:59:04.097440Z",
     "iopub.status.busy": "2023-05-16T19:59:04.095684Z",
     "iopub.status.idle": "2023-05-16T19:59:25.447773Z",
     "shell.execute_reply": "2023-05-16T19:59:25.445797Z"
    },
    "papermill": {
     "duration": 21.382212,
     "end_time": "2023-05-16T19:59:25.450998",
     "exception": false,
     "start_time": "2023-05-16T19:59:04.068786",
     "status": "completed"
    },
    "tags": []
   },
   "outputs": [],
   "source": [
    "\n",
    "viajes_2019$duracion <- difftime(viajes_2019$termino,viajes_2019$empezo)"
   ]
  },
  {
   "cell_type": "markdown",
   "id": "31be7531",
   "metadata": {
    "papermill": {
     "duration": 0.067908,
     "end_time": "2023-05-16T19:59:25.543752",
     "exception": false,
     "start_time": "2023-05-16T19:59:25.475844",
     "status": "completed"
    },
    "tags": []
   },
   "source": [
    "Analizamos la estructura de los datos nuevamente"
   ]
  },
  {
   "cell_type": "code",
   "execution_count": 14,
   "id": "353151b4",
   "metadata": {
    "execution": {
     "iopub.execute_input": "2023-05-16T19:59:25.596455Z",
     "iopub.status.busy": "2023-05-16T19:59:25.594799Z",
     "iopub.status.idle": "2023-05-16T19:59:25.635996Z",
     "shell.execute_reply": "2023-05-16T19:59:25.634144Z"
    },
    "papermill": {
     "duration": 0.070372,
     "end_time": "2023-05-16T19:59:25.638553",
     "exception": false,
     "start_time": "2023-05-16T19:59:25.568181",
     "status": "completed"
    },
    "tags": []
   },
   "outputs": [
    {
     "name": "stdout",
     "output_type": "stream",
     "text": [
      "'data.frame':\t3818004 obs. of  15 variables:\n",
      " $ id_viaje           : chr  \"21742443\" \"21742444\" \"21742445\" \"21742446\" ...\n",
      " $ empezo             : chr  \"2019-01-01 00:04:37\" \"2019-01-01 00:08:13\" \"2019-01-01 00:13:23\" \"2019-01-01 00:13:45\" ...\n",
      " $ termino            : chr  \"2019-01-01 00:11:07\" \"2019-01-01 00:15:34\" \"2019-01-01 00:27:12\" \"2019-01-01 00:43:28\" ...\n",
      " $ id_bici            : chr  \"2167\" \"4386\" \"1524\" \"252\" ...\n",
      " $ id_estacion_inicial: int  199 44 15 123 173 98 98 211 150 268 ...\n",
      " $ estacion_partida   : chr  \"Wabash Ave & Grand Ave\" \"State St & Randolph St\" \"Racine Ave & 18th St\" \"California Ave & Milwaukee Ave\" ...\n",
      " $ id_estacion_llegada: int  84 624 644 176 35 49 49 142 148 141 ...\n",
      " $ estacion_llegada   : chr  \"Milwaukee Ave & Grand Ave\" \"Dearborn St & Van Buren St (*)\" \"Western Ave & Fillmore St (*)\" \"Clark St & Elm St\" ...\n",
      " $ membrecia          : chr  \"Miembro\" \"Miembro\" \"Miembro\" \"Miembro\" ...\n",
      " $ date               : Date, format: \"2019-01-01\" \"2019-01-01\" ...\n",
      " $ month              : chr  \"01\" \"01\" \"01\" \"01\" ...\n",
      " $ day                : chr  \"01\" \"01\" \"01\" \"01\" ...\n",
      " $ year               : chr  \"2019\" \"2019\" \"2019\" \"2019\" ...\n",
      " $ day_of_week        : chr  \"Tuesday\" \"Tuesday\" \"Tuesday\" \"Tuesday\" ...\n",
      " $ duracion           : 'difftime' num  6.5 7.35 13.8166666666667 29.7166666666667 ...\n",
      "  ..- attr(*, \"units\")= chr \"mins\"\n"
     ]
    }
   ],
   "source": [
    "str(viajes_2019)"
   ]
  },
  {
   "cell_type": "markdown",
   "id": "5543116c",
   "metadata": {
    "papermill": {
     "duration": 0.025088,
     "end_time": "2023-05-16T19:59:25.688651",
     "exception": false,
     "start_time": "2023-05-16T19:59:25.663563",
     "status": "completed"
    },
    "tags": []
   },
   "source": [
    "La columna duracion va a tener que ser cambiada de formato para que no sea un inconveniente a la hora de analizarla."
   ]
  },
  {
   "cell_type": "code",
   "execution_count": 15,
   "id": "bcfbf991",
   "metadata": {
    "execution": {
     "iopub.execute_input": "2023-05-16T19:59:25.741207Z",
     "iopub.status.busy": "2023-05-16T19:59:25.739398Z",
     "iopub.status.idle": "2023-05-16T19:59:31.915649Z",
     "shell.execute_reply": "2023-05-16T19:59:31.913328Z"
    },
    "papermill": {
     "duration": 6.205556,
     "end_time": "2023-05-16T19:59:31.918516",
     "exception": false,
     "start_time": "2023-05-16T19:59:25.712960",
     "status": "completed"
    },
    "tags": []
   },
   "outputs": [
    {
     "data": {
      "text/html": [
       "FALSE"
      ],
      "text/latex": [
       "FALSE"
      ],
      "text/markdown": [
       "FALSE"
      ],
      "text/plain": [
       "[1] FALSE"
      ]
     },
     "metadata": {},
     "output_type": "display_data"
    },
    {
     "data": {
      "text/html": [
       "TRUE"
      ],
      "text/latex": [
       "TRUE"
      ],
      "text/markdown": [
       "TRUE"
      ],
      "text/plain": [
       "[1] TRUE"
      ]
     },
     "metadata": {},
     "output_type": "display_data"
    }
   ],
   "source": [
    "is.factor(viajes_2019$duracion)\n",
    "viajes_2019$duracion <- as.numeric(as.character(viajes_2019$duracion))\n",
    "is.numeric(viajes_2019$duracion)\n"
   ]
  },
  {
   "cell_type": "markdown",
   "id": "8f11b561",
   "metadata": {
    "papermill": {
     "duration": 0.025331,
     "end_time": "2023-05-16T19:59:31.968897",
     "exception": false,
     "start_time": "2023-05-16T19:59:31.943566",
     "status": "completed"
    },
    "tags": []
   },
   "source": [
    "Convertimos el formato de la columna duracion de factor a numerico, para que de esta manera nos resulte mas facil realizar calculos\n",
    "\n"
   ]
  },
  {
   "cell_type": "code",
   "execution_count": 16,
   "id": "c0569b67",
   "metadata": {
    "execution": {
     "iopub.execute_input": "2023-05-16T19:59:32.022928Z",
     "iopub.status.busy": "2023-05-16T19:59:32.021157Z",
     "iopub.status.idle": "2023-05-16T19:59:32.744267Z",
     "shell.execute_reply": "2023-05-16T19:59:32.742335Z"
    },
    "papermill": {
     "duration": 0.75308,
     "end_time": "2023-05-16T19:59:32.746984",
     "exception": false,
     "start_time": "2023-05-16T19:59:31.993904",
     "status": "completed"
    },
    "tags": []
   },
   "outputs": [
    {
     "data": {
      "text/plain": [
       "   id_viaje            empezo            termino            id_bici         \n",
       " Length:3818004     Length:3818004     Length:3818004     Length:3818004    \n",
       " Class :character   Class :character   Class :character   Class :character  \n",
       " Mode  :character   Mode  :character   Mode  :character   Mode  :character  \n",
       "                                                                            \n",
       "                                                                            \n",
       "                                                                            \n",
       " id_estacion_inicial estacion_partida   id_estacion_llegada estacion_llegada  \n",
       " Min.   :  1.0       Length:3818004     Min.   :  1.0       Length:3818004    \n",
       " 1st Qu.: 77.0       Class :character   1st Qu.: 77.0       Class :character  \n",
       " Median :174.0       Mode  :character   Median :174.0       Mode  :character  \n",
       " Mean   :201.7                          Mean   :202.6                         \n",
       " 3rd Qu.:289.0                          3rd Qu.:291.0                         \n",
       " Max.   :673.0                          Max.   :673.0                         \n",
       "  membrecia              date               month               day           \n",
       " Length:3818004     Min.   :2019-01-01   Length:3818004     Length:3818004    \n",
       " Class :character   1st Qu.:2019-05-29   Class :character   Class :character  \n",
       " Mode  :character   Median :2019-07-25   Mode  :character   Mode  :character  \n",
       "                    Mean   :2019-07-19                                        \n",
       "                    3rd Qu.:2019-09-15                                        \n",
       "                    Max.   :2019-12-31                                        \n",
       "     year           day_of_week           duracion        \n",
       " Length:3818004     Length:3818004     Min.   :   -56.37  \n",
       " Class :character   Class :character   1st Qu.:     6.85  \n",
       " Mode  :character   Mode  :character   Median :    11.82  \n",
       "                                       Mean   :    24.17  \n",
       "                                       3rd Qu.:    21.40  \n",
       "                                       Max.   :177200.37  "
      ]
     },
     "metadata": {},
     "output_type": "display_data"
    }
   ],
   "source": [
    "summary(viajes_2019)"
   ]
  },
  {
   "cell_type": "markdown",
   "id": "91f6e403",
   "metadata": {
    "papermill": {
     "duration": 0.025537,
     "end_time": "2023-05-16T19:59:32.797268",
     "exception": false,
     "start_time": "2023-05-16T19:59:32.771731",
     "status": "completed"
    },
    "tags": []
   },
   "source": [
    "Note que parecen haber valores erroneos en el DF que dan resultados negativos en la columna duracion"
   ]
  },
  {
   "cell_type": "markdown",
   "id": "37271ebf",
   "metadata": {
    "papermill": {
     "duration": 0.025787,
     "end_time": "2023-05-16T19:59:32.848517",
     "exception": false,
     "start_time": "2023-05-16T19:59:32.822730",
     "status": "completed"
    },
    "tags": []
   },
   "source": [
    "Luego de investigar pude dar con que hay un recuento erroneo en donde no se tomaron en cuenta los dias de control de calidad que realiza la empresa,en estos controles se toman las bicis y generan este vacio de viajes, esto hizo que haya un mal recuento de las bicis.\n",
    "Asique vamos a hace un nuevo Df en donde estos dias no interfiran en la duracion de los viajes.\n"
   ]
  },
  {
   "cell_type": "code",
   "execution_count": 17,
   "id": "f3200422",
   "metadata": {
    "execution": {
     "iopub.execute_input": "2023-05-16T19:59:32.901785Z",
     "iopub.status.busy": "2023-05-16T19:59:32.900146Z",
     "iopub.status.idle": "2023-05-16T19:59:34.948147Z",
     "shell.execute_reply": "2023-05-16T19:59:34.946153Z"
    },
    "papermill": {
     "duration": 2.077865,
     "end_time": "2023-05-16T19:59:34.951172",
     "exception": false,
     "start_time": "2023-05-16T19:59:32.873307",
     "status": "completed"
    },
    "tags": []
   },
   "outputs": [],
   "source": [
    "viajes_2019_v2 <- viajes_2019[!(viajes_2019$estacion_partida == \"HQ QR\" | viajes_2019$duracion<0),]\n"
   ]
  },
  {
   "cell_type": "code",
   "execution_count": 18,
   "id": "57285a91",
   "metadata": {
    "execution": {
     "iopub.execute_input": "2023-05-16T19:59:35.005706Z",
     "iopub.status.busy": "2023-05-16T19:59:35.003997Z",
     "iopub.status.idle": "2023-05-16T19:59:38.301069Z",
     "shell.execute_reply": "2023-05-16T19:59:38.298635Z"
    },
    "papermill": {
     "duration": 3.32769,
     "end_time": "2023-05-16T19:59:38.304675",
     "exception": false,
     "start_time": "2023-05-16T19:59:34.976985",
     "status": "completed"
    },
    "tags": []
   },
   "outputs": [
    {
     "data": {
      "text/plain": [
       "   id_viaje            empezo            termino            id_bici         \n",
       " Length:3817991     Length:3817991     Length:3817991     Length:3817991    \n",
       " Class :character   Class :character   Class :character   Class :character  \n",
       " Mode  :character   Mode  :character   Mode  :character   Mode  :character  \n",
       "                                                                            \n",
       "                                                                            \n",
       "                                                                            \n",
       " id_estacion_inicial estacion_partida   id_estacion_llegada estacion_llegada  \n",
       " Min.   :  1.0       Length:3817991     Min.   :  1.0       Length:3817991    \n",
       " 1st Qu.: 77.0       Class :character   1st Qu.: 77.0       Class :character  \n",
       " Median :174.0       Mode  :character   Median :174.0       Mode  :character  \n",
       " Mean   :201.7                          Mean   :202.6                         \n",
       " 3rd Qu.:289.0                          3rd Qu.:291.0                         \n",
       " Max.   :673.0                          Max.   :673.0                         \n",
       "  membrecia              date               month               day           \n",
       " Length:3817991     Min.   :2019-01-01   Length:3817991     Length:3817991    \n",
       " Class :character   1st Qu.:2019-05-29   Class :character   Class :character  \n",
       " Mode  :character   Median :2019-07-25   Mode  :character   Mode  :character  \n",
       "                    Mean   :2019-07-19                                        \n",
       "                    3rd Qu.:2019-09-15                                        \n",
       "                    Max.   :2019-12-31                                        \n",
       "     year           day_of_week           duracion        \n",
       " Length:3817991     Length:3817991     Min.   :     1.02  \n",
       " Class :character   Class :character   1st Qu.:     6.85  \n",
       " Mode  :character   Mode  :character   Median :    11.82  \n",
       "                                       Mean   :    24.17  \n",
       "                                       3rd Qu.:    21.40  \n",
       "                                       Max.   :177200.37  "
      ]
     },
     "metadata": {},
     "output_type": "display_data"
    }
   ],
   "source": [
    "summary(viajes_2019_v2)"
   ]
  },
  {
   "cell_type": "markdown",
   "id": "923a178a",
   "metadata": {
    "papermill": {
     "duration": 0.0254,
     "end_time": "2023-05-16T19:59:38.355330",
     "exception": false,
     "start_time": "2023-05-16T19:59:38.329930",
     "status": "completed"
    },
    "tags": []
   },
   "source": [
    "Bien ahora que los datos estan limpios y uniformes podemos proceder a su devido analisis.\n",
    "Vamos a empezar con lo basico que es ver la columna de duracion y determinar distintos valores."
   ]
  },
  {
   "cell_type": "code",
   "execution_count": 19,
   "id": "e168ebaf",
   "metadata": {
    "execution": {
     "iopub.execute_input": "2023-05-16T19:59:38.409497Z",
     "iopub.status.busy": "2023-05-16T19:59:38.407632Z",
     "iopub.status.idle": "2023-05-16T19:59:38.578905Z",
     "shell.execute_reply": "2023-05-16T19:59:38.577049Z"
    },
    "papermill": {
     "duration": 0.200944,
     "end_time": "2023-05-16T19:59:38.581426",
     "exception": false,
     "start_time": "2023-05-16T19:59:38.380482",
     "status": "completed"
    },
    "tags": []
   },
   "outputs": [
    {
     "data": {
      "text/html": [
       "24.1744271267271"
      ],
      "text/latex": [
       "24.1744271267271"
      ],
      "text/markdown": [
       "24.1744271267271"
      ],
      "text/plain": [
       "[1] 24.17443"
      ]
     },
     "metadata": {},
     "output_type": "display_data"
    },
    {
     "data": {
      "text/html": [
       "11.8166666666667"
      ],
      "text/latex": [
       "11.8166666666667"
      ],
      "text/markdown": [
       "11.8166666666667"
      ],
      "text/plain": [
       "[1] 11.81667"
      ]
     },
     "metadata": {},
     "output_type": "display_data"
    },
    {
     "data": {
      "text/html": [
       "177200.366666667"
      ],
      "text/latex": [
       "177200.366666667"
      ],
      "text/markdown": [
       "177200.366666667"
      ],
      "text/plain": [
       "[1] 177200.4"
      ]
     },
     "metadata": {},
     "output_type": "display_data"
    },
    {
     "data": {
      "text/html": [
       "1.01666666666667"
      ],
      "text/latex": [
       "1.01666666666667"
      ],
      "text/markdown": [
       "1.01666666666667"
      ],
      "text/plain": [
       "[1] 1.016667"
      ]
     },
     "metadata": {},
     "output_type": "display_data"
    }
   ],
   "source": [
    "mean(viajes_2019_v2$duracion) #duracion promedio (total duracion / viajes)\n",
    "median(viajes_2019_v2$duracion) #Punto medio de duracion de viajes\n",
    "max(viajes_2019_v2$duracion) #Viaje mas largo\n",
    "min(viajes_2019_v2$duracion) #Viaje mas corto\n"
   ]
  },
  {
   "cell_type": "markdown",
   "id": "04812545",
   "metadata": {
    "papermill": {
     "duration": 0.02625,
     "end_time": "2023-05-16T19:59:38.633283",
     "exception": false,
     "start_time": "2023-05-16T19:59:38.607033",
     "status": "completed"
    },
    "tags": []
   },
   "source": [
    "Otra manera, mas facil."
   ]
  },
  {
   "cell_type": "code",
   "execution_count": 20,
   "id": "17f7c8d5",
   "metadata": {
    "execution": {
     "iopub.execute_input": "2023-05-16T19:59:38.691518Z",
     "iopub.status.busy": "2023-05-16T19:59:38.689686Z",
     "iopub.status.idle": "2023-05-16T19:59:38.931420Z",
     "shell.execute_reply": "2023-05-16T19:59:38.929434Z"
    },
    "papermill": {
     "duration": 0.274393,
     "end_time": "2023-05-16T19:59:38.934203",
     "exception": false,
     "start_time": "2023-05-16T19:59:38.659810",
     "status": "completed"
    },
    "tags": []
   },
   "outputs": [
    {
     "data": {
      "text/plain": [
       "     Min.   1st Qu.    Median      Mean   3rd Qu.      Max. \n",
       "     1.02      6.85     11.82     24.17     21.40 177200.37 "
      ]
     },
     "metadata": {},
     "output_type": "display_data"
    }
   ],
   "source": [
    "summary(viajes_2019_v2$duracion)"
   ]
  },
  {
   "cell_type": "markdown",
   "id": "972152ea",
   "metadata": {
    "papermill": {
     "duration": 0.026998,
     "end_time": "2023-05-16T19:59:38.987435",
     "exception": false,
     "start_time": "2023-05-16T19:59:38.960437",
     "status": "completed"
    },
    "tags": []
   },
   "source": [
    "Ahora comparamos las medidas previamente realizadas entre las distintas membrecias"
   ]
  },
  {
   "cell_type": "code",
   "execution_count": 21,
   "id": "47515d7d",
   "metadata": {
    "execution": {
     "iopub.execute_input": "2023-05-16T19:59:39.043941Z",
     "iopub.status.busy": "2023-05-16T19:59:39.042081Z",
     "iopub.status.idle": "2023-05-16T19:59:49.545850Z",
     "shell.execute_reply": "2023-05-16T19:59:49.543251Z"
    },
    "papermill": {
     "duration": 10.536273,
     "end_time": "2023-05-16T19:59:49.549677",
     "exception": false,
     "start_time": "2023-05-16T19:59:39.013404",
     "status": "completed"
    },
    "tags": []
   },
   "outputs": [
    {
     "data": {
      "text/html": [
       "<table class=\"dataframe\">\n",
       "<caption>A data.frame: 2 × 2</caption>\n",
       "<thead>\n",
       "\t<tr><th scope=col>viajes_2019_v2$membrecia</th><th scope=col>viajes_2019_v2$duracion</th></tr>\n",
       "\t<tr><th scope=col>&lt;chr&gt;</th><th scope=col>&lt;dbl&gt;</th></tr>\n",
       "</thead>\n",
       "<tbody>\n",
       "\t<tr><td>Casual </td><td>57.01802</td></tr>\n",
       "\t<tr><td>Miembro</td><td>14.32780</td></tr>\n",
       "</tbody>\n",
       "</table>\n"
      ],
      "text/latex": [
       "A data.frame: 2 × 2\n",
       "\\begin{tabular}{ll}\n",
       " viajes\\_2019\\_v2\\$membrecia & viajes\\_2019\\_v2\\$duracion\\\\\n",
       " <chr> & <dbl>\\\\\n",
       "\\hline\n",
       "\t Casual  & 57.01802\\\\\n",
       "\t Miembro & 14.32780\\\\\n",
       "\\end{tabular}\n"
      ],
      "text/markdown": [
       "\n",
       "A data.frame: 2 × 2\n",
       "\n",
       "| viajes_2019_v2$membrecia &lt;chr&gt; | viajes_2019_v2$duracion &lt;dbl&gt; |\n",
       "|---|---|\n",
       "| Casual  | 57.01802 |\n",
       "| Miembro | 14.32780 |\n",
       "\n"
      ],
      "text/plain": [
       "  viajes_2019_v2$membrecia viajes_2019_v2$duracion\n",
       "1 Casual                   57.01802               \n",
       "2 Miembro                  14.32780               "
      ]
     },
     "metadata": {},
     "output_type": "display_data"
    },
    {
     "data": {
      "text/html": [
       "<table class=\"dataframe\">\n",
       "<caption>A data.frame: 2 × 2</caption>\n",
       "<thead>\n",
       "\t<tr><th scope=col>viajes_2019_v2$membrecia</th><th scope=col>viajes_2019_v2$duracion</th></tr>\n",
       "\t<tr><th scope=col>&lt;chr&gt;</th><th scope=col>&lt;dbl&gt;</th></tr>\n",
       "</thead>\n",
       "<tbody>\n",
       "\t<tr><td>Casual </td><td>25.83333</td></tr>\n",
       "\t<tr><td>Miembro</td><td> 9.80000</td></tr>\n",
       "</tbody>\n",
       "</table>\n"
      ],
      "text/latex": [
       "A data.frame: 2 × 2\n",
       "\\begin{tabular}{ll}\n",
       " viajes\\_2019\\_v2\\$membrecia & viajes\\_2019\\_v2\\$duracion\\\\\n",
       " <chr> & <dbl>\\\\\n",
       "\\hline\n",
       "\t Casual  & 25.83333\\\\\n",
       "\t Miembro &  9.80000\\\\\n",
       "\\end{tabular}\n"
      ],
      "text/markdown": [
       "\n",
       "A data.frame: 2 × 2\n",
       "\n",
       "| viajes_2019_v2$membrecia &lt;chr&gt; | viajes_2019_v2$duracion &lt;dbl&gt; |\n",
       "|---|---|\n",
       "| Casual  | 25.83333 |\n",
       "| Miembro |  9.80000 |\n",
       "\n"
      ],
      "text/plain": [
       "  viajes_2019_v2$membrecia viajes_2019_v2$duracion\n",
       "1 Casual                   25.83333               \n",
       "2 Miembro                   9.80000               "
      ]
     },
     "metadata": {},
     "output_type": "display_data"
    },
    {
     "data": {
      "text/html": [
       "<table class=\"dataframe\">\n",
       "<caption>A data.frame: 2 × 2</caption>\n",
       "<thead>\n",
       "\t<tr><th scope=col>viajes_2019_v2$membrecia</th><th scope=col>viajes_2019_v2$duracion</th></tr>\n",
       "\t<tr><th scope=col>&lt;chr&gt;</th><th scope=col>&lt;dbl&gt;</th></tr>\n",
       "</thead>\n",
       "<tbody>\n",
       "\t<tr><td>Casual </td><td>177200.4</td></tr>\n",
       "\t<tr><td>Miembro</td><td>150943.9</td></tr>\n",
       "</tbody>\n",
       "</table>\n"
      ],
      "text/latex": [
       "A data.frame: 2 × 2\n",
       "\\begin{tabular}{ll}\n",
       " viajes\\_2019\\_v2\\$membrecia & viajes\\_2019\\_v2\\$duracion\\\\\n",
       " <chr> & <dbl>\\\\\n",
       "\\hline\n",
       "\t Casual  & 177200.4\\\\\n",
       "\t Miembro & 150943.9\\\\\n",
       "\\end{tabular}\n"
      ],
      "text/markdown": [
       "\n",
       "A data.frame: 2 × 2\n",
       "\n",
       "| viajes_2019_v2$membrecia &lt;chr&gt; | viajes_2019_v2$duracion &lt;dbl&gt; |\n",
       "|---|---|\n",
       "| Casual  | 177200.4 |\n",
       "| Miembro | 150943.9 |\n",
       "\n"
      ],
      "text/plain": [
       "  viajes_2019_v2$membrecia viajes_2019_v2$duracion\n",
       "1 Casual                   177200.4               \n",
       "2 Miembro                  150943.9               "
      ]
     },
     "metadata": {},
     "output_type": "display_data"
    },
    {
     "data": {
      "text/html": [
       "<table class=\"dataframe\">\n",
       "<caption>A data.frame: 2 × 2</caption>\n",
       "<thead>\n",
       "\t<tr><th scope=col>viajes_2019_v2$membrecia</th><th scope=col>viajes_2019_v2$duracion</th></tr>\n",
       "\t<tr><th scope=col>&lt;chr&gt;</th><th scope=col>&lt;dbl&gt;</th></tr>\n",
       "</thead>\n",
       "<tbody>\n",
       "\t<tr><td>Casual </td><td>1.016667</td></tr>\n",
       "\t<tr><td>Miembro</td><td>1.016667</td></tr>\n",
       "</tbody>\n",
       "</table>\n"
      ],
      "text/latex": [
       "A data.frame: 2 × 2\n",
       "\\begin{tabular}{ll}\n",
       " viajes\\_2019\\_v2\\$membrecia & viajes\\_2019\\_v2\\$duracion\\\\\n",
       " <chr> & <dbl>\\\\\n",
       "\\hline\n",
       "\t Casual  & 1.016667\\\\\n",
       "\t Miembro & 1.016667\\\\\n",
       "\\end{tabular}\n"
      ],
      "text/markdown": [
       "\n",
       "A data.frame: 2 × 2\n",
       "\n",
       "| viajes_2019_v2$membrecia &lt;chr&gt; | viajes_2019_v2$duracion &lt;dbl&gt; |\n",
       "|---|---|\n",
       "| Casual  | 1.016667 |\n",
       "| Miembro | 1.016667 |\n",
       "\n"
      ],
      "text/plain": [
       "  viajes_2019_v2$membrecia viajes_2019_v2$duracion\n",
       "1 Casual                   1.016667               \n",
       "2 Miembro                  1.016667               "
      ]
     },
     "metadata": {},
     "output_type": "display_data"
    }
   ],
   "source": [
    "aggregate(viajes_2019_v2$duracion ~ viajes_2019_v2$membrecia, FUN = mean)\n",
    "aggregate(viajes_2019_v2$duracion ~ viajes_2019_v2$membrecia, FUN = median)\n",
    "aggregate(viajes_2019_v2$duracion ~ viajes_2019_v2$membrecia, FUN = max)\n",
    "aggregate(viajes_2019_v2$duracion ~ viajes_2019_v2$membrecia, FUN = min)\n"
   ]
  },
  {
   "cell_type": "markdown",
   "id": "9f89b81a",
   "metadata": {
    "papermill": {
     "duration": 0.0275,
     "end_time": "2023-05-16T19:59:49.604704",
     "exception": false,
     "start_time": "2023-05-16T19:59:49.577204",
     "status": "completed"
    },
    "tags": []
   },
   "source": [
    "Vemos que los Min y Max viajes son bastante identicos, la variable mas notable son las otras dos medidas, vamos a continuar.\n"
   ]
  },
  {
   "cell_type": "markdown",
   "id": "c50b9fd2",
   "metadata": {
    "papermill": {
     "duration": 0.02689,
     "end_time": "2023-05-16T19:59:49.659028",
     "exception": false,
     "start_time": "2023-05-16T19:59:49.632138",
     "status": "completed"
    },
    "tags": []
   },
   "source": [
    "Lo que voy a ver ahora va a ser la duracion promedio de viajes en los dias de la semana, comparandolo entre los distintos miembros."
   ]
  },
  {
   "cell_type": "code",
   "execution_count": 22,
   "id": "f77c33ad",
   "metadata": {
    "execution": {
     "iopub.execute_input": "2023-05-16T19:59:49.716921Z",
     "iopub.status.busy": "2023-05-16T19:59:49.715283Z",
     "iopub.status.idle": "2023-05-16T19:59:54.691861Z",
     "shell.execute_reply": "2023-05-16T19:59:54.689393Z"
    },
    "papermill": {
     "duration": 5.009515,
     "end_time": "2023-05-16T19:59:54.695605",
     "exception": false,
     "start_time": "2023-05-16T19:59:49.686090",
     "status": "completed"
    },
    "tags": []
   },
   "outputs": [
    {
     "data": {
      "text/html": [
       "<table class=\"dataframe\">\n",
       "<caption>A data.frame: 14 × 3</caption>\n",
       "<thead>\n",
       "\t<tr><th scope=col>viajes_2019_v2$membrecia</th><th scope=col>viajes_2019_v2$day_of_week</th><th scope=col>viajes_2019_v2$duracion</th></tr>\n",
       "\t<tr><th scope=col>&lt;chr&gt;</th><th scope=col>&lt;chr&gt;</th><th scope=col>&lt;dbl&gt;</th></tr>\n",
       "</thead>\n",
       "<tbody>\n",
       "\t<tr><td>Casual </td><td>Friday   </td><td>60.17561</td></tr>\n",
       "\t<tr><td>Miembro</td><td>Friday   </td><td>13.89748</td></tr>\n",
       "\t<tr><td>Casual </td><td>Monday   </td><td>54.49989</td></tr>\n",
       "\t<tr><td>Miembro</td><td>Monday   </td><td>14.24928</td></tr>\n",
       "\t<tr><td>Casual </td><td>Saturday </td><td>54.06111</td></tr>\n",
       "\t<tr><td>Miembro</td><td>Saturday </td><td>16.30271</td></tr>\n",
       "\t<tr><td>Casual </td><td>Sunday   </td><td>56.18519</td></tr>\n",
       "\t<tr><td>Miembro</td><td>Sunday   </td><td>15.40290</td></tr>\n",
       "\t<tr><td>Casual </td><td>Thursday </td><td>59.95112</td></tr>\n",
       "\t<tr><td>Miembro</td><td>Thursday </td><td>13.77979</td></tr>\n",
       "\t<tr><td>Casual </td><td>Tuesday  </td><td>57.41328</td></tr>\n",
       "\t<tr><td>Miembro</td><td>Tuesday  </td><td>14.15259</td></tr>\n",
       "\t<tr><td>Casual </td><td>Wednesday</td><td>60.33407</td></tr>\n",
       "\t<tr><td>Miembro</td><td>Wednesday</td><td>13.80984</td></tr>\n",
       "</tbody>\n",
       "</table>\n"
      ],
      "text/latex": [
       "A data.frame: 14 × 3\n",
       "\\begin{tabular}{lll}\n",
       " viajes\\_2019\\_v2\\$membrecia & viajes\\_2019\\_v2\\$day\\_of\\_week & viajes\\_2019\\_v2\\$duracion\\\\\n",
       " <chr> & <chr> & <dbl>\\\\\n",
       "\\hline\n",
       "\t Casual  & Friday    & 60.17561\\\\\n",
       "\t Miembro & Friday    & 13.89748\\\\\n",
       "\t Casual  & Monday    & 54.49989\\\\\n",
       "\t Miembro & Monday    & 14.24928\\\\\n",
       "\t Casual  & Saturday  & 54.06111\\\\\n",
       "\t Miembro & Saturday  & 16.30271\\\\\n",
       "\t Casual  & Sunday    & 56.18519\\\\\n",
       "\t Miembro & Sunday    & 15.40290\\\\\n",
       "\t Casual  & Thursday  & 59.95112\\\\\n",
       "\t Miembro & Thursday  & 13.77979\\\\\n",
       "\t Casual  & Tuesday   & 57.41328\\\\\n",
       "\t Miembro & Tuesday   & 14.15259\\\\\n",
       "\t Casual  & Wednesday & 60.33407\\\\\n",
       "\t Miembro & Wednesday & 13.80984\\\\\n",
       "\\end{tabular}\n"
      ],
      "text/markdown": [
       "\n",
       "A data.frame: 14 × 3\n",
       "\n",
       "| viajes_2019_v2$membrecia &lt;chr&gt; | viajes_2019_v2$day_of_week &lt;chr&gt; | viajes_2019_v2$duracion &lt;dbl&gt; |\n",
       "|---|---|---|\n",
       "| Casual  | Friday    | 60.17561 |\n",
       "| Miembro | Friday    | 13.89748 |\n",
       "| Casual  | Monday    | 54.49989 |\n",
       "| Miembro | Monday    | 14.24928 |\n",
       "| Casual  | Saturday  | 54.06111 |\n",
       "| Miembro | Saturday  | 16.30271 |\n",
       "| Casual  | Sunday    | 56.18519 |\n",
       "| Miembro | Sunday    | 15.40290 |\n",
       "| Casual  | Thursday  | 59.95112 |\n",
       "| Miembro | Thursday  | 13.77979 |\n",
       "| Casual  | Tuesday   | 57.41328 |\n",
       "| Miembro | Tuesday   | 14.15259 |\n",
       "| Casual  | Wednesday | 60.33407 |\n",
       "| Miembro | Wednesday | 13.80984 |\n",
       "\n"
      ],
      "text/plain": [
       "   viajes_2019_v2$membrecia viajes_2019_v2$day_of_week viajes_2019_v2$duracion\n",
       "1  Casual                   Friday                     60.17561               \n",
       "2  Miembro                  Friday                     13.89748               \n",
       "3  Casual                   Monday                     54.49989               \n",
       "4  Miembro                  Monday                     14.24928               \n",
       "5  Casual                   Saturday                   54.06111               \n",
       "6  Miembro                  Saturday                   16.30271               \n",
       "7  Casual                   Sunday                     56.18519               \n",
       "8  Miembro                  Sunday                     15.40290               \n",
       "9  Casual                   Thursday                   59.95112               \n",
       "10 Miembro                  Thursday                   13.77979               \n",
       "11 Casual                   Tuesday                    57.41328               \n",
       "12 Miembro                  Tuesday                    14.15259               \n",
       "13 Casual                   Wednesday                  60.33407               \n",
       "14 Miembro                  Wednesday                  13.80984               "
      ]
     },
     "metadata": {},
     "output_type": "display_data"
    }
   ],
   "source": [
    "aggregate(viajes_2019_v2$duracion ~ viajes_2019_v2$membrecia + viajes_2019_v2$day_of_week, FUN = mean)"
   ]
  },
  {
   "cell_type": "markdown",
   "id": "4f119542",
   "metadata": {
    "papermill": {
     "duration": 0.027266,
     "end_time": "2023-05-16T19:59:54.750885",
     "exception": false,
     "start_time": "2023-05-16T19:59:54.723619",
     "status": "completed"
    },
    "tags": []
   },
   "source": [
    "Notamos que los dias de la semana estan desordenados, vamos a corregir eso antes."
   ]
  },
  {
   "cell_type": "code",
   "execution_count": 23,
   "id": "48fc695c",
   "metadata": {
    "execution": {
     "iopub.execute_input": "2023-05-16T19:59:54.808926Z",
     "iopub.status.busy": "2023-05-16T19:59:54.807249Z",
     "iopub.status.idle": "2023-05-16T19:59:54.909480Z",
     "shell.execute_reply": "2023-05-16T19:59:54.907316Z"
    },
    "papermill": {
     "duration": 0.134647,
     "end_time": "2023-05-16T19:59:54.912611",
     "exception": false,
     "start_time": "2023-05-16T19:59:54.777964",
     "status": "completed"
    },
    "tags": []
   },
   "outputs": [],
   "source": [
    "viajes_2019_v2$day_of_week <- ordered(viajes_2019_v2$day_of_week, levels=c(\"Sunday\", \"Monday\", \"Tuesday\", \"Wednesday\", \"Thursday\", \"Friday\", \"Saturday\"))"
   ]
  },
  {
   "cell_type": "markdown",
   "id": "41b994ea",
   "metadata": {
    "papermill": {
     "duration": 0.027382,
     "end_time": "2023-05-16T19:59:54.967829",
     "exception": false,
     "start_time": "2023-05-16T19:59:54.940447",
     "status": "completed"
    },
    "tags": []
   },
   "source": [
    "Volvemos a ejecutar el codigo."
   ]
  },
  {
   "cell_type": "code",
   "execution_count": 24,
   "id": "4e5a9d6e",
   "metadata": {
    "execution": {
     "iopub.execute_input": "2023-05-16T19:59:55.027277Z",
     "iopub.status.busy": "2023-05-16T19:59:55.025497Z",
     "iopub.status.idle": "2023-05-16T19:59:57.831141Z",
     "shell.execute_reply": "2023-05-16T19:59:57.829288Z"
    },
    "papermill": {
     "duration": 2.838772,
     "end_time": "2023-05-16T19:59:57.833903",
     "exception": false,
     "start_time": "2023-05-16T19:59:54.995131",
     "status": "completed"
    },
    "tags": []
   },
   "outputs": [
    {
     "data": {
      "text/html": [
       "<table class=\"dataframe\">\n",
       "<caption>A data.frame: 14 × 3</caption>\n",
       "<thead>\n",
       "\t<tr><th scope=col>viajes_2019_v2$membrecia</th><th scope=col>viajes_2019_v2$day_of_week</th><th scope=col>viajes_2019_v2$duracion</th></tr>\n",
       "\t<tr><th scope=col>&lt;chr&gt;</th><th scope=col>&lt;ord&gt;</th><th scope=col>&lt;dbl&gt;</th></tr>\n",
       "</thead>\n",
       "<tbody>\n",
       "\t<tr><td>Casual </td><td>Sunday   </td><td>56.18519</td></tr>\n",
       "\t<tr><td>Miembro</td><td>Sunday   </td><td>15.40290</td></tr>\n",
       "\t<tr><td>Casual </td><td>Monday   </td><td>54.49989</td></tr>\n",
       "\t<tr><td>Miembro</td><td>Monday   </td><td>14.24928</td></tr>\n",
       "\t<tr><td>Casual </td><td>Tuesday  </td><td>57.41328</td></tr>\n",
       "\t<tr><td>Miembro</td><td>Tuesday  </td><td>14.15259</td></tr>\n",
       "\t<tr><td>Casual </td><td>Wednesday</td><td>60.33407</td></tr>\n",
       "\t<tr><td>Miembro</td><td>Wednesday</td><td>13.80984</td></tr>\n",
       "\t<tr><td>Casual </td><td>Thursday </td><td>59.95112</td></tr>\n",
       "\t<tr><td>Miembro</td><td>Thursday </td><td>13.77979</td></tr>\n",
       "\t<tr><td>Casual </td><td>Friday   </td><td>60.17561</td></tr>\n",
       "\t<tr><td>Miembro</td><td>Friday   </td><td>13.89748</td></tr>\n",
       "\t<tr><td>Casual </td><td>Saturday </td><td>54.06111</td></tr>\n",
       "\t<tr><td>Miembro</td><td>Saturday </td><td>16.30271</td></tr>\n",
       "</tbody>\n",
       "</table>\n"
      ],
      "text/latex": [
       "A data.frame: 14 × 3\n",
       "\\begin{tabular}{lll}\n",
       " viajes\\_2019\\_v2\\$membrecia & viajes\\_2019\\_v2\\$day\\_of\\_week & viajes\\_2019\\_v2\\$duracion\\\\\n",
       " <chr> & <ord> & <dbl>\\\\\n",
       "\\hline\n",
       "\t Casual  & Sunday    & 56.18519\\\\\n",
       "\t Miembro & Sunday    & 15.40290\\\\\n",
       "\t Casual  & Monday    & 54.49989\\\\\n",
       "\t Miembro & Monday    & 14.24928\\\\\n",
       "\t Casual  & Tuesday   & 57.41328\\\\\n",
       "\t Miembro & Tuesday   & 14.15259\\\\\n",
       "\t Casual  & Wednesday & 60.33407\\\\\n",
       "\t Miembro & Wednesday & 13.80984\\\\\n",
       "\t Casual  & Thursday  & 59.95112\\\\\n",
       "\t Miembro & Thursday  & 13.77979\\\\\n",
       "\t Casual  & Friday    & 60.17561\\\\\n",
       "\t Miembro & Friday    & 13.89748\\\\\n",
       "\t Casual  & Saturday  & 54.06111\\\\\n",
       "\t Miembro & Saturday  & 16.30271\\\\\n",
       "\\end{tabular}\n"
      ],
      "text/markdown": [
       "\n",
       "A data.frame: 14 × 3\n",
       "\n",
       "| viajes_2019_v2$membrecia &lt;chr&gt; | viajes_2019_v2$day_of_week &lt;ord&gt; | viajes_2019_v2$duracion &lt;dbl&gt; |\n",
       "|---|---|---|\n",
       "| Casual  | Sunday    | 56.18519 |\n",
       "| Miembro | Sunday    | 15.40290 |\n",
       "| Casual  | Monday    | 54.49989 |\n",
       "| Miembro | Monday    | 14.24928 |\n",
       "| Casual  | Tuesday   | 57.41328 |\n",
       "| Miembro | Tuesday   | 14.15259 |\n",
       "| Casual  | Wednesday | 60.33407 |\n",
       "| Miembro | Wednesday | 13.80984 |\n",
       "| Casual  | Thursday  | 59.95112 |\n",
       "| Miembro | Thursday  | 13.77979 |\n",
       "| Casual  | Friday    | 60.17561 |\n",
       "| Miembro | Friday    | 13.89748 |\n",
       "| Casual  | Saturday  | 54.06111 |\n",
       "| Miembro | Saturday  | 16.30271 |\n",
       "\n"
      ],
      "text/plain": [
       "   viajes_2019_v2$membrecia viajes_2019_v2$day_of_week viajes_2019_v2$duracion\n",
       "1  Casual                   Sunday                     56.18519               \n",
       "2  Miembro                  Sunday                     15.40290               \n",
       "3  Casual                   Monday                     54.49989               \n",
       "4  Miembro                  Monday                     14.24928               \n",
       "5  Casual                   Tuesday                    57.41328               \n",
       "6  Miembro                  Tuesday                    14.15259               \n",
       "7  Casual                   Wednesday                  60.33407               \n",
       "8  Miembro                  Wednesday                  13.80984               \n",
       "9  Casual                   Thursday                   59.95112               \n",
       "10 Miembro                  Thursday                   13.77979               \n",
       "11 Casual                   Friday                     60.17561               \n",
       "12 Miembro                  Friday                     13.89748               \n",
       "13 Casual                   Saturday                   54.06111               \n",
       "14 Miembro                  Saturday                   16.30271               "
      ]
     },
     "metadata": {},
     "output_type": "display_data"
    }
   ],
   "source": [
    "aggregate(viajes_2019_v2$duracion ~ viajes_2019_v2$membrecia + viajes_2019_v2$day_of_week, FUN = mean)"
   ]
  },
  {
   "cell_type": "markdown",
   "id": "506a3c03",
   "metadata": {
    "papermill": {
     "duration": 0.028019,
     "end_time": "2023-05-16T19:59:57.889499",
     "exception": false,
     "start_time": "2023-05-16T19:59:57.861480",
     "status": "completed"
    },
    "tags": []
   },
   "source": [
    "Para organizar mejor este segmento vamos a analizar los viajes s"
   ]
  },
  {
   "cell_type": "code",
   "execution_count": 25,
   "id": "0a0ab6f1",
   "metadata": {
    "execution": {
     "iopub.execute_input": "2023-05-16T19:59:57.948449Z",
     "iopub.status.busy": "2023-05-16T19:59:57.946749Z",
     "iopub.status.idle": "2023-05-16T20:00:08.084217Z",
     "shell.execute_reply": "2023-05-16T20:00:08.082368Z"
    },
    "papermill": {
     "duration": 10.170418,
     "end_time": "2023-05-16T20:00:08.087358",
     "exception": false,
     "start_time": "2023-05-16T19:59:57.916940",
     "status": "completed"
    },
    "tags": []
   },
   "outputs": [
    {
     "name": "stderr",
     "output_type": "stream",
     "text": [
      "\u001b[1m\u001b[22m`summarise()` has grouped output by 'membrecia'. You can override using the\n",
      "`.groups` argument.\n"
     ]
    },
    {
     "data": {
      "text/html": [
       "<table class=\"dataframe\">\n",
       "<caption>A grouped_df: 14 × 4</caption>\n",
       "<thead>\n",
       "\t<tr><th scope=col>membrecia</th><th scope=col>weekday</th><th scope=col>viajes_totales</th><th scope=col>duracion_promedio</th></tr>\n",
       "\t<tr><th scope=col>&lt;chr&gt;</th><th scope=col>&lt;ord&gt;</th><th scope=col>&lt;int&gt;</th><th scope=col>&lt;dbl&gt;</th></tr>\n",
       "</thead>\n",
       "<tbody>\n",
       "\t<tr><td>Casual </td><td>Sun</td><td>170173</td><td>56.18519</td></tr>\n",
       "\t<tr><td>Casual </td><td>Mon</td><td>101489</td><td>54.49989</td></tr>\n",
       "\t<tr><td>Casual </td><td>Tue</td><td> 88655</td><td>57.41328</td></tr>\n",
       "\t<tr><td>Casual </td><td>Wed</td><td> 89745</td><td>60.33407</td></tr>\n",
       "\t<tr><td>Casual </td><td>Thu</td><td>101372</td><td>59.95112</td></tr>\n",
       "\t<tr><td>Casual </td><td>Fri</td><td>121141</td><td>60.17561</td></tr>\n",
       "\t<tr><td>Casual </td><td>Sat</td><td>208056</td><td>54.06111</td></tr>\n",
       "\t<tr><td>Miembro</td><td>Sun</td><td>256234</td><td>15.40290</td></tr>\n",
       "\t<tr><td>Miembro</td><td>Mon</td><td>458780</td><td>14.24928</td></tr>\n",
       "\t<tr><td>Miembro</td><td>Tue</td><td>497025</td><td>14.15259</td></tr>\n",
       "\t<tr><td>Miembro</td><td>Wed</td><td>494277</td><td>13.80984</td></tr>\n",
       "\t<tr><td>Miembro</td><td>Thu</td><td>486915</td><td>13.77979</td></tr>\n",
       "\t<tr><td>Miembro</td><td>Fri</td><td>456966</td><td>13.89748</td></tr>\n",
       "\t<tr><td>Miembro</td><td>Sat</td><td>287163</td><td>16.30271</td></tr>\n",
       "</tbody>\n",
       "</table>\n"
      ],
      "text/latex": [
       "A grouped\\_df: 14 × 4\n",
       "\\begin{tabular}{llll}\n",
       " membrecia & weekday & viajes\\_totales & duracion\\_promedio\\\\\n",
       " <chr> & <ord> & <int> & <dbl>\\\\\n",
       "\\hline\n",
       "\t Casual  & Sun & 170173 & 56.18519\\\\\n",
       "\t Casual  & Mon & 101489 & 54.49989\\\\\n",
       "\t Casual  & Tue &  88655 & 57.41328\\\\\n",
       "\t Casual  & Wed &  89745 & 60.33407\\\\\n",
       "\t Casual  & Thu & 101372 & 59.95112\\\\\n",
       "\t Casual  & Fri & 121141 & 60.17561\\\\\n",
       "\t Casual  & Sat & 208056 & 54.06111\\\\\n",
       "\t Miembro & Sun & 256234 & 15.40290\\\\\n",
       "\t Miembro & Mon & 458780 & 14.24928\\\\\n",
       "\t Miembro & Tue & 497025 & 14.15259\\\\\n",
       "\t Miembro & Wed & 494277 & 13.80984\\\\\n",
       "\t Miembro & Thu & 486915 & 13.77979\\\\\n",
       "\t Miembro & Fri & 456966 & 13.89748\\\\\n",
       "\t Miembro & Sat & 287163 & 16.30271\\\\\n",
       "\\end{tabular}\n"
      ],
      "text/markdown": [
       "\n",
       "A grouped_df: 14 × 4\n",
       "\n",
       "| membrecia &lt;chr&gt; | weekday &lt;ord&gt; | viajes_totales &lt;int&gt; | duracion_promedio &lt;dbl&gt; |\n",
       "|---|---|---|---|\n",
       "| Casual  | Sun | 170173 | 56.18519 |\n",
       "| Casual  | Mon | 101489 | 54.49989 |\n",
       "| Casual  | Tue |  88655 | 57.41328 |\n",
       "| Casual  | Wed |  89745 | 60.33407 |\n",
       "| Casual  | Thu | 101372 | 59.95112 |\n",
       "| Casual  | Fri | 121141 | 60.17561 |\n",
       "| Casual  | Sat | 208056 | 54.06111 |\n",
       "| Miembro | Sun | 256234 | 15.40290 |\n",
       "| Miembro | Mon | 458780 | 14.24928 |\n",
       "| Miembro | Tue | 497025 | 14.15259 |\n",
       "| Miembro | Wed | 494277 | 13.80984 |\n",
       "| Miembro | Thu | 486915 | 13.77979 |\n",
       "| Miembro | Fri | 456966 | 13.89748 |\n",
       "| Miembro | Sat | 287163 | 16.30271 |\n",
       "\n"
      ],
      "text/plain": [
       "   membrecia weekday viajes_totales duracion_promedio\n",
       "1  Casual    Sun     170173         56.18519         \n",
       "2  Casual    Mon     101489         54.49989         \n",
       "3  Casual    Tue      88655         57.41328         \n",
       "4  Casual    Wed      89745         60.33407         \n",
       "5  Casual    Thu     101372         59.95112         \n",
       "6  Casual    Fri     121141         60.17561         \n",
       "7  Casual    Sat     208056         54.06111         \n",
       "8  Miembro   Sun     256234         15.40290         \n",
       "9  Miembro   Mon     458780         14.24928         \n",
       "10 Miembro   Tue     497025         14.15259         \n",
       "11 Miembro   Wed     494277         13.80984         \n",
       "12 Miembro   Thu     486915         13.77979         \n",
       "13 Miembro   Fri     456966         13.89748         \n",
       "14 Miembro   Sat     287163         16.30271         "
      ]
     },
     "metadata": {},
     "output_type": "display_data"
    }
   ],
   "source": [
    "viajes_2019_v2 %>% \n",
    "  mutate(weekday = wday(empezo, label = TRUE)) %>% #creates weekday field using wday()\n",
    "  group_by(membrecia, weekday) %>%  #groups by usertype and weekday\n",
    "  summarise(viajes_totales = n()#calculates the number of rides and average duration \n",
    "  ,duracion_promedio = mean(duracion)) %>%# calculates the average duration\n",
    "  arrange(membrecia, weekday)"
   ]
  },
  {
   "cell_type": "code",
   "execution_count": 26,
   "id": "dcb559c1",
   "metadata": {
    "execution": {
     "iopub.execute_input": "2023-05-16T20:00:08.148088Z",
     "iopub.status.busy": "2023-05-16T20:00:08.146412Z",
     "iopub.status.idle": "2023-05-16T20:00:19.305009Z",
     "shell.execute_reply": "2023-05-16T20:00:19.302973Z"
    },
    "papermill": {
     "duration": 11.19211,
     "end_time": "2023-05-16T20:00:19.307897",
     "exception": false,
     "start_time": "2023-05-16T20:00:08.115787",
     "status": "completed"
    },
    "tags": []
   },
   "outputs": [
    {
     "name": "stderr",
     "output_type": "stream",
     "text": [
      "\u001b[1m\u001b[22m`summarise()` has grouped output by 'membrecia'. You can override using the\n",
      "`.groups` argument.\n"
     ]
    },
    {
     "data": {
      "image/png": "[encoded data removed]"
     },
     "metadata": {
      "image/png": {
       "height": 420,
       "width": 420
      }
     },
     "output_type": "display_data"
    }
   ],
   "source": [
    "viajes_2019_v2 %>% \n",
    "  mutate(weekday = wday(empezo, label = TRUE)) %>% \n",
    "  group_by(membrecia, weekday) %>% \n",
    "  summarise(viajes_totales = n()\n",
    "            ,duracion_promedio = mean(duracion)) %>% \n",
    "  arrange(membrecia, weekday)  %>% \n",
    "  ggplot(aes(x = weekday, y = viajes_totales, fill = membrecia)) +\n",
    "  geom_col(position = \"dodge\")"
   ]
  },
  {
   "cell_type": "code",
   "execution_count": 27,
   "id": "fd6babb0",
   "metadata": {
    "execution": {
     "iopub.execute_input": "2023-05-16T20:00:19.371822Z",
     "iopub.status.busy": "2023-05-16T20:00:19.370059Z",
     "iopub.status.idle": "2023-05-16T20:00:29.727735Z",
     "shell.execute_reply": "2023-05-16T20:00:29.724712Z"
    },
    "papermill": {
     "duration": 10.393774,
     "end_time": "2023-05-16T20:00:29.731862",
     "exception": false,
     "start_time": "2023-05-16T20:00:19.338088",
     "status": "completed"
    },
    "tags": []
   },
   "outputs": [
    {
     "name": "stderr",
     "output_type": "stream",
     "text": [
      "\u001b[1m\u001b[22m`summarise()` has grouped output by 'membrecia'. You can override using the\n",
      "`.groups` argument.\n"
     ]
    },
    {
     "data": {
      "image/png": "[encoded data removed]"
     },
     "metadata": {
      "image/png": {
       "height": 420,
       "width": 420
      }
     },
     "output_type": "display_data"
    }
   ],
   "source": [
    "viajes_2019_v2 %>% \n",
    "  mutate(weekday = wday(empezo, label = TRUE)) %>% \n",
    "  group_by(membrecia, weekday) %>% \n",
    "  summarise(viajes_total = n(),duracion_promedio = mean(duracion)) %>% \n",
    "  arrange(membrecia, weekday)  %>% \n",
    "  ggplot(aes(x = weekday, y = duracion_promedio, fill = membrecia)) +\n",
    "  geom_col(position = \"dodge\")"
   ]
  }
 ],
 "metadata": {
  "kernelspec": {
   "display_name": "R",
   "language": "R",
   "name": "ir"
  },
  "language_info": {
   "codemirror_mode": "r",
   "file_extension": ".r",
   "mimetype": "text/x-r-source",
   "name": "R",
   "pygments_lexer": "r",
   "version": "4.0.5"
  },
  "papermill": {
   "default_parameters": {},
   "duration": 173.089481,
   "end_time": "2023-05-16T20:00:30.086537",
   "environment_variables": {},
   "exception": null,
   "input_path": "__notebook__.ipynb",
   "output_path": "__notebook__.ipynb",
   "parameters": {},
   "start_time": "2023-05-16T19:57:36.997056",
   "version": "2.4.0"
  }
 },
 "nbformat": 4,
 "nbformat_minor": 5
}
